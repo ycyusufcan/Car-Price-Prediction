{
 "cells": [
  {
   "cell_type": "code",
   "execution_count": 1,
   "metadata": {
    "executionInfo": {
     "elapsed": 1299,
     "status": "ok",
     "timestamp": 1637337003589,
     "user": {
      "displayName": "Yusuf C",
      "photoUrl": "https://lh3.googleusercontent.com/a/default-user=s64",
      "userId": "01460091991965572961"
     },
     "user_tz": -180
    },
    "id": "bTQN-xbo9I3g"
   },
   "outputs": [],
   "source": [
    "import pandas as pd\n",
    "import numpy as np\n",
    "import seaborn as sns\n",
    "import matplotlib.pyplot as plt"
   ]
  },
  {
   "cell_type": "code",
   "execution_count": 2,
   "metadata": {
    "colab": {
     "base_uri": "https://localhost:8080/",
     "height": 313
    },
    "executionInfo": {
     "elapsed": 420,
     "status": "error",
     "timestamp": 1637337011910,
     "user": {
      "displayName": "Yusuf C",
      "photoUrl": "https://lh3.googleusercontent.com/a/default-user=s64",
      "userId": "01460091991965572961"
     },
     "user_tz": -180
    },
    "id": "bdQjl87b9Obr",
    "outputId": "7bdae419-1bb4-429e-b1af-79459fe800d7"
   },
   "outputs": [],
   "source": [
    "df = pd.read_json('scout_car.json', lines=True, orient=str)"
   ]
  },
  {
   "cell_type": "code",
   "execution_count": 3,
   "metadata": {
    "colab": {
     "base_uri": "https://localhost:8080/",
     "height": 1000
    },
    "executionInfo": {
     "elapsed": 58,
     "status": "ok",
     "timestamp": 1635888260167,
     "user": {
      "displayName": "Yusuf C",
      "photoUrl": "https://lh3.googleusercontent.com/a/default-user=s64",
      "userId": "01460091991965572961"
     },
     "user_tz": -180
    },
    "id": "i8k2_0b-Dlo7",
    "outputId": "ce95330c-add8-4e7e-f792-db56b737498d"
   },
   "outputs": [
    {
     "data": {
      "text/html": [
       "<div>\n",
       "<style scoped>\n",
       "    .dataframe tbody tr th:only-of-type {\n",
       "        vertical-align: middle;\n",
       "    }\n",
       "\n",
       "    .dataframe tbody tr th {\n",
       "        vertical-align: top;\n",
       "    }\n",
       "\n",
       "    .dataframe thead th {\n",
       "        text-align: right;\n",
       "    }\n",
       "</style>\n",
       "<table border=\"1\" class=\"dataframe\">\n",
       "  <thead>\n",
       "    <tr style=\"text-align: right;\">\n",
       "      <th></th>\n",
       "      <th>0</th>\n",
       "      <th>1</th>\n",
       "      <th>2</th>\n",
       "      <th>3</th>\n",
       "      <th>4</th>\n",
       "    </tr>\n",
       "  </thead>\n",
       "  <tbody>\n",
       "    <tr>\n",
       "      <th>\\nComfort &amp; Convenience\\n</th>\n",
       "      <td>[Air conditioning, Armrest, Automatic climate ...</td>\n",
       "      <td>[Air conditioning, Automatic climate control, ...</td>\n",
       "      <td>[Air conditioning, Cruise control, Electrical ...</td>\n",
       "      <td>[Air suspension, Armrest, Auxiliary heating, E...</td>\n",
       "      <td>[Air conditioning, Armrest, Automatic climate ...</td>\n",
       "    </tr>\n",
       "    <tr>\n",
       "      <th>\\nEntertainment &amp; Media\\n</th>\n",
       "      <td>[Bluetooth, Hands-free equipment, On-board com...</td>\n",
       "      <td>[Bluetooth, Hands-free equipment, On-board com...</td>\n",
       "      <td>[MP3, On-board computer]</td>\n",
       "      <td>[Bluetooth, CD player, Hands-free equipment, M...</td>\n",
       "      <td>[Bluetooth, CD player, Hands-free equipment, M...</td>\n",
       "    </tr>\n",
       "    <tr>\n",
       "      <th>\\nExtras\\n</th>\n",
       "      <td>[Alloy wheels, Catalytic Converter, Voice Cont...</td>\n",
       "      <td>[Alloy wheels, Sport seats, Sport suspension, ...</td>\n",
       "      <td>[Alloy wheels, Voice Control]</td>\n",
       "      <td>[Alloy wheels, Sport seats, Voice Control]</td>\n",
       "      <td>[Alloy wheels, Sport package, Sport suspension...</td>\n",
       "    </tr>\n",
       "    <tr>\n",
       "      <th>\\nSafety &amp; Security\\n</th>\n",
       "      <td>[ABS, Central door lock, Daytime running light...</td>\n",
       "      <td>[ABS, Central door lock, Central door lock wit...</td>\n",
       "      <td>[ABS, Central door lock, Daytime running light...</td>\n",
       "      <td>[ABS, Alarm system, Central door lock with rem...</td>\n",
       "      <td>[ABS, Central door lock, Driver-side airbag, E...</td>\n",
       "    </tr>\n",
       "    <tr>\n",
       "      <th>Availability</th>\n",
       "      <td>NaN</td>\n",
       "      <td>NaN</td>\n",
       "      <td>NaN</td>\n",
       "      <td>NaN</td>\n",
       "      <td>NaN</td>\n",
       "    </tr>\n",
       "    <tr>\n",
       "      <th>Available from</th>\n",
       "      <td>NaN</td>\n",
       "      <td>NaN</td>\n",
       "      <td>NaN</td>\n",
       "      <td>NaN</td>\n",
       "      <td>NaN</td>\n",
       "    </tr>\n",
       "    <tr>\n",
       "      <th>Body</th>\n",
       "      <td>[\\n, Sedans, \\n]</td>\n",
       "      <td>[\\n, Sedans, \\n]</td>\n",
       "      <td>[\\n, Sedans, \\n]</td>\n",
       "      <td>[\\n, Sedans, \\n]</td>\n",
       "      <td>[\\n, Sedans, \\n]</td>\n",
       "    </tr>\n",
       "    <tr>\n",
       "      <th>Body Color</th>\n",
       "      <td>[\\n, Black, \\n]</td>\n",
       "      <td>[\\n, Red, \\n]</td>\n",
       "      <td>[\\n, Black, \\n]</td>\n",
       "      <td>[\\n, Brown, \\n]</td>\n",
       "      <td>[\\n, Black, \\n]</td>\n",
       "    </tr>\n",
       "    <tr>\n",
       "      <th>Body Color Original</th>\n",
       "      <td>[\\nMythosschwarz\\n]</td>\n",
       "      <td>NaN</td>\n",
       "      <td>[\\nmythosschwarz metallic\\n]</td>\n",
       "      <td>NaN</td>\n",
       "      <td>[\\nMythosschwarz Metallic\\n]</td>\n",
       "    </tr>\n",
       "    <tr>\n",
       "      <th>CO2 Emission</th>\n",
       "      <td>[\\n99 g CO2/km (comb)\\n]</td>\n",
       "      <td>[\\n129 g CO2/km (comb)\\n]</td>\n",
       "      <td>[\\n99 g CO2/km (comb)\\n]</td>\n",
       "      <td>[\\n99 g CO2/km (comb)\\n]</td>\n",
       "      <td>[\\n109 g CO2/km (comb)\\n]</td>\n",
       "    </tr>\n",
       "    <tr>\n",
       "      <th>Consumption</th>\n",
       "      <td>[[3.8 l/100 km (comb)], [4.3 l/100 km (city)],...</td>\n",
       "      <td>[[5.6 l/100 km (comb)], [7.1 l/100 km (city)],...</td>\n",
       "      <td>[[3.8 l/100 km (comb)], [4.4 l/100 km (city)],...</td>\n",
       "      <td>[[3.8 l/100 km (comb)], [4.3 l/100 km (city)],...</td>\n",
       "      <td>[[4.1 l/100 km (comb)], [4.6 l/100 km (city)],...</td>\n",
       "    </tr>\n",
       "    <tr>\n",
       "      <th>Country version</th>\n",
       "      <td>NaN</td>\n",
       "      <td>NaN</td>\n",
       "      <td>NaN</td>\n",
       "      <td>NaN</td>\n",
       "      <td>[\\nGermany\\n]</td>\n",
       "    </tr>\n",
       "    <tr>\n",
       "      <th>Cylinders</th>\n",
       "      <td>[\\n3\\n]</td>\n",
       "      <td>[\\n4\\n]</td>\n",
       "      <td>NaN</td>\n",
       "      <td>[\\n3\\n]</td>\n",
       "      <td>[\\n3\\n]</td>\n",
       "    </tr>\n",
       "    <tr>\n",
       "      <th>Displacement</th>\n",
       "      <td>[\\n1,422 cc\\n]</td>\n",
       "      <td>[\\n1,798 cc\\n]</td>\n",
       "      <td>[\\n1,598 cc\\n]</td>\n",
       "      <td>[\\n1,422 cc\\n]</td>\n",
       "      <td>[\\n1,422 cc\\n]</td>\n",
       "    </tr>\n",
       "    <tr>\n",
       "      <th>Drive chain</th>\n",
       "      <td>[\\nfront\\n]</td>\n",
       "      <td>[\\nfront\\n]</td>\n",
       "      <td>[\\nfront\\n]</td>\n",
       "      <td>NaN</td>\n",
       "      <td>[\\nfront\\n]</td>\n",
       "    </tr>\n",
       "    <tr>\n",
       "      <th>Electricity consumption</th>\n",
       "      <td>NaN</td>\n",
       "      <td>NaN</td>\n",
       "      <td>NaN</td>\n",
       "      <td>NaN</td>\n",
       "      <td>NaN</td>\n",
       "    </tr>\n",
       "    <tr>\n",
       "      <th>Emission Class</th>\n",
       "      <td>[\\nEuro 6\\n]</td>\n",
       "      <td>[\\nEuro 6\\n]</td>\n",
       "      <td>[\\nEuro 6\\n]</td>\n",
       "      <td>[\\nEuro 6\\n]</td>\n",
       "      <td>[\\nEuro 6\\n]</td>\n",
       "    </tr>\n",
       "    <tr>\n",
       "      <th>Emission Label</th>\n",
       "      <td>NaN</td>\n",
       "      <td>[\\n4 (Green)\\n]</td>\n",
       "      <td>[\\n4 (Green)\\n]</td>\n",
       "      <td>NaN</td>\n",
       "      <td>NaN</td>\n",
       "    </tr>\n",
       "    <tr>\n",
       "      <th>First Registration</th>\n",
       "      <td>[\\n, 2016, \\n]</td>\n",
       "      <td>[\\n, 2017, \\n]</td>\n",
       "      <td>[\\n, 2016, \\n]</td>\n",
       "      <td>[\\n, 2016, \\n]</td>\n",
       "      <td>[\\n, 2016, \\n]</td>\n",
       "    </tr>\n",
       "    <tr>\n",
       "      <th>Fuel</th>\n",
       "      <td>[\\n, Diesel (Particulate Filter), \\n]</td>\n",
       "      <td>[\\n, Gasoline, \\n]</td>\n",
       "      <td>[\\n, Diesel (Particulate Filter), \\n]</td>\n",
       "      <td>[\\n, Diesel (Particulate Filter), \\n]</td>\n",
       "      <td>[\\n, Diesel (Particulate Filter), \\n]</td>\n",
       "    </tr>\n",
       "    <tr>\n",
       "      <th>Full Service</th>\n",
       "      <td>[\\n, \\n]</td>\n",
       "      <td>NaN</td>\n",
       "      <td>NaN</td>\n",
       "      <td>[\\n, \\n, \\n99 g CO2/km (comb)\\n]</td>\n",
       "      <td>[\\n, \\n, \\n4 (Green)\\n]</td>\n",
       "    </tr>\n",
       "    <tr>\n",
       "      <th>Gearing Type</th>\n",
       "      <td>[\\n, Automatic, \\n]</td>\n",
       "      <td>[\\n, Automatic, \\n]</td>\n",
       "      <td>[\\n, Automatic, \\n]</td>\n",
       "      <td>[\\n, Automatic, \\n]</td>\n",
       "      <td>[\\n, Automatic, \\n]</td>\n",
       "    </tr>\n",
       "    <tr>\n",
       "      <th>Gears</th>\n",
       "      <td>NaN</td>\n",
       "      <td>[\\n7\\n]</td>\n",
       "      <td>NaN</td>\n",
       "      <td>[\\n6\\n]</td>\n",
       "      <td>NaN</td>\n",
       "    </tr>\n",
       "    <tr>\n",
       "      <th>Inspection new</th>\n",
       "      <td>[\\nYes\\n, \\nEuro 6\\n]</td>\n",
       "      <td>NaN</td>\n",
       "      <td>NaN</td>\n",
       "      <td>NaN</td>\n",
       "      <td>[\\nYes\\n, \\n109 g CO2/km (comb)\\n]</td>\n",
       "    </tr>\n",
       "    <tr>\n",
       "      <th>Last Service Date</th>\n",
       "      <td>NaN</td>\n",
       "      <td>NaN</td>\n",
       "      <td>NaN</td>\n",
       "      <td>NaN</td>\n",
       "      <td>NaN</td>\n",
       "    </tr>\n",
       "    <tr>\n",
       "      <th>Last Timing Belt Service Date</th>\n",
       "      <td>NaN</td>\n",
       "      <td>NaN</td>\n",
       "      <td>NaN</td>\n",
       "      <td>NaN</td>\n",
       "      <td>NaN</td>\n",
       "    </tr>\n",
       "    <tr>\n",
       "      <th>Make</th>\n",
       "      <td>\\nAudi\\n</td>\n",
       "      <td>\\nAudi\\n</td>\n",
       "      <td>\\nAudi\\n</td>\n",
       "      <td>\\nAudi\\n</td>\n",
       "      <td>\\nAudi\\n</td>\n",
       "    </tr>\n",
       "    <tr>\n",
       "      <th>Model</th>\n",
       "      <td>[\\n, A1, \\n]</td>\n",
       "      <td>[\\n, A1, \\n]</td>\n",
       "      <td>[\\n, A1, \\n]</td>\n",
       "      <td>[\\n, A1, \\n]</td>\n",
       "      <td>[\\n, A1, \\n]</td>\n",
       "    </tr>\n",
       "    <tr>\n",
       "      <th>Model Code</th>\n",
       "      <td>[\\n0588/BDF\\n]</td>\n",
       "      <td>[\\n0588/BCY\\n]</td>\n",
       "      <td>NaN</td>\n",
       "      <td>NaN</td>\n",
       "      <td>[\\n0588/BDF\\n]</td>\n",
       "    </tr>\n",
       "    <tr>\n",
       "      <th>Next Inspection</th>\n",
       "      <td>[\\n06/2021\\n, \\n99 g CO2/km (comb)\\n]</td>\n",
       "      <td>NaN</td>\n",
       "      <td>NaN</td>\n",
       "      <td>NaN</td>\n",
       "      <td>NaN</td>\n",
       "    </tr>\n",
       "    <tr>\n",
       "      <th>Non-smoking Vehicle</th>\n",
       "      <td>[\\n, \\n]</td>\n",
       "      <td>NaN</td>\n",
       "      <td>NaN</td>\n",
       "      <td>[\\n, \\n, \\nEuro 6\\n]</td>\n",
       "      <td>[\\n, \\n]</td>\n",
       "    </tr>\n",
       "    <tr>\n",
       "      <th>Nr. of Doors</th>\n",
       "      <td>[\\n5\\n]</td>\n",
       "      <td>[\\n3\\n]</td>\n",
       "      <td>[\\n4\\n]</td>\n",
       "      <td>[\\n3\\n]</td>\n",
       "      <td>[\\n5\\n]</td>\n",
       "    </tr>\n",
       "    <tr>\n",
       "      <th>Nr. of Seats</th>\n",
       "      <td>[\\n5\\n]</td>\n",
       "      <td>[\\n4\\n]</td>\n",
       "      <td>[\\n4\\n]</td>\n",
       "      <td>[\\n4\\n]</td>\n",
       "      <td>[\\n5\\n]</td>\n",
       "    </tr>\n",
       "    <tr>\n",
       "      <th>Offer Number</th>\n",
       "      <td>[\\nLR-062483\\n]</td>\n",
       "      <td>NaN</td>\n",
       "      <td>[\\nAM-95365\\n]</td>\n",
       "      <td>NaN</td>\n",
       "      <td>[\\nC1626\\n]</td>\n",
       "    </tr>\n",
       "    <tr>\n",
       "      <th>Other Fuel Types</th>\n",
       "      <td>NaN</td>\n",
       "      <td>NaN</td>\n",
       "      <td>NaN</td>\n",
       "      <td>NaN</td>\n",
       "      <td>NaN</td>\n",
       "    </tr>\n",
       "    <tr>\n",
       "      <th>Paint Type</th>\n",
       "      <td>[\\nMetallic\\n]</td>\n",
       "      <td>NaN</td>\n",
       "      <td>[\\nMetallic\\n]</td>\n",
       "      <td>[\\nMetallic\\n]</td>\n",
       "      <td>[\\nMetallic\\n]</td>\n",
       "    </tr>\n",
       "    <tr>\n",
       "      <th>Previous Owners</th>\n",
       "      <td>\\n2\\n</td>\n",
       "      <td>NaN</td>\n",
       "      <td>\\n1\\n</td>\n",
       "      <td>\\n1\\n</td>\n",
       "      <td>\\n1\\n</td>\n",
       "    </tr>\n",
       "    <tr>\n",
       "      <th>Type</th>\n",
       "      <td>[, Used, , Diesel (Particulate Filter)]</td>\n",
       "      <td>[, Used, , Gasoline]</td>\n",
       "      <td>[, Used, , Diesel (Particulate Filter)]</td>\n",
       "      <td>[, Used, , Diesel (Particulate Filter)]</td>\n",
       "      <td>[, Used, , Diesel (Particulate Filter)]</td>\n",
       "    </tr>\n",
       "    <tr>\n",
       "      <th>Upholstery</th>\n",
       "      <td>[\\nCloth, Black\\n]</td>\n",
       "      <td>[\\nCloth, Grey\\n]</td>\n",
       "      <td>[\\nCloth, Black\\n]</td>\n",
       "      <td>NaN</td>\n",
       "      <td>[\\nCloth, Black\\n]</td>\n",
       "    </tr>\n",
       "    <tr>\n",
       "      <th>Warranty</th>\n",
       "      <td>[\\n, \\n, \\n4 (Green)\\n]</td>\n",
       "      <td>NaN</td>\n",
       "      <td>[\\n, \\n, \\n99 g CO2/km (comb)\\n]</td>\n",
       "      <td>NaN</td>\n",
       "      <td>[\\n, \\n, \\nEuro 6\\n]</td>\n",
       "    </tr>\n",
       "    <tr>\n",
       "      <th>Weight</th>\n",
       "      <td>[\\n1,220 kg\\n]</td>\n",
       "      <td>[\\n1,255 kg\\n]</td>\n",
       "      <td>NaN</td>\n",
       "      <td>[\\n1,195 kg\\n]</td>\n",
       "      <td>NaN</td>\n",
       "    </tr>\n",
       "    <tr>\n",
       "      <th>body_type</th>\n",
       "      <td>Sedans</td>\n",
       "      <td>Sedans</td>\n",
       "      <td>Sedans</td>\n",
       "      <td>Sedans</td>\n",
       "      <td>Sedans</td>\n",
       "    </tr>\n",
       "    <tr>\n",
       "      <th>description</th>\n",
       "      <td>[\\n, Sicherheit:,  , Deaktivierung für Beifahr...</td>\n",
       "      <td>[\\nLangstreckenfahrzeug daher die hohe Kilomet...</td>\n",
       "      <td>[\\n, Fahrzeug-Nummer: AM-95365,  , Ehem. UPE 2...</td>\n",
       "      <td>[\\nAudi A1: , - 1e eigenaar , - Perfecte staat...</td>\n",
       "      <td>[\\n, Technik &amp; Sicherheit:, Xenon plus, Klimaa...</td>\n",
       "    </tr>\n",
       "    <tr>\n",
       "      <th>hp</th>\n",
       "      <td>66 kW</td>\n",
       "      <td>141 kW</td>\n",
       "      <td>85 kW</td>\n",
       "      <td>66 kW</td>\n",
       "      <td>66 kW</td>\n",
       "    </tr>\n",
       "    <tr>\n",
       "      <th>kW</th>\n",
       "      <td>NaN</td>\n",
       "      <td>NaN</td>\n",
       "      <td>NaN</td>\n",
       "      <td>NaN</td>\n",
       "      <td>NaN</td>\n",
       "    </tr>\n",
       "    <tr>\n",
       "      <th>km</th>\n",
       "      <td>56,013 km</td>\n",
       "      <td>80,000 km</td>\n",
       "      <td>83,450 km</td>\n",
       "      <td>73,000 km</td>\n",
       "      <td>16,200 km</td>\n",
       "    </tr>\n",
       "    <tr>\n",
       "      <th>make_model</th>\n",
       "      <td>Audi A1</td>\n",
       "      <td>Audi A1</td>\n",
       "      <td>Audi A1</td>\n",
       "      <td>Audi A1</td>\n",
       "      <td>Audi A1</td>\n",
       "    </tr>\n",
       "    <tr>\n",
       "      <th>null</th>\n",
       "      <td>[]</td>\n",
       "      <td>[]</td>\n",
       "      <td>[]</td>\n",
       "      <td>[]</td>\n",
       "      <td>[]</td>\n",
       "    </tr>\n",
       "    <tr>\n",
       "      <th>prev_owner</th>\n",
       "      <td>2 previous owners</td>\n",
       "      <td>None</td>\n",
       "      <td>1 previous owner</td>\n",
       "      <td>1 previous owner</td>\n",
       "      <td>1 previous owner</td>\n",
       "    </tr>\n",
       "    <tr>\n",
       "      <th>price</th>\n",
       "      <td>15770</td>\n",
       "      <td>14500</td>\n",
       "      <td>14640</td>\n",
       "      <td>14500</td>\n",
       "      <td>16790</td>\n",
       "    </tr>\n",
       "    <tr>\n",
       "      <th>registration</th>\n",
       "      <td>01/2016</td>\n",
       "      <td>03/2017</td>\n",
       "      <td>02/2016</td>\n",
       "      <td>08/2016</td>\n",
       "      <td>05/2016</td>\n",
       "    </tr>\n",
       "    <tr>\n",
       "      <th>short_description</th>\n",
       "      <td>Sportback 1.4 TDI S-tronic Xenon Navi Klima</td>\n",
       "      <td>1.8 TFSI sport</td>\n",
       "      <td>Sportback 1.6 TDI S tronic Einparkhilfe plus+m...</td>\n",
       "      <td>1.4 TDi Design S tronic</td>\n",
       "      <td>Sportback 1.4 TDI S-Tronic S-Line Ext. admired...</td>\n",
       "    </tr>\n",
       "    <tr>\n",
       "      <th>url</th>\n",
       "      <td>https://www.autoscout24.com//offers/audi-a1-sp...</td>\n",
       "      <td>https://www.autoscout24.com//offers/audi-a1-1-...</td>\n",
       "      <td>https://www.autoscout24.com//offers/audi-a1-sp...</td>\n",
       "      <td>https://www.autoscout24.com//offers/audi-a1-1-...</td>\n",
       "      <td>https://www.autoscout24.com//offers/audi-a1-sp...</td>\n",
       "    </tr>\n",
       "    <tr>\n",
       "      <th>vat</th>\n",
       "      <td>VAT deductible</td>\n",
       "      <td>Price negotiable</td>\n",
       "      <td>VAT deductible</td>\n",
       "      <td>None</td>\n",
       "      <td>None</td>\n",
       "    </tr>\n",
       "  </tbody>\n",
       "</table>\n",
       "</div>"
      ],
      "text/plain": [
       "                                                                               0  \\\n",
       "\\nComfort & Convenience\\n      [Air conditioning, Armrest, Automatic climate ...   \n",
       "\\nEntertainment & Media\\n      [Bluetooth, Hands-free equipment, On-board com...   \n",
       "\\nExtras\\n                     [Alloy wheels, Catalytic Converter, Voice Cont...   \n",
       "\\nSafety & Security\\n          [ABS, Central door lock, Daytime running light...   \n",
       "Availability                                                                 NaN   \n",
       "Available from                                                               NaN   \n",
       "Body                                                            [\\n, Sedans, \\n]   \n",
       "Body Color                                                       [\\n, Black, \\n]   \n",
       "Body Color Original                                          [\\nMythosschwarz\\n]   \n",
       "CO2 Emission                                            [\\n99 g CO2/km (comb)\\n]   \n",
       "Consumption                    [[3.8 l/100 km (comb)], [4.3 l/100 km (city)],...   \n",
       "Country version                                                              NaN   \n",
       "Cylinders                                                                [\\n3\\n]   \n",
       "Displacement                                                      [\\n1,422 cc\\n]   \n",
       "Drive chain                                                          [\\nfront\\n]   \n",
       "Electricity consumption                                                      NaN   \n",
       "Emission Class                                                      [\\nEuro 6\\n]   \n",
       "Emission Label                                                               NaN   \n",
       "First Registration                                                [\\n, 2016, \\n]   \n",
       "Fuel                                       [\\n, Diesel (Particulate Filter), \\n]   \n",
       "Full Service                                                            [\\n, \\n]   \n",
       "Gearing Type                                                 [\\n, Automatic, \\n]   \n",
       "Gears                                                                        NaN   \n",
       "Inspection new                                             [\\nYes\\n, \\nEuro 6\\n]   \n",
       "Last Service Date                                                            NaN   \n",
       "Last Timing Belt Service Date                                                NaN   \n",
       "Make                                                                    \\nAudi\\n   \n",
       "Model                                                               [\\n, A1, \\n]   \n",
       "Model Code                                                        [\\n0588/BDF\\n]   \n",
       "Next Inspection                            [\\n06/2021\\n, \\n99 g CO2/km (comb)\\n]   \n",
       "Non-smoking Vehicle                                                     [\\n, \\n]   \n",
       "Nr. of Doors                                                             [\\n5\\n]   \n",
       "Nr. of Seats                                                             [\\n5\\n]   \n",
       "Offer Number                                                     [\\nLR-062483\\n]   \n",
       "Other Fuel Types                                                             NaN   \n",
       "Paint Type                                                        [\\nMetallic\\n]   \n",
       "Previous Owners                                                            \\n2\\n   \n",
       "Type                                     [, Used, , Diesel (Particulate Filter)]   \n",
       "Upholstery                                                    [\\nCloth, Black\\n]   \n",
       "Warranty                                                 [\\n, \\n, \\n4 (Green)\\n]   \n",
       "Weight                                                            [\\n1,220 kg\\n]   \n",
       "body_type                                                                 Sedans   \n",
       "description                    [\\n, Sicherheit:,  , Deaktivierung für Beifahr...   \n",
       "hp                                                                         66 kW   \n",
       "kW                                                                           NaN   \n",
       "km                                                                     56,013 km   \n",
       "make_model                                                               Audi A1   \n",
       "null                                                                          []   \n",
       "prev_owner                                                     2 previous owners   \n",
       "price                                                                      15770   \n",
       "registration                                                             01/2016   \n",
       "short_description                    Sportback 1.4 TDI S-tronic Xenon Navi Klima   \n",
       "url                            https://www.autoscout24.com//offers/audi-a1-sp...   \n",
       "vat                                                               VAT deductible   \n",
       "\n",
       "                                                                               1  \\\n",
       "\\nComfort & Convenience\\n      [Air conditioning, Automatic climate control, ...   \n",
       "\\nEntertainment & Media\\n      [Bluetooth, Hands-free equipment, On-board com...   \n",
       "\\nExtras\\n                     [Alloy wheels, Sport seats, Sport suspension, ...   \n",
       "\\nSafety & Security\\n          [ABS, Central door lock, Central door lock wit...   \n",
       "Availability                                                                 NaN   \n",
       "Available from                                                               NaN   \n",
       "Body                                                            [\\n, Sedans, \\n]   \n",
       "Body Color                                                         [\\n, Red, \\n]   \n",
       "Body Color Original                                                          NaN   \n",
       "CO2 Emission                                           [\\n129 g CO2/km (comb)\\n]   \n",
       "Consumption                    [[5.6 l/100 km (comb)], [7.1 l/100 km (city)],...   \n",
       "Country version                                                              NaN   \n",
       "Cylinders                                                                [\\n4\\n]   \n",
       "Displacement                                                      [\\n1,798 cc\\n]   \n",
       "Drive chain                                                          [\\nfront\\n]   \n",
       "Electricity consumption                                                      NaN   \n",
       "Emission Class                                                      [\\nEuro 6\\n]   \n",
       "Emission Label                                                   [\\n4 (Green)\\n]   \n",
       "First Registration                                                [\\n, 2017, \\n]   \n",
       "Fuel                                                          [\\n, Gasoline, \\n]   \n",
       "Full Service                                                                 NaN   \n",
       "Gearing Type                                                 [\\n, Automatic, \\n]   \n",
       "Gears                                                                    [\\n7\\n]   \n",
       "Inspection new                                                               NaN   \n",
       "Last Service Date                                                            NaN   \n",
       "Last Timing Belt Service Date                                                NaN   \n",
       "Make                                                                    \\nAudi\\n   \n",
       "Model                                                               [\\n, A1, \\n]   \n",
       "Model Code                                                        [\\n0588/BCY\\n]   \n",
       "Next Inspection                                                              NaN   \n",
       "Non-smoking Vehicle                                                          NaN   \n",
       "Nr. of Doors                                                             [\\n3\\n]   \n",
       "Nr. of Seats                                                             [\\n4\\n]   \n",
       "Offer Number                                                                 NaN   \n",
       "Other Fuel Types                                                             NaN   \n",
       "Paint Type                                                                   NaN   \n",
       "Previous Owners                                                              NaN   \n",
       "Type                                                        [, Used, , Gasoline]   \n",
       "Upholstery                                                     [\\nCloth, Grey\\n]   \n",
       "Warranty                                                                     NaN   \n",
       "Weight                                                            [\\n1,255 kg\\n]   \n",
       "body_type                                                                 Sedans   \n",
       "description                    [\\nLangstreckenfahrzeug daher die hohe Kilomet...   \n",
       "hp                                                                        141 kW   \n",
       "kW                                                                           NaN   \n",
       "km                                                                     80,000 km   \n",
       "make_model                                                               Audi A1   \n",
       "null                                                                          []   \n",
       "prev_owner                                                                  None   \n",
       "price                                                                      14500   \n",
       "registration                                                             03/2017   \n",
       "short_description                                                 1.8 TFSI sport   \n",
       "url                            https://www.autoscout24.com//offers/audi-a1-1-...   \n",
       "vat                                                             Price negotiable   \n",
       "\n",
       "                                                                               2  \\\n",
       "\\nComfort & Convenience\\n      [Air conditioning, Cruise control, Electrical ...   \n",
       "\\nEntertainment & Media\\n                               [MP3, On-board computer]   \n",
       "\\nExtras\\n                                         [Alloy wheels, Voice Control]   \n",
       "\\nSafety & Security\\n          [ABS, Central door lock, Daytime running light...   \n",
       "Availability                                                                 NaN   \n",
       "Available from                                                               NaN   \n",
       "Body                                                            [\\n, Sedans, \\n]   \n",
       "Body Color                                                       [\\n, Black, \\n]   \n",
       "Body Color Original                                 [\\nmythosschwarz metallic\\n]   \n",
       "CO2 Emission                                            [\\n99 g CO2/km (comb)\\n]   \n",
       "Consumption                    [[3.8 l/100 km (comb)], [4.4 l/100 km (city)],...   \n",
       "Country version                                                              NaN   \n",
       "Cylinders                                                                    NaN   \n",
       "Displacement                                                      [\\n1,598 cc\\n]   \n",
       "Drive chain                                                          [\\nfront\\n]   \n",
       "Electricity consumption                                                      NaN   \n",
       "Emission Class                                                      [\\nEuro 6\\n]   \n",
       "Emission Label                                                   [\\n4 (Green)\\n]   \n",
       "First Registration                                                [\\n, 2016, \\n]   \n",
       "Fuel                                       [\\n, Diesel (Particulate Filter), \\n]   \n",
       "Full Service                                                                 NaN   \n",
       "Gearing Type                                                 [\\n, Automatic, \\n]   \n",
       "Gears                                                                        NaN   \n",
       "Inspection new                                                               NaN   \n",
       "Last Service Date                                                            NaN   \n",
       "Last Timing Belt Service Date                                                NaN   \n",
       "Make                                                                    \\nAudi\\n   \n",
       "Model                                                               [\\n, A1, \\n]   \n",
       "Model Code                                                                   NaN   \n",
       "Next Inspection                                                              NaN   \n",
       "Non-smoking Vehicle                                                          NaN   \n",
       "Nr. of Doors                                                             [\\n4\\n]   \n",
       "Nr. of Seats                                                             [\\n4\\n]   \n",
       "Offer Number                                                      [\\nAM-95365\\n]   \n",
       "Other Fuel Types                                                             NaN   \n",
       "Paint Type                                                        [\\nMetallic\\n]   \n",
       "Previous Owners                                                            \\n1\\n   \n",
       "Type                                     [, Used, , Diesel (Particulate Filter)]   \n",
       "Upholstery                                                    [\\nCloth, Black\\n]   \n",
       "Warranty                                        [\\n, \\n, \\n99 g CO2/km (comb)\\n]   \n",
       "Weight                                                                       NaN   \n",
       "body_type                                                                 Sedans   \n",
       "description                    [\\n, Fahrzeug-Nummer: AM-95365,  , Ehem. UPE 2...   \n",
       "hp                                                                         85 kW   \n",
       "kW                                                                           NaN   \n",
       "km                                                                     83,450 km   \n",
       "make_model                                                               Audi A1   \n",
       "null                                                                          []   \n",
       "prev_owner                                                      1 previous owner   \n",
       "price                                                                      14640   \n",
       "registration                                                             02/2016   \n",
       "short_description              Sportback 1.6 TDI S tronic Einparkhilfe plus+m...   \n",
       "url                            https://www.autoscout24.com//offers/audi-a1-sp...   \n",
       "vat                                                               VAT deductible   \n",
       "\n",
       "                                                                               3  \\\n",
       "\\nComfort & Convenience\\n      [Air suspension, Armrest, Auxiliary heating, E...   \n",
       "\\nEntertainment & Media\\n      [Bluetooth, CD player, Hands-free equipment, M...   \n",
       "\\nExtras\\n                            [Alloy wheels, Sport seats, Voice Control]   \n",
       "\\nSafety & Security\\n          [ABS, Alarm system, Central door lock with rem...   \n",
       "Availability                                                                 NaN   \n",
       "Available from                                                               NaN   \n",
       "Body                                                            [\\n, Sedans, \\n]   \n",
       "Body Color                                                       [\\n, Brown, \\n]   \n",
       "Body Color Original                                                          NaN   \n",
       "CO2 Emission                                            [\\n99 g CO2/km (comb)\\n]   \n",
       "Consumption                    [[3.8 l/100 km (comb)], [4.3 l/100 km (city)],...   \n",
       "Country version                                                              NaN   \n",
       "Cylinders                                                                [\\n3\\n]   \n",
       "Displacement                                                      [\\n1,422 cc\\n]   \n",
       "Drive chain                                                                  NaN   \n",
       "Electricity consumption                                                      NaN   \n",
       "Emission Class                                                      [\\nEuro 6\\n]   \n",
       "Emission Label                                                               NaN   \n",
       "First Registration                                                [\\n, 2016, \\n]   \n",
       "Fuel                                       [\\n, Diesel (Particulate Filter), \\n]   \n",
       "Full Service                                    [\\n, \\n, \\n99 g CO2/km (comb)\\n]   \n",
       "Gearing Type                                                 [\\n, Automatic, \\n]   \n",
       "Gears                                                                    [\\n6\\n]   \n",
       "Inspection new                                                               NaN   \n",
       "Last Service Date                                                            NaN   \n",
       "Last Timing Belt Service Date                                                NaN   \n",
       "Make                                                                    \\nAudi\\n   \n",
       "Model                                                               [\\n, A1, \\n]   \n",
       "Model Code                                                                   NaN   \n",
       "Next Inspection                                                              NaN   \n",
       "Non-smoking Vehicle                                         [\\n, \\n, \\nEuro 6\\n]   \n",
       "Nr. of Doors                                                             [\\n3\\n]   \n",
       "Nr. of Seats                                                             [\\n4\\n]   \n",
       "Offer Number                                                                 NaN   \n",
       "Other Fuel Types                                                             NaN   \n",
       "Paint Type                                                        [\\nMetallic\\n]   \n",
       "Previous Owners                                                            \\n1\\n   \n",
       "Type                                     [, Used, , Diesel (Particulate Filter)]   \n",
       "Upholstery                                                                   NaN   \n",
       "Warranty                                                                     NaN   \n",
       "Weight                                                            [\\n1,195 kg\\n]   \n",
       "body_type                                                                 Sedans   \n",
       "description                    [\\nAudi A1: , - 1e eigenaar , - Perfecte staat...   \n",
       "hp                                                                         66 kW   \n",
       "kW                                                                           NaN   \n",
       "km                                                                     73,000 km   \n",
       "make_model                                                               Audi A1   \n",
       "null                                                                          []   \n",
       "prev_owner                                                      1 previous owner   \n",
       "price                                                                      14500   \n",
       "registration                                                             08/2016   \n",
       "short_description                                        1.4 TDi Design S tronic   \n",
       "url                            https://www.autoscout24.com//offers/audi-a1-1-...   \n",
       "vat                                                                         None   \n",
       "\n",
       "                                                                               4  \n",
       "\\nComfort & Convenience\\n      [Air conditioning, Armrest, Automatic climate ...  \n",
       "\\nEntertainment & Media\\n      [Bluetooth, CD player, Hands-free equipment, M...  \n",
       "\\nExtras\\n                     [Alloy wheels, Sport package, Sport suspension...  \n",
       "\\nSafety & Security\\n          [ABS, Central door lock, Driver-side airbag, E...  \n",
       "Availability                                                                 NaN  \n",
       "Available from                                                               NaN  \n",
       "Body                                                            [\\n, Sedans, \\n]  \n",
       "Body Color                                                       [\\n, Black, \\n]  \n",
       "Body Color Original                                 [\\nMythosschwarz Metallic\\n]  \n",
       "CO2 Emission                                           [\\n109 g CO2/km (comb)\\n]  \n",
       "Consumption                    [[4.1 l/100 km (comb)], [4.6 l/100 km (city)],...  \n",
       "Country version                                                    [\\nGermany\\n]  \n",
       "Cylinders                                                                [\\n3\\n]  \n",
       "Displacement                                                      [\\n1,422 cc\\n]  \n",
       "Drive chain                                                          [\\nfront\\n]  \n",
       "Electricity consumption                                                      NaN  \n",
       "Emission Class                                                      [\\nEuro 6\\n]  \n",
       "Emission Label                                                               NaN  \n",
       "First Registration                                                [\\n, 2016, \\n]  \n",
       "Fuel                                       [\\n, Diesel (Particulate Filter), \\n]  \n",
       "Full Service                                             [\\n, \\n, \\n4 (Green)\\n]  \n",
       "Gearing Type                                                 [\\n, Automatic, \\n]  \n",
       "Gears                                                                        NaN  \n",
       "Inspection new                                [\\nYes\\n, \\n109 g CO2/km (comb)\\n]  \n",
       "Last Service Date                                                            NaN  \n",
       "Last Timing Belt Service Date                                                NaN  \n",
       "Make                                                                    \\nAudi\\n  \n",
       "Model                                                               [\\n, A1, \\n]  \n",
       "Model Code                                                        [\\n0588/BDF\\n]  \n",
       "Next Inspection                                                              NaN  \n",
       "Non-smoking Vehicle                                                     [\\n, \\n]  \n",
       "Nr. of Doors                                                             [\\n5\\n]  \n",
       "Nr. of Seats                                                             [\\n5\\n]  \n",
       "Offer Number                                                         [\\nC1626\\n]  \n",
       "Other Fuel Types                                                             NaN  \n",
       "Paint Type                                                        [\\nMetallic\\n]  \n",
       "Previous Owners                                                            \\n1\\n  \n",
       "Type                                     [, Used, , Diesel (Particulate Filter)]  \n",
       "Upholstery                                                    [\\nCloth, Black\\n]  \n",
       "Warranty                                                    [\\n, \\n, \\nEuro 6\\n]  \n",
       "Weight                                                                       NaN  \n",
       "body_type                                                                 Sedans  \n",
       "description                    [\\n, Technik & Sicherheit:, Xenon plus, Klimaa...  \n",
       "hp                                                                         66 kW  \n",
       "kW                                                                           NaN  \n",
       "km                                                                     16,200 km  \n",
       "make_model                                                               Audi A1  \n",
       "null                                                                          []  \n",
       "prev_owner                                                      1 previous owner  \n",
       "price                                                                      16790  \n",
       "registration                                                             05/2016  \n",
       "short_description              Sportback 1.4 TDI S-Tronic S-Line Ext. admired...  \n",
       "url                            https://www.autoscout24.com//offers/audi-a1-sp...  \n",
       "vat                                                                         None  "
      ]
     },
     "execution_count": 3,
     "metadata": {},
     "output_type": "execute_result"
    }
   ],
   "source": [
    "df.head().T"
   ]
  },
  {
   "cell_type": "code",
   "execution_count": 4,
   "metadata": {
    "colab": {
     "base_uri": "https://localhost:8080/"
    },
    "executionInfo": {
     "elapsed": 55,
     "status": "ok",
     "timestamp": 1635888260168,
     "user": {
      "displayName": "Yusuf C",
      "photoUrl": "https://lh3.googleusercontent.com/a/default-user=s64",
      "userId": "01460091991965572961"
     },
     "user_tz": -180
    },
    "id": "lQ0SbeBDDlr_",
    "outputId": "69a56a21-fa81-44bd-bcf8-62c83e2bf694"
   },
   "outputs": [
    {
     "name": "stdout",
     "output_type": "stream",
     "text": [
      "<class 'pandas.core.frame.DataFrame'>\n",
      "RangeIndex: 15919 entries, 0 to 15918\n",
      "Data columns (total 54 columns):\n",
      "\n",
      "Comfort & Convenience\n",
      "          14999 non-null object\n",
      "\n",
      "Entertainment & Media\n",
      "          14545 non-null object\n",
      "\n",
      "Extras\n",
      "                         12957 non-null object\n",
      "\n",
      "Safety & Security\n",
      "              14937 non-null object\n",
      "Availability                     635 non-null object\n",
      "Available from                   272 non-null object\n",
      "Body                             15859 non-null object\n",
      "Body Color                       15322 non-null object\n",
      "Body Color Original              12160 non-null object\n",
      "CO2 Emission                     14111 non-null object\n",
      "Consumption                      14013 non-null object\n",
      "Country version                  7586 non-null object\n",
      "Cylinders                        10239 non-null object\n",
      "Displacement                     15423 non-null object\n",
      "Drive chain                      9061 non-null object\n",
      "Electricity consumption          137 non-null object\n",
      "Emission Class                   12898 non-null object\n",
      "Emission Label                   3985 non-null object\n",
      "First Registration               14322 non-null object\n",
      "Fuel                             15919 non-null object\n",
      "Full Service                     8215 non-null object\n",
      "Gearing Type                     15919 non-null object\n",
      "Gears                            11207 non-null object\n",
      "Inspection new                   3932 non-null object\n",
      "Last Service Date                566 non-null object\n",
      "Last Timing Belt Service Date    16 non-null object\n",
      "Make                             15919 non-null object\n",
      "Model                            15919 non-null object\n",
      "Model Code                       4978 non-null object\n",
      "Next Inspection                  3535 non-null object\n",
      "Non-smoking Vehicle              7177 non-null object\n",
      "Nr. of Doors                     15707 non-null object\n",
      "Nr. of Seats                     14942 non-null object\n",
      "Offer Number                     12744 non-null object\n",
      "Other Fuel Types                 880 non-null object\n",
      "Paint Type                       10147 non-null object\n",
      "Previous Owners                  9279 non-null object\n",
      "Type                             15917 non-null object\n",
      "Upholstery                       12199 non-null object\n",
      "Warranty                         10499 non-null object\n",
      "Weight                           8945 non-null object\n",
      "body_type                        15859 non-null object\n",
      "description                      15919 non-null object\n",
      "hp                               15919 non-null object\n",
      "kW                               0 non-null float64\n",
      "km                               15919 non-null object\n",
      "make_model                       15919 non-null object\n",
      "null                             15919 non-null object\n",
      "prev_owner                       9091 non-null object\n",
      "price                            15919 non-null int64\n",
      "registration                     15919 non-null object\n",
      "short_description                15873 non-null object\n",
      "url                              15919 non-null object\n",
      "vat                              11406 non-null object\n",
      "dtypes: float64(1), int64(1), object(52)\n",
      "memory usage: 6.6+ MB\n"
     ]
    }
   ],
   "source": [
    "df.info()"
   ]
  },
  {
   "cell_type": "code",
   "execution_count": 5,
   "metadata": {
    "colab": {
     "base_uri": "https://localhost:8080/"
    },
    "executionInfo": {
     "elapsed": 30,
     "status": "ok",
     "timestamp": 1635888260170,
     "user": {
      "displayName": "Yusuf C",
      "photoUrl": "https://lh3.googleusercontent.com/a/default-user=s64",
      "userId": "01460091991965572961"
     },
     "user_tz": -180
    },
    "id": "_lnlv7-zDlx2",
    "outputId": "fc4a1702-e012-4edb-de7f-4b7d77ee688a"
   },
   "outputs": [
    {
     "data": {
      "text/plain": [
       "kW                               15919\n",
       "Last Timing Belt Service Date    15903\n",
       "Electricity consumption          15782\n",
       "Available from                   15647\n",
       "Last Service Date                15353\n",
       "Availability                     15284\n",
       "Other Fuel Types                 15039\n",
       "Next Inspection                  12384\n",
       "Inspection new                   11987\n",
       "Emission Label                   11934\n",
       "Model Code                       10941\n",
       "Non-smoking Vehicle               8742\n",
       "Country version                   8333\n",
       "Full Service                      7704\n",
       "Weight                            6974\n",
       "Drive chain                       6858\n",
       "prev_owner                        6828\n",
       "Previous Owners                   6640\n",
       "Paint Type                        5772\n",
       "Cylinders                         5680\n",
       "Warranty                          5420\n",
       "Gears                             4712\n",
       "vat                               4513\n",
       "Body Color Original               3759\n",
       "Upholstery                        3720\n",
       "Offer Number                      3175\n",
       "Emission Class                    3021\n",
       "\\nExtras\\n                        2962\n",
       "Consumption                       1906\n",
       "CO2 Emission                      1808\n",
       "First Registration                1597\n",
       "\\nEntertainment & Media\\n         1374\n",
       "\\nSafety & Security\\n              982\n",
       "Nr. of Seats                       977\n",
       "\\nComfort & Convenience\\n          920\n",
       "Body Color                         597\n",
       "Displacement                       496\n",
       "Nr. of Doors                       212\n",
       "Body                                60\n",
       "body_type                           60\n",
       "short_description                   46\n",
       "Type                                 2\n",
       "Fuel                                 0\n",
       "registration                         0\n",
       "price                                0\n",
       "null                                 0\n",
       "make_model                           0\n",
       "hp                                   0\n",
       "km                                   0\n",
       "Gearing Type                         0\n",
       "description                          0\n",
       "Model                                0\n",
       "url                                  0\n",
       "Make                                 0\n",
       "dtype: int64"
      ]
     },
     "execution_count": 5,
     "metadata": {},
     "output_type": "execute_result"
    }
   ],
   "source": [
    "df.isnull().sum().sort_values(ascending=False)"
   ]
  },
  {
   "cell_type": "code",
   "execution_count": 6,
   "metadata": {
    "id": "KpPjRny3Dl1Q"
   },
   "outputs": [],
   "source": [
    "df.drop([\"url\", \"kW\", \"null\", \"Offer Number\", \"Other Fuel Types\", \"Full Service\", \"Last Timing Belt Service Date\"], axis=1, inplace=True)\n",
    "# \"prev_owner\", \"Body Color Original\""
   ]
  },
  {
   "cell_type": "code",
   "execution_count": 7,
   "metadata": {
    "id": "j0RBTXBPXdZA"
   },
   "outputs": [],
   "source": [
    "df = df.rename(columns={\"\\nExtras\\n\": \"Extras\", \"\\nEntertainment & Media\\n\": \"Entertainment & Media\", \"\\nSafety & Security\\n\": \"Safety & Security\",\n",
    "                   \"\\nComfort & Convenience\\n\": \"Comfort & Convenience\"})"
   ]
  },
  {
   "cell_type": "code",
   "execution_count": 8,
   "metadata": {
    "colab": {
     "base_uri": "https://localhost:8080/"
    },
    "executionInfo": {
     "elapsed": 119,
     "status": "ok",
     "timestamp": 1635888260826,
     "user": {
      "displayName": "Yusuf C",
      "photoUrl": "https://lh3.googleusercontent.com/a/default-user=s64",
      "userId": "01460091991965572961"
     },
     "user_tz": -180
    },
    "id": "K38uGgiADl4V",
    "outputId": "fe1d4987-8c29-498a-c51a-0e5f7a0d5201"
   },
   "outputs": [
    {
     "data": {
      "text/plain": [
       "(15919, 47)"
      ]
     },
     "execution_count": 8,
     "metadata": {},
     "output_type": "execute_result"
    }
   ],
   "source": [
    "df.shape"
   ]
  },
  {
   "cell_type": "code",
   "execution_count": 9,
   "metadata": {
    "id": "9CuuYPoLDmBJ"
   },
   "outputs": [],
   "source": [
    "# df.drop(\"price\", axis=1).describe().T"
   ]
  },
  {
   "cell_type": "markdown",
   "metadata": {
    "id": "XUfU8lNbIoPt"
   },
   "source": [
    "# Cylinders (5680 NAN value)"
   ]
  },
  {
   "cell_type": "code",
   "execution_count": 10,
   "metadata": {
    "colab": {
     "base_uri": "https://localhost:8080/"
    },
    "executionInfo": {
     "elapsed": 109,
     "status": "ok",
     "timestamp": 1635888260831,
     "user": {
      "displayName": "Yusuf C",
      "photoUrl": "https://lh3.googleusercontent.com/a/default-user=s64",
      "userId": "01460091991965572961"
     },
     "user_tz": -180
    },
    "id": "HgaphbBRFWKc",
    "outputId": "45d982b5-c57c-4da6-9cc4-8ccfc8b28bac"
   },
   "outputs": [
    {
     "data": {
      "text/plain": [
       "0        [\\n3\\n]\n",
       "1        [\\n4\\n]\n",
       "2            NaN\n",
       "3        [\\n3\\n]\n",
       "4        [\\n3\\n]\n",
       "5            NaN\n",
       "6        [\\n4\\n]\n",
       "7            NaN\n",
       "8        [\\n4\\n]\n",
       "9            NaN\n",
       "10       [\\n4\\n]\n",
       "11       [\\n4\\n]\n",
       "12       [\\n4\\n]\n",
       "13           NaN\n",
       "14       [\\n3\\n]\n",
       "15       [\\n4\\n]\n",
       "16       [\\n4\\n]\n",
       "17       [\\n3\\n]\n",
       "18       [\\n3\\n]\n",
       "19       [\\n4\\n]\n",
       "20       [\\n4\\n]\n",
       "21       [\\n4\\n]\n",
       "22       [\\n4\\n]\n",
       "23       [\\n4\\n]\n",
       "24       [\\n3\\n]\n",
       "25       [\\n3\\n]\n",
       "26           NaN\n",
       "27       [\\n3\\n]\n",
       "28       [\\n3\\n]\n",
       "29           NaN\n",
       "          ...   \n",
       "15889    [\\n4\\n]\n",
       "15890    [\\n4\\n]\n",
       "15891    [\\n4\\n]\n",
       "15892        NaN\n",
       "15893    [\\n4\\n]\n",
       "15894    [\\n4\\n]\n",
       "15895    [\\n4\\n]\n",
       "15896        NaN\n",
       "15897    [\\n4\\n]\n",
       "15898    [\\n4\\n]\n",
       "15899    [\\n4\\n]\n",
       "15900        NaN\n",
       "15901    [\\n4\\n]\n",
       "15902        NaN\n",
       "15903        NaN\n",
       "15904    [\\n4\\n]\n",
       "15905        NaN\n",
       "15906        NaN\n",
       "15907        NaN\n",
       "15908        NaN\n",
       "15909        NaN\n",
       "15910    [\\n4\\n]\n",
       "15911    [\\n4\\n]\n",
       "15912    [\\n4\\n]\n",
       "15913    [\\n4\\n]\n",
       "15914    [\\n4\\n]\n",
       "15915    [\\n4\\n]\n",
       "15916    [\\n4\\n]\n",
       "15917    [\\n4\\n]\n",
       "15918    [\\n4\\n]\n",
       "Name: Cylinders, Length: 15919, dtype: object"
      ]
     },
     "execution_count": 10,
     "metadata": {},
     "output_type": "execute_result"
    }
   ],
   "source": [
    "df[\"Cylinders\"]"
   ]
  },
  {
   "cell_type": "code",
   "execution_count": null,
   "metadata": {
    "colab": {
     "base_uri": "https://localhost:8080/",
     "height": 369
    },
    "executionInfo": {
     "elapsed": 104,
     "status": "ok",
     "timestamp": 1635888260833,
     "user": {
      "displayName": "Yusuf C",
      "photoUrl": "https://lh3.googleusercontent.com/a/default-user=s64",
      "userId": "01460091991965572961"
     },
     "user_tz": -180
    },
    "id": "hoHOfwVzApsj",
    "outputId": "ef8bcce0-58e0-4029-9e86-8080e9ea34e9"
   },
   "outputs": [
    {
     "ename": "TypeError",
     "evalue": "ignored",
     "output_type": "error",
     "traceback": [
      "\u001b[0;31m---------------------------------------------------------------------------\u001b[0m",
      "\u001b[0;31mTypeError\u001b[0m                                 Traceback (most recent call last)",
      "\u001b[0;32mpandas/_libs/hashtable_class_helper.pxi\u001b[0m in \u001b[0;36mpandas._libs.hashtable.PyObjectHashTable.map_locations\u001b[0;34m()\u001b[0m\n",
      "\u001b[0;31mTypeError\u001b[0m: unhashable type: 'list'"
     ]
    },
    {
     "name": "stderr",
     "output_type": "stream",
     "text": [
      "Exception ignored in: 'pandas._libs.index.IndexEngine._call_map_locations'\n",
      "Traceback (most recent call last):\n",
      "  File \"pandas/_libs/hashtable_class_helper.pxi\", line 1709, in pandas._libs.hashtable.PyObjectHashTable.map_locations\n",
      "TypeError: unhashable type: 'list'\n"
     ]
    },
    {
     "data": {
      "text/plain": [
       "[\\n4\\n]    8105\n",
       "NaN        5680\n",
       "[\\n3\\n]    2104\n",
       "[\\n5\\n]      22\n",
       "[\\n6\\n]       3\n",
       "[\\n2\\n]       2\n",
       "[\\n8\\n]       2\n",
       "[\\n1\\n]       1\n",
       "Name: Cylinders, dtype: int64"
      ]
     },
     "execution_count": 82,
     "metadata": {},
     "output_type": "execute_result"
    }
   ],
   "source": [
    "df['Cylinders'].value_counts(dropna=False)"
   ]
  },
  {
   "cell_type": "code",
   "execution_count": null,
   "metadata": {
    "colab": {
     "base_uri": "https://localhost:8080/",
     "height": 35
    },
    "executionInfo": {
     "elapsed": 104,
     "status": "ok",
     "timestamp": 1635888260835,
     "user": {
      "displayName": "Yusuf C",
      "photoUrl": "https://lh3.googleusercontent.com/a/default-user=s64",
      "userId": "01460091991965572961"
     },
     "user_tz": -180
    },
    "id": "9E17WtlWA2Dg",
    "outputId": "8268d706-48eb-4665-ca64-5c5d04105500"
   },
   "outputs": [
    {
     "data": {
      "application/vnd.google.colaboratory.intrinsic+json": {
       "type": "string"
      },
      "text/plain": [
       "'3'"
      ]
     },
     "execution_count": 83,
     "metadata": {},
     "output_type": "execute_result"
    }
   ],
   "source": [
    "df['Cylinders'][0][0].split()[0]"
   ]
  },
  {
   "cell_type": "code",
   "execution_count": null,
   "metadata": {
    "colab": {
     "base_uri": "https://localhost:8080/"
    },
    "executionInfo": {
     "elapsed": 105,
     "status": "ok",
     "timestamp": 1635888260837,
     "user": {
      "displayName": "Yusuf C",
      "photoUrl": "https://lh3.googleusercontent.com/a/default-user=s64",
      "userId": "01460091991965572961"
     },
     "user_tz": -180
    },
    "id": "DqdIJ957BFp1",
    "outputId": "0634d4f5-59f7-4817-f68a-c7560db31aba"
   },
   "outputs": [
    {
     "data": {
      "text/plain": [
       "0          3\n",
       "1          4\n",
       "2        NaN\n",
       "3          3\n",
       "4          3\n",
       "        ... \n",
       "15914      4\n",
       "15915      4\n",
       "15916      4\n",
       "15917      4\n",
       "15918      4\n",
       "Name: Cylinders, Length: 15919, dtype: object"
      ]
     },
     "execution_count": 84,
     "metadata": {},
     "output_type": "execute_result"
    }
   ],
   "source": [
    "df['Cylinders'].apply(lambda x : x[0].split()[0] if type(x)==list else x)"
   ]
  },
  {
   "cell_type": "code",
   "execution_count": null,
   "metadata": {
    "id": "6ar20H90BW7w"
   },
   "outputs": [],
   "source": [
    "df['Cylinders'] = df['Cylinders'].apply(lambda x : x[0].split()[0] if type(x)==list else x)"
   ]
  },
  {
   "cell_type": "code",
   "execution_count": null,
   "metadata": {
    "colab": {
     "base_uri": "https://localhost:8080/"
    },
    "executionInfo": {
     "elapsed": 100,
     "status": "ok",
     "timestamp": 1635888260840,
     "user": {
      "displayName": "Yusuf C",
      "photoUrl": "https://lh3.googleusercontent.com/a/default-user=s64",
      "userId": "01460091991965572961"
     },
     "user_tz": -180
    },
    "id": "NblxXp39BbfT",
    "outputId": "a9c26724-fed9-4d35-d0e8-89d379646fa0"
   },
   "outputs": [
    {
     "data": {
      "text/plain": [
       "4      8105\n",
       "NaN    5680\n",
       "3      2104\n",
       "5        22\n",
       "6         3\n",
       "2         2\n",
       "8         2\n",
       "1         1\n",
       "Name: Cylinders, dtype: int64"
      ]
     },
     "execution_count": 86,
     "metadata": {},
     "output_type": "execute_result"
    }
   ],
   "source": [
    "df['Cylinders'].value_counts(dropna=False)"
   ]
  },
  {
   "cell_type": "code",
   "execution_count": null,
   "metadata": {
    "id": "QYYUh0yaB-vq"
   },
   "outputs": [],
   "source": [
    "#for i in range(len(df)):\n",
    "#    if type(df[\"Cylinders\"][i]) == float:\n",
    "#        df[\"Cylinders\"][i] = [\"\\n0\\n\"]\n",
    "#    \n",
    "#for i in range(len(df)):\n",
    "#    df[\"Cylinders\"][i] = df[\"Cylinders\"][i][0].split()[0]"
   ]
  },
  {
   "cell_type": "code",
   "execution_count": null,
   "metadata": {
    "id": "IEa0DaVuDLB2"
   },
   "outputs": [],
   "source": [
    " #df[\"Cylinders\"].apply(int)"
   ]
  },
  {
   "cell_type": "markdown",
   "metadata": {
    "id": "6MNx68E_LXVY"
   },
   "source": [
    "# Body"
   ]
  },
  {
   "cell_type": "code",
   "execution_count": null,
   "metadata": {
    "colab": {
     "base_uri": "https://localhost:8080/",
     "height": 403
    },
    "executionInfo": {
     "elapsed": 97,
     "status": "ok",
     "timestamp": 1635888260845,
     "user": {
      "displayName": "Yusuf C",
      "photoUrl": "https://lh3.googleusercontent.com/a/default-user=s64",
      "userId": "01460091991965572961"
     },
     "user_tz": -180
    },
    "id": "gztgumaRLbEQ",
    "outputId": "2bd2f653-17f2-4b07-fc1e-54f441a9005e"
   },
   "outputs": [
    {
     "ename": "TypeError",
     "evalue": "ignored",
     "output_type": "error",
     "traceback": [
      "\u001b[0;31m---------------------------------------------------------------------------\u001b[0m",
      "\u001b[0;31mTypeError\u001b[0m                                 Traceback (most recent call last)",
      "\u001b[0;32mpandas/_libs/hashtable_class_helper.pxi\u001b[0m in \u001b[0;36mpandas._libs.hashtable.PyObjectHashTable.map_locations\u001b[0;34m()\u001b[0m\n",
      "\u001b[0;31mTypeError\u001b[0m: unhashable type: 'list'"
     ]
    },
    {
     "name": "stderr",
     "output_type": "stream",
     "text": [
      "Exception ignored in: 'pandas._libs.index.IndexEngine._call_map_locations'\n",
      "Traceback (most recent call last):\n",
      "  File \"pandas/_libs/hashtable_class_helper.pxi\", line 1709, in pandas._libs.hashtable.PyObjectHashTable.map_locations\n",
      "TypeError: unhashable type: 'list'\n"
     ]
    },
    {
     "data": {
      "text/plain": [
       "[\\n, Sedans, \\n]           7903\n",
       "[\\n, Station wagon, \\n]    3553\n",
       "[\\n, Compact, \\n]          3153\n",
       "[\\n, Van, \\n]               783\n",
       "[\\n, Other, \\n]             290\n",
       "[\\n, Transporter, \\n]        88\n",
       "NaN                          60\n",
       "[\\n, Off-Road, \\n]           56\n",
       "[\\n, Coupe, \\n]              25\n",
       "[\\n, Convertible, \\n]         8\n",
       "Name: Body, dtype: int64"
      ]
     },
     "execution_count": 89,
     "metadata": {},
     "output_type": "execute_result"
    }
   ],
   "source": [
    "df[\"Body\"].value_counts(dropna=False)"
   ]
  },
  {
   "cell_type": "code",
   "execution_count": null,
   "metadata": {
    "colab": {
     "base_uri": "https://localhost:8080/"
    },
    "executionInfo": {
     "elapsed": 98,
     "status": "ok",
     "timestamp": 1635888260847,
     "user": {
      "displayName": "Yusuf C",
      "photoUrl": "https://lh3.googleusercontent.com/a/default-user=s64",
      "userId": "01460091991965572961"
     },
     "user_tz": -180
    },
    "id": "nS21w1KKLswV",
    "outputId": "5a8ca523-dd52-46bd-8b29-a82a3df30483"
   },
   "outputs": [
    {
     "data": {
      "text/plain": [
       "Sedans           7903\n",
       "Station wagon    3553\n",
       "Compact          3153\n",
       "Van               783\n",
       "Other             290\n",
       "Transporter        88\n",
       "NaN                60\n",
       "Off-Road           56\n",
       "Coupe              25\n",
       "Convertible         8\n",
       "Name: body_type, dtype: int64"
      ]
     },
     "execution_count": 90,
     "metadata": {},
     "output_type": "execute_result"
    }
   ],
   "source": [
    "df[\"body_type\"].value_counts(dropna=False)"
   ]
  },
  {
   "cell_type": "code",
   "execution_count": null,
   "metadata": {
    "id": "Mz5aXzemt9n0"
   },
   "outputs": [],
   "source": [
    "df.drop(\"Body\", axis=1, inplace=True)"
   ]
  },
  {
   "cell_type": "code",
   "execution_count": null,
   "metadata": {
    "colab": {
     "base_uri": "https://localhost:8080/"
    },
    "executionInfo": {
     "elapsed": 95,
     "status": "ok",
     "timestamp": 1635888260851,
     "user": {
      "displayName": "Yusuf C",
      "photoUrl": "https://lh3.googleusercontent.com/a/default-user=s64",
      "userId": "01460091991965572961"
     },
     "user_tz": -180
    },
    "id": "AQOECcoCuE2B",
    "outputId": "c04ec506-d64a-4698-8e73-5339ecc79143"
   },
   "outputs": [
    {
     "name": "stdout",
     "output_type": "stream",
     "text": [
      "(15919, 46)\n"
     ]
    },
    {
     "data": {
      "text/plain": [
       "0        Sedans\n",
       "1        Sedans\n",
       "2        Sedans\n",
       "3        Sedans\n",
       "4        Sedans\n",
       "          ...  \n",
       "15914       Van\n",
       "15915       Van\n",
       "15916       Van\n",
       "15917       Van\n",
       "15918       Van\n",
       "Name: body_type, Length: 15919, dtype: object"
      ]
     },
     "execution_count": 92,
     "metadata": {},
     "output_type": "execute_result"
    }
   ],
   "source": [
    "print(df.shape)\n",
    "df[\"body_type\"]"
   ]
  },
  {
   "cell_type": "code",
   "execution_count": null,
   "metadata": {
    "id": "UYdMho6JCknc"
   },
   "outputs": [],
   "source": []
  },
  {
   "cell_type": "markdown",
   "metadata": {
    "id": "ADbWhk65NgfM"
   },
   "source": [
    "# make_model (no null value)"
   ]
  },
  {
   "cell_type": "code",
   "execution_count": null,
   "metadata": {
    "colab": {
     "base_uri": "https://localhost:8080/"
    },
    "executionInfo": {
     "elapsed": 98,
     "status": "ok",
     "timestamp": 1635888260861,
     "user": {
      "displayName": "Yusuf C",
      "photoUrl": "https://lh3.googleusercontent.com/a/default-user=s64",
      "userId": "01460091991965572961"
     },
     "user_tz": -180
    },
    "id": "YlipZNDEMXL1",
    "outputId": "4dadd2dc-ee0f-484c-dbc0-560d62d12ab6"
   },
   "outputs": [
    {
     "data": {
      "text/plain": [
       "Audi A3           3097\n",
       "Audi A1           2614\n",
       "Opel Insignia     2598\n",
       "Opel Astra        2526\n",
       "Opel Corsa        2219\n",
       "Renault Clio      1839\n",
       "Renault Espace     991\n",
       "Renault Duster      34\n",
       "Audi A2              1\n",
       "Name: make_model, dtype: int64"
      ]
     },
     "execution_count": 93,
     "metadata": {},
     "output_type": "execute_result"
    }
   ],
   "source": [
    "df[ \"make_model\"].value_counts(dropna=False)"
   ]
  },
  {
   "cell_type": "markdown",
   "metadata": {
    "id": "SGHv_wAdNq_q"
   },
   "source": [
    "# body_type (60 null)"
   ]
  },
  {
   "cell_type": "code",
   "execution_count": null,
   "metadata": {
    "colab": {
     "base_uri": "https://localhost:8080/"
    },
    "executionInfo": {
     "elapsed": 94,
     "status": "ok",
     "timestamp": 1635888260864,
     "user": {
      "displayName": "Yusuf C",
      "photoUrl": "https://lh3.googleusercontent.com/a/default-user=s64",
      "userId": "01460091991965572961"
     },
     "user_tz": -180
    },
    "id": "TdxD8EdFN0Cm",
    "outputId": "b68e3d9b-3742-42f4-e41a-542690f03bc1"
   },
   "outputs": [
    {
     "data": {
      "text/plain": [
       "Sedans           7903\n",
       "Station wagon    3553\n",
       "Compact          3153\n",
       "Van               783\n",
       "Other             290\n",
       "Transporter        88\n",
       "NaN                60\n",
       "Off-Road           56\n",
       "Coupe              25\n",
       "Convertible         8\n",
       "Name: body_type, dtype: int64"
      ]
     },
     "execution_count": 94,
     "metadata": {},
     "output_type": "execute_result"
    }
   ],
   "source": [
    "df[\"body_type\"].value_counts(dropna=False)"
   ]
  },
  {
   "cell_type": "code",
   "execution_count": null,
   "metadata": {
    "colab": {
     "base_uri": "https://localhost:8080/"
    },
    "executionInfo": {
     "elapsed": 90,
     "status": "ok",
     "timestamp": 1635888260866,
     "user": {
      "displayName": "Yusuf C",
      "photoUrl": "https://lh3.googleusercontent.com/a/default-user=s64",
      "userId": "01460091991965572961"
     },
     "user_tz": -180
    },
    "id": "gKpuGF4NOyQ_",
    "outputId": "5b5b71af-b4f5-497e-962d-5051bc6abbce"
   },
   "outputs": [
    {
     "data": {
      "text/plain": [
       "(15919, 46)"
      ]
     },
     "execution_count": 95,
     "metadata": {},
     "output_type": "execute_result"
    }
   ],
   "source": [
    "df.shape"
   ]
  },
  {
   "cell_type": "markdown",
   "metadata": {
    "id": "6mucrjXEFwQx"
   },
   "source": [
    "# km (1024 NaN value)"
   ]
  },
  {
   "cell_type": "code",
   "execution_count": 11,
   "metadata": {
    "colab": {
     "base_uri": "https://localhost:8080/",
     "height": 35
    },
    "executionInfo": {
     "elapsed": 84,
     "status": "ok",
     "timestamp": 1635888260867,
     "user": {
      "displayName": "Yusuf C",
      "photoUrl": "https://lh3.googleusercontent.com/a/default-user=s64",
      "userId": "01460091991965572961"
     },
     "user_tz": -180
    },
    "id": "I_Ad2OaoC0FL",
    "outputId": "39bc01a4-e481-41bd-8605-d897fe774554"
   },
   "outputs": [
    {
     "data": {
      "text/plain": [
       "'56013'"
      ]
     },
     "execution_count": 11,
     "metadata": {},
     "output_type": "execute_result"
    }
   ],
   "source": [
    "df[\"km\"][0].split()[0].replace(\",\", \"\")"
   ]
  },
  {
   "cell_type": "code",
   "execution_count": 12,
   "metadata": {
    "colab": {
     "base_uri": "https://localhost:8080/"
    },
    "executionInfo": {
     "elapsed": 86,
     "status": "ok",
     "timestamp": 1635888260870,
     "user": {
      "displayName": "Yusuf C",
      "photoUrl": "https://lh3.googleusercontent.com/a/default-user=s64",
      "userId": "01460091991965572961"
     },
     "user_tz": -180
    },
    "id": "dKSdeRgUO12E",
    "outputId": "591f3a00-e073-4876-fbb0-b1e516046828"
   },
   "outputs": [
    {
     "data": {
      "text/plain": [
       "0         56013\n",
       "1         80000\n",
       "2         83450\n",
       "3         73000\n",
       "4         16200\n",
       "5         63668\n",
       "6         62111\n",
       "7         14986\n",
       "8         57000\n",
       "9         16103\n",
       "10        11300\n",
       "11        26415\n",
       "12        31600\n",
       "13        45764\n",
       "14        34914\n",
       "15        27000\n",
       "16         9752\n",
       "17        28408\n",
       "18        50280\n",
       "19        13406\n",
       "20        51160\n",
       "21        15850\n",
       "22        17000\n",
       "23         9077\n",
       "24         3000\n",
       "25       115000\n",
       "26        84029\n",
       "27        67800\n",
       "28        14556\n",
       "29        22000\n",
       "          ...  \n",
       "15889      4100\n",
       "15890         -\n",
       "15891        10\n",
       "15892         2\n",
       "15893        10\n",
       "15894      4899\n",
       "15895     16500\n",
       "15896      5000\n",
       "15897        10\n",
       "15898        10\n",
       "15899      5000\n",
       "15900      8500\n",
       "15901        10\n",
       "15902         -\n",
       "15903        10\n",
       "15904        50\n",
       "15905       500\n",
       "15906        10\n",
       "15907        50\n",
       "15908        10\n",
       "15909      3500\n",
       "15910      8500\n",
       "15911       100\n",
       "15912         -\n",
       "15913      1000\n",
       "15914         -\n",
       "15915      9900\n",
       "15916        15\n",
       "15917        10\n",
       "15918         -\n",
       "Name: km, Length: 15919, dtype: object"
      ]
     },
     "execution_count": 12,
     "metadata": {},
     "output_type": "execute_result"
    }
   ],
   "source": [
    "df[\"km\"].apply(lambda x : x.split()[0].replace(\",\", \"\") if type(x)==str else x)"
   ]
  },
  {
   "cell_type": "code",
   "execution_count": 13,
   "metadata": {
    "id": "SyB8rXbzPb7n"
   },
   "outputs": [],
   "source": [
    "df[\"km\"] = df[\"km\"].apply(lambda x : x.split()[0].replace(\",\", \"\") if type(x)==str else x)"
   ]
  },
  {
   "cell_type": "code",
   "execution_count": 14,
   "metadata": {
    "colab": {
     "base_uri": "https://localhost:8080/"
    },
    "executionInfo": {
     "elapsed": 83,
     "status": "ok",
     "timestamp": 1635888260874,
     "user": {
      "displayName": "Yusuf C",
      "photoUrl": "https://lh3.googleusercontent.com/a/default-user=s64",
      "userId": "01460091991965572961"
     },
     "user_tz": -180
    },
    "id": "l_UradJmbhsY",
    "outputId": "17bb600a-1a9b-4cb2-ad54-b0d4b690e680"
   },
   "outputs": [
    {
     "name": "stdout",
     "output_type": "stream",
     "text": [
      "<class 'pandas.core.frame.DataFrame'>\n",
      "RangeIndex: 15919 entries, 0 to 15918\n",
      "Data columns (total 2 columns):\n",
      "km            15919 non-null object\n",
      "make_model    15919 non-null object\n",
      "dtypes: object(2)\n",
      "memory usage: 248.8+ KB\n"
     ]
    }
   ],
   "source": [
    "df[[\"km\",\"make_model\"]].info()"
   ]
  },
  {
   "cell_type": "code",
   "execution_count": 15,
   "metadata": {
    "colab": {
     "base_uri": "https://localhost:8080/"
    },
    "executionInfo": {
     "elapsed": 676,
     "status": "ok",
     "timestamp": 1635888261473,
     "user": {
      "displayName": "Yusuf C",
      "photoUrl": "https://lh3.googleusercontent.com/a/default-user=s64",
      "userId": "01460091991965572961"
     },
     "user_tz": -180
    },
    "id": "0CRF__MIaFCG",
    "outputId": "ce920cd3-b7b0-470f-e5bf-c03496cf6a5b"
   },
   "outputs": [
    {
     "data": {
      "text/plain": [
       "(1024, 47)"
      ]
     },
     "execution_count": 15,
     "metadata": {},
     "output_type": "execute_result"
    }
   ],
   "source": [
    "df[df[\"km\"]==\"-\"].shape"
   ]
  },
  {
   "cell_type": "code",
   "execution_count": 16,
   "metadata": {
    "id": "NaAfYLtsTbim"
   },
   "outputs": [],
   "source": [
    "df.loc[df[df[\"km\"]==\"-\"].index, \"km\"] = np.nan"
   ]
  },
  {
   "cell_type": "code",
   "execution_count": 17,
   "metadata": {
    "colab": {
     "base_uri": "https://localhost:8080/"
    },
    "executionInfo": {
     "elapsed": 136,
     "status": "ok",
     "timestamp": 1635888261476,
     "user": {
      "displayName": "Yusuf C",
      "photoUrl": "https://lh3.googleusercontent.com/a/default-user=s64",
      "userId": "01460091991965572961"
     },
     "user_tz": -180
    },
    "id": "9OY4OdYcDrLK",
    "outputId": "934126d2-b1b5-4f95-e5b5-237eb2ae88bb"
   },
   "outputs": [
    {
     "data": {
      "text/plain": [
       "10        1045\n",
       "NaN       1024\n",
       "1          367\n",
       "5          170\n",
       "50         148\n",
       "100        139\n",
       "15         109\n",
       "5000       104\n",
       "20          61\n",
       "3000        58\n",
       "12          56\n",
       "8000        49\n",
       "45000       48\n",
       "10000       47\n",
       "25000       47\n",
       "30000       47\n",
       "18000       46\n",
       "1000        46\n",
       "19000       44\n",
       "35000       44\n",
       "15000       43\n",
       "150         43\n",
       "70000       43\n",
       "6000        41\n",
       "20000       40\n",
       "40000       40\n",
       "9000        38\n",
       "7           38\n",
       "80000       37\n",
       "50000       36\n",
       "          ... \n",
       "125052       1\n",
       "13494        1\n",
       "98723        1\n",
       "17866        1\n",
       "12433        1\n",
       "26212        1\n",
       "41688        1\n",
       "89563        1\n",
       "13790        1\n",
       "23528        1\n",
       "207000       1\n",
       "44638        1\n",
       "34701        1\n",
       "48717        1\n",
       "25614        1\n",
       "96464        1\n",
       "12073        1\n",
       "72783        1\n",
       "24621        1\n",
       "5334         1\n",
       "27448        1\n",
       "74893        1\n",
       "92680        1\n",
       "6999         1\n",
       "31221        1\n",
       "29586        1\n",
       "8081         1\n",
       "17043        1\n",
       "22369        1\n",
       "37064        1\n",
       "Name: km, Length: 6690, dtype: int64"
      ]
     },
     "execution_count": 17,
     "metadata": {},
     "output_type": "execute_result"
    }
   ],
   "source": [
    "df[\"km\"].value_counts(dropna=False)"
   ]
  },
  {
   "cell_type": "code",
   "execution_count": 18,
   "metadata": {
    "colab": {
     "base_uri": "https://localhost:8080/"
    },
    "executionInfo": {
     "elapsed": 121,
     "status": "ok",
     "timestamp": 1635888261478,
     "user": {
      "displayName": "Yusuf C",
      "photoUrl": "https://lh3.googleusercontent.com/a/default-user=s64",
      "userId": "01460091991965572961"
     },
     "user_tz": -180
    },
    "id": "uzNDjFV_Sb5g",
    "outputId": "ac45ff50-714b-454f-da2a-30a12efcbd29"
   },
   "outputs": [
    {
     "data": {
      "text/plain": [
       "19"
      ]
     },
     "execution_count": 18,
     "metadata": {},
     "output_type": "execute_result"
    }
   ],
   "source": [
    "df[df[\"km\"] == \"0\"].shape[0]"
   ]
  },
  {
   "cell_type": "code",
   "execution_count": 19,
   "metadata": {
    "colab": {
     "base_uri": "https://localhost:8080/"
    },
    "executionInfo": {
     "elapsed": 116,
     "status": "ok",
     "timestamp": 1635888261481,
     "user": {
      "displayName": "Yusuf C",
      "photoUrl": "https://lh3.googleusercontent.com/a/default-user=s64",
      "userId": "01460091991965572961"
     },
     "user_tz": -180
    },
    "id": "KtsKTsJVbDvS",
    "outputId": "008f7ccc-ad0a-41a2-a8f4-cbf964f8d08b"
   },
   "outputs": [
    {
     "data": {
      "text/plain": [
       "32084      1\n",
       "497        1\n",
       "89982      1\n",
       "81800      1\n",
       "3500       1\n",
       "325        1\n",
       "40         1\n",
       "20768      1\n",
       "60         1\n",
       "5000       1\n",
       "85000      1\n",
       "142        1\n",
       "4500       1\n",
       "500        1\n",
       "141        1\n",
       "89692      1\n",
       "784        1\n",
       "77         1\n",
       "6100       1\n",
       "34164      1\n",
       "68485      1\n",
       "150        1\n",
       "4307       1\n",
       "19500      1\n",
       "281        1\n",
       "11000      1\n",
       "11200      1\n",
       "99         1\n",
       "196        1\n",
       "6          1\n",
       "2          2\n",
       "3000       2\n",
       "22627      2\n",
       "39962      2\n",
       "250        3\n",
       "4          3\n",
       "25         3\n",
       "30         3\n",
       "9          4\n",
       "3          4\n",
       "7          7\n",
       "12         8\n",
       "100        8\n",
       "50        10\n",
       "8         11\n",
       "11        12\n",
       "0         19\n",
       "15        21\n",
       "20        32\n",
       "5         58\n",
       "1        146\n",
       "10       369\n",
       "NaN      838\n",
       "Name: km, dtype: int64"
      ]
     },
     "execution_count": 19,
     "metadata": {},
     "output_type": "execute_result"
    }
   ],
   "source": [
    "df[df[\"First Registration\"].isnull()][\"km\"].value_counts(dropna=False).sort_values()"
   ]
  },
  {
   "cell_type": "code",
   "execution_count": 20,
   "metadata": {
    "colab": {
     "base_uri": "https://localhost:8080/"
    },
    "executionInfo": {
     "elapsed": 109,
     "status": "ok",
     "timestamp": 1635888261482,
     "user": {
      "displayName": "Yusuf C",
      "photoUrl": "https://lh3.googleusercontent.com/a/default-user=s64",
      "userId": "01460091991965572961"
     },
     "user_tz": -180
    },
    "id": "x1TxyWlvbvlv",
    "outputId": "c0596928-f79e-4dc4-a9ea-99fe0071dac0"
   },
   "outputs": [
    {
     "data": {
      "text/plain": [
       "0         56013.0\n",
       "1         80000.0\n",
       "2         83450.0\n",
       "3         73000.0\n",
       "4         16200.0\n",
       "5         63668.0\n",
       "6         62111.0\n",
       "7         14986.0\n",
       "8         57000.0\n",
       "9         16103.0\n",
       "10        11300.0\n",
       "11        26415.0\n",
       "12        31600.0\n",
       "13        45764.0\n",
       "14        34914.0\n",
       "15        27000.0\n",
       "16         9752.0\n",
       "17        28408.0\n",
       "18        50280.0\n",
       "19        13406.0\n",
       "20        51160.0\n",
       "21        15850.0\n",
       "22        17000.0\n",
       "23         9077.0\n",
       "24         3000.0\n",
       "25       115000.0\n",
       "26        84029.0\n",
       "27        67800.0\n",
       "28        14556.0\n",
       "29        22000.0\n",
       "           ...   \n",
       "15889      4100.0\n",
       "15890         NaN\n",
       "15891        10.0\n",
       "15892         2.0\n",
       "15893        10.0\n",
       "15894      4899.0\n",
       "15895     16500.0\n",
       "15896      5000.0\n",
       "15897        10.0\n",
       "15898        10.0\n",
       "15899      5000.0\n",
       "15900      8500.0\n",
       "15901        10.0\n",
       "15902         NaN\n",
       "15903        10.0\n",
       "15904        50.0\n",
       "15905       500.0\n",
       "15906        10.0\n",
       "15907        50.0\n",
       "15908        10.0\n",
       "15909      3500.0\n",
       "15910      8500.0\n",
       "15911       100.0\n",
       "15912         NaN\n",
       "15913      1000.0\n",
       "15914         NaN\n",
       "15915      9900.0\n",
       "15916        15.0\n",
       "15917        10.0\n",
       "15918         NaN\n",
       "Name: km, Length: 15919, dtype: float64"
      ]
     },
     "execution_count": 20,
     "metadata": {},
     "output_type": "execute_result"
    }
   ],
   "source": [
    "df[\"km\"].apply(lambda x : int(x) if type(x)!=float else x)"
   ]
  },
  {
   "cell_type": "code",
   "execution_count": 21,
   "metadata": {
    "id": "o-UgOD2FcTWZ"
   },
   "outputs": [],
   "source": [
    "df[\"km\"] = df[\"km\"].apply(lambda x : int(x) if type(x)!=float else x)"
   ]
  },
  {
   "cell_type": "markdown",
   "metadata": {
    "id": "HK0IZHbjT8t8"
   },
   "source": [
    "# Body Color (597 NaN)"
   ]
  },
  {
   "cell_type": "code",
   "execution_count": null,
   "metadata": {
    "colab": {
     "base_uri": "https://localhost:8080/"
    },
    "executionInfo": {
     "elapsed": 105,
     "status": "ok",
     "timestamp": 1635888261485,
     "user": {
      "displayName": "Yusuf C",
      "photoUrl": "https://lh3.googleusercontent.com/a/default-user=s64",
      "userId": "01460091991965572961"
     },
     "user_tz": -180
    },
    "id": "QUxlUOJhUICI",
    "outputId": "f71d6d95-3174-4cd2-c46b-ede754bc783c"
   },
   "outputs": [
    {
     "data": {
      "text/plain": [
       "0        [\\n, Black, \\n]\n",
       "1          [\\n, Red, \\n]\n",
       "2        [\\n, Black, \\n]\n",
       "3        [\\n, Brown, \\n]\n",
       "4        [\\n, Black, \\n]\n",
       "              ...       \n",
       "15914     [\\n, Grey, \\n]\n",
       "15915     [\\n, Grey, \\n]\n",
       "15916    [\\n, White, \\n]\n",
       "15917     [\\n, Grey, \\n]\n",
       "15918     [\\n, Grey, \\n]\n",
       "Name: Body Color, Length: 15919, dtype: object"
      ]
     },
     "execution_count": 107,
     "metadata": {},
     "output_type": "execute_result"
    }
   ],
   "source": [
    "df[\"Body Color\"]"
   ]
  },
  {
   "cell_type": "code",
   "execution_count": null,
   "metadata": {
    "colab": {
     "base_uri": "https://localhost:8080/"
    },
    "executionInfo": {
     "elapsed": 99,
     "status": "ok",
     "timestamp": 1635888261486,
     "user": {
      "displayName": "Yusuf C",
      "photoUrl": "https://lh3.googleusercontent.com/a/default-user=s64",
      "userId": "01460091991965572961"
     },
     "user_tz": -180
    },
    "id": "oNiQK-neULiC",
    "outputId": "af784344-9d62-4968-ed6e-7c5a38ffc028"
   },
   "outputs": [
    {
     "data": {
      "text/plain": [
       "70       NaN\n",
       "122      NaN\n",
       "150      NaN\n",
       "195      NaN\n",
       "198      NaN\n",
       "        ... \n",
       "15690    NaN\n",
       "15785    NaN\n",
       "15849    NaN\n",
       "15854    NaN\n",
       "15864    NaN\n",
       "Name: Body Color, Length: 597, dtype: object"
      ]
     },
     "execution_count": 108,
     "metadata": {},
     "output_type": "execute_result"
    }
   ],
   "source": [
    "df[df[\"Body Color\"].isnull()==True][\"Body Color\"]"
   ]
  },
  {
   "cell_type": "code",
   "execution_count": null,
   "metadata": {
    "colab": {
     "base_uri": "https://localhost:8080/",
     "height": 488
    },
    "executionInfo": {
     "elapsed": 94,
     "status": "ok",
     "timestamp": 1635888261487,
     "user": {
      "displayName": "Yusuf C",
      "photoUrl": "https://lh3.googleusercontent.com/a/default-user=s64",
      "userId": "01460091991965572961"
     },
     "user_tz": -180
    },
    "id": "D9NMrFpfvUiy",
    "outputId": "275dc6c9-feb9-4316-cbb7-4b78e04413e7"
   },
   "outputs": [
    {
     "ename": "TypeError",
     "evalue": "ignored",
     "output_type": "error",
     "traceback": [
      "\u001b[0;31m---------------------------------------------------------------------------\u001b[0m",
      "\u001b[0;31mTypeError\u001b[0m                                 Traceback (most recent call last)",
      "\u001b[0;32mpandas/_libs/hashtable_class_helper.pxi\u001b[0m in \u001b[0;36mpandas._libs.hashtable.PyObjectHashTable.map_locations\u001b[0;34m()\u001b[0m\n",
      "\u001b[0;31mTypeError\u001b[0m: unhashable type: 'list'"
     ]
    },
    {
     "name": "stderr",
     "output_type": "stream",
     "text": [
      "Exception ignored in: 'pandas._libs.index.IndexEngine._call_map_locations'\n",
      "Traceback (most recent call last):\n",
      "  File \"pandas/_libs/hashtable_class_helper.pxi\", line 1709, in pandas._libs.hashtable.PyObjectHashTable.map_locations\n",
      "TypeError: unhashable type: 'list'\n"
     ]
    },
    {
     "data": {
      "text/plain": [
       "[\\n, Black, \\n]     3745\n",
       "[\\n, Grey, \\n]      3505\n",
       "[\\n, White, \\n]     3406\n",
       "[\\n, Silver, \\n]    1647\n",
       "[\\n, Blue, \\n]      1431\n",
       "[\\n, Red, \\n]        957\n",
       "NaN                  597\n",
       "[\\n, Brown, \\n]      289\n",
       "[\\n, Green, \\n]      154\n",
       "[\\n, Beige, \\n]      108\n",
       "[\\n, Yellow, \\n]      51\n",
       "[\\n, Violet, \\n]      18\n",
       "[\\n, Bronze, \\n]       6\n",
       "[\\n, Orange, \\n]       3\n",
       "[\\n, Gold, \\n]         2\n",
       "Name: Body Color, dtype: int64"
      ]
     },
     "execution_count": 109,
     "metadata": {},
     "output_type": "execute_result"
    }
   ],
   "source": [
    "df[\"Body Color\"].value_counts(dropna=False)"
   ]
  },
  {
   "cell_type": "code",
   "execution_count": null,
   "metadata": {
    "colab": {
     "base_uri": "https://localhost:8080/"
    },
    "executionInfo": {
     "elapsed": 95,
     "status": "ok",
     "timestamp": 1635888261490,
     "user": {
      "displayName": "Yusuf C",
      "photoUrl": "https://lh3.googleusercontent.com/a/default-user=s64",
      "userId": "01460091991965572961"
     },
     "user_tz": -180
    },
    "id": "hSjQL0tTGJ3M",
    "outputId": "8ed6f7fa-adf7-4ac8-9e57-4e2e1ac69ae2"
   },
   "outputs": [
    {
     "data": {
      "text/plain": [
       "0        Black\n",
       "1          Red\n",
       "2        Black\n",
       "3        Brown\n",
       "4        Black\n",
       "         ...  \n",
       "15914     Grey\n",
       "15915     Grey\n",
       "15916    White\n",
       "15917     Grey\n",
       "15918     Grey\n",
       "Name: Body Color, Length: 15919, dtype: object"
      ]
     },
     "execution_count": 110,
     "metadata": {},
     "output_type": "execute_result"
    }
   ],
   "source": [
    "df[\"Body Color\"].apply(lambda x : x[1] if type(x)==list else x)"
   ]
  },
  {
   "cell_type": "code",
   "execution_count": null,
   "metadata": {
    "id": "fHNXDRZyGfle"
   },
   "outputs": [],
   "source": [
    "df[\"Body Color\"] = df[\"Body Color\"].apply(lambda x : x[1] if type(x)==list else x)"
   ]
  },
  {
   "cell_type": "code",
   "execution_count": null,
   "metadata": {
    "colab": {
     "base_uri": "https://localhost:8080/"
    },
    "executionInfo": {
     "elapsed": 91,
     "status": "ok",
     "timestamp": 1635888261492,
     "user": {
      "displayName": "Yusuf C",
      "photoUrl": "https://lh3.googleusercontent.com/a/default-user=s64",
      "userId": "01460091991965572961"
     },
     "user_tz": -180
    },
    "id": "DQyS_u-sGgT3",
    "outputId": "158259fe-7243-4e09-b15c-66d359648ff2"
   },
   "outputs": [
    {
     "data": {
      "text/plain": [
       "Black     3745\n",
       "Grey      3505\n",
       "White     3406\n",
       "Silver    1647\n",
       "Blue      1431\n",
       "Red        957\n",
       "NaN        597\n",
       "Brown      289\n",
       "Green      154\n",
       "Beige      108\n",
       "Yellow      51\n",
       "Violet      18\n",
       "Bronze       6\n",
       "Orange       3\n",
       "Gold         2\n",
       "Name: Body Color, dtype: int64"
      ]
     },
     "execution_count": 112,
     "metadata": {},
     "output_type": "execute_result"
    }
   ],
   "source": [
    "df[\"Body Color\"].value_counts(dropna=False)"
   ]
  },
  {
   "cell_type": "markdown",
   "metadata": {
    "id": "q7A2I5sWznq6"
   },
   "source": [
    "# Paint Type (5772 Nan)"
   ]
  },
  {
   "cell_type": "code",
   "execution_count": null,
   "metadata": {
    "colab": {
     "base_uri": "https://localhost:8080/",
     "height": 419
    },
    "executionInfo": {
     "elapsed": 86,
     "status": "ok",
     "timestamp": 1635888261494,
     "user": {
      "displayName": "Yusuf C",
      "photoUrl": "https://lh3.googleusercontent.com/a/default-user=s64",
      "userId": "01460091991965572961"
     },
     "user_tz": -180
    },
    "id": "KjX3x4AIzbh-",
    "outputId": "60326151-86a2-49c4-8164-0eff1aa00bd0"
   },
   "outputs": [
    {
     "data": {
      "text/html": [
       "<div>\n",
       "<style scoped>\n",
       "    .dataframe tbody tr th:only-of-type {\n",
       "        vertical-align: middle;\n",
       "    }\n",
       "\n",
       "    .dataframe tbody tr th {\n",
       "        vertical-align: top;\n",
       "    }\n",
       "\n",
       "    .dataframe thead th {\n",
       "        text-align: right;\n",
       "    }\n",
       "</style>\n",
       "<table border=\"1\" class=\"dataframe\">\n",
       "  <thead>\n",
       "    <tr style=\"text-align: right;\">\n",
       "      <th></th>\n",
       "      <th>Body Color</th>\n",
       "      <th>Paint Type</th>\n",
       "    </tr>\n",
       "  </thead>\n",
       "  <tbody>\n",
       "    <tr>\n",
       "      <th>0</th>\n",
       "      <td>Black</td>\n",
       "      <td>[\\nMetallic\\n]</td>\n",
       "    </tr>\n",
       "    <tr>\n",
       "      <th>1</th>\n",
       "      <td>Red</td>\n",
       "      <td>NaN</td>\n",
       "    </tr>\n",
       "    <tr>\n",
       "      <th>2</th>\n",
       "      <td>Black</td>\n",
       "      <td>[\\nMetallic\\n]</td>\n",
       "    </tr>\n",
       "    <tr>\n",
       "      <th>3</th>\n",
       "      <td>Brown</td>\n",
       "      <td>[\\nMetallic\\n]</td>\n",
       "    </tr>\n",
       "    <tr>\n",
       "      <th>4</th>\n",
       "      <td>Black</td>\n",
       "      <td>[\\nMetallic\\n]</td>\n",
       "    </tr>\n",
       "    <tr>\n",
       "      <th>...</th>\n",
       "      <td>...</td>\n",
       "      <td>...</td>\n",
       "    </tr>\n",
       "    <tr>\n",
       "      <th>15914</th>\n",
       "      <td>Grey</td>\n",
       "      <td>[\\nMetallic\\n]</td>\n",
       "    </tr>\n",
       "    <tr>\n",
       "      <th>15915</th>\n",
       "      <td>Grey</td>\n",
       "      <td>[\\nMetallic\\n]</td>\n",
       "    </tr>\n",
       "    <tr>\n",
       "      <th>15916</th>\n",
       "      <td>White</td>\n",
       "      <td>NaN</td>\n",
       "    </tr>\n",
       "    <tr>\n",
       "      <th>15917</th>\n",
       "      <td>Grey</td>\n",
       "      <td>NaN</td>\n",
       "    </tr>\n",
       "    <tr>\n",
       "      <th>15918</th>\n",
       "      <td>Grey</td>\n",
       "      <td>[\\nMetallic\\n]</td>\n",
       "    </tr>\n",
       "  </tbody>\n",
       "</table>\n",
       "<p>15919 rows × 2 columns</p>\n",
       "</div>"
      ],
      "text/plain": [
       "      Body Color      Paint Type\n",
       "0          Black  [\\nMetallic\\n]\n",
       "1            Red             NaN\n",
       "2          Black  [\\nMetallic\\n]\n",
       "3          Brown  [\\nMetallic\\n]\n",
       "4          Black  [\\nMetallic\\n]\n",
       "...          ...             ...\n",
       "15914       Grey  [\\nMetallic\\n]\n",
       "15915       Grey  [\\nMetallic\\n]\n",
       "15916      White             NaN\n",
       "15917       Grey             NaN\n",
       "15918       Grey  [\\nMetallic\\n]\n",
       "\n",
       "[15919 rows x 2 columns]"
      ]
     },
     "execution_count": 113,
     "metadata": {},
     "output_type": "execute_result"
    }
   ],
   "source": [
    "df[[\"Body Color\", \"Paint Type\"]]"
   ]
  },
  {
   "cell_type": "code",
   "execution_count": null,
   "metadata": {
    "colab": {
     "base_uri": "https://localhost:8080/",
     "height": 301
    },
    "executionInfo": {
     "elapsed": 85,
     "status": "ok",
     "timestamp": 1635888261495,
     "user": {
      "displayName": "Yusuf C",
      "photoUrl": "https://lh3.googleusercontent.com/a/default-user=s64",
      "userId": "01460091991965572961"
     },
     "user_tz": -180
    },
    "id": "mtNB2o4HzblN",
    "outputId": "9dcaf6fe-6267-40a9-a65a-7406e3fc4c3b"
   },
   "outputs": [
    {
     "ename": "TypeError",
     "evalue": "ignored",
     "output_type": "error",
     "traceback": [
      "\u001b[0;31m---------------------------------------------------------------------------\u001b[0m",
      "\u001b[0;31mTypeError\u001b[0m                                 Traceback (most recent call last)",
      "\u001b[0;32mpandas/_libs/hashtable_class_helper.pxi\u001b[0m in \u001b[0;36mpandas._libs.hashtable.PyObjectHashTable.map_locations\u001b[0;34m()\u001b[0m\n",
      "\u001b[0;31mTypeError\u001b[0m: unhashable type: 'list'"
     ]
    },
    {
     "name": "stderr",
     "output_type": "stream",
     "text": [
      "Exception ignored in: 'pandas._libs.index.IndexEngine._call_map_locations'\n",
      "Traceback (most recent call last):\n",
      "  File \"pandas/_libs/hashtable_class_helper.pxi\", line 1709, in pandas._libs.hashtable.PyObjectHashTable.map_locations\n",
      "TypeError: unhashable type: 'list'\n"
     ]
    },
    {
     "data": {
      "text/plain": [
       "[\\nMetallic\\n]       9794\n",
       "NaN                  5772\n",
       "[\\nUni/basic\\n]       347\n",
       "[\\nPerl effect\\n]       6\n",
       "Name: Paint Type, dtype: int64"
      ]
     },
     "execution_count": 114,
     "metadata": {},
     "output_type": "execute_result"
    }
   ],
   "source": [
    "df[\"Paint Type\"].value_counts(dropna=False)"
   ]
  },
  {
   "cell_type": "code",
   "execution_count": null,
   "metadata": {
    "id": "iI_ZB9DOIxT4"
   },
   "outputs": [],
   "source": [
    "df[\"Paint Type\"] = df[\"Paint Type\"].apply(lambda x: x[0].split()[0] if type(x)==list else x)"
   ]
  },
  {
   "cell_type": "code",
   "execution_count": null,
   "metadata": {
    "id": "jK_7mD61J9Vs"
   },
   "outputs": [],
   "source": [
    "df[\"Paint Type\"] = df[\"Paint Type\"].apply(lambda x : \"Perl_effect\" if ((type(x)==str) & (x==\"Perl\")) else x)"
   ]
  },
  {
   "cell_type": "code",
   "execution_count": null,
   "metadata": {
    "colab": {
     "base_uri": "https://localhost:8080/"
    },
    "executionInfo": {
     "elapsed": 90,
     "status": "ok",
     "timestamp": 1635888261502,
     "user": {
      "displayName": "Yusuf C",
      "photoUrl": "https://lh3.googleusercontent.com/a/default-user=s64",
      "userId": "01460091991965572961"
     },
     "user_tz": -180
    },
    "id": "7p6jw76Zzbsf",
    "outputId": "50eba921-2c6c-4ad4-a9c3-41a66ae107e1"
   },
   "outputs": [
    {
     "data": {
      "text/plain": [
       "Metallic       9794\n",
       "NaN            5772\n",
       "Uni/basic       347\n",
       "Perl_effect       6\n",
       "Name: Paint Type, dtype: int64"
      ]
     },
     "execution_count": 117,
     "metadata": {},
     "output_type": "execute_result"
    }
   ],
   "source": [
    "df[\"Paint Type\"].value_counts(dropna=False)"
   ]
  },
  {
   "cell_type": "markdown",
   "metadata": {
    "id": "vSy1wHjnDaVV"
   },
   "source": [
    "# Displacement (496 NaN)"
   ]
  },
  {
   "cell_type": "code",
   "execution_count": null,
   "metadata": {
    "colab": {
     "base_uri": "https://localhost:8080/",
     "height": 420
    },
    "executionInfo": {
     "elapsed": 88,
     "status": "ok",
     "timestamp": 1635888261507,
     "user": {
      "displayName": "Yusuf C",
      "photoUrl": "https://lh3.googleusercontent.com/a/default-user=s64",
      "userId": "01460091991965572961"
     },
     "user_tz": -180
    },
    "id": "tH4OTl2GC_tk",
    "outputId": "a12989a2-7a04-4582-83fa-1a7b49fd9e1e"
   },
   "outputs": [
    {
     "ename": "TypeError",
     "evalue": "ignored",
     "output_type": "error",
     "traceback": [
      "\u001b[0;31m---------------------------------------------------------------------------\u001b[0m",
      "\u001b[0;31mTypeError\u001b[0m                                 Traceback (most recent call last)",
      "\u001b[0;32mpandas/_libs/hashtable_class_helper.pxi\u001b[0m in \u001b[0;36mpandas._libs.hashtable.PyObjectHashTable.map_locations\u001b[0;34m()\u001b[0m\n",
      "\u001b[0;31mTypeError\u001b[0m: unhashable type: 'list'"
     ]
    },
    {
     "name": "stderr",
     "output_type": "stream",
     "text": [
      "Exception ignored in: 'pandas._libs.index.IndexEngine._call_map_locations'\n",
      "Traceback (most recent call last):\n",
      "  File \"pandas/_libs/hashtable_class_helper.pxi\", line 1709, in pandas._libs.hashtable.PyObjectHashTable.map_locations\n",
      "TypeError: unhashable type: 'list'\n"
     ]
    },
    {
     "data": {
      "text/plain": [
       "[\\n1,598 cc\\n]     4761\n",
       "[\\n999 cc\\n]       2438\n",
       "[\\n1,398 cc\\n]     1314\n",
       "[\\n1,399 cc\\n]      749\n",
       "[\\n1,229 cc\\n]      677\n",
       "                   ... \n",
       "[\\n1,800 cc\\n]        1\n",
       "[\\n140 cc\\n]          1\n",
       "[\\n15,898 cc\\n]       1\n",
       "[\\n1,686 cc\\n]        1\n",
       "[\\n1,368 cc\\n]        1\n",
       "Name: Displacement, Length: 78, dtype: int64"
      ]
     },
     "execution_count": 118,
     "metadata": {},
     "output_type": "execute_result"
    }
   ],
   "source": [
    "df[\"Displacement\"].value_counts(dropna=False)"
   ]
  },
  {
   "cell_type": "code",
   "execution_count": null,
   "metadata": {
    "colab": {
     "base_uri": "https://localhost:8080/"
    },
    "executionInfo": {
     "elapsed": 89,
     "status": "ok",
     "timestamp": 1635888261509,
     "user": {
      "displayName": "Yusuf C",
      "photoUrl": "https://lh3.googleusercontent.com/a/default-user=s64",
      "userId": "01460091991965572961"
     },
     "user_tz": -180
    },
    "id": "FAqQsLPFeQ1y",
    "outputId": "b47b2efb-0d86-49f9-9ea6-0b53b52790fb"
   },
   "outputs": [
    {
     "data": {
      "text/plain": [
       "496"
      ]
     },
     "execution_count": 119,
     "metadata": {},
     "output_type": "execute_result"
    }
   ],
   "source": [
    "df[\"Displacement\"].isnull().sum()"
   ]
  },
  {
   "cell_type": "code",
   "execution_count": null,
   "metadata": {
    "colab": {
     "base_uri": "https://localhost:8080/"
    },
    "executionInfo": {
     "elapsed": 83,
     "status": "ok",
     "timestamp": 1635888261510,
     "user": {
      "displayName": "Yusuf C",
      "photoUrl": "https://lh3.googleusercontent.com/a/default-user=s64",
      "userId": "01460091991965572961"
     },
     "user_tz": -180
    },
    "id": "IiHGXK8berh2",
    "outputId": "d94e6926-9ea2-4dca-8fbd-91bf1fe7d5e5"
   },
   "outputs": [
    {
     "data": {
      "text/plain": [
       "nan"
      ]
     },
     "execution_count": 120,
     "metadata": {},
     "output_type": "execute_result"
    }
   ],
   "source": [
    "df.loc[142,\"Displacement\"]"
   ]
  },
  {
   "cell_type": "code",
   "execution_count": null,
   "metadata": {
    "colab": {
     "base_uri": "https://localhost:8080/"
    },
    "executionInfo": {
     "elapsed": 79,
     "status": "ok",
     "timestamp": 1635888261512,
     "user": {
      "displayName": "Yusuf C",
      "photoUrl": "https://lh3.googleusercontent.com/a/default-user=s64",
      "userId": "01460091991965572961"
     },
     "user_tz": -180
    },
    "id": "9GHi4GPnC_2k",
    "outputId": "c9f043b1-5146-4c92-f663-3c3c8399ffc7"
   },
   "outputs": [
    {
     "data": {
      "text/plain": [
       "0        1422\n",
       "1        1798\n",
       "2        1598\n",
       "3        1422\n",
       "4        1422\n",
       "         ... \n",
       "15914    1997\n",
       "15915    1798\n",
       "15916    1997\n",
       "15917    1997\n",
       "15918    1798\n",
       "Name: Displacement, Length: 15919, dtype: object"
      ]
     },
     "execution_count": 121,
     "metadata": {},
     "output_type": "execute_result"
    }
   ],
   "source": [
    "df[\"Displacement\"].apply(lambda x : x[0].split()[0].replace(\",\", \"\") if type(x)==list else x)"
   ]
  },
  {
   "cell_type": "code",
   "execution_count": null,
   "metadata": {
    "id": "2QHrIQPFh-KV"
   },
   "outputs": [],
   "source": [
    "df[\"Displacement\"] = df[\"Displacement\"].apply(lambda x : x[0].split()[0].replace(\",\", \"\") if type(x)==list else x)"
   ]
  },
  {
   "cell_type": "code",
   "execution_count": null,
   "metadata": {
    "colab": {
     "base_uri": "https://localhost:8080/"
    },
    "executionInfo": {
     "elapsed": 78,
     "status": "ok",
     "timestamp": 1635888261518,
     "user": {
      "displayName": "Yusuf C",
      "photoUrl": "https://lh3.googleusercontent.com/a/default-user=s64",
      "userId": "01460091991965572961"
     },
     "user_tz": -180
    },
    "id": "wDHJ_e6cC_43",
    "outputId": "604602fa-d3de-4c95-a5bc-35740ed7306e"
   },
   "outputs": [
    {
     "data": {
      "text/plain": [
       "1598     4761\n",
       "999      2438\n",
       "1398     1314\n",
       "1399      749\n",
       "1229      677\n",
       "         ... \n",
       "1496        1\n",
       "1856        1\n",
       "1333        1\n",
       "16000       1\n",
       "1580        1\n",
       "Name: Displacement, Length: 78, dtype: int64"
      ]
     },
     "execution_count": 123,
     "metadata": {},
     "output_type": "execute_result"
    }
   ],
   "source": [
    "df[\"Displacement\"].value_counts(dropna=False)"
   ]
  },
  {
   "cell_type": "code",
   "execution_count": null,
   "metadata": {
    "colab": {
     "base_uri": "https://localhost:8080/"
    },
    "executionInfo": {
     "elapsed": 73,
     "status": "ok",
     "timestamp": 1635888261520,
     "user": {
      "displayName": "Yusuf C",
      "photoUrl": "https://lh3.googleusercontent.com/a/default-user=s64",
      "userId": "01460091991965572961"
     },
     "user_tz": -180
    },
    "id": "8KpqNKCIC_7i",
    "outputId": "a2d07388-1aba-4c81-f03d-c41a78602c96"
   },
   "outputs": [
    {
     "data": {
      "text/plain": [
       "496"
      ]
     },
     "execution_count": 124,
     "metadata": {},
     "output_type": "execute_result"
    }
   ],
   "source": [
    "df[\"Displacement\"].isnull().sum()"
   ]
  },
  {
   "cell_type": "markdown",
   "metadata": {
    "id": "ya_z5ZLEjoB0"
   },
   "source": [
    "# Country version (8333 Nan)"
   ]
  },
  {
   "cell_type": "code",
   "execution_count": null,
   "metadata": {
    "colab": {
     "base_uri": "https://localhost:8080/"
    },
    "executionInfo": {
     "elapsed": 759,
     "status": "ok",
     "timestamp": 1635888262212,
     "user": {
      "displayName": "Yusuf C",
      "photoUrl": "https://lh3.googleusercontent.com/a/default-user=s64",
      "userId": "01460091991965572961"
     },
     "user_tz": -180
    },
    "id": "BjJdRPPcDACx",
    "outputId": "0ea7c02e-4e11-475d-963f-04edcb18c892"
   },
   "outputs": [
    {
     "ename": "TypeError",
     "evalue": "ignored",
     "output_type": "error",
     "traceback": [
      "\u001b[0;31m---------------------------------------------------------------------------\u001b[0m",
      "\u001b[0;31mTypeError\u001b[0m                                 Traceback (most recent call last)",
      "\u001b[0;32mpandas/_libs/hashtable_class_helper.pxi\u001b[0m in \u001b[0;36mpandas._libs.hashtable.PyObjectHashTable.map_locations\u001b[0;34m()\u001b[0m\n",
      "\u001b[0;31mTypeError\u001b[0m: unhashable type: 'list'"
     ]
    },
    {
     "name": "stderr",
     "output_type": "stream",
     "text": [
      "Exception ignored in: 'pandas._libs.index.IndexEngine._call_map_locations'\n",
      "Traceback (most recent call last):\n",
      "  File \"pandas/_libs/hashtable_class_helper.pxi\", line 1709, in pandas._libs.hashtable.PyObjectHashTable.map_locations\n",
      "TypeError: unhashable type: 'list'\n"
     ]
    },
    {
     "data": {
      "text/plain": [
       "NaN                     8333\n",
       "[\\nGermany\\n]           4502\n",
       "[\\nItaly\\n]             1038\n",
       "[\\nEuropean Union\\n]     507\n",
       "[\\nNetherlands\\n]        464\n",
       "[\\nSpain\\n]              325\n",
       "[\\nBelgium\\n]            314\n",
       "[\\nAustria\\n]            208\n",
       "[\\nCzech Republic\\n]      52\n",
       "[\\nPoland\\n]              49\n",
       "[\\nFrance\\n]              38\n",
       "[\\nDenmark\\n]             33\n",
       "[\\nHungary\\n]             28\n",
       "[\\nJapan\\n]                8\n",
       "[\\nSlovakia\\n]             4\n",
       "[\\nCroatia\\n]              4\n",
       "[\\nSweden\\n]               3\n",
       "[\\nRomania\\n]              2\n",
       "[\\nBulgaria\\n]             2\n",
       "[\\nSerbia\\n]               1\n",
       "[\\nLuxembourg\\n]           1\n",
       "[\\nSwitzerland\\n]          1\n",
       "[\\nSlovenia\\n]             1\n",
       "[\\nEgypt\\n]                1\n",
       "Name: Country version, dtype: int64"
      ]
     },
     "execution_count": 125,
     "metadata": {},
     "output_type": "execute_result"
    }
   ],
   "source": [
    "df[\"Country version\"].value_counts(dropna=False)"
   ]
  },
  {
   "cell_type": "code",
   "execution_count": null,
   "metadata": {
    "id": "Yt3vxhDFOAP-"
   },
   "outputs": [],
   "source": [
    "df[\"Country version\"] = df[\"Country version\"].apply(lambda x: x[0].split()[0] if type(x)==list else x)"
   ]
  },
  {
   "cell_type": "code",
   "execution_count": null,
   "metadata": {
    "colab": {
     "base_uri": "https://localhost:8080/"
    },
    "executionInfo": {
     "elapsed": 51,
     "status": "ok",
     "timestamp": 1635888262215,
     "user": {
      "displayName": "Yusuf C",
      "photoUrl": "https://lh3.googleusercontent.com/a/default-user=s64",
      "userId": "01460091991965572961"
     },
     "user_tz": -180
    },
    "id": "2rcCFWKSOATP",
    "outputId": "4e093c23-ed58-414b-ed62-a105bcbb6ad2"
   },
   "outputs": [
    {
     "data": {
      "text/plain": [
       "NaN            8333\n",
       "Germany        4502\n",
       "Italy          1038\n",
       "European        507\n",
       "Netherlands     464\n",
       "Spain           325\n",
       "Belgium         314\n",
       "Austria         208\n",
       "Czech            52\n",
       "Poland           49\n",
       "France           38\n",
       "Denmark          33\n",
       "Hungary          28\n",
       "Japan             8\n",
       "Croatia           4\n",
       "Slovakia          4\n",
       "Sweden            3\n",
       "Bulgaria          2\n",
       "Romania           2\n",
       "Slovenia          1\n",
       "Luxembourg        1\n",
       "Serbia            1\n",
       "Egypt             1\n",
       "Switzerland       1\n",
       "Name: Country version, dtype: int64"
      ]
     },
     "execution_count": 127,
     "metadata": {},
     "output_type": "execute_result"
    }
   ],
   "source": [
    "df[\"Country version\"].value_counts(dropna=False)"
   ]
  },
  {
   "cell_type": "code",
   "execution_count": null,
   "metadata": {
    "id": "kceMgHd3OiqQ"
   },
   "outputs": [],
   "source": [
    "df[\"Country version\"] = df[\"Country version\"].apply(lambda x : \"European_Union\" if ((type(x)==str) & (x==\"European\")) else x)\n",
    "df[\"Country version\"] = df[\"Country version\"].apply(lambda x : \"Czech_Republic\" if ((type(x)==str) & (x==\"Czech\")) else x)"
   ]
  },
  {
   "cell_type": "code",
   "execution_count": null,
   "metadata": {
    "colab": {
     "base_uri": "https://localhost:8080/"
    },
    "executionInfo": {
     "elapsed": 52,
     "status": "ok",
     "timestamp": 1635888262218,
     "user": {
      "displayName": "Yusuf C",
      "photoUrl": "https://lh3.googleusercontent.com/a/default-user=s64",
      "userId": "01460091991965572961"
     },
     "user_tz": -180
    },
    "id": "fvw_lPWNlgVo",
    "outputId": "d4aab40a-58cd-4548-ff72-f8e278308c42"
   },
   "outputs": [
    {
     "data": {
      "text/plain": [
       "NaN               8333\n",
       "Germany           4502\n",
       "Italy             1038\n",
       "European_Union     507\n",
       "Netherlands        464\n",
       "Spain              325\n",
       "Belgium            314\n",
       "Austria            208\n",
       "Czech_Republic      52\n",
       "Poland              49\n",
       "France              38\n",
       "Denmark             33\n",
       "Hungary             28\n",
       "Japan                8\n",
       "Croatia              4\n",
       "Slovakia             4\n",
       "Sweden               3\n",
       "Bulgaria             2\n",
       "Romania              2\n",
       "Serbia               1\n",
       "Switzerland          1\n",
       "Slovenia             1\n",
       "Luxembourg           1\n",
       "Egypt                1\n",
       "Name: Country version, dtype: int64"
      ]
     },
     "execution_count": 129,
     "metadata": {},
     "output_type": "execute_result"
    }
   ],
   "source": [
    "df[\"Country version\"].value_counts(dropna=False)"
   ]
  },
  {
   "cell_type": "markdown",
   "metadata": {
    "id": "0GCazdfUmD8m"
   },
   "source": [
    "# hp (88 Nan)"
   ]
  },
  {
   "cell_type": "code",
   "execution_count": null,
   "metadata": {
    "colab": {
     "base_uri": "https://localhost:8080/"
    },
    "executionInfo": {
     "elapsed": 52,
     "status": "ok",
     "timestamp": 1635888262219,
     "user": {
      "displayName": "Yusuf C",
      "photoUrl": "https://lh3.googleusercontent.com/a/default-user=s64",
      "userId": "01460091991965572961"
     },
     "user_tz": -180
    },
    "id": "lNTkoLiDqGT3",
    "outputId": "d97e2e83-afe5-4c3b-8f18-54b646c1a6f7"
   },
   "outputs": [
    {
     "data": {
      "text/plain": [
       "239 kW       1\n",
       "132 kW       1\n",
       "44 kW        1\n",
       "163 kW       1\n",
       "133 kW       1\n",
       "          ... \n",
       "110 kW    1112\n",
       "100 kW    1308\n",
       "81 kW     1402\n",
       "66 kW     2122\n",
       "85 kW     2542\n",
       "Name: hp, Length: 81, dtype: int64"
      ]
     },
     "execution_count": 130,
     "metadata": {},
     "output_type": "execute_result"
    }
   ],
   "source": [
    "df[\"hp\"].value_counts(dropna=False).sort_values()"
   ]
  },
  {
   "cell_type": "code",
   "execution_count": null,
   "metadata": {
    "colab": {
     "base_uri": "https://localhost:8080/"
    },
    "executionInfo": {
     "elapsed": 53,
     "status": "ok",
     "timestamp": 1635888262220,
     "user": {
      "displayName": "Yusuf C",
      "photoUrl": "https://lh3.googleusercontent.com/a/default-user=s64",
      "userId": "01460091991965572961"
     },
     "user_tz": -180
    },
    "id": "u2BPtJohqqFv",
    "outputId": "34c062d0-37c3-4f09-d2d1-c763dedd117d"
   },
   "outputs": [
    {
     "data": {
      "text/plain": [
       "array(['66 kW', '141 kW', '85 kW', '70 kW', '92 kW', '112 kW', '60 kW',\n",
       "       '71 kW', '67 kW', '110 kW', '93 kW', '147 kW', '86 kW', '140 kW',\n",
       "       '87 kW', '- kW', '81 kW', '82 kW', '135 kW', '132 kW', '100 kW',\n",
       "       '96 kW', '162 kW', '150 kW', '294 kW', '228 kW', '270 kW',\n",
       "       '137 kW', '9 kW', '133 kW', '77 kW', '101 kW', '78 kW', '103 kW',\n",
       "       '1 kW', '74 kW', '118 kW', '84 kW', '88 kW', '80 kW', '76 kW',\n",
       "       '149 kW', '44 kW', '51 kW', '55 kW', '52 kW', '63 kW', '40 kW',\n",
       "       '65 kW', '75 kW', '125 kW', '120 kW', '184 kW', '239 kW', '121 kW',\n",
       "       '143 kW', '191 kW', '89 kW', '195 kW', '127 kW', '122 kW',\n",
       "       '154 kW', '155 kW', '104 kW', '123 kW', '146 kW', '90 kW', '53 kW',\n",
       "       '54 kW', '56 kW', '164 kW', '4 kW', '163 kW', '57 kW', '119 kW',\n",
       "       '165 kW', '117 kW', '115 kW', '98 kW', '168 kW', '167 kW'],\n",
       "      dtype=object)"
      ]
     },
     "execution_count": 131,
     "metadata": {},
     "output_type": "execute_result"
    }
   ],
   "source": [
    "df[\"hp\"].unique()"
   ]
  },
  {
   "cell_type": "code",
   "execution_count": null,
   "metadata": {
    "id": "NhN7ieulqqOs"
   },
   "outputs": [],
   "source": [
    "df.loc[df[df[\"hp\"]==\"- kW\"][\"hp\"].index, \"hp\"] = np.nan"
   ]
  },
  {
   "cell_type": "code",
   "execution_count": null,
   "metadata": {
    "colab": {
     "base_uri": "https://localhost:8080/"
    },
    "executionInfo": {
     "elapsed": 53,
     "status": "ok",
     "timestamp": 1635888262222,
     "user": {
      "displayName": "Yusuf C",
      "photoUrl": "https://lh3.googleusercontent.com/a/default-user=s64",
      "userId": "01460091991965572961"
     },
     "user_tz": -180
    },
    "id": "ads5zYp3sL35",
    "outputId": "14a6e124-d284-43c6-cad7-9e0bd3fbc519"
   },
   "outputs": [
    {
     "data": {
      "text/plain": [
       "88"
      ]
     },
     "execution_count": 133,
     "metadata": {},
     "output_type": "execute_result"
    }
   ],
   "source": [
    "df[\"hp\"].isnull().sum()"
   ]
  },
  {
   "cell_type": "code",
   "execution_count": null,
   "metadata": {
    "id": "0zQPIvBEv3A2"
   },
   "outputs": [],
   "source": [
    "df[\"hp\"] = df[\"hp\"].apply(lambda x : x.split()[0] if type(x)==str else x)"
   ]
  },
  {
   "cell_type": "markdown",
   "metadata": {
    "id": "ZXC99ZhFsc6q"
   },
   "source": [
    "# Fuel  (should continue to work on it)"
   ]
  },
  {
   "cell_type": "code",
   "execution_count": null,
   "metadata": {
    "colab": {
     "base_uri": "https://localhost:8080/"
    },
    "executionInfo": {
     "elapsed": 53,
     "status": "ok",
     "timestamp": 1635888262224,
     "user": {
      "displayName": "Yusuf C",
      "photoUrl": "https://lh3.googleusercontent.com/a/default-user=s64",
      "userId": "01460091991965572961"
     },
     "user_tz": -180
    },
    "id": "6rhnp4CqrzZI",
    "outputId": "cd048f94-4266-4f45-93c7-5c5366df809b"
   },
   "outputs": [
    {
     "data": {
      "text/plain": [
       "0                    [\\n, Diesel (Particulate Filter), \\n]\n",
       "1                                       [\\n, Gasoline, \\n]\n",
       "2                    [\\n, Diesel (Particulate Filter), \\n]\n",
       "3                    [\\n, Diesel (Particulate Filter), \\n]\n",
       "4                    [\\n, Diesel (Particulate Filter), \\n]\n",
       "                               ...                        \n",
       "15914                [\\n, Diesel (Particulate Filter), \\n]\n",
       "15915    [\\n, Super 95 / Super Plus 98 (Particulate Fil...\n",
       "15916                                     [\\n, Diesel, \\n]\n",
       "15917                                     [\\n, Diesel, \\n]\n",
       "15918                                   [\\n, Super 95, \\n]\n",
       "Name: Fuel, Length: 15919, dtype: object"
      ]
     },
     "execution_count": 135,
     "metadata": {},
     "output_type": "execute_result"
    }
   ],
   "source": [
    "df[\"Fuel\"]"
   ]
  },
  {
   "cell_type": "code",
   "execution_count": null,
   "metadata": {
    "colab": {
     "base_uri": "https://localhost:8080/"
    },
    "executionInfo": {
     "elapsed": 48,
     "status": "ok",
     "timestamp": 1635888262226,
     "user": {
      "displayName": "Yusuf C",
      "photoUrl": "https://lh3.googleusercontent.com/a/default-user=s64",
      "userId": "01460091991965572961"
     },
     "user_tz": -180
    },
    "id": "b0G4HAnrrzbr",
    "outputId": "f5335139-59ef-49c9-d97f-e0b948657a89"
   },
   "outputs": [
    {
     "data": {
      "text/plain": [
       "0"
      ]
     },
     "execution_count": 136,
     "metadata": {},
     "output_type": "execute_result"
    }
   ],
   "source": [
    "df[\"Fuel\"].isnull().sum()"
   ]
  },
  {
   "cell_type": "code",
   "execution_count": null,
   "metadata": {
    "colab": {
     "base_uri": "https://localhost:8080/"
    },
    "executionInfo": {
     "elapsed": 42,
     "status": "ok",
     "timestamp": 1635888262227,
     "user": {
      "displayName": "Yusuf C",
      "photoUrl": "https://lh3.googleusercontent.com/a/default-user=s64",
      "userId": "01460091991965572961"
     },
     "user_tz": -180
    },
    "id": "WiqVrcZUrziP",
    "outputId": "99104b51-8f5f-443a-fb24-f4e95190536c"
   },
   "outputs": [
    {
     "data": {
      "text/plain": [
       "['\\n', 'Super 95 / Super Plus 98 (Particulate Filter)', '\\n']"
      ]
     },
     "execution_count": 137,
     "metadata": {},
     "output_type": "execute_result"
    }
   ],
   "source": [
    "df[\"Fuel\"][15915]"
   ]
  },
  {
   "cell_type": "code",
   "execution_count": null,
   "metadata": {
    "colab": {
     "base_uri": "https://localhost:8080/",
     "height": 420
    },
    "executionInfo": {
     "elapsed": 37,
     "status": "ok",
     "timestamp": 1635888262228,
     "user": {
      "displayName": "Yusuf C",
      "photoUrl": "https://lh3.googleusercontent.com/a/default-user=s64",
      "userId": "01460091991965572961"
     },
     "user_tz": -180
    },
    "id": "t2eQuPoIrzlP",
    "outputId": "16bcb758-258b-4615-8915-75415179d7f6"
   },
   "outputs": [
    {
     "ename": "TypeError",
     "evalue": "ignored",
     "output_type": "error",
     "traceback": [
      "\u001b[0;31m---------------------------------------------------------------------------\u001b[0m",
      "\u001b[0;31mTypeError\u001b[0m                                 Traceback (most recent call last)",
      "\u001b[0;32mpandas/_libs/hashtable_class_helper.pxi\u001b[0m in \u001b[0;36mpandas._libs.hashtable.PyObjectHashTable.map_locations\u001b[0;34m()\u001b[0m\n",
      "\u001b[0;31mTypeError\u001b[0m: unhashable type: 'list'"
     ]
    },
    {
     "name": "stderr",
     "output_type": "stream",
     "text": [
      "Exception ignored in: 'pandas._libs.index.IndexEngine._call_map_locations'\n",
      "Traceback (most recent call last):\n",
      "  File \"pandas/_libs/hashtable_class_helper.pxi\", line 1709, in pandas._libs.hashtable.PyObjectHashTable.map_locations\n",
      "TypeError: unhashable type: 'list'\n"
     ]
    },
    {
     "data": {
      "text/plain": [
       "[\\n, Diesel (Particulate Filter), \\n]                                                                                  4315\n",
       "[\\n, Super 95, \\n]                                                                                                     3338\n",
       "[\\n, Gasoline, \\n]                                                                                                     3175\n",
       "[\\n, Diesel, \\n]                                                                                                       2984\n",
       "[\\n, Super 95 / Regular/Benzine 91, \\n]                                                                                 424\n",
       "                                                                                                                       ... \n",
       "[\\n, Super Plus 98 / Super E10 95, \\n]                                                                                    1\n",
       "[\\n, Regular/Benzine 91 / Super 95 / Regular/Benzine E10 91 / Super E10 95 / Super Plus 98 / Super Plus E10 98, \\n]       1\n",
       "[\\n, Super 95 / Regular/Benzine 91 / Super Plus 98 / Regular/Benzine E10 91 / Super Plus E10 98 / Super E10 95, \\n]       1\n",
       "[\\n, Super 95 / Regular/Benzine 91 / Super E10 95 / Super Plus E10 98 / Super Plus 98, \\n]                                1\n",
       "[\\n, Domestic gas H, \\n]                                                                                                  1\n",
       "Name: Fuel, Length: 77, dtype: int64"
      ]
     },
     "execution_count": 138,
     "metadata": {},
     "output_type": "execute_result"
    }
   ],
   "source": [
    "df[\"Fuel\"].value_counts(dropna=False)"
   ]
  },
  {
   "cell_type": "code",
   "execution_count": null,
   "metadata": {
    "colab": {
     "base_uri": "https://localhost:8080/"
    },
    "executionInfo": {
     "elapsed": 6746,
     "status": "ok",
     "timestamp": 1635888268939,
     "user": {
      "displayName": "Yusuf C",
      "photoUrl": "https://lh3.googleusercontent.com/a/default-user=s64",
      "userId": "01460091991965572961"
     },
     "user_tz": -180
    },
    "id": "P4DnCGIirzqy",
    "outputId": "6ff68371-3524-4f40-f50e-470100fa9dde"
   },
   "outputs": [
    {
     "name": "stderr",
     "output_type": "stream",
     "text": [
      "/usr/local/lib/python3.7/dist-packages/ipykernel_launcher.py:2: SettingWithCopyWarning: \n",
      "A value is trying to be set on a copy of a slice from a DataFrame\n",
      "\n",
      "See the caveats in the documentation: https://pandas.pydata.org/pandas-docs/stable/user_guide/indexing.html#returning-a-view-versus-a-copy\n",
      "  \n"
     ]
    }
   ],
   "source": [
    "for i in range(df.shape[0]):\n",
    "  df[\"Fuel\"][i] = df[\"Fuel\"][i][1]"
   ]
  },
  {
   "cell_type": "code",
   "execution_count": null,
   "metadata": {
    "colab": {
     "base_uri": "https://localhost:8080/"
    },
    "executionInfo": {
     "elapsed": 79,
     "status": "ok",
     "timestamp": 1635888268941,
     "user": {
      "displayName": "Yusuf C",
      "photoUrl": "https://lh3.googleusercontent.com/a/default-user=s64",
      "userId": "01460091991965572961"
     },
     "user_tz": -180
    },
    "id": "P4IrYCAGsQe1",
    "outputId": "af830cb6-a24f-4b48-997d-1bca11763ba5"
   },
   "outputs": [
    {
     "data": {
      "text/plain": [
       "Diesel (Particulate Filter)                                                                                  4315\n",
       "Super 95                                                                                                     3338\n",
       "Gasoline                                                                                                     3175\n",
       "Diesel                                                                                                       2984\n",
       "Super 95 / Regular/Benzine 91                                                                                 424\n",
       "                                                                                                             ... \n",
       "Super 95 / Regular/Benzine 91 / Super E10 95 / Super Plus E10 98 / Super Plus 98                                1\n",
       "Super 95 / Regular/Benzine 91 / Super E10 95 / Super Plus 98 / Super Plus E10 98 / Regular/Benzine E10 91       1\n",
       "Super 95 / Super E10 95 / Super Plus 98                                                                         1\n",
       "Regular/Benzine E10 91 / Regular/Benzine 91 / Super 95 / Super Plus 98 / Super E10 95 / Super Plus E10 98       1\n",
       "Super Plus E10 98                                                                                               1\n",
       "Name: Fuel, Length: 77, dtype: int64"
      ]
     },
     "execution_count": 140,
     "metadata": {},
     "output_type": "execute_result"
    }
   ],
   "source": [
    "df[\"Fuel\"].value_counts(dropna=False)"
   ]
  },
  {
   "cell_type": "code",
   "execution_count": null,
   "metadata": {
    "colab": {
     "base_uri": "https://localhost:8080/"
    },
    "executionInfo": {
     "elapsed": 63,
     "status": "ok",
     "timestamp": 1635888268943,
     "user": {
      "displayName": "Yusuf C",
      "photoUrl": "https://lh3.googleusercontent.com/a/default-user=s64",
      "userId": "01460091991965572961"
     },
     "user_tz": -180
    },
    "id": "O0YN9JFusdqN",
    "outputId": "f8fb4036-c135-4b07-b7a9-1ca58534d120"
   },
   "outputs": [
    {
     "data": {
      "text/plain": [
       "count     3175.000000\n",
       "mean     16806.979528\n",
       "std       8422.039727\n",
       "min         13.000000\n",
       "25%      10490.000000\n",
       "50%      15200.000000\n",
       "75%      20990.000000\n",
       "max      74600.000000\n",
       "Name: price, dtype: float64"
      ]
     },
     "execution_count": 141,
     "metadata": {},
     "output_type": "execute_result"
    }
   ],
   "source": [
    "df[(df[\"Fuel\"] == \"Gasoline\")][\"price\"].describe()"
   ]
  },
  {
   "cell_type": "code",
   "execution_count": null,
   "metadata": {
    "colab": {
     "base_uri": "https://localhost:8080/"
    },
    "executionInfo": {
     "elapsed": 57,
     "status": "ok",
     "timestamp": 1635888268944,
     "user": {
      "displayName": "Yusuf C",
      "photoUrl": "https://lh3.googleusercontent.com/a/default-user=s64",
      "userId": "01460091991965572961"
     },
     "user_tz": -180
    },
    "id": "L7hPH-dLsdtF",
    "outputId": "42032503-474d-4616-efe2-1a80e45f5978"
   },
   "outputs": [
    {
     "data": {
      "text/plain": [
       "count       77.000000\n",
       "mean     22003.311688\n",
       "std       7248.696021\n",
       "min       6990.000000\n",
       "25%      16977.000000\n",
       "50%      22900.000000\n",
       "75%      24900.000000\n",
       "max      53000.000000\n",
       "Name: price, dtype: float64"
      ]
     },
     "execution_count": 142,
     "metadata": {},
     "output_type": "execute_result"
    }
   ],
   "source": [
    "df[(df[\"Fuel\"] == 'Gasoline (Particulate Filter)')][\"price\"].describe()"
   ]
  },
  {
   "cell_type": "code",
   "execution_count": null,
   "metadata": {
    "colab": {
     "base_uri": "https://localhost:8080/"
    },
    "executionInfo": {
     "elapsed": 53,
     "status": "ok",
     "timestamp": 1635888268947,
     "user": {
      "displayName": "Yusuf C",
      "photoUrl": "https://lh3.googleusercontent.com/a/default-user=s64",
      "userId": "01460091991965572961"
     },
     "user_tz": -180
    },
    "id": "cVRQaJ50sdw9",
    "outputId": "25d08cd5-1715-4a5a-85be-334b4d1d7f4e"
   },
   "outputs": [
    {
     "data": {
      "text/plain": [
       "count     4315.000000\n",
       "mean     18099.712167\n",
       "std       6991.618061\n",
       "min        255.000000\n",
       "25%      13500.000000\n",
       "50%      16980.000000\n",
       "75%      21479.000000\n",
       "max      68320.000000\n",
       "Name: price, dtype: float64"
      ]
     },
     "execution_count": 143,
     "metadata": {},
     "output_type": "execute_result"
    }
   ],
   "source": [
    "df[(df[\"Fuel\"] == 'Diesel (Particulate Filter)')][\"price\"].describe()"
   ]
  },
  {
   "cell_type": "code",
   "execution_count": null,
   "metadata": {
    "colab": {
     "base_uri": "https://localhost:8080/"
    },
    "executionInfo": {
     "elapsed": 48,
     "status": "ok",
     "timestamp": 1635888268949,
     "user": {
      "displayName": "Yusuf C",
      "photoUrl": "https://lh3.googleusercontent.com/a/default-user=s64",
      "userId": "01460091991965572961"
     },
     "user_tz": -180
    },
    "id": "vIeyZn4WtC58",
    "outputId": "9a3f16c0-bf8f-4d56-8a9f-b0de718798c1"
   },
   "outputs": [
    {
     "data": {
      "text/plain": [
       "count     2984.000000\n",
       "mean     18283.753016\n",
       "std       7263.364739\n",
       "min       5250.000000\n",
       "25%      13300.000000\n",
       "50%      17492.500000\n",
       "75%      21999.000000\n",
       "max      56950.000000\n",
       "Name: price, dtype: float64"
      ]
     },
     "execution_count": 144,
     "metadata": {},
     "output_type": "execute_result"
    }
   ],
   "source": [
    "df[(df[\"Fuel\"] == 'Diesel')][\"price\"].describe()"
   ]
  },
  {
   "cell_type": "code",
   "execution_count": null,
   "metadata": {
    "colab": {
     "base_uri": "https://localhost:8080/"
    },
    "executionInfo": {
     "elapsed": 43,
     "status": "ok",
     "timestamp": 1635888268950,
     "user": {
      "displayName": "Yusuf C",
      "photoUrl": "https://lh3.googleusercontent.com/a/default-user=s64",
      "userId": "01460091991965572961"
     },
     "user_tz": -180
    },
    "id": "73QdAIlutjiQ",
    "outputId": "39959b86-1ae9-4a21-8ff9-ff6f84da1a81"
   },
   "outputs": [
    {
     "data": {
      "text/plain": [
       "77"
      ]
     },
     "execution_count": 145,
     "metadata": {},
     "output_type": "execute_result"
    }
   ],
   "source": [
    "df[\"Fuel\"].nunique()"
   ]
  },
  {
   "cell_type": "code",
   "execution_count": null,
   "metadata": {
    "colab": {
     "base_uri": "https://localhost:8080/",
     "height": 219
    },
    "executionInfo": {
     "elapsed": 38,
     "status": "ok",
     "timestamp": 1635888268951,
     "user": {
      "displayName": "Yusuf C",
      "photoUrl": "https://lh3.googleusercontent.com/a/default-user=s64",
      "userId": "01460091991965572961"
     },
     "user_tz": -180
    },
    "id": "V80osAKa3eF5",
    "outputId": "80447359-5e17-404b-a571-ee8eb7a9cad0"
   },
   "outputs": [
    {
     "data": {
      "text/html": [
       "<div>\n",
       "<style scoped>\n",
       "    .dataframe tbody tr th:only-of-type {\n",
       "        vertical-align: middle;\n",
       "    }\n",
       "\n",
       "    .dataframe tbody tr th {\n",
       "        vertical-align: top;\n",
       "    }\n",
       "\n",
       "    .dataframe thead th {\n",
       "        text-align: right;\n",
       "    }\n",
       "</style>\n",
       "<table border=\"1\" class=\"dataframe\">\n",
       "  <thead>\n",
       "    <tr style=\"text-align: right;\">\n",
       "      <th></th>\n",
       "      <th>make_model</th>\n",
       "      <th>short_description</th>\n",
       "      <th>body_type</th>\n",
       "      <th>price</th>\n",
       "      <th>vat</th>\n",
       "      <th>km</th>\n",
       "      <th>registration</th>\n",
       "      <th>prev_owner</th>\n",
       "      <th>hp</th>\n",
       "      <th>Type</th>\n",
       "      <th>Previous Owners</th>\n",
       "      <th>Next Inspection</th>\n",
       "      <th>Inspection new</th>\n",
       "      <th>Warranty</th>\n",
       "      <th>Non-smoking Vehicle</th>\n",
       "      <th>Make</th>\n",
       "      <th>Model</th>\n",
       "      <th>First Registration</th>\n",
       "      <th>Body Color</th>\n",
       "      <th>Paint Type</th>\n",
       "      <th>Body Color Original</th>\n",
       "      <th>Upholstery</th>\n",
       "      <th>Nr. of Doors</th>\n",
       "      <th>Nr. of Seats</th>\n",
       "      <th>Model Code</th>\n",
       "      <th>Gearing Type</th>\n",
       "      <th>Displacement</th>\n",
       "      <th>Cylinders</th>\n",
       "      <th>Weight</th>\n",
       "      <th>Drive chain</th>\n",
       "      <th>Fuel</th>\n",
       "      <th>Consumption</th>\n",
       "      <th>CO2 Emission</th>\n",
       "      <th>Emission Class</th>\n",
       "      <th>Comfort &amp; Convenience</th>\n",
       "      <th>Entertainment &amp; Media</th>\n",
       "      <th>Extras</th>\n",
       "      <th>Safety &amp; Security</th>\n",
       "      <th>description</th>\n",
       "      <th>Emission Label</th>\n",
       "      <th>Gears</th>\n",
       "      <th>Country version</th>\n",
       "      <th>Electricity consumption</th>\n",
       "      <th>Last Service Date</th>\n",
       "      <th>Availability</th>\n",
       "      <th>Available from</th>\n",
       "    </tr>\n",
       "  </thead>\n",
       "  <tbody>\n",
       "    <tr>\n",
       "      <th>6802</th>\n",
       "      <td>Opel Astra</td>\n",
       "      <td>K 1,4 CNG 5-tg Exclusive + WR</td>\n",
       "      <td>Sedans</td>\n",
       "      <td>12864</td>\n",
       "      <td>VAT deductible</td>\n",
       "      <td>120000.0</td>\n",
       "      <td>08/2017</td>\n",
       "      <td>1 previous owner</td>\n",
       "      <td>81</td>\n",
       "      <td>[, Used, , Domestic gas H]</td>\n",
       "      <td>\\n1\\n</td>\n",
       "      <td>[\\n08/2020\\n, \\n4 (Green)\\n]</td>\n",
       "      <td>NaN</td>\n",
       "      <td>[\\n, \\n]</td>\n",
       "      <td>NaN</td>\n",
       "      <td>\\nOpel\\n</td>\n",
       "      <td>[\\n, Astra, \\n]</td>\n",
       "      <td>[\\n, 2017, \\n]</td>\n",
       "      <td>Brown</td>\n",
       "      <td>Metallic</td>\n",
       "      <td>[\\nRouge Braun\\n]</td>\n",
       "      <td>[\\nCloth, Black\\n]</td>\n",
       "      <td>[\\n5\\n]</td>\n",
       "      <td>[\\n5\\n]</td>\n",
       "      <td>[\\n1844/000\\n]</td>\n",
       "      <td>[\\n, Manual, \\n]</td>\n",
       "      <td>1398</td>\n",
       "      <td>4</td>\n",
       "      <td>NaN</td>\n",
       "      <td>[\\nfront\\n]</td>\n",
       "      <td>Domestic gas H</td>\n",
       "      <td>NaN</td>\n",
       "      <td>NaN</td>\n",
       "      <td>[[], [], []]</td>\n",
       "      <td>[Air conditioning, Armrest, Automatic climate ...</td>\n",
       "      <td>[Bluetooth, Digital radio, Hands-free equipmen...</td>\n",
       "      <td>[Alloy wheels, Catalytic Converter, Touch screen]</td>\n",
       "      <td>[ABS, Adaptive headlights, Central door lock, ...</td>\n",
       "      <td>[\\n, Ausstattungsliste, ex Dienstwagen der Ada...</td>\n",
       "      <td>[\\n4 (Green)\\n]</td>\n",
       "      <td>[\\n6\\n]</td>\n",
       "      <td>Germany</td>\n",
       "      <td>NaN</td>\n",
       "      <td>[\\n01/2019\\n]</td>\n",
       "      <td>NaN</td>\n",
       "      <td>NaN</td>\n",
       "    </tr>\n",
       "  </tbody>\n",
       "</table>\n",
       "</div>"
      ],
      "text/plain": [
       "      make_model              short_description  ... Availability  Available from\n",
       "6802  Opel Astra  K 1,4 CNG 5-tg Exclusive + WR  ...          NaN             NaN\n",
       "\n",
       "[1 rows x 46 columns]"
      ]
     },
     "execution_count": 146,
     "metadata": {},
     "output_type": "execute_result"
    }
   ],
   "source": [
    "df[df[\"Fuel\"] == 'Domestic gas H']"
   ]
  },
  {
   "cell_type": "code",
   "execution_count": null,
   "metadata": {
    "colab": {
     "base_uri": "https://localhost:8080/"
    },
    "executionInfo": {
     "elapsed": 37,
     "status": "ok",
     "timestamp": 1635888268952,
     "user": {
      "displayName": "Yusuf C",
      "photoUrl": "https://lh3.googleusercontent.com/a/default-user=s64",
      "userId": "01460091991965572961"
     },
     "user_tz": -180
    },
    "id": "mhuJwFV311IP",
    "outputId": "532b9670-bdb8-4b38-d873-206042f102d4"
   },
   "outputs": [
    {
     "data": {
      "text/plain": [
       "['Biogas',\n",
       " 'CNG',\n",
       " 'CNG (Particulate Filter)',\n",
       " 'Diesel',\n",
       " 'Diesel (Particulate Filter)',\n",
       " 'Domestic gas H',\n",
       " 'Electric',\n",
       " 'Electric/Gasoline',\n",
       " 'Gasoline',\n",
       " 'Gasoline (Particulate Filter)',\n",
       " 'LPG',\n",
       " 'Liquid petroleum gas (LPG)',\n",
       " 'Others',\n",
       " 'Others (Particulate Filter)',\n",
       " 'Regular/Benzine 91',\n",
       " 'Regular/Benzine 91 (Particulate Filter)',\n",
       " 'Regular/Benzine 91 / Regular/Benzine E10 91',\n",
       " 'Regular/Benzine 91 / Super 95',\n",
       " 'Regular/Benzine 91 / Super 95 / Regular/Benzine E10 91',\n",
       " 'Regular/Benzine 91 / Super 95 / Regular/Benzine E10 91 / Super E10 95 / Super Plus 98 / Super Plus E10 98',\n",
       " 'Regular/Benzine 91 / Super 95 / Super E10 95',\n",
       " 'Regular/Benzine 91 / Super 95 / Super E10 95 / Regular/Benzine E10 91',\n",
       " 'Regular/Benzine 91 / Super 95 / Super E10 95 / Super Plus E10 98 / Super Plus 98 / Regular/Benzine E10 91',\n",
       " 'Regular/Benzine 91 / Super 95 / Super Plus 98',\n",
       " 'Regular/Benzine 91 / Super 95 / Super Plus 98 / Regular/Benzine E10 91 / Super E10 95 / Super Plus E10 98',\n",
       " 'Regular/Benzine 91 / Super 95 / Super Plus 98 / Regular/Benzine E10 91 / Super Plus E10 98 / Super E10 95',\n",
       " 'Regular/Benzine 91 / Super 95 / Super Plus 98 / Super Plus E10 98 / Super E10 95 / Regular/Benzine E10 91',\n",
       " 'Regular/Benzine 91 / Super 95 / Super Plus 98 / Super Plus E10 98 / Super E10 95 / Regular/Benzine E10 91 (Particulate Filter)',\n",
       " 'Regular/Benzine 91 / Super 95 / Super Plus E10 98 / Super E10 95 / Regular/Benzine E10 91 / Super Plus 98',\n",
       " 'Regular/Benzine 91 / Super Plus 98 / Regular/Benzine E10 91 / Super 95 / Super E10 95 / Super Plus E10 98',\n",
       " 'Regular/Benzine E10 91',\n",
       " 'Regular/Benzine E10 91 / Regular/Benzine 91 / Super 95 / Super Plus 98 / Super E10 95 / Super Plus E10 98',\n",
       " 'Regular/Benzine E10 91 / Super E10 95 / Super Plus E10 98 / Super Plus 98 / Super 95 / Regular/Benzine 91',\n",
       " 'Super 95',\n",
       " 'Super 95 (Particulate Filter)',\n",
       " 'Super 95 / Biodiesel',\n",
       " 'Super 95 / Regular/Benzine 91',\n",
       " 'Super 95 / Regular/Benzine 91 (Particulate Filter)',\n",
       " 'Super 95 / Regular/Benzine 91 / Super E10 95 / Super Plus 98 / Super Plus E10 98 / Regular/Benzine E10 91',\n",
       " 'Super 95 / Regular/Benzine 91 / Super E10 95 / Super Plus E10 98 / Super Plus 98',\n",
       " 'Super 95 / Regular/Benzine 91 / Super E10 95 / Super Plus E10 98 / Super Plus 98 / Regular/Benzine E10 91',\n",
       " 'Super 95 / Regular/Benzine 91 / Super Plus 98',\n",
       " 'Super 95 / Regular/Benzine 91 / Super Plus 98 / Regular/Benzine E10 91 / Super E10 95 / Super Plus E10 98',\n",
       " 'Super 95 / Regular/Benzine 91 / Super Plus 98 / Regular/Benzine E10 91 / Super Plus E10 98 / Super E10 95',\n",
       " 'Super 95 / Regular/Benzine E10 91',\n",
       " 'Super 95 / Regular/Benzine E10 91 / Super E10 95',\n",
       " 'Super 95 / Super E10 95',\n",
       " 'Super 95 / Super E10 95 (Particulate Filter)',\n",
       " 'Super 95 / Super E10 95 / Regular/Benzine 91',\n",
       " 'Super 95 / Super E10 95 / Super Plus 98',\n",
       " 'Super 95 / Super E10 95 / Super Plus E10 98',\n",
       " 'Super 95 / Super E10 95 / Super Plus E10 98 / Super Plus 98',\n",
       " 'Super 95 / Super Plus 98',\n",
       " 'Super 95 / Super Plus 98 (Particulate Filter)',\n",
       " 'Super 95 / Super Plus 98 / Regular/Benzine E10 91 / Super Plus E10 98 / Super E10 95 / Regular/Benzine 91',\n",
       " 'Super 95 / Super Plus 98 / Super E10 95',\n",
       " 'Super 95 / Super Plus 98 / Super E10 95 / Super Plus E10 98',\n",
       " 'Super 95 / Super Plus 98 / Super E10 95 / Super Plus E10 98 (Particulate Filter)',\n",
       " 'Super 95 / Super Plus 98 / Super Plus E10 98',\n",
       " 'Super 95 / Super Plus 98 / Super Plus E10 98 / Super E10 95',\n",
       " 'Super E10 95',\n",
       " 'Super E10 95 (Particulate Filter)',\n",
       " 'Super E10 95 / Regular/Benzine 91',\n",
       " 'Super E10 95 / Regular/Benzine 91 / Regular/Benzine E10 91 / Super 95',\n",
       " 'Super E10 95 / Regular/Benzine 91 / Super 95 / Super Plus 98 / Regular/Benzine E10 91 / Super Plus E10 98',\n",
       " 'Super E10 95 / Super 95',\n",
       " 'Super E10 95 / Super 95 / Super Plus 98',\n",
       " 'Super E10 95 / Super 95 / Super Plus 98 / Super Plus E10 98',\n",
       " 'Super E10 95 / Super 95 / Super Plus 98 / Super Plus E10 98 (Particulate Filter)',\n",
       " 'Super E10 95 / Super Plus E10 98',\n",
       " 'Super Plus 98',\n",
       " 'Super Plus 98 / Regular/Benzine 91',\n",
       " 'Super Plus 98 / Super 95 / Super E10 95',\n",
       " 'Super Plus 98 / Super 95 / Super Plus E10 98',\n",
       " 'Super Plus 98 / Super E10 95',\n",
       " 'Super Plus E10 98',\n",
       " 'Super Plus E10 98 / Super 95 / Super Plus 98 / Super E10 95']"
      ]
     },
     "execution_count": 147,
     "metadata": {},
     "output_type": "execute_result"
    }
   ],
   "source": [
    "fuel_types = []\n",
    "for i in df[\"Fuel\"].unique():\n",
    "  fuel_types.append(i)\n",
    "sorted(fuel_types)"
   ]
  },
  {
   "cell_type": "code",
   "execution_count": null,
   "metadata": {
    "colab": {
     "base_uri": "https://localhost:8080/"
    },
    "executionInfo": {
     "elapsed": 10433,
     "status": "ok",
     "timestamp": 1635888279354,
     "user": {
      "displayName": "Yusuf C",
      "photoUrl": "https://lh3.googleusercontent.com/a/default-user=s64",
      "userId": "01460091991965572961"
     },
     "user_tz": -180
    },
    "id": "JlHch-Kbtr5I",
    "outputId": "9f0bd704-926e-448d-ebe8-516de5282929"
   },
   "outputs": [
    {
     "name": "stderr",
     "output_type": "stream",
     "text": [
      "/usr/local/lib/python3.7/dist-packages/ipykernel_launcher.py:12: SettingWithCopyWarning: \n",
      "A value is trying to be set on a copy of a slice from a DataFrame\n",
      "\n",
      "See the caveats in the documentation: https://pandas.pydata.org/pandas-docs/stable/user_guide/indexing.html#returning-a-view-versus-a-copy\n",
      "  if sys.path[0] == '':\n",
      "/usr/local/lib/python3.7/dist-packages/ipykernel_launcher.py:8: SettingWithCopyWarning: \n",
      "A value is trying to be set on a copy of a slice from a DataFrame\n",
      "\n",
      "See the caveats in the documentation: https://pandas.pydata.org/pandas-docs/stable/user_guide/indexing.html#returning-a-view-versus-a-copy\n",
      "  \n",
      "/usr/local/lib/python3.7/dist-packages/ipykernel_launcher.py:10: SettingWithCopyWarning: \n",
      "A value is trying to be set on a copy of a slice from a DataFrame\n",
      "\n",
      "See the caveats in the documentation: https://pandas.pydata.org/pandas-docs/stable/user_guide/indexing.html#returning-a-view-versus-a-copy\n",
      "  # Remove the CWD from sys.path while we load stuff.\n",
      "/usr/local/lib/python3.7/dist-packages/ipykernel_launcher.py:14: SettingWithCopyWarning: \n",
      "A value is trying to be set on a copy of a slice from a DataFrame\n",
      "\n",
      "See the caveats in the documentation: https://pandas.pydata.org/pandas-docs/stable/user_guide/indexing.html#returning-a-view-versus-a-copy\n",
      "  \n",
      "/usr/local/lib/python3.7/dist-packages/ipykernel_launcher.py:18: SettingWithCopyWarning: \n",
      "A value is trying to be set on a copy of a slice from a DataFrame\n",
      "\n",
      "See the caveats in the documentation: https://pandas.pydata.org/pandas-docs/stable/user_guide/indexing.html#returning-a-view-versus-a-copy\n",
      "/usr/local/lib/python3.7/dist-packages/ipykernel_launcher.py:16: SettingWithCopyWarning: \n",
      "A value is trying to be set on a copy of a slice from a DataFrame\n",
      "\n",
      "See the caveats in the documentation: https://pandas.pydata.org/pandas-docs/stable/user_guide/indexing.html#returning-a-view-versus-a-copy\n",
      "  app.launch_new_instance()\n"
     ]
    }
   ],
   "source": [
    "not_gasoline = ['Biogas', 'CNG', 'CNG (Particulate Filter)', 'Diesel', 'Diesel (Particulate Filter)', 'Domestic gas H', 'Electric',\n",
    " 'Electric/Gasoline', 'Gasoline', 'Gasoline (Particulate Filter)', 'LPG', 'Liquid petroleum gas (LPG)', 'Others',\n",
    " 'Others (Particulate Filter)']\n",
    "\n",
    "for i in range(df.shape[0]):\n",
    "  #if type(df[\"Fuel\"][i]) == str:\n",
    "  if (df[\"Fuel\"][i] not in not_gasoline):\n",
    "    df[\"Fuel\"][i] = \"Gasoline\"\n",
    "  elif df[\"Fuel\"][i] == 'Gasoline (Particulate Filter)':\n",
    "    df[\"Fuel\"][i] = 'Gasoline'\n",
    "  elif df[\"Fuel\"][i] == 'Diesel (Particulate Filter)':\n",
    "    df[\"Fuel\"][i] = 'Diesel'\n",
    "  elif df[\"Fuel\"][i] == 'CNG (Particulate Filter)':\n",
    "    df[\"Fuel\"][i] = 'CNG'\n",
    "  elif df[\"Fuel\"][i] == 'Liquid petroleum gas (LPG)':\n",
    "    df[\"Fuel\"][i] = 'LPG'\n",
    "  elif df[\"Fuel\"][i] == 'Others (Particulate Filter)':\n",
    "    df[\"Fuel\"][i] = 'Others'"
   ]
  },
  {
   "cell_type": "code",
   "execution_count": null,
   "metadata": {
    "colab": {
     "base_uri": "https://localhost:8080/"
    },
    "executionInfo": {
     "elapsed": 380,
     "status": "ok",
     "timestamp": 1635888279356,
     "user": {
      "displayName": "Yusuf C",
      "photoUrl": "https://lh3.googleusercontent.com/a/default-user=s64",
      "userId": "01460091991965572961"
     },
     "user_tz": -180
    },
    "id": "vIQGmC1i_vGE",
    "outputId": "8db49748-485f-49d1-bd89-b6ce2a18516d"
   },
   "outputs": [
    {
     "data": {
      "text/plain": [
       "Gasoline             8545\n",
       "Diesel               7299\n",
       "CNG                    36\n",
       "LPG                    26\n",
       "Others                  6\n",
       "Electric/Gasoline       4\n",
       "Electric                1\n",
       "Biogas                  1\n",
       "Domestic gas H          1\n",
       "Name: Fuel, dtype: int64"
      ]
     },
     "execution_count": 149,
     "metadata": {},
     "output_type": "execute_result"
    }
   ],
   "source": [
    "df['Fuel'].value_counts(dropna=False)"
   ]
  },
  {
   "cell_type": "code",
   "execution_count": null,
   "metadata": {
    "colab": {
     "base_uri": "https://localhost:8080/"
    },
    "executionInfo": {
     "elapsed": 365,
     "status": "ok",
     "timestamp": 1635888279358,
     "user": {
      "displayName": "Yusuf C",
      "photoUrl": "https://lh3.googleusercontent.com/a/default-user=s64",
      "userId": "01460091991965572961"
     },
     "user_tz": -180
    },
    "id": "4J93TOp1GDF4",
    "outputId": "61753f81-3ed0-4c5d-8b3f-08b178dca93f"
   },
   "outputs": [
    {
     "data": {
      "text/plain": [
       "make_model                                                           Audi A1\n",
       "short_description                Sportback 1.4 TDI S-tronic Xenon Navi Klima\n",
       "body_type                                                             Sedans\n",
       "price                                                                  15770\n",
       "vat                                                           VAT deductible\n",
       "km                                                                     56013\n",
       "registration                                                         01/2016\n",
       "prev_owner                                                 2 previous owners\n",
       "hp                                                                        66\n",
       "Type                                 [, Used, , Diesel (Particulate Filter)]\n",
       "Previous Owners                                                        \\n2\\n\n",
       "Next Inspection                        [\\n06/2021\\n, \\n99 g CO2/km (comb)\\n]\n",
       "Inspection new                                         [\\nYes\\n, \\nEuro 6\\n]\n",
       "Warranty                                             [\\n, \\n, \\n4 (Green)\\n]\n",
       "Non-smoking Vehicle                                                 [\\n, \\n]\n",
       "Make                                                                \\nAudi\\n\n",
       "Model                                                           [\\n, A1, \\n]\n",
       "First Registration                                            [\\n, 2016, \\n]\n",
       "Body Color                                                             Black\n",
       "Paint Type                                                          Metallic\n",
       "Body Color Original                                      [\\nMythosschwarz\\n]\n",
       "Upholstery                                                [\\nCloth, Black\\n]\n",
       "Nr. of Doors                                                         [\\n5\\n]\n",
       "Nr. of Seats                                                         [\\n5\\n]\n",
       "Model Code                                                    [\\n0588/BDF\\n]\n",
       "Gearing Type                                             [\\n, Automatic, \\n]\n",
       "Displacement                                                            1422\n",
       "Cylinders                                                                  3\n",
       "Weight                                                        [\\n1,220 kg\\n]\n",
       "Drive chain                                                      [\\nfront\\n]\n",
       "Fuel                                                                  Diesel\n",
       "Consumption                [[3.8 l/100 km (comb)], [4.3 l/100 km (city)],...\n",
       "CO2 Emission                                        [\\n99 g CO2/km (comb)\\n]\n",
       "Emission Class                                                  [\\nEuro 6\\n]\n",
       "Comfort & Convenience      [Air conditioning, Armrest, Automatic climate ...\n",
       "Entertainment & Media      [Bluetooth, Hands-free equipment, On-board com...\n",
       "Extras                     [Alloy wheels, Catalytic Converter, Voice Cont...\n",
       "Safety & Security          [ABS, Central door lock, Daytime running light...\n",
       "description                [\\n, Sicherheit:,  , Deaktivierung für Beifahr...\n",
       "Emission Label                                                           NaN\n",
       "Gears                                                                    NaN\n",
       "Country version                                                          NaN\n",
       "Electricity consumption                                                  NaN\n",
       "Last Service Date                                                        NaN\n",
       "Availability                                                             NaN\n",
       "Available from                                                           NaN\n",
       "Name: 0, dtype: object"
      ]
     },
     "execution_count": 150,
     "metadata": {},
     "output_type": "execute_result"
    }
   ],
   "source": [
    "df.loc[0]"
   ]
  },
  {
   "cell_type": "code",
   "execution_count": null,
   "metadata": {
    "colab": {
     "base_uri": "https://localhost:8080/",
     "height": 452
    },
    "executionInfo": {
     "elapsed": 360,
     "status": "ok",
     "timestamp": 1635888279359,
     "user": {
      "displayName": "Yusuf C",
      "photoUrl": "https://lh3.googleusercontent.com/a/default-user=s64",
      "userId": "01460091991965572961"
     },
     "user_tz": -180
    },
    "id": "-oRaxJhEDFpO",
    "outputId": "7ae0ec9e-40a8-44bc-c6be-6a3461c01e3b"
   },
   "outputs": [
    {
     "data": {
      "text/html": [
       "<div>\n",
       "<style scoped>\n",
       "    .dataframe tbody tr th:only-of-type {\n",
       "        vertical-align: middle;\n",
       "    }\n",
       "\n",
       "    .dataframe tbody tr th {\n",
       "        vertical-align: top;\n",
       "    }\n",
       "\n",
       "    .dataframe thead th {\n",
       "        text-align: right;\n",
       "    }\n",
       "</style>\n",
       "<table border=\"1\" class=\"dataframe\">\n",
       "  <thead>\n",
       "    <tr style=\"text-align: right;\">\n",
       "      <th></th>\n",
       "      <th>make_model</th>\n",
       "      <th>short_description</th>\n",
       "      <th>Fuel</th>\n",
       "      <th>First Registration</th>\n",
       "      <th>hp</th>\n",
       "      <th>Gearing Type</th>\n",
       "    </tr>\n",
       "  </thead>\n",
       "  <tbody>\n",
       "    <tr>\n",
       "      <th>819</th>\n",
       "      <td>Audi A1</td>\n",
       "      <td>1.4TDI Sportback /Euro6 /Navi /SHZ /PDC</td>\n",
       "      <td>Others</td>\n",
       "      <td>[\\n, 2016, \\n]</td>\n",
       "      <td>66</td>\n",
       "      <td>[\\n, Manual, \\n]</td>\n",
       "    </tr>\n",
       "    <tr>\n",
       "      <th>2885</th>\n",
       "      <td>Audi A3</td>\n",
       "      <td>SPORTBACK 1.4 TFSI G-Tron S-Tronic Adrenalin S...</td>\n",
       "      <td>Others</td>\n",
       "      <td>[\\n, 2016, \\n]</td>\n",
       "      <td>81</td>\n",
       "      <td>[\\n, Automatic, \\n]</td>\n",
       "    </tr>\n",
       "    <tr>\n",
       "      <th>3356</th>\n",
       "      <td>Audi A3</td>\n",
       "      <td>S-Line e-tron 1.4</td>\n",
       "      <td>Electric/Gasoline</td>\n",
       "      <td>[\\n, 2016, \\n]</td>\n",
       "      <td>150</td>\n",
       "      <td>[\\n, Semi-automatic, \\n]</td>\n",
       "    </tr>\n",
       "    <tr>\n",
       "      <th>3612</th>\n",
       "      <td>Audi A3</td>\n",
       "      <td>SPB 1.4 TFSI e-tron S tronic (PHEV) S</td>\n",
       "      <td>Electric/Gasoline</td>\n",
       "      <td>[\\n, 2018, \\n]</td>\n",
       "      <td>110</td>\n",
       "      <td>[\\n, Semi-automatic, \\n]</td>\n",
       "    </tr>\n",
       "    <tr>\n",
       "      <th>3615</th>\n",
       "      <td>Audi A3</td>\n",
       "      <td>SPB 1.4 TFSI e-tron S tronic (PHEV) S</td>\n",
       "      <td>Electric/Gasoline</td>\n",
       "      <td>[\\n, 2018, \\n]</td>\n",
       "      <td>110</td>\n",
       "      <td>[\\n, Semi-automatic, \\n]</td>\n",
       "    </tr>\n",
       "    <tr>\n",
       "      <th>3617</th>\n",
       "      <td>Audi A3</td>\n",
       "      <td>SPB 1.4 TFSI e-tron S tronic (PHEV) D</td>\n",
       "      <td>Electric/Gasoline</td>\n",
       "      <td>[\\n, 2018, \\n]</td>\n",
       "      <td>110</td>\n",
       "      <td>[\\n, Semi-automatic, \\n]</td>\n",
       "    </tr>\n",
       "    <tr>\n",
       "      <th>4003</th>\n",
       "      <td>Audi A3</td>\n",
       "      <td>Sportback 1.6 TDI S-Tronic*LED*Navigation*APS</td>\n",
       "      <td>Others</td>\n",
       "      <td>[\\n, 2017, \\n]</td>\n",
       "      <td>85</td>\n",
       "      <td>[\\n, Automatic, \\n]</td>\n",
       "    </tr>\n",
       "    <tr>\n",
       "      <th>5161</th>\n",
       "      <td>Audi A3</td>\n",
       "      <td>SPB 30 g-tron S tronic Business</td>\n",
       "      <td>Biogas</td>\n",
       "      <td>[\\n, 2019, \\n]</td>\n",
       "      <td>96</td>\n",
       "      <td>[\\n, Automatic, \\n]</td>\n",
       "    </tr>\n",
       "    <tr>\n",
       "      <th>6802</th>\n",
       "      <td>Opel Astra</td>\n",
       "      <td>K 1,4 CNG 5-tg Exclusive + WR</td>\n",
       "      <td>Domestic gas H</td>\n",
       "      <td>[\\n, 2017, \\n]</td>\n",
       "      <td>81</td>\n",
       "      <td>[\\n, Manual, \\n]</td>\n",
       "    </tr>\n",
       "    <tr>\n",
       "      <th>10374</th>\n",
       "      <td>Opel Corsa</td>\n",
       "      <td>1.4 GLP Selective Pro 90</td>\n",
       "      <td>Others</td>\n",
       "      <td>[\\n, 2019, \\n]</td>\n",
       "      <td>66</td>\n",
       "      <td>[\\n, Manual, \\n]</td>\n",
       "    </tr>\n",
       "    <tr>\n",
       "      <th>11677</th>\n",
       "      <td>Opel Insignia</td>\n",
       "      <td>Edition</td>\n",
       "      <td>Others</td>\n",
       "      <td>[\\n, 2018, \\n]</td>\n",
       "      <td>103</td>\n",
       "      <td>[\\n, Manual, \\n]</td>\n",
       "    </tr>\n",
       "    <tr>\n",
       "      <th>13397</th>\n",
       "      <td>Renault Clio</td>\n",
       "      <td>zoé life</td>\n",
       "      <td>Electric</td>\n",
       "      <td>[\\n, 2016, \\n]</td>\n",
       "      <td>NaN</td>\n",
       "      <td>[\\n, Automatic, \\n]</td>\n",
       "    </tr>\n",
       "    <tr>\n",
       "      <th>14500</th>\n",
       "      <td>Renault Clio</td>\n",
       "      <td>TCe Energy GLP Limited 66kW 90CV</td>\n",
       "      <td>Others</td>\n",
       "      <td>[\\n, 2018, \\n]</td>\n",
       "      <td>66</td>\n",
       "      <td>[\\n, Manual, \\n]</td>\n",
       "    </tr>\n",
       "  </tbody>\n",
       "</table>\n",
       "</div>"
      ],
      "text/plain": [
       "          make_model  ...              Gearing Type\n",
       "819          Audi A1  ...          [\\n, Manual, \\n]\n",
       "2885         Audi A3  ...       [\\n, Automatic, \\n]\n",
       "3356         Audi A3  ...  [\\n, Semi-automatic, \\n]\n",
       "3612         Audi A3  ...  [\\n, Semi-automatic, \\n]\n",
       "3615         Audi A3  ...  [\\n, Semi-automatic, \\n]\n",
       "3617         Audi A3  ...  [\\n, Semi-automatic, \\n]\n",
       "4003         Audi A3  ...       [\\n, Automatic, \\n]\n",
       "5161         Audi A3  ...       [\\n, Automatic, \\n]\n",
       "6802      Opel Astra  ...          [\\n, Manual, \\n]\n",
       "10374     Opel Corsa  ...          [\\n, Manual, \\n]\n",
       "11677  Opel Insignia  ...          [\\n, Manual, \\n]\n",
       "13397   Renault Clio  ...       [\\n, Automatic, \\n]\n",
       "14500   Renault Clio  ...          [\\n, Manual, \\n]\n",
       "\n",
       "[13 rows x 6 columns]"
      ]
     },
     "execution_count": 151,
     "metadata": {},
     "output_type": "execute_result"
    }
   ],
   "source": [
    "df[~((df[\"Fuel\"] == \"Diesel\") | (df[\"Fuel\"] == \"Gasoline\") | (df[\"Fuel\"] == \"LPG\") | \n",
    "     (df[\"Fuel\"] == \"CNG\"))][[\"make_model\", \"short_description\", \"Fuel\", \"First Registration\", \"hp\", \"Gearing Type\"]]"
   ]
  },
  {
   "cell_type": "code",
   "execution_count": null,
   "metadata": {
    "id": "CPPsUMpD2kF_"
   },
   "outputs": [],
   "source": [
    "df.loc[819, \"Fuel\"] = \"Diesel\"\n",
    "df.loc[2885, \"Fuel\"] = \"Gasoline\"\n",
    "df.loc[4003, \"Fuel\"] = \"Gasoline\"\n",
    "df.loc[6802, \"Fuel\"] = \"CNG\"\n",
    "df.loc[5161, \"Fuel\"] = \"CNG\"\n",
    "df.loc[14500, \"Fuel\"] =\"Gasoline\"\n",
    "df.loc[11677, \"Fuel\"] = \"Gasoline\"\n",
    "df.loc[10374, \"Fuel\"] = \"Gasoline\""
   ]
  },
  {
   "cell_type": "code",
   "execution_count": null,
   "metadata": {
    "colab": {
     "base_uri": "https://localhost:8080/"
    },
    "executionInfo": {
     "elapsed": 361,
     "status": "ok",
     "timestamp": 1635888279362,
     "user": {
      "displayName": "Yusuf C",
      "photoUrl": "https://lh3.googleusercontent.com/a/default-user=s64",
      "userId": "01460091991965572961"
     },
     "user_tz": -180
    },
    "id": "NmRf9P532kKS",
    "outputId": "59b45273-b44b-4bad-e0ac-a7e086bde078"
   },
   "outputs": [
    {
     "data": {
      "text/plain": [
       "Gasoline             8550\n",
       "Diesel               7300\n",
       "CNG                    38\n",
       "LPG                    26\n",
       "Electric/Gasoline       4\n",
       "Electric                1\n",
       "Name: Fuel, dtype: int64"
      ]
     },
     "execution_count": 153,
     "metadata": {},
     "output_type": "execute_result"
    }
   ],
   "source": [
    "df['Fuel'].value_counts(dropna=False)"
   ]
  },
  {
   "cell_type": "markdown",
   "metadata": {
    "id": "mDSI3Rp3t34X"
   },
   "source": [
    "# Type"
   ]
  },
  {
   "cell_type": "code",
   "execution_count": null,
   "metadata": {
    "colab": {
     "base_uri": "https://localhost:8080/",
     "height": 420
    },
    "executionInfo": {
     "elapsed": 355,
     "status": "ok",
     "timestamp": 1635888279364,
     "user": {
      "displayName": "Yusuf C",
      "photoUrl": "https://lh3.googleusercontent.com/a/default-user=s64",
      "userId": "01460091991965572961"
     },
     "user_tz": -180
    },
    "id": "vqfk5_Werzvx",
    "outputId": "5a0489b5-82bf-468f-dd80-53ac6eb99432"
   },
   "outputs": [
    {
     "ename": "TypeError",
     "evalue": "ignored",
     "output_type": "error",
     "traceback": [
      "\u001b[0;31m---------------------------------------------------------------------------\u001b[0m",
      "\u001b[0;31mTypeError\u001b[0m                                 Traceback (most recent call last)",
      "\u001b[0;32mpandas/_libs/hashtable_class_helper.pxi\u001b[0m in \u001b[0;36mpandas._libs.hashtable.PyObjectHashTable.map_locations\u001b[0;34m()\u001b[0m\n",
      "\u001b[0;31mTypeError\u001b[0m: unhashable type: 'list'"
     ]
    },
    {
     "name": "stderr",
     "output_type": "stream",
     "text": [
      "Exception ignored in: 'pandas._libs.index.IndexEngine._call_map_locations'\n",
      "Traceback (most recent call last):\n",
      "  File \"pandas/_libs/hashtable_class_helper.pxi\", line 1709, in pandas._libs.hashtable.PyObjectHashTable.map_locations\n",
      "TypeError: unhashable type: 'list'\n"
     ]
    },
    {
     "data": {
      "text/plain": [
       "[, Used, , Diesel (Particulate Filter)]                                                                                  3475\n",
       "[, Used, , Diesel]                                                                                                       2516\n",
       "[, Used, , Gasoline]                                                                                                     2367\n",
       "[, Used, , Super 95]                                                                                                     1818\n",
       "[, Pre-registered, , Super 95]                                                                                            500\n",
       "                                                                                                                         ... \n",
       "[, Used, , Regular/Benzine E10 91 / Super E10 95 / Super Plus E10 98 / Super Plus 98 / Super 95 / Regular/Benzine 91]       1\n",
       "[, Used, , Regular/Benzine E10 91 / Regular/Benzine 91 / Super 95 / Super Plus 98 / Super E10 95 / Super Plus E10 98]       1\n",
       "[, Employee's car, , Regular/Benzine 91 / Super 95 / Super E10 95]                                                          1\n",
       "[, Pre-registered, , Biogas]                                                                                                1\n",
       "[, Used, , Regular/Benzine 91 / Super 95 / Super Plus 98]                                                                   1\n",
       "Name: Type, Length: 170, dtype: int64"
      ]
     },
     "execution_count": 154,
     "metadata": {},
     "output_type": "execute_result"
    }
   ],
   "source": [
    "df[\"Type\"].value_counts(dropna=False)"
   ]
  },
  {
   "cell_type": "code",
   "execution_count": null,
   "metadata": {
    "colab": {
     "base_uri": "https://localhost:8080/"
    },
    "executionInfo": {
     "elapsed": 354,
     "status": "ok",
     "timestamp": 1635888279365,
     "user": {
      "displayName": "Yusuf C",
      "photoUrl": "https://lh3.googleusercontent.com/a/default-user=s64",
      "userId": "01460091991965572961"
     },
     "user_tz": -180
    },
    "id": "YX04SM9mt5Q-",
    "outputId": "ea1fe775-6ba9-4a90-eaac-674706cf0b99"
   },
   "outputs": [
    {
     "data": {
      "text/plain": [
       "2"
      ]
     },
     "execution_count": 155,
     "metadata": {},
     "output_type": "execute_result"
    }
   ],
   "source": [
    "df[\"Type\"].isnull().sum()"
   ]
  },
  {
   "cell_type": "code",
   "execution_count": null,
   "metadata": {
    "colab": {
     "base_uri": "https://localhost:8080/"
    },
    "executionInfo": {
     "elapsed": 347,
     "status": "ok",
     "timestamp": 1635888279366,
     "user": {
      "displayName": "Yusuf C",
      "photoUrl": "https://lh3.googleusercontent.com/a/default-user=s64",
      "userId": "01460091991965572961"
     },
     "user_tz": -180
    },
    "id": "_iHfC-kl1fSo",
    "outputId": "b763bfd7-8e7d-4a53-ec77-556c035338c1"
   },
   "outputs": [
    {
     "data": {
      "text/plain": [
       "Int64Index([2765, 5237], dtype='int64')"
      ]
     },
     "execution_count": 156,
     "metadata": {},
     "output_type": "execute_result"
    }
   ],
   "source": [
    "df[df[\"Type\"].isnull()].index"
   ]
  },
  {
   "cell_type": "code",
   "execution_count": null,
   "metadata": {
    "colab": {
     "base_uri": "https://localhost:8080/"
    },
    "executionInfo": {
     "elapsed": 343,
     "status": "ok",
     "timestamp": 1635888279368,
     "user": {
      "displayName": "Yusuf C",
      "photoUrl": "https://lh3.googleusercontent.com/a/default-user=s64",
      "userId": "01460091991965572961"
     },
     "user_tz": -180
    },
    "id": "M1oHrdgSEYiB",
    "outputId": "a6c79726-447c-48f5-897f-792b0f21e988"
   },
   "outputs": [
    {
     "data": {
      "text/plain": [
       "2765    NaN\n",
       "5237    NaN\n",
       "Name: Type, dtype: object"
      ]
     },
     "execution_count": 157,
     "metadata": {},
     "output_type": "execute_result"
    }
   ],
   "source": [
    "df[df[\"Type\"].isnull()][\"Type\"]"
   ]
  },
  {
   "cell_type": "code",
   "execution_count": null,
   "metadata": {
    "colab": {
     "base_uri": "https://localhost:8080/"
    },
    "executionInfo": {
     "elapsed": 339,
     "status": "ok",
     "timestamp": 1635888279370,
     "user": {
      "displayName": "Yusuf C",
      "photoUrl": "https://lh3.googleusercontent.com/a/default-user=s64",
      "userId": "01460091991965572961"
     },
     "user_tz": -180
    },
    "id": "16tulBJfPIgr",
    "outputId": "a26dfb06-a2f5-4ab5-f8bc-5ac9bdbd3a01"
   },
   "outputs": [
    {
     "data": {
      "text/plain": [
       "2"
      ]
     },
     "execution_count": 158,
     "metadata": {},
     "output_type": "execute_result"
    }
   ],
   "source": [
    "df[\"Type\"].isnull().sum()"
   ]
  },
  {
   "cell_type": "code",
   "execution_count": null,
   "metadata": {
    "colab": {
     "base_uri": "https://localhost:8080/"
    },
    "executionInfo": {
     "elapsed": 335,
     "status": "ok",
     "timestamp": 1635888279373,
     "user": {
      "displayName": "Yusuf C",
      "photoUrl": "https://lh3.googleusercontent.com/a/default-user=s64",
      "userId": "01460091991965572961"
     },
     "user_tz": -180
    },
    "id": "H34tx3NzFyk_",
    "outputId": "3c9e7486-d713-4e1b-f04d-e9a984f4a3ce"
   },
   "outputs": [
    {
     "data": {
      "text/plain": [
       "4.0    15917\n",
       "NaN        2\n",
       "Name: Type, dtype: int64"
      ]
     },
     "execution_count": 159,
     "metadata": {},
     "output_type": "execute_result"
    }
   ],
   "source": [
    "df[\"Type\"].apply(lambda x : len(x) if type(x)!=float else x).value_counts(dropna=False)"
   ]
  },
  {
   "cell_type": "code",
   "execution_count": null,
   "metadata": {
    "colab": {
     "base_uri": "https://localhost:8080/"
    },
    "executionInfo": {
     "elapsed": 331,
     "status": "ok",
     "timestamp": 1635888279375,
     "user": {
      "displayName": "Yusuf C",
      "photoUrl": "https://lh3.googleusercontent.com/a/default-user=s64",
      "userId": "01460091991965572961"
     },
     "user_tz": -180
    },
    "id": "HRv0URXVGqoe",
    "outputId": "c2219410-91a7-4b4c-8160-9fdb9bca4807"
   },
   "outputs": [
    {
     "data": {
      "text/plain": [
       "0                  [, Used, , Diesel (Particulate Filter)]\n",
       "1                                     [, Used, , Gasoline]\n",
       "2                  [, Used, , Diesel (Particulate Filter)]\n",
       "3                  [, Used, , Diesel (Particulate Filter)]\n",
       "4                  [, Used, , Diesel (Particulate Filter)]\n",
       "                               ...                        \n",
       "15914               [, New, , Diesel (Particulate Filter)]\n",
       "15915    [, Used, , Super 95 / Super Plus 98 (Particula...\n",
       "15916                         [, Pre-registered, , Diesel]\n",
       "15917                         [, Pre-registered, , Diesel]\n",
       "15918                        [, Demonstration, , Super 95]\n",
       "Name: Type, Length: 15919, dtype: object"
      ]
     },
     "execution_count": 160,
     "metadata": {},
     "output_type": "execute_result"
    }
   ],
   "source": [
    "df[\"Type\"]"
   ]
  },
  {
   "cell_type": "code",
   "execution_count": null,
   "metadata": {
    "id": "KD_bZB6Pt457"
   },
   "outputs": [],
   "source": [
    "for i in range(df.shape[0]):\n",
    "  if type(df[\"Type\"][i]) == list:\n",
    "    del df[\"Type\"][i][0], df[\"Type\"][i][1]\n",
    "  else:\n",
    "    pass"
   ]
  },
  {
   "cell_type": "code",
   "execution_count": null,
   "metadata": {
    "colab": {
     "base_uri": "https://localhost:8080/"
    },
    "executionInfo": {
     "elapsed": 328,
     "status": "ok",
     "timestamp": 1635888279379,
     "user": {
      "displayName": "Yusuf C",
      "photoUrl": "https://lh3.googleusercontent.com/a/default-user=s64",
      "userId": "01460091991965572961"
     },
     "user_tz": -180
    },
    "id": "QuH96xRlISj8",
    "outputId": "123fddc8-4b4b-44b1-d724-1f00613aeac9"
   },
   "outputs": [
    {
     "data": {
      "text/plain": [
       "0                      [Used, Diesel (Particulate Filter)]\n",
       "1                                         [Used, Gasoline]\n",
       "2                      [Used, Diesel (Particulate Filter)]\n",
       "3                      [Used, Diesel (Particulate Filter)]\n",
       "4                      [Used, Diesel (Particulate Filter)]\n",
       "                               ...                        \n",
       "15914                   [New, Diesel (Particulate Filter)]\n",
       "15915    [Used, Super 95 / Super Plus 98 (Particulate F...\n",
       "15916                             [Pre-registered, Diesel]\n",
       "15917                             [Pre-registered, Diesel]\n",
       "15918                            [Demonstration, Super 95]\n",
       "Name: Type, Length: 15919, dtype: object"
      ]
     },
     "execution_count": 162,
     "metadata": {},
     "output_type": "execute_result"
    }
   ],
   "source": [
    "df[\"Type\"]"
   ]
  },
  {
   "cell_type": "code",
   "execution_count": null,
   "metadata": {
    "colab": {
     "base_uri": "https://localhost:8080/",
     "height": 35
    },
    "executionInfo": {
     "elapsed": 324,
     "status": "ok",
     "timestamp": 1635888279381,
     "user": {
      "displayName": "Yusuf C",
      "photoUrl": "https://lh3.googleusercontent.com/a/default-user=s64",
      "userId": "01460091991965572961"
     },
     "user_tz": -180
    },
    "id": "N7DFjas9t4_M",
    "outputId": "eebf0608-5eb5-4ded-dc8a-a1969dff94cb"
   },
   "outputs": [
    {
     "data": {
      "application/vnd.google.colaboratory.intrinsic+json": {
       "type": "string"
      },
      "text/plain": [
       "'Used,Diesel (Particulate Filter)'"
      ]
     },
     "execution_count": 163,
     "metadata": {},
     "output_type": "execute_result"
    }
   ],
   "source": [
    "df[\"Type\"][0][0].split()[0] + \",\" + df[\"Type\"][0][1]"
   ]
  },
  {
   "cell_type": "code",
   "execution_count": null,
   "metadata": {
    "id": "TbZelME2xdII"
   },
   "outputs": [],
   "source": [
    "df[\"Type\"] = df[\"Type\"].apply(lambda x : x[0].split()[0] + \",\" + x[1] if type(x) != float else x )"
   ]
  },
  {
   "cell_type": "code",
   "execution_count": null,
   "metadata": {
    "colab": {
     "base_uri": "https://localhost:8080/"
    },
    "executionInfo": {
     "elapsed": 325,
     "status": "ok",
     "timestamp": 1635888279384,
     "user": {
      "displayName": "Yusuf C",
      "photoUrl": "https://lh3.googleusercontent.com/a/default-user=s64",
      "userId": "01460091991965572961"
     },
     "user_tz": -180
    },
    "id": "LLwyhqXfurtR",
    "outputId": "10b37c54-2d3e-43b9-f1cc-59568816e69d"
   },
   "outputs": [
    {
     "data": {
      "text/plain": [
       "Used,Diesel (Particulate Filter)                                                                                  3475\n",
       "Used,Diesel                                                                                                       2516\n",
       "Used,Gasoline                                                                                                     2367\n",
       "Used,Super 95                                                                                                     1818\n",
       "Pre-registered,Super 95                                                                                            500\n",
       "                                                                                                                  ... \n",
       "Used,Super 95 / Super E10 95 / Super Plus 98                                                                         1\n",
       "Demonstration,Gasoline (Particulate Filter)                                                                          1\n",
       "Used,Super 95 / Regular/Benzine E10 91                                                                               1\n",
       "Demonstration,Super Plus 98 / Super 95 / Super E10 95                                                                1\n",
       "Used,Super E10 95 / Regular/Benzine 91 / Super 95 / Super Plus 98 / Regular/Benzine E10 91 / Super Plus E10 98       1\n",
       "Name: Type, Length: 170, dtype: int64"
      ]
     },
     "execution_count": 165,
     "metadata": {},
     "output_type": "execute_result"
    }
   ],
   "source": [
    "df[\"Type\"].value_counts(dropna=False)"
   ]
  },
  {
   "cell_type": "code",
   "execution_count": null,
   "metadata": {
    "colab": {
     "base_uri": "https://localhost:8080/",
     "height": 419
    },
    "executionInfo": {
     "elapsed": 320,
     "status": "ok",
     "timestamp": 1635888279386,
     "user": {
      "displayName": "Yusuf C",
      "photoUrl": "https://lh3.googleusercontent.com/a/default-user=s64",
      "userId": "01460091991965572961"
     },
     "user_tz": -180
    },
    "id": "Wi8pv2MlKp9f",
    "outputId": "b7625d6e-bbd1-4ff2-a979-64b2bbb6b77c"
   },
   "outputs": [
    {
     "data": {
      "text/html": [
       "<div>\n",
       "<style scoped>\n",
       "    .dataframe tbody tr th:only-of-type {\n",
       "        vertical-align: middle;\n",
       "    }\n",
       "\n",
       "    .dataframe tbody tr th {\n",
       "        vertical-align: top;\n",
       "    }\n",
       "\n",
       "    .dataframe thead th {\n",
       "        text-align: right;\n",
       "    }\n",
       "</style>\n",
       "<table border=\"1\" class=\"dataframe\">\n",
       "  <thead>\n",
       "    <tr style=\"text-align: right;\">\n",
       "      <th></th>\n",
       "      <th>Type</th>\n",
       "      <th>Fuel</th>\n",
       "    </tr>\n",
       "  </thead>\n",
       "  <tbody>\n",
       "    <tr>\n",
       "      <th>0</th>\n",
       "      <td>Used,Diesel (Particulate Filter)</td>\n",
       "      <td>Diesel</td>\n",
       "    </tr>\n",
       "    <tr>\n",
       "      <th>1</th>\n",
       "      <td>Used,Gasoline</td>\n",
       "      <td>Gasoline</td>\n",
       "    </tr>\n",
       "    <tr>\n",
       "      <th>2</th>\n",
       "      <td>Used,Diesel (Particulate Filter)</td>\n",
       "      <td>Diesel</td>\n",
       "    </tr>\n",
       "    <tr>\n",
       "      <th>3</th>\n",
       "      <td>Used,Diesel (Particulate Filter)</td>\n",
       "      <td>Diesel</td>\n",
       "    </tr>\n",
       "    <tr>\n",
       "      <th>4</th>\n",
       "      <td>Used,Diesel (Particulate Filter)</td>\n",
       "      <td>Diesel</td>\n",
       "    </tr>\n",
       "    <tr>\n",
       "      <th>...</th>\n",
       "      <td>...</td>\n",
       "      <td>...</td>\n",
       "    </tr>\n",
       "    <tr>\n",
       "      <th>15914</th>\n",
       "      <td>New,Diesel (Particulate Filter)</td>\n",
       "      <td>Diesel</td>\n",
       "    </tr>\n",
       "    <tr>\n",
       "      <th>15915</th>\n",
       "      <td>Used,Super 95 / Super Plus 98 (Particulate Fil...</td>\n",
       "      <td>Gasoline</td>\n",
       "    </tr>\n",
       "    <tr>\n",
       "      <th>15916</th>\n",
       "      <td>Pre-registered,Diesel</td>\n",
       "      <td>Diesel</td>\n",
       "    </tr>\n",
       "    <tr>\n",
       "      <th>15917</th>\n",
       "      <td>Pre-registered,Diesel</td>\n",
       "      <td>Diesel</td>\n",
       "    </tr>\n",
       "    <tr>\n",
       "      <th>15918</th>\n",
       "      <td>Demonstration,Super 95</td>\n",
       "      <td>Gasoline</td>\n",
       "    </tr>\n",
       "  </tbody>\n",
       "</table>\n",
       "<p>15919 rows × 2 columns</p>\n",
       "</div>"
      ],
      "text/plain": [
       "                                                    Type      Fuel\n",
       "0                       Used,Diesel (Particulate Filter)    Diesel\n",
       "1                                          Used,Gasoline  Gasoline\n",
       "2                       Used,Diesel (Particulate Filter)    Diesel\n",
       "3                       Used,Diesel (Particulate Filter)    Diesel\n",
       "4                       Used,Diesel (Particulate Filter)    Diesel\n",
       "...                                                  ...       ...\n",
       "15914                    New,Diesel (Particulate Filter)    Diesel\n",
       "15915  Used,Super 95 / Super Plus 98 (Particulate Fil...  Gasoline\n",
       "15916                              Pre-registered,Diesel    Diesel\n",
       "15917                              Pre-registered,Diesel    Diesel\n",
       "15918                             Demonstration,Super 95  Gasoline\n",
       "\n",
       "[15919 rows x 2 columns]"
      ]
     },
     "execution_count": 166,
     "metadata": {},
     "output_type": "execute_result"
    }
   ],
   "source": [
    "df[[\"Type\", \"Fuel\"]]"
   ]
  },
  {
   "cell_type": "code",
   "execution_count": null,
   "metadata": {
    "colab": {
     "base_uri": "https://localhost:8080/"
    },
    "executionInfo": {
     "elapsed": 320,
     "status": "ok",
     "timestamp": 1635888279387,
     "user": {
      "displayName": "Yusuf C",
      "photoUrl": "https://lh3.googleusercontent.com/a/default-user=s64",
      "userId": "01460091991965572961"
     },
     "user_tz": -180
    },
    "id": "zSznI_R0K7bO",
    "outputId": "876f1dc2-d79d-4d1b-b17c-1c11e595239d"
   },
   "outputs": [
    {
     "data": {
      "text/plain": [
       "False"
      ]
     },
     "execution_count": 167,
     "metadata": {},
     "output_type": "execute_result"
    }
   ],
   "source": [
    "df[\"Type\"][0].split(\",\")[1] == df[\"Fuel\"][0]"
   ]
  },
  {
   "cell_type": "code",
   "execution_count": null,
   "metadata": {
    "colab": {
     "base_uri": "https://localhost:8080/"
    },
    "executionInfo": {
     "elapsed": 315,
     "status": "ok",
     "timestamp": 1635888279389,
     "user": {
      "displayName": "Yusuf C",
      "photoUrl": "https://lh3.googleusercontent.com/a/default-user=s64",
      "userId": "01460091991965572961"
     },
     "user_tz": -180
    },
    "id": "iGhNABYkK7fF",
    "outputId": "7f327e66-cf20-4f8d-fda2-592fddb51ee6"
   },
   "outputs": [
    {
     "name": "stdout",
     "output_type": "stream",
     "text": [
      "\u001b[1;30;43mGörüntülenen çıkış son 5000 satıra kısaltıldı.\u001b[0m\n",
      "not equal\n",
      "not equal\n",
      "not equal\n",
      "not equal\n",
      "not equal\n",
      "not equal\n",
      "not equal\n",
      "not equal\n",
      "not equal\n",
      "not equal\n",
      "not equal\n",
      "not equal\n",
      "not equal\n",
      "not equal\n",
      "not equal\n",
      "not equal\n",
      "not equal\n",
      "not equal\n",
      "not equal\n",
      "not equal\n",
      "not equal\n",
      "not equal\n",
      "not equal\n",
      "not equal\n",
      "not equal\n",
      "not equal\n",
      "not equal\n",
      "not equal\n",
      "not equal\n",
      "not equal\n",
      "not equal\n",
      "not equal\n",
      "not equal\n",
      "not equal\n",
      "not equal\n",
      "not equal\n",
      "not equal\n",
      "not equal\n",
      "not equal\n",
      "not equal\n",
      "not equal\n",
      "not equal\n",
      "not equal\n",
      "not equal\n",
      "not equal\n",
      "not equal\n",
      "not equal\n",
      "not equal\n",
      "not equal\n",
      "not equal\n",
      "not equal\n",
      "not equal\n",
      "not equal\n",
      "not equal\n",
      "not equal\n",
      "not equal\n",
      "not equal\n",
      "not equal\n",
      "not equal\n",
      "not equal\n",
      "not equal\n",
      "not equal\n",
      "not equal\n",
      "not equal\n",
      "not equal\n",
      "not equal\n",
      "not equal\n",
      "not equal\n",
      "not equal\n",
      "not equal\n",
      "not equal\n",
      "not equal\n",
      "not equal\n",
      "not equal\n",
      "not equal\n",
      "not equal\n",
      "not equal\n",
      "not equal\n",
      "not equal\n",
      "not equal\n",
      "not equal\n",
      "not equal\n",
      "not equal\n",
      "not equal\n",
      "not equal\n",
      "not equal\n",
      "not equal\n",
      "not equal\n",
      "not equal\n",
      "not equal\n",
      "not equal\n",
      "not equal\n",
      "not equal\n",
      "not equal\n",
      "not equal\n",
      "not equal\n",
      "not equal\n",
      "not equal\n",
      "not equal\n",
      "not equal\n",
      "not equal\n",
      "not equal\n",
      "not equal\n",
      "not equal\n",
      "not equal\n",
      "not equal\n",
      "not equal\n",
      "not equal\n",
      "not equal\n",
      "not equal\n",
      "not equal\n",
      "not equal\n",
      "not equal\n",
      "not equal\n",
      "not equal\n",
      "not equal\n",
      "not equal\n",
      "not equal\n",
      "not equal\n",
      "not equal\n",
      "not equal\n",
      "not equal\n",
      "not equal\n",
      "not equal\n",
      "not equal\n",
      "not equal\n",
      "not equal\n",
      "not equal\n",
      "not equal\n",
      "not equal\n",
      "not equal\n",
      "not equal\n",
      "not equal\n",
      "not equal\n",
      "not equal\n",
      "not equal\n",
      "not equal\n",
      "not equal\n",
      "not equal\n",
      "not equal\n",
      "not equal\n",
      "not equal\n",
      "not equal\n",
      "not equal\n",
      "not equal\n",
      "not equal\n",
      "not equal\n",
      "not equal\n",
      "not equal\n",
      "not equal\n",
      "not equal\n",
      "not equal\n",
      "not equal\n",
      "not equal\n",
      "not equal\n",
      "not equal\n",
      "not equal\n",
      "not equal\n",
      "not equal\n",
      "not equal\n",
      "not equal\n",
      "not equal\n",
      "not equal\n",
      "not equal\n",
      "not equal\n",
      "not equal\n",
      "not equal\n",
      "not equal\n",
      "not equal\n",
      "not equal\n",
      "not equal\n",
      "not equal\n",
      "not equal\n",
      "not equal\n",
      "not equal\n",
      "not equal\n",
      "not equal\n",
      "not equal\n",
      "not equal\n",
      "not equal\n",
      "not equal\n",
      "not equal\n",
      "not equal\n",
      "not equal\n",
      "not equal\n",
      "not equal\n",
      "not equal\n",
      "not equal\n",
      "not equal\n",
      "not equal\n",
      "not equal\n",
      "not equal\n",
      "not equal\n",
      "not equal\n",
      "not equal\n",
      "not equal\n",
      "not equal\n",
      "not equal\n",
      "not equal\n",
      "not equal\n",
      "not equal\n",
      "not equal\n",
      "not equal\n",
      "not equal\n",
      "not equal\n",
      "not equal\n",
      "not equal\n",
      "not equal\n",
      "not equal\n",
      "not equal\n",
      "not equal\n",
      "not equal\n",
      "not equal\n",
      "not equal\n",
      "not equal\n",
      "not equal\n",
      "not equal\n",
      "not equal\n",
      "not equal\n",
      "not equal\n",
      "not equal\n",
      "not equal\n",
      "not equal\n",
      "not equal\n",
      "not equal\n",
      "not equal\n",
      "not equal\n",
      "not equal\n",
      "not equal\n",
      "not equal\n",
      "not equal\n",
      "not equal\n",
      "not equal\n",
      "not equal\n",
      "not equal\n",
      "not equal\n",
      "not equal\n",
      "not equal\n",
      "not equal\n",
      "not equal\n",
      "not equal\n",
      "not equal\n",
      "not equal\n",
      "not equal\n",
      "not equal\n",
      "not equal\n",
      "not equal\n",
      "not equal\n",
      "not equal\n",
      "not equal\n",
      "not equal\n",
      "not equal\n",
      "not equal\n",
      "not equal\n",
      "not equal\n",
      "not equal\n",
      "not equal\n",
      "not equal\n",
      "not equal\n",
      "not equal\n",
      "not equal\n",
      "not equal\n",
      "not equal\n",
      "not equal\n",
      "not equal\n",
      "not equal\n",
      "not equal\n",
      "not equal\n",
      "not equal\n",
      "not equal\n",
      "not equal\n",
      "not equal\n",
      "not equal\n",
      "not equal\n",
      "not equal\n",
      "not equal\n",
      "not equal\n",
      "not equal\n",
      "not equal\n",
      "not equal\n",
      "not equal\n",
      "not equal\n",
      "not equal\n",
      "not equal\n",
      "not equal\n",
      "not equal\n",
      "not equal\n",
      "not equal\n",
      "not equal\n",
      "not equal\n",
      "not equal\n",
      "not equal\n",
      "not equal\n",
      "not equal\n",
      "not equal\n",
      "not equal\n",
      "not equal\n",
      "not equal\n",
      "not equal\n",
      "not equal\n",
      "not equal\n",
      "not equal\n",
      "not equal\n",
      "not equal\n",
      "not equal\n",
      "not equal\n",
      "not equal\n",
      "not equal\n",
      "not equal\n",
      "not equal\n",
      "not equal\n",
      "not equal\n",
      "not equal\n",
      "not equal\n",
      "not equal\n",
      "not equal\n",
      "not equal\n",
      "not equal\n",
      "not equal\n",
      "not equal\n",
      "not equal\n",
      "not equal\n",
      "not equal\n",
      "not equal\n",
      "not equal\n",
      "not equal\n",
      "not equal\n",
      "not equal\n",
      "not equal\n",
      "not equal\n",
      "not equal\n",
      "not equal\n",
      "not equal\n",
      "not equal\n",
      "not equal\n",
      "not equal\n",
      "not equal\n",
      "not equal\n",
      "not equal\n",
      "not equal\n",
      "not equal\n",
      "not equal\n",
      "not equal\n",
      "not equal\n",
      "not equal\n",
      "not equal\n",
      "not equal\n",
      "not equal\n",
      "not equal\n",
      "not equal\n",
      "not equal\n",
      "not equal\n",
      "not equal\n",
      "not equal\n",
      "not equal\n",
      "not equal\n",
      "not equal\n",
      "not equal\n",
      "not equal\n",
      "not equal\n",
      "not equal\n",
      "not equal\n",
      "not equal\n",
      "not equal\n",
      "not equal\n",
      "not equal\n",
      "not equal\n",
      "not equal\n",
      "not equal\n",
      "not equal\n",
      "not equal\n",
      "not equal\n",
      "not equal\n",
      "not equal\n",
      "not equal\n",
      "not equal\n",
      "not equal\n",
      "not equal\n",
      "not equal\n",
      "not equal\n",
      "not equal\n",
      "not equal\n",
      "not equal\n",
      "not equal\n",
      "not equal\n",
      "not equal\n",
      "not equal\n",
      "not equal\n",
      "not equal\n",
      "not equal\n",
      "not equal\n",
      "not equal\n",
      "not equal\n",
      "not equal\n",
      "not equal\n",
      "not equal\n",
      "not equal\n",
      "not equal\n",
      "not equal\n",
      "not equal\n",
      "not equal\n",
      "not equal\n",
      "not equal\n",
      "not equal\n",
      "not equal\n",
      "not equal\n",
      "not equal\n",
      "not equal\n",
      "not equal\n",
      "not equal\n",
      "not equal\n",
      "not equal\n",
      "not equal\n",
      "not equal\n",
      "not equal\n",
      "not equal\n",
      "not equal\n",
      "not equal\n",
      "not equal\n",
      "not equal\n",
      "not equal\n",
      "not equal\n",
      "not equal\n",
      "not equal\n",
      "not equal\n",
      "not equal\n",
      "not equal\n",
      "not equal\n",
      "not equal\n",
      "not equal\n",
      "not equal\n",
      "not equal\n",
      "not equal\n",
      "not equal\n",
      "not equal\n",
      "not equal\n",
      "not equal\n",
      "not equal\n",
      "not equal\n",
      "not equal\n",
      "not equal\n",
      "not equal\n",
      "not equal\n",
      "not equal\n",
      "not equal\n",
      "not equal\n",
      "not equal\n",
      "not equal\n",
      "not equal\n",
      "not equal\n",
      "not equal\n",
      "not equal\n",
      "not equal\n",
      "not equal\n",
      "not equal\n",
      "not equal\n",
      "not equal\n",
      "not equal\n",
      "not equal\n",
      "not equal\n",
      "not equal\n",
      "not equal\n",
      "not equal\n",
      "not equal\n",
      "not equal\n",
      "not equal\n",
      "not equal\n",
      "not equal\n",
      "not equal\n",
      "not equal\n",
      "not equal\n",
      "not equal\n",
      "not equal\n",
      "not equal\n",
      "not equal\n",
      "not equal\n",
      "not equal\n",
      "not equal\n",
      "not equal\n",
      "not equal\n",
      "not equal\n",
      "not equal\n",
      "not equal\n",
      "not equal\n",
      "not equal\n",
      "not equal\n",
      "not equal\n",
      "not equal\n",
      "not equal\n",
      "not equal\n",
      "not equal\n",
      "not equal\n",
      "not equal\n",
      "not equal\n",
      "not equal\n",
      "not equal\n",
      "not equal\n",
      "not equal\n",
      "not equal\n",
      "not equal\n",
      "not equal\n",
      "not equal\n",
      "not equal\n",
      "not equal\n",
      "not equal\n",
      "not equal\n",
      "not equal\n",
      "not equal\n",
      "not equal\n",
      "not equal\n",
      "not equal\n",
      "not equal\n",
      "not equal\n",
      "not equal\n",
      "not equal\n",
      "not equal\n",
      "not equal\n",
      "not equal\n",
      "not equal\n",
      "not equal\n",
      "not equal\n",
      "not equal\n",
      "not equal\n",
      "not equal\n",
      "not equal\n",
      "not equal\n",
      "not equal\n",
      "not equal\n",
      "not equal\n",
      "not equal\n",
      "not equal\n",
      "not equal\n",
      "not equal\n",
      "not equal\n",
      "not equal\n",
      "not equal\n",
      "not equal\n",
      "not equal\n",
      "not equal\n",
      "not equal\n",
      "not equal\n",
      "not equal\n",
      "not equal\n",
      "not equal\n",
      "not equal\n",
      "not equal\n",
      "not equal\n",
      "not equal\n",
      "not equal\n",
      "not equal\n",
      "not equal\n",
      "not equal\n",
      "not equal\n",
      "not equal\n",
      "not equal\n",
      "not equal\n",
      "not equal\n",
      "not equal\n",
      "not equal\n",
      "not equal\n",
      "not equal\n",
      "not equal\n",
      "not equal\n",
      "not equal\n",
      "not equal\n",
      "not equal\n",
      "not equal\n",
      "not equal\n",
      "not equal\n",
      "not equal\n",
      "not equal\n",
      "not equal\n",
      "not equal\n",
      "not equal\n",
      "not equal\n",
      "not equal\n",
      "not equal\n",
      "not equal\n",
      "not equal\n",
      "not equal\n",
      "not equal\n",
      "not equal\n",
      "not equal\n",
      "not equal\n",
      "not equal\n",
      "not equal\n",
      "not equal\n",
      "not equal\n",
      "not equal\n",
      "not equal\n",
      "not equal\n",
      "not equal\n",
      "not equal\n",
      "not equal\n",
      "not equal\n",
      "not equal\n",
      "not equal\n",
      "not equal\n",
      "not equal\n",
      "not equal\n",
      "not equal\n",
      "not equal\n",
      "not equal\n",
      "not equal\n",
      "not equal\n",
      "not equal\n",
      "not equal\n",
      "not equal\n",
      "not equal\n",
      "not equal\n",
      "not equal\n",
      "not equal\n",
      "not equal\n",
      "not equal\n",
      "not equal\n",
      "not equal\n",
      "not equal\n",
      "not equal\n",
      "not equal\n",
      "not equal\n",
      "not equal\n",
      "not equal\n",
      "not equal\n",
      "not equal\n",
      "not equal\n",
      "not equal\n",
      "not equal\n",
      "not equal\n",
      "not equal\n",
      "not equal\n",
      "not equal\n",
      "not equal\n",
      "not equal\n",
      "not equal\n",
      "not equal\n",
      "not equal\n",
      "not equal\n",
      "not equal\n",
      "not equal\n",
      "not equal\n",
      "not equal\n",
      "not equal\n",
      "not equal\n",
      "not equal\n",
      "not equal\n",
      "not equal\n",
      "not equal\n",
      "not equal\n",
      "not equal\n",
      "not equal\n",
      "not equal\n",
      "not equal\n",
      "not equal\n",
      "not equal\n",
      "not equal\n",
      "not equal\n",
      "not equal\n",
      "not equal\n",
      "not equal\n",
      "not equal\n",
      "not equal\n",
      "not equal\n",
      "not equal\n",
      "not equal\n",
      "not equal\n",
      "not equal\n",
      "not equal\n",
      "not equal\n",
      "not equal\n",
      "not equal\n",
      "not equal\n",
      "not equal\n",
      "not equal\n",
      "not equal\n",
      "not equal\n",
      "not equal\n",
      "not equal\n",
      "not equal\n",
      "not equal\n",
      "not equal\n",
      "not equal\n",
      "not equal\n",
      "not equal\n",
      "not equal\n",
      "not equal\n",
      "not equal\n",
      "not equal\n",
      "not equal\n",
      "not equal\n",
      "not equal\n",
      "not equal\n",
      "not equal\n",
      "not equal\n",
      "not equal\n",
      "not equal\n",
      "not equal\n",
      "not equal\n",
      "not equal\n",
      "not equal\n",
      "not equal\n",
      "not equal\n",
      "not equal\n",
      "not equal\n",
      "not equal\n",
      "not equal\n",
      "not equal\n",
      "not equal\n",
      "not equal\n",
      "not equal\n",
      "not equal\n",
      "not equal\n",
      "not equal\n",
      "not equal\n",
      "not equal\n",
      "not equal\n",
      "not equal\n",
      "not equal\n",
      "not equal\n",
      "not equal\n",
      "not equal\n",
      "not equal\n",
      "not equal\n",
      "not equal\n",
      "not equal\n",
      "not equal\n",
      "not equal\n",
      "not equal\n",
      "not equal\n",
      "not equal\n",
      "not equal\n",
      "not equal\n",
      "not equal\n",
      "not equal\n",
      "not equal\n",
      "not equal\n",
      "not equal\n",
      "not equal\n",
      "not equal\n",
      "not equal\n",
      "not equal\n",
      "not equal\n",
      "not equal\n",
      "not equal\n",
      "not equal\n",
      "not equal\n",
      "not equal\n",
      "not equal\n",
      "not equal\n",
      "not equal\n",
      "not equal\n",
      "not equal\n",
      "not equal\n",
      "not equal\n",
      "not equal\n",
      "not equal\n",
      "not equal\n",
      "not equal\n",
      "not equal\n",
      "not equal\n",
      "not equal\n",
      "not equal\n",
      "not equal\n",
      "not equal\n",
      "not equal\n",
      "not equal\n",
      "not equal\n",
      "not equal\n",
      "not equal\n",
      "not equal\n",
      "not equal\n",
      "not equal\n",
      "not equal\n",
      "not equal\n",
      "not equal\n",
      "not equal\n",
      "not equal\n",
      "not equal\n",
      "not equal\n",
      "not equal\n",
      "not equal\n",
      "not equal\n",
      "not equal\n",
      "not equal\n",
      "not equal\n",
      "not equal\n",
      "not equal\n",
      "not equal\n",
      "not equal\n",
      "not equal\n",
      "not equal\n",
      "not equal\n",
      "not equal\n",
      "not equal\n",
      "not equal\n",
      "not equal\n",
      "not equal\n",
      "not equal\n",
      "not equal\n",
      "not equal\n",
      "not equal\n",
      "not equal\n",
      "not equal\n",
      "not equal\n",
      "not equal\n",
      "not equal\n",
      "not equal\n",
      "not equal\n",
      "not equal\n",
      "not equal\n",
      "not equal\n",
      "not equal\n",
      "not equal\n",
      "not equal\n",
      "not equal\n",
      "not equal\n",
      "not equal\n",
      "not equal\n",
      "not equal\n",
      "not equal\n",
      "not equal\n",
      "not equal\n",
      "not equal\n",
      "not equal\n",
      "not equal\n",
      "not equal\n",
      "not equal\n",
      "not equal\n",
      "not equal\n",
      "not equal\n",
      "not equal\n",
      "not equal\n",
      "not equal\n",
      "not equal\n",
      "not equal\n",
      "not equal\n",
      "not equal\n",
      "not equal\n",
      "not equal\n",
      "not equal\n",
      "not equal\n",
      "not equal\n",
      "not equal\n",
      "not equal\n",
      "not equal\n",
      "not equal\n",
      "not equal\n",
      "not equal\n",
      "not equal\n",
      "not equal\n",
      "not equal\n",
      "not equal\n",
      "not equal\n",
      "not equal\n",
      "not equal\n",
      "not equal\n",
      "not equal\n",
      "not equal\n",
      "not equal\n",
      "not equal\n",
      "not equal\n",
      "not equal\n",
      "not equal\n",
      "not equal\n",
      "not equal\n",
      "not equal\n",
      "not equal\n",
      "not equal\n",
      "not equal\n",
      "not equal\n",
      "not equal\n",
      "not equal\n",
      "not equal\n",
      "not equal\n",
      "not equal\n",
      "not equal\n",
      "not equal\n",
      "not equal\n",
      "not equal\n",
      "not equal\n",
      "not equal\n",
      "not equal\n",
      "not equal\n",
      "not equal\n",
      "not equal\n",
      "not equal\n",
      "not equal\n",
      "not equal\n",
      "not equal\n",
      "not equal\n",
      "not equal\n",
      "not equal\n",
      "not equal\n",
      "not equal\n",
      "not equal\n",
      "not equal\n",
      "not equal\n",
      "not equal\n",
      "not equal\n",
      "not equal\n",
      "not equal\n",
      "not equal\n",
      "not equal\n",
      "not equal\n",
      "not equal\n",
      "not equal\n",
      "not equal\n",
      "not equal\n",
      "not equal\n",
      "not equal\n",
      "not equal\n",
      "not equal\n",
      "not equal\n",
      "not equal\n",
      "not equal\n",
      "not equal\n",
      "not equal\n",
      "not equal\n",
      "not equal\n",
      "not equal\n",
      "not equal\n",
      "not equal\n",
      "not equal\n",
      "not equal\n",
      "not equal\n",
      "not equal\n",
      "not equal\n",
      "not equal\n",
      "not equal\n",
      "not equal\n",
      "not equal\n",
      "not equal\n",
      "not equal\n",
      "not equal\n",
      "not equal\n",
      "not equal\n",
      "not equal\n",
      "not equal\n",
      "not equal\n",
      "not equal\n",
      "not equal\n",
      "not equal\n",
      "not equal\n",
      "not equal\n",
      "not equal\n",
      "not equal\n",
      "not equal\n",
      "not equal\n",
      "not equal\n",
      "not equal\n",
      "not equal\n",
      "not equal\n",
      "not equal\n",
      "not equal\n",
      "not equal\n",
      "not equal\n",
      "not equal\n",
      "not equal\n",
      "not equal\n",
      "not equal\n",
      "not equal\n",
      "not equal\n",
      "not equal\n",
      "not equal\n",
      "not equal\n",
      "not equal\n",
      "not equal\n",
      "not equal\n",
      "not equal\n",
      "not equal\n",
      "not equal\n",
      "not equal\n",
      "not equal\n",
      "not equal\n",
      "not equal\n",
      "not equal\n",
      "not equal\n",
      "not equal\n",
      "not equal\n",
      "not equal\n",
      "not equal\n",
      "not equal\n",
      "not equal\n",
      "not equal\n",
      "not equal\n",
      "not equal\n",
      "not equal\n",
      "not equal\n",
      "not equal\n",
      "not equal\n",
      "not equal\n",
      "not equal\n",
      "not equal\n",
      "not equal\n",
      "not equal\n",
      "not equal\n",
      "not equal\n",
      "not equal\n",
      "not equal\n",
      "not equal\n",
      "not equal\n",
      "not equal\n",
      "not equal\n",
      "not equal\n",
      "not equal\n",
      "not equal\n",
      "not equal\n",
      "not equal\n",
      "not equal\n",
      "not equal\n",
      "not equal\n",
      "not equal\n",
      "not equal\n",
      "not equal\n",
      "not equal\n",
      "not equal\n",
      "not equal\n",
      "not equal\n",
      "not equal\n",
      "not equal\n",
      "not equal\n",
      "not equal\n",
      "not equal\n",
      "not equal\n",
      "not equal\n",
      "not equal\n",
      "not equal\n",
      "not equal\n",
      "not equal\n",
      "not equal\n",
      "not equal\n",
      "not equal\n",
      "not equal\n",
      "not equal\n",
      "not equal\n",
      "not equal\n",
      "not equal\n",
      "not equal\n",
      "not equal\n",
      "not equal\n",
      "not equal\n",
      "not equal\n",
      "not equal\n",
      "not equal\n",
      "not equal\n",
      "not equal\n",
      "not equal\n",
      "not equal\n",
      "not equal\n",
      "not equal\n",
      "not equal\n",
      "not equal\n",
      "not equal\n",
      "not equal\n",
      "not equal\n",
      "not equal\n",
      "not equal\n",
      "not equal\n",
      "not equal\n",
      "not equal\n",
      "not equal\n",
      "not equal\n",
      "not equal\n",
      "not equal\n",
      "not equal\n",
      "not equal\n",
      "not equal\n",
      "not equal\n",
      "not equal\n",
      "not equal\n",
      "not equal\n",
      "not equal\n",
      "not equal\n",
      "not equal\n",
      "not equal\n",
      "not equal\n",
      "not equal\n",
      "not equal\n",
      "not equal\n",
      "not equal\n",
      "not equal\n",
      "not equal\n",
      "not equal\n",
      "not equal\n",
      "not equal\n",
      "not equal\n",
      "not equal\n",
      "not equal\n",
      "not equal\n",
      "not equal\n",
      "not equal\n",
      "not equal\n",
      "not equal\n",
      "not equal\n",
      "not equal\n",
      "not equal\n",
      "not equal\n",
      "not equal\n",
      "not equal\n",
      "not equal\n",
      "not equal\n",
      "not equal\n",
      "not equal\n",
      "not equal\n",
      "not equal\n",
      "not equal\n",
      "not equal\n",
      "not equal\n",
      "not equal\n",
      "not equal\n",
      "not equal\n",
      "not equal\n",
      "not equal\n",
      "not equal\n",
      "not equal\n",
      "not equal\n",
      "not equal\n",
      "not equal\n",
      "not equal\n",
      "not equal\n",
      "not equal\n",
      "not equal\n",
      "not equal\n",
      "not equal\n",
      "not equal\n",
      "not equal\n",
      "not equal\n",
      "not equal\n",
      "not equal\n",
      "not equal\n",
      "not equal\n",
      "not equal\n",
      "not equal\n",
      "not equal\n",
      "not equal\n",
      "not equal\n",
      "not equal\n",
      "not equal\n",
      "not equal\n",
      "not equal\n",
      "not equal\n",
      "not equal\n",
      "not equal\n",
      "not equal\n",
      "not equal\n",
      "not equal\n",
      "not equal\n",
      "not equal\n",
      "not equal\n",
      "not equal\n",
      "not equal\n",
      "not equal\n",
      "not equal\n",
      "not equal\n",
      "not equal\n",
      "not equal\n",
      "not equal\n",
      "not equal\n",
      "not equal\n",
      "not equal\n",
      "not equal\n",
      "not equal\n",
      "not equal\n",
      "not equal\n",
      "not equal\n",
      "not equal\n",
      "not equal\n",
      "not equal\n",
      "not equal\n",
      "not equal\n",
      "not equal\n",
      "not equal\n",
      "not equal\n",
      "not equal\n",
      "not equal\n",
      "not equal\n",
      "not equal\n",
      "not equal\n",
      "not equal\n",
      "not equal\n",
      "not equal\n",
      "not equal\n",
      "not equal\n",
      "not equal\n",
      "not equal\n",
      "not equal\n",
      "not equal\n",
      "not equal\n",
      "not equal\n",
      "not equal\n",
      "not equal\n",
      "not equal\n",
      "not equal\n",
      "not equal\n",
      "not equal\n",
      "not equal\n",
      "not equal\n",
      "not equal\n",
      "not equal\n",
      "not equal\n",
      "not equal\n",
      "not equal\n",
      "not equal\n",
      "not equal\n",
      "not equal\n",
      "not equal\n",
      "not equal\n",
      "not equal\n",
      "not equal\n",
      "not equal\n",
      "not equal\n",
      "not equal\n",
      "not equal\n",
      "not equal\n",
      "not equal\n",
      "not equal\n",
      "not equal\n",
      "not equal\n",
      "not equal\n",
      "not equal\n",
      "not equal\n",
      "not equal\n",
      "not equal\n",
      "not equal\n",
      "not equal\n",
      "not equal\n",
      "not equal\n",
      "not equal\n",
      "not equal\n",
      "not equal\n",
      "not equal\n",
      "not equal\n",
      "not equal\n",
      "not equal\n",
      "not equal\n",
      "not equal\n",
      "not equal\n",
      "not equal\n",
      "not equal\n",
      "not equal\n",
      "not equal\n",
      "not equal\n",
      "not equal\n",
      "not equal\n",
      "not equal\n",
      "not equal\n",
      "not equal\n",
      "not equal\n",
      "not equal\n",
      "not equal\n",
      "not equal\n",
      "not equal\n",
      "not equal\n",
      "not equal\n",
      "not equal\n",
      "not equal\n",
      "not equal\n",
      "not equal\n",
      "not equal\n",
      "not equal\n",
      "not equal\n",
      "not equal\n",
      "not equal\n",
      "not equal\n",
      "not equal\n",
      "not equal\n",
      "not equal\n",
      "not equal\n",
      "not equal\n",
      "not equal\n",
      "not equal\n",
      "not equal\n",
      "not equal\n",
      "not equal\n",
      "not equal\n",
      "not equal\n",
      "not equal\n",
      "not equal\n",
      "not equal\n",
      "not equal\n",
      "not equal\n",
      "not equal\n",
      "not equal\n",
      "not equal\n",
      "not equal\n",
      "not equal\n",
      "not equal\n",
      "not equal\n",
      "not equal\n",
      "not equal\n",
      "not equal\n",
      "not equal\n",
      "not equal\n",
      "not equal\n",
      "not equal\n",
      "not equal\n",
      "not equal\n",
      "not equal\n",
      "not equal\n",
      "not equal\n",
      "not equal\n",
      "not equal\n",
      "not equal\n",
      "not equal\n",
      "not equal\n",
      "not equal\n",
      "not equal\n",
      "not equal\n",
      "not equal\n",
      "not equal\n",
      "not equal\n",
      "not equal\n",
      "not equal\n",
      "not equal\n",
      "not equal\n",
      "not equal\n",
      "not equal\n",
      "not equal\n",
      "not equal\n",
      "not equal\n",
      "not equal\n",
      "not equal\n",
      "not equal\n",
      "not equal\n",
      "not equal\n",
      "not equal\n",
      "not equal\n",
      "not equal\n",
      "not equal\n",
      "not equal\n",
      "not equal\n",
      "not equal\n",
      "not equal\n",
      "not equal\n",
      "not equal\n",
      "not equal\n",
      "not equal\n",
      "not equal\n",
      "not equal\n",
      "not equal\n",
      "not equal\n",
      "not equal\n",
      "not equal\n",
      "not equal\n",
      "not equal\n",
      "not equal\n",
      "not equal\n",
      "not equal\n",
      "not equal\n",
      "not equal\n",
      "not equal\n",
      "not equal\n",
      "not equal\n",
      "not equal\n",
      "not equal\n",
      "not equal\n",
      "not equal\n",
      "not equal\n",
      "not equal\n",
      "not equal\n",
      "not equal\n",
      "not equal\n",
      "not equal\n",
      "not equal\n",
      "not equal\n",
      "not equal\n",
      "not equal\n",
      "not equal\n",
      "not equal\n",
      "not equal\n",
      "not equal\n",
      "not equal\n",
      "not equal\n",
      "not equal\n",
      "not equal\n",
      "not equal\n",
      "not equal\n",
      "not equal\n",
      "not equal\n",
      "not equal\n",
      "not equal\n",
      "not equal\n",
      "not equal\n",
      "not equal\n",
      "not equal\n",
      "not equal\n",
      "not equal\n",
      "not equal\n",
      "not equal\n",
      "not equal\n",
      "not equal\n",
      "not equal\n",
      "not equal\n",
      "not equal\n",
      "not equal\n",
      "not equal\n",
      "not equal\n",
      "not equal\n",
      "not equal\n",
      "not equal\n",
      "not equal\n",
      "not equal\n",
      "not equal\n",
      "not equal\n",
      "not equal\n",
      "not equal\n",
      "not equal\n",
      "not equal\n",
      "not equal\n",
      "not equal\n",
      "not equal\n",
      "not equal\n",
      "not equal\n",
      "not equal\n",
      "not equal\n",
      "not equal\n",
      "not equal\n",
      "not equal\n",
      "not equal\n",
      "not equal\n",
      "not equal\n",
      "not equal\n",
      "not equal\n",
      "not equal\n",
      "not equal\n",
      "not equal\n",
      "not equal\n",
      "not equal\n",
      "not equal\n",
      "not equal\n",
      "not equal\n",
      "not equal\n",
      "not equal\n",
      "not equal\n",
      "not equal\n",
      "not equal\n",
      "not equal\n",
      "not equal\n",
      "not equal\n",
      "not equal\n",
      "not equal\n",
      "not equal\n",
      "not equal\n",
      "not equal\n",
      "not equal\n",
      "not equal\n",
      "not equal\n",
      "not equal\n",
      "not equal\n",
      "not equal\n",
      "not equal\n",
      "not equal\n",
      "not equal\n",
      "not equal\n",
      "not equal\n",
      "not equal\n",
      "not equal\n",
      "not equal\n",
      "not equal\n",
      "not equal\n",
      "not equal\n",
      "not equal\n",
      "not equal\n",
      "not equal\n",
      "not equal\n",
      "not equal\n",
      "not equal\n",
      "not equal\n",
      "not equal\n",
      "not equal\n",
      "not equal\n",
      "not equal\n",
      "not equal\n",
      "not equal\n",
      "not equal\n",
      "not equal\n",
      "not equal\n",
      "not equal\n",
      "not equal\n",
      "not equal\n",
      "not equal\n",
      "not equal\n",
      "not equal\n",
      "not equal\n",
      "not equal\n",
      "not equal\n",
      "not equal\n",
      "not equal\n",
      "not equal\n",
      "not equal\n",
      "not equal\n",
      "not equal\n",
      "not equal\n",
      "not equal\n",
      "not equal\n",
      "not equal\n",
      "not equal\n",
      "not equal\n",
      "not equal\n",
      "not equal\n",
      "not equal\n",
      "not equal\n",
      "not equal\n",
      "not equal\n",
      "not equal\n",
      "not equal\n",
      "not equal\n",
      "not equal\n",
      "not equal\n",
      "not equal\n",
      "not equal\n",
      "not equal\n",
      "not equal\n",
      "not equal\n",
      "not equal\n",
      "not equal\n",
      "not equal\n",
      "not equal\n",
      "not equal\n",
      "not equal\n",
      "not equal\n",
      "not equal\n",
      "not equal\n",
      "not equal\n",
      "not equal\n",
      "not equal\n",
      "not equal\n",
      "not equal\n",
      "not equal\n",
      "not equal\n",
      "not equal\n",
      "not equal\n",
      "not equal\n",
      "not equal\n",
      "not equal\n",
      "not equal\n",
      "not equal\n",
      "not equal\n",
      "not equal\n",
      "not equal\n",
      "not equal\n",
      "not equal\n",
      "not equal\n",
      "not equal\n",
      "not equal\n",
      "not equal\n",
      "not equal\n",
      "not equal\n",
      "not equal\n",
      "not equal\n",
      "not equal\n",
      "not equal\n",
      "not equal\n",
      "not equal\n",
      "not equal\n",
      "not equal\n",
      "not equal\n",
      "not equal\n",
      "not equal\n",
      "not equal\n",
      "not equal\n",
      "not equal\n",
      "not equal\n",
      "not equal\n",
      "not equal\n",
      "not equal\n",
      "not equal\n",
      "not equal\n",
      "not equal\n",
      "not equal\n",
      "not equal\n",
      "not equal\n",
      "not equal\n",
      "not equal\n",
      "not equal\n",
      "not equal\n",
      "not equal\n",
      "not equal\n",
      "not equal\n",
      "not equal\n",
      "not equal\n",
      "not equal\n",
      "not equal\n",
      "not equal\n",
      "not equal\n",
      "not equal\n",
      "not equal\n",
      "not equal\n",
      "not equal\n",
      "not equal\n",
      "not equal\n",
      "not equal\n",
      "not equal\n",
      "not equal\n",
      "not equal\n",
      "not equal\n",
      "not equal\n",
      "not equal\n",
      "not equal\n",
      "not equal\n",
      "not equal\n",
      "not equal\n",
      "not equal\n",
      "not equal\n",
      "not equal\n",
      "not equal\n",
      "not equal\n",
      "not equal\n",
      "not equal\n",
      "not equal\n",
      "not equal\n",
      "not equal\n",
      "not equal\n",
      "not equal\n",
      "not equal\n",
      "not equal\n",
      "not equal\n",
      "not equal\n",
      "not equal\n",
      "not equal\n",
      "not equal\n",
      "not equal\n",
      "not equal\n",
      "not equal\n",
      "not equal\n",
      "not equal\n",
      "not equal\n",
      "not equal\n",
      "not equal\n",
      "not equal\n",
      "not equal\n",
      "not equal\n",
      "not equal\n",
      "not equal\n",
      "not equal\n",
      "not equal\n",
      "not equal\n",
      "not equal\n",
      "not equal\n",
      "not equal\n",
      "not equal\n",
      "not equal\n",
      "not equal\n",
      "not equal\n",
      "not equal\n",
      "not equal\n",
      "not equal\n",
      "not equal\n",
      "not equal\n",
      "not equal\n",
      "not equal\n",
      "not equal\n",
      "not equal\n",
      "not equal\n",
      "not equal\n",
      "not equal\n",
      "not equal\n",
      "not equal\n",
      "not equal\n",
      "not equal\n",
      "not equal\n",
      "not equal\n",
      "not equal\n",
      "not equal\n",
      "not equal\n",
      "not equal\n",
      "not equal\n",
      "not equal\n",
      "not equal\n",
      "not equal\n",
      "not equal\n",
      "not equal\n",
      "not equal\n",
      "not equal\n",
      "not equal\n",
      "not equal\n",
      "not equal\n",
      "not equal\n",
      "not equal\n",
      "not equal\n",
      "not equal\n",
      "not equal\n",
      "not equal\n",
      "not equal\n",
      "not equal\n",
      "not equal\n",
      "not equal\n",
      "not equal\n",
      "not equal\n",
      "not equal\n",
      "not equal\n",
      "not equal\n",
      "not equal\n",
      "not equal\n",
      "not equal\n",
      "not equal\n",
      "not equal\n",
      "not equal\n",
      "not equal\n",
      "not equal\n",
      "not equal\n",
      "not equal\n",
      "not equal\n",
      "not equal\n",
      "not equal\n",
      "not equal\n",
      "not equal\n",
      "not equal\n",
      "not equal\n",
      "not equal\n",
      "not equal\n",
      "not equal\n",
      "not equal\n",
      "not equal\n",
      "not equal\n",
      "not equal\n",
      "not equal\n",
      "not equal\n",
      "not equal\n",
      "not equal\n",
      "not equal\n",
      "not equal\n",
      "not equal\n",
      "not equal\n",
      "not equal\n",
      "not equal\n",
      "not equal\n",
      "not equal\n",
      "not equal\n",
      "not equal\n",
      "not equal\n",
      "not equal\n",
      "not equal\n",
      "not equal\n",
      "not equal\n",
      "not equal\n",
      "not equal\n",
      "not equal\n",
      "not equal\n",
      "not equal\n",
      "not equal\n",
      "not equal\n",
      "not equal\n",
      "not equal\n",
      "not equal\n",
      "not equal\n",
      "not equal\n",
      "not equal\n",
      "not equal\n",
      "not equal\n",
      "not equal\n",
      "not equal\n",
      "not equal\n",
      "not equal\n",
      "not equal\n",
      "not equal\n",
      "not equal\n",
      "not equal\n",
      "not equal\n",
      "not equal\n",
      "not equal\n",
      "not equal\n",
      "not equal\n",
      "not equal\n",
      "not equal\n",
      "not equal\n",
      "not equal\n",
      "not equal\n",
      "not equal\n",
      "not equal\n",
      "not equal\n",
      "not equal\n",
      "not equal\n",
      "not equal\n",
      "not equal\n",
      "not equal\n",
      "not equal\n",
      "not equal\n",
      "not equal\n",
      "not equal\n",
      "not equal\n",
      "not equal\n",
      "not equal\n",
      "not equal\n",
      "not equal\n",
      "not equal\n",
      "not equal\n",
      "not equal\n",
      "not equal\n",
      "not equal\n",
      "not equal\n",
      "not equal\n",
      "not equal\n",
      "not equal\n",
      "not equal\n",
      "not equal\n",
      "not equal\n",
      "not equal\n",
      "not equal\n",
      "not equal\n",
      "not equal\n",
      "not equal\n",
      "not equal\n",
      "not equal\n",
      "not equal\n",
      "not equal\n",
      "not equal\n",
      "not equal\n",
      "not equal\n",
      "not equal\n",
      "not equal\n",
      "not equal\n",
      "not equal\n",
      "not equal\n",
      "not equal\n",
      "not equal\n",
      "not equal\n",
      "not equal\n",
      "not equal\n",
      "not equal\n",
      "not equal\n",
      "not equal\n",
      "not equal\n",
      "not equal\n",
      "not equal\n",
      "not equal\n",
      "not equal\n",
      "not equal\n",
      "not equal\n",
      "not equal\n",
      "not equal\n",
      "not equal\n",
      "not equal\n",
      "not equal\n",
      "not equal\n",
      "not equal\n",
      "not equal\n",
      "not equal\n",
      "not equal\n",
      "not equal\n",
      "not equal\n",
      "not equal\n",
      "not equal\n",
      "not equal\n",
      "not equal\n",
      "not equal\n",
      "not equal\n",
      "not equal\n",
      "not equal\n",
      "not equal\n",
      "not equal\n",
      "not equal\n",
      "not equal\n",
      "not equal\n",
      "not equal\n",
      "not equal\n",
      "not equal\n",
      "not equal\n",
      "not equal\n",
      "not equal\n",
      "not equal\n",
      "not equal\n",
      "not equal\n",
      "not equal\n",
      "not equal\n",
      "not equal\n",
      "not equal\n",
      "not equal\n",
      "not equal\n",
      "not equal\n",
      "not equal\n",
      "not equal\n",
      "not equal\n",
      "not equal\n",
      "not equal\n",
      "not equal\n",
      "not equal\n",
      "not equal\n",
      "not equal\n",
      "not equal\n",
      "not equal\n",
      "not equal\n",
      "not equal\n",
      "not equal\n",
      "not equal\n",
      "not equal\n",
      "not equal\n",
      "not equal\n",
      "not equal\n",
      "not equal\n",
      "not equal\n",
      "not equal\n",
      "not equal\n",
      "not equal\n",
      "not equal\n",
      "not equal\n",
      "not equal\n",
      "not equal\n",
      "not equal\n",
      "not equal\n",
      "not equal\n",
      "not equal\n",
      "not equal\n",
      "not equal\n",
      "not equal\n",
      "not equal\n",
      "not equal\n",
      "not equal\n",
      "not equal\n",
      "not equal\n",
      "not equal\n",
      "not equal\n",
      "not equal\n",
      "not equal\n",
      "not equal\n",
      "not equal\n",
      "not equal\n",
      "not equal\n",
      "not equal\n",
      "not equal\n",
      "not equal\n",
      "not equal\n",
      "not equal\n",
      "not equal\n",
      "not equal\n",
      "not equal\n",
      "not equal\n",
      "not equal\n",
      "not equal\n",
      "not equal\n",
      "not equal\n",
      "not equal\n",
      "not equal\n",
      "not equal\n",
      "not equal\n",
      "not equal\n",
      "not equal\n",
      "not equal\n",
      "not equal\n",
      "not equal\n",
      "not equal\n",
      "not equal\n",
      "not equal\n",
      "not equal\n",
      "not equal\n",
      "not equal\n",
      "not equal\n",
      "not equal\n",
      "not equal\n",
      "not equal\n",
      "not equal\n",
      "not equal\n",
      "not equal\n",
      "not equal\n",
      "not equal\n",
      "not equal\n",
      "not equal\n",
      "not equal\n",
      "not equal\n",
      "not equal\n",
      "not equal\n",
      "not equal\n",
      "not equal\n",
      "not equal\n",
      "not equal\n",
      "not equal\n",
      "not equal\n",
      "not equal\n",
      "not equal\n",
      "not equal\n",
      "not equal\n",
      "not equal\n",
      "not equal\n",
      "not equal\n",
      "not equal\n",
      "not equal\n",
      "not equal\n",
      "not equal\n",
      "not equal\n",
      "not equal\n",
      "not equal\n",
      "not equal\n",
      "not equal\n",
      "not equal\n",
      "not equal\n",
      "not equal\n",
      "not equal\n",
      "not equal\n",
      "not equal\n",
      "not equal\n",
      "not equal\n",
      "not equal\n",
      "not equal\n",
      "not equal\n",
      "not equal\n",
      "not equal\n",
      "not equal\n",
      "not equal\n",
      "not equal\n",
      "not equal\n",
      "not equal\n",
      "not equal\n",
      "not equal\n",
      "not equal\n",
      "not equal\n",
      "not equal\n",
      "not equal\n",
      "not equal\n",
      "not equal\n",
      "not equal\n",
      "not equal\n",
      "not equal\n",
      "not equal\n",
      "not equal\n",
      "not equal\n",
      "not equal\n",
      "not equal\n",
      "not equal\n",
      "not equal\n",
      "not equal\n",
      "not equal\n",
      "not equal\n",
      "not equal\n",
      "not equal\n",
      "not equal\n",
      "not equal\n",
      "not equal\n",
      "not equal\n",
      "not equal\n",
      "not equal\n",
      "not equal\n",
      "not equal\n",
      "not equal\n",
      "not equal\n",
      "not equal\n",
      "not equal\n",
      "not equal\n",
      "not equal\n",
      "not equal\n",
      "not equal\n",
      "not equal\n",
      "not equal\n",
      "not equal\n",
      "not equal\n",
      "not equal\n",
      "not equal\n",
      "not equal\n",
      "not equal\n",
      "not equal\n",
      "not equal\n",
      "not equal\n",
      "not equal\n",
      "not equal\n",
      "not equal\n",
      "not equal\n",
      "not equal\n",
      "not equal\n",
      "not equal\n",
      "not equal\n",
      "not equal\n",
      "not equal\n",
      "not equal\n",
      "not equal\n",
      "not equal\n",
      "not equal\n",
      "not equal\n",
      "not equal\n",
      "not equal\n",
      "not equal\n",
      "not equal\n",
      "not equal\n",
      "not equal\n",
      "not equal\n",
      "not equal\n",
      "not equal\n",
      "not equal\n",
      "not equal\n",
      "not equal\n",
      "not equal\n",
      "not equal\n",
      "not equal\n",
      "not equal\n",
      "not equal\n",
      "not equal\n",
      "not equal\n",
      "not equal\n",
      "not equal\n",
      "not equal\n",
      "not equal\n",
      "not equal\n",
      "not equal\n",
      "not equal\n",
      "not equal\n",
      "not equal\n",
      "not equal\n",
      "not equal\n",
      "not equal\n",
      "not equal\n",
      "not equal\n",
      "not equal\n",
      "not equal\n",
      "not equal\n",
      "not equal\n",
      "not equal\n",
      "not equal\n",
      "not equal\n",
      "not equal\n",
      "not equal\n",
      "not equal\n",
      "not equal\n",
      "not equal\n",
      "not equal\n",
      "not equal\n",
      "not equal\n",
      "not equal\n",
      "not equal\n",
      "not equal\n",
      "not equal\n",
      "not equal\n",
      "not equal\n",
      "not equal\n",
      "not equal\n",
      "not equal\n",
      "not equal\n",
      "not equal\n",
      "not equal\n",
      "not equal\n",
      "not equal\n",
      "not equal\n",
      "not equal\n",
      "not equal\n",
      "not equal\n",
      "not equal\n",
      "not equal\n",
      "not equal\n",
      "not equal\n",
      "not equal\n",
      "not equal\n",
      "not equal\n",
      "not equal\n",
      "not equal\n",
      "not equal\n",
      "not equal\n",
      "not equal\n",
      "not equal\n",
      "not equal\n",
      "not equal\n",
      "not equal\n",
      "not equal\n",
      "not equal\n",
      "not equal\n",
      "not equal\n",
      "not equal\n",
      "not equal\n",
      "not equal\n",
      "not equal\n",
      "not equal\n",
      "not equal\n",
      "not equal\n",
      "not equal\n",
      "not equal\n",
      "not equal\n",
      "not equal\n",
      "not equal\n",
      "not equal\n",
      "not equal\n",
      "not equal\n",
      "not equal\n",
      "not equal\n",
      "not equal\n",
      "not equal\n",
      "not equal\n",
      "not equal\n",
      "not equal\n",
      "not equal\n",
      "not equal\n",
      "not equal\n",
      "not equal\n",
      "not equal\n",
      "not equal\n",
      "not equal\n",
      "not equal\n",
      "not equal\n",
      "not equal\n",
      "not equal\n",
      "not equal\n",
      "not equal\n",
      "not equal\n",
      "not equal\n",
      "not equal\n",
      "not equal\n",
      "not equal\n",
      "not equal\n",
      "not equal\n",
      "not equal\n",
      "not equal\n",
      "not equal\n",
      "not equal\n",
      "not equal\n",
      "not equal\n",
      "not equal\n",
      "not equal\n",
      "not equal\n",
      "not equal\n",
      "not equal\n",
      "not equal\n",
      "not equal\n",
      "not equal\n",
      "not equal\n",
      "not equal\n",
      "not equal\n",
      "not equal\n",
      "not equal\n",
      "not equal\n",
      "not equal\n",
      "not equal\n",
      "not equal\n",
      "not equal\n",
      "not equal\n",
      "not equal\n",
      "not equal\n",
      "not equal\n",
      "not equal\n",
      "not equal\n",
      "not equal\n",
      "not equal\n",
      "not equal\n",
      "not equal\n",
      "not equal\n",
      "not equal\n",
      "not equal\n",
      "not equal\n",
      "not equal\n",
      "not equal\n",
      "not equal\n",
      "not equal\n",
      "not equal\n",
      "not equal\n",
      "not equal\n",
      "not equal\n",
      "not equal\n",
      "not equal\n",
      "not equal\n",
      "not equal\n",
      "not equal\n",
      "not equal\n",
      "not equal\n",
      "not equal\n",
      "not equal\n",
      "not equal\n",
      "not equal\n",
      "not equal\n",
      "not equal\n",
      "not equal\n",
      "not equal\n",
      "not equal\n",
      "not equal\n",
      "not equal\n",
      "not equal\n",
      "not equal\n",
      "not equal\n",
      "not equal\n",
      "not equal\n",
      "not equal\n",
      "not equal\n",
      "not equal\n",
      "not equal\n",
      "not equal\n",
      "not equal\n",
      "not equal\n",
      "not equal\n",
      "not equal\n",
      "not equal\n",
      "not equal\n",
      "not equal\n",
      "not equal\n",
      "not equal\n",
      "not equal\n",
      "not equal\n",
      "not equal\n",
      "not equal\n",
      "not equal\n",
      "not equal\n",
      "not equal\n",
      "not equal\n",
      "not equal\n",
      "not equal\n",
      "not equal\n",
      "not equal\n",
      "not equal\n",
      "not equal\n",
      "not equal\n",
      "not equal\n",
      "not equal\n",
      "not equal\n",
      "not equal\n",
      "not equal\n",
      "not equal\n",
      "not equal\n",
      "not equal\n",
      "not equal\n",
      "not equal\n",
      "not equal\n",
      "not equal\n",
      "not equal\n",
      "not equal\n",
      "not equal\n",
      "not equal\n",
      "not equal\n",
      "not equal\n",
      "not equal\n",
      "not equal\n",
      "not equal\n",
      "not equal\n",
      "not equal\n",
      "not equal\n",
      "not equal\n",
      "not equal\n",
      "not equal\n",
      "not equal\n",
      "not equal\n",
      "not equal\n",
      "not equal\n",
      "not equal\n",
      "not equal\n",
      "not equal\n",
      "not equal\n",
      "not equal\n",
      "not equal\n",
      "not equal\n",
      "not equal\n",
      "not equal\n",
      "not equal\n",
      "not equal\n",
      "not equal\n",
      "not equal\n",
      "not equal\n",
      "not equal\n",
      "not equal\n",
      "not equal\n",
      "not equal\n",
      "not equal\n",
      "not equal\n",
      "not equal\n",
      "not equal\n",
      "not equal\n",
      "not equal\n",
      "not equal\n",
      "not equal\n",
      "not equal\n",
      "not equal\n",
      "not equal\n",
      "not equal\n",
      "not equal\n",
      "not equal\n",
      "not equal\n",
      "not equal\n",
      "not equal\n",
      "not equal\n",
      "not equal\n",
      "not equal\n",
      "not equal\n",
      "not equal\n",
      "not equal\n",
      "not equal\n",
      "not equal\n",
      "not equal\n",
      "not equal\n",
      "not equal\n",
      "not equal\n",
      "not equal\n",
      "not equal\n",
      "not equal\n",
      "not equal\n",
      "not equal\n",
      "not equal\n",
      "not equal\n",
      "not equal\n",
      "not equal\n",
      "not equal\n",
      "not equal\n",
      "not equal\n",
      "not equal\n",
      "not equal\n",
      "not equal\n",
      "not equal\n",
      "not equal\n",
      "not equal\n",
      "not equal\n",
      "not equal\n",
      "not equal\n",
      "not equal\n",
      "not equal\n",
      "not equal\n",
      "not equal\n",
      "not equal\n",
      "not equal\n",
      "not equal\n",
      "not equal\n",
      "not equal\n",
      "not equal\n",
      "not equal\n",
      "not equal\n",
      "not equal\n",
      "not equal\n",
      "not equal\n",
      "not equal\n",
      "not equal\n",
      "not equal\n",
      "not equal\n",
      "not equal\n",
      "not equal\n",
      "not equal\n",
      "not equal\n",
      "not equal\n",
      "not equal\n",
      "not equal\n",
      "not equal\n",
      "not equal\n",
      "not equal\n",
      "not equal\n",
      "not equal\n",
      "not equal\n",
      "not equal\n",
      "not equal\n",
      "not equal\n",
      "not equal\n",
      "not equal\n",
      "not equal\n",
      "not equal\n",
      "not equal\n",
      "not equal\n",
      "not equal\n",
      "not equal\n",
      "not equal\n",
      "not equal\n",
      "not equal\n",
      "not equal\n",
      "not equal\n",
      "not equal\n",
      "not equal\n",
      "not equal\n",
      "not equal\n",
      "not equal\n",
      "not equal\n",
      "not equal\n",
      "not equal\n",
      "not equal\n",
      "not equal\n",
      "not equal\n",
      "not equal\n",
      "not equal\n",
      "not equal\n",
      "not equal\n",
      "not equal\n",
      "not equal\n",
      "not equal\n",
      "not equal\n",
      "not equal\n",
      "not equal\n",
      "not equal\n",
      "not equal\n",
      "not equal\n",
      "not equal\n",
      "not equal\n",
      "not equal\n",
      "not equal\n",
      "not equal\n",
      "not equal\n",
      "not equal\n",
      "not equal\n",
      "not equal\n",
      "not equal\n",
      "not equal\n",
      "not equal\n",
      "not equal\n",
      "not equal\n",
      "not equal\n",
      "not equal\n",
      "not equal\n",
      "not equal\n",
      "not equal\n",
      "not equal\n",
      "not equal\n",
      "not equal\n",
      "not equal\n",
      "not equal\n",
      "not equal\n",
      "not equal\n",
      "not equal\n",
      "not equal\n",
      "not equal\n",
      "not equal\n",
      "not equal\n",
      "not equal\n",
      "not equal\n",
      "not equal\n",
      "not equal\n",
      "not equal\n",
      "not equal\n",
      "not equal\n",
      "not equal\n",
      "not equal\n",
      "not equal\n",
      "not equal\n",
      "not equal\n",
      "not equal\n",
      "not equal\n",
      "not equal\n",
      "not equal\n",
      "not equal\n",
      "not equal\n",
      "not equal\n",
      "not equal\n",
      "not equal\n",
      "not equal\n",
      "not equal\n",
      "not equal\n",
      "not equal\n",
      "not equal\n",
      "not equal\n",
      "not equal\n",
      "not equal\n",
      "not equal\n",
      "not equal\n",
      "not equal\n",
      "not equal\n",
      "not equal\n",
      "not equal\n",
      "not equal\n",
      "not equal\n",
      "not equal\n",
      "not equal\n",
      "not equal\n",
      "not equal\n",
      "not equal\n",
      "not equal\n",
      "not equal\n",
      "not equal\n",
      "not equal\n",
      "not equal\n",
      "not equal\n",
      "not equal\n",
      "not equal\n",
      "not equal\n",
      "not equal\n",
      "not equal\n",
      "not equal\n",
      "not equal\n",
      "not equal\n",
      "not equal\n",
      "not equal\n",
      "not equal\n",
      "not equal\n",
      "not equal\n",
      "not equal\n",
      "not equal\n",
      "not equal\n",
      "not equal\n",
      "not equal\n",
      "not equal\n",
      "not equal\n",
      "not equal\n",
      "not equal\n",
      "not equal\n",
      "not equal\n",
      "not equal\n",
      "not equal\n",
      "not equal\n",
      "not equal\n",
      "not equal\n",
      "not equal\n",
      "not equal\n",
      "not equal\n",
      "not equal\n",
      "not equal\n",
      "not equal\n",
      "not equal\n",
      "not equal\n",
      "not equal\n",
      "not equal\n",
      "not equal\n",
      "not equal\n",
      "not equal\n",
      "not equal\n",
      "not equal\n",
      "not equal\n",
      "not equal\n",
      "not equal\n",
      "not equal\n",
      "not equal\n",
      "not equal\n",
      "not equal\n",
      "not equal\n",
      "not equal\n",
      "not equal\n",
      "not equal\n",
      "not equal\n",
      "not equal\n",
      "not equal\n",
      "not equal\n",
      "not equal\n",
      "not equal\n",
      "not equal\n",
      "not equal\n",
      "not equal\n",
      "not equal\n",
      "not equal\n",
      "not equal\n",
      "not equal\n",
      "not equal\n",
      "not equal\n",
      "not equal\n",
      "not equal\n",
      "not equal\n",
      "not equal\n",
      "not equal\n",
      "not equal\n",
      "not equal\n",
      "not equal\n",
      "not equal\n",
      "not equal\n",
      "not equal\n",
      "not equal\n",
      "not equal\n",
      "not equal\n",
      "not equal\n",
      "not equal\n",
      "not equal\n",
      "not equal\n",
      "not equal\n",
      "not equal\n",
      "not equal\n",
      "not equal\n",
      "not equal\n",
      "not equal\n",
      "not equal\n",
      "not equal\n",
      "not equal\n",
      "not equal\n",
      "not equal\n",
      "not equal\n",
      "not equal\n",
      "not equal\n",
      "not equal\n",
      "not equal\n",
      "not equal\n",
      "not equal\n",
      "not equal\n",
      "not equal\n",
      "not equal\n",
      "not equal\n",
      "not equal\n",
      "not equal\n",
      "not equal\n",
      "not equal\n",
      "not equal\n",
      "not equal\n",
      "not equal\n",
      "not equal\n",
      "not equal\n",
      "not equal\n",
      "not equal\n",
      "not equal\n",
      "not equal\n",
      "not equal\n",
      "not equal\n",
      "not equal\n",
      "not equal\n",
      "not equal\n",
      "not equal\n",
      "not equal\n",
      "not equal\n",
      "not equal\n",
      "not equal\n",
      "not equal\n",
      "not equal\n",
      "not equal\n",
      "not equal\n",
      "not equal\n",
      "not equal\n",
      "not equal\n",
      "not equal\n",
      "not equal\n",
      "not equal\n",
      "not equal\n",
      "not equal\n",
      "not equal\n",
      "not equal\n",
      "not equal\n",
      "not equal\n",
      "not equal\n",
      "not equal\n",
      "not equal\n",
      "not equal\n",
      "not equal\n",
      "not equal\n",
      "not equal\n",
      "not equal\n",
      "not equal\n",
      "not equal\n",
      "not equal\n",
      "not equal\n",
      "not equal\n",
      "not equal\n",
      "not equal\n",
      "not equal\n",
      "not equal\n",
      "not equal\n",
      "not equal\n",
      "not equal\n",
      "not equal\n",
      "not equal\n",
      "not equal\n",
      "not equal\n",
      "not equal\n",
      "not equal\n",
      "not equal\n",
      "not equal\n",
      "not equal\n",
      "not equal\n",
      "not equal\n",
      "not equal\n",
      "not equal\n",
      "not equal\n",
      "not equal\n",
      "not equal\n",
      "not equal\n",
      "not equal\n",
      "not equal\n",
      "not equal\n",
      "not equal\n",
      "not equal\n",
      "not equal\n",
      "not equal\n",
      "not equal\n",
      "not equal\n",
      "not equal\n",
      "not equal\n",
      "not equal\n",
      "not equal\n",
      "not equal\n",
      "not equal\n",
      "not equal\n",
      "not equal\n",
      "not equal\n",
      "not equal\n",
      "not equal\n",
      "not equal\n",
      "not equal\n",
      "not equal\n",
      "not equal\n",
      "not equal\n",
      "not equal\n",
      "not equal\n",
      "not equal\n",
      "not equal\n",
      "not equal\n",
      "not equal\n",
      "not equal\n",
      "not equal\n",
      "not equal\n",
      "not equal\n",
      "not equal\n",
      "not equal\n",
      "not equal\n",
      "not equal\n",
      "not equal\n",
      "not equal\n",
      "not equal\n",
      "not equal\n",
      "not equal\n",
      "not equal\n",
      "not equal\n",
      "not equal\n",
      "not equal\n",
      "not equal\n",
      "not equal\n",
      "not equal\n",
      "not equal\n",
      "not equal\n",
      "not equal\n",
      "not equal\n",
      "not equal\n",
      "not equal\n",
      "not equal\n",
      "not equal\n",
      "not equal\n",
      "not equal\n",
      "not equal\n",
      "not equal\n",
      "not equal\n",
      "not equal\n",
      "not equal\n",
      "not equal\n",
      "not equal\n",
      "not equal\n",
      "not equal\n",
      "not equal\n",
      "not equal\n",
      "not equal\n",
      "not equal\n",
      "not equal\n",
      "not equal\n",
      "not equal\n",
      "not equal\n",
      "not equal\n",
      "not equal\n",
      "not equal\n",
      "not equal\n",
      "not equal\n",
      "not equal\n",
      "not equal\n",
      "not equal\n",
      "not equal\n",
      "not equal\n",
      "not equal\n",
      "not equal\n",
      "not equal\n",
      "not equal\n",
      "not equal\n",
      "not equal\n",
      "not equal\n",
      "not equal\n",
      "not equal\n",
      "not equal\n",
      "not equal\n",
      "not equal\n",
      "not equal\n",
      "not equal\n",
      "not equal\n",
      "not equal\n",
      "not equal\n",
      "not equal\n",
      "not equal\n",
      "not equal\n",
      "not equal\n",
      "not equal\n",
      "not equal\n",
      "not equal\n",
      "not equal\n",
      "not equal\n",
      "not equal\n",
      "not equal\n",
      "not equal\n",
      "not equal\n",
      "not equal\n",
      "not equal\n",
      "not equal\n",
      "not equal\n",
      "not equal\n",
      "not equal\n",
      "not equal\n",
      "not equal\n",
      "not equal\n",
      "not equal\n",
      "not equal\n",
      "not equal\n",
      "not equal\n",
      "not equal\n",
      "not equal\n",
      "not equal\n",
      "not equal\n",
      "not equal\n",
      "not equal\n",
      "not equal\n",
      "not equal\n",
      "not equal\n",
      "not equal\n",
      "not equal\n",
      "not equal\n",
      "not equal\n",
      "not equal\n",
      "not equal\n",
      "not equal\n",
      "not equal\n",
      "not equal\n",
      "not equal\n",
      "not equal\n",
      "not equal\n",
      "not equal\n",
      "not equal\n",
      "not equal\n",
      "not equal\n",
      "not equal\n",
      "not equal\n",
      "not equal\n",
      "not equal\n",
      "not equal\n",
      "not equal\n",
      "not equal\n",
      "not equal\n",
      "not equal\n",
      "not equal\n",
      "not equal\n",
      "not equal\n",
      "not equal\n",
      "not equal\n",
      "not equal\n",
      "not equal\n",
      "not equal\n",
      "not equal\n",
      "not equal\n",
      "not equal\n",
      "not equal\n",
      "not equal\n",
      "not equal\n",
      "not equal\n",
      "not equal\n",
      "not equal\n",
      "not equal\n",
      "not equal\n",
      "not equal\n",
      "not equal\n",
      "not equal\n",
      "not equal\n",
      "not equal\n",
      "not equal\n",
      "not equal\n",
      "not equal\n",
      "not equal\n",
      "not equal\n",
      "not equal\n",
      "not equal\n",
      "not equal\n",
      "not equal\n",
      "not equal\n",
      "not equal\n",
      "not equal\n",
      "not equal\n",
      "not equal\n",
      "not equal\n",
      "not equal\n",
      "not equal\n",
      "not equal\n",
      "not equal\n",
      "not equal\n",
      "not equal\n",
      "not equal\n",
      "not equal\n",
      "not equal\n",
      "not equal\n",
      "not equal\n",
      "not equal\n",
      "not equal\n",
      "not equal\n",
      "not equal\n",
      "not equal\n",
      "not equal\n",
      "not equal\n",
      "not equal\n",
      "not equal\n",
      "not equal\n",
      "not equal\n",
      "not equal\n",
      "not equal\n",
      "not equal\n",
      "not equal\n",
      "not equal\n",
      "not equal\n",
      "not equal\n",
      "not equal\n",
      "not equal\n",
      "not equal\n",
      "not equal\n",
      "not equal\n",
      "not equal\n",
      "not equal\n",
      "not equal\n",
      "not equal\n",
      "not equal\n",
      "not equal\n",
      "not equal\n",
      "not equal\n",
      "not equal\n",
      "not equal\n",
      "not equal\n",
      "not equal\n",
      "not equal\n",
      "not equal\n",
      "not equal\n",
      "not equal\n",
      "not equal\n",
      "not equal\n",
      "not equal\n",
      "not equal\n",
      "not equal\n",
      "not equal\n",
      "not equal\n",
      "not equal\n",
      "not equal\n",
      "not equal\n",
      "not equal\n",
      "not equal\n",
      "not equal\n",
      "not equal\n",
      "not equal\n",
      "not equal\n",
      "not equal\n",
      "not equal\n",
      "not equal\n",
      "not equal\n",
      "not equal\n",
      "not equal\n",
      "not equal\n",
      "not equal\n",
      "not equal\n",
      "not equal\n",
      "not equal\n",
      "not equal\n",
      "not equal\n",
      "not equal\n",
      "not equal\n",
      "not equal\n",
      "not equal\n",
      "not equal\n",
      "not equal\n",
      "not equal\n",
      "not equal\n",
      "not equal\n",
      "not equal\n",
      "not equal\n",
      "not equal\n",
      "not equal\n",
      "not equal\n",
      "not equal\n",
      "not equal\n",
      "not equal\n",
      "not equal\n",
      "not equal\n",
      "not equal\n",
      "not equal\n",
      "not equal\n",
      "not equal\n",
      "not equal\n",
      "not equal\n",
      "not equal\n",
      "not equal\n",
      "not equal\n",
      "not equal\n",
      "not equal\n",
      "not equal\n",
      "not equal\n",
      "not equal\n",
      "not equal\n",
      "not equal\n",
      "not equal\n",
      "not equal\n",
      "not equal\n",
      "not equal\n",
      "not equal\n",
      "not equal\n",
      "not equal\n",
      "not equal\n",
      "not equal\n",
      "not equal\n",
      "not equal\n",
      "not equal\n",
      "not equal\n",
      "not equal\n",
      "not equal\n",
      "not equal\n",
      "not equal\n",
      "not equal\n",
      "not equal\n",
      "not equal\n",
      "not equal\n",
      "not equal\n",
      "not equal\n",
      "not equal\n",
      "not equal\n",
      "not equal\n",
      "not equal\n",
      "not equal\n",
      "not equal\n",
      "not equal\n",
      "not equal\n",
      "not equal\n",
      "not equal\n",
      "not equal\n",
      "not equal\n",
      "not equal\n",
      "not equal\n",
      "not equal\n",
      "not equal\n",
      "not equal\n",
      "not equal\n",
      "not equal\n",
      "not equal\n",
      "not equal\n",
      "not equal\n",
      "not equal\n",
      "not equal\n",
      "not equal\n",
      "not equal\n",
      "not equal\n",
      "not equal\n",
      "not equal\n",
      "not equal\n",
      "not equal\n",
      "not equal\n",
      "not equal\n",
      "not equal\n",
      "not equal\n",
      "not equal\n",
      "not equal\n",
      "not equal\n",
      "not equal\n",
      "not equal\n",
      "not equal\n",
      "not equal\n",
      "not equal\n",
      "not equal\n",
      "not equal\n",
      "not equal\n",
      "not equal\n",
      "not equal\n",
      "not equal\n",
      "not equal\n",
      "not equal\n",
      "not equal\n",
      "not equal\n",
      "not equal\n",
      "not equal\n",
      "not equal\n",
      "not equal\n",
      "not equal\n",
      "not equal\n",
      "not equal\n",
      "not equal\n",
      "not equal\n",
      "not equal\n",
      "not equal\n",
      "not equal\n",
      "not equal\n",
      "not equal\n",
      "not equal\n",
      "not equal\n",
      "not equal\n",
      "not equal\n",
      "not equal\n",
      "not equal\n",
      "not equal\n",
      "not equal\n",
      "not equal\n",
      "not equal\n",
      "not equal\n",
      "not equal\n",
      "not equal\n",
      "not equal\n",
      "not equal\n",
      "not equal\n",
      "not equal\n",
      "not equal\n",
      "not equal\n",
      "not equal\n",
      "not equal\n",
      "not equal\n",
      "not equal\n",
      "not equal\n",
      "not equal\n",
      "not equal\n",
      "not equal\n",
      "not equal\n",
      "not equal\n",
      "not equal\n",
      "not equal\n",
      "not equal\n",
      "not equal\n",
      "not equal\n",
      "not equal\n",
      "not equal\n",
      "not equal\n",
      "not equal\n",
      "not equal\n",
      "not equal\n",
      "not equal\n",
      "not equal\n",
      "not equal\n",
      "not equal\n",
      "not equal\n",
      "not equal\n",
      "not equal\n",
      "not equal\n",
      "not equal\n",
      "not equal\n",
      "not equal\n",
      "not equal\n",
      "not equal\n",
      "not equal\n",
      "not equal\n",
      "not equal\n",
      "not equal\n",
      "not equal\n",
      "not equal\n",
      "not equal\n",
      "not equal\n",
      "not equal\n",
      "not equal\n",
      "not equal\n",
      "not equal\n",
      "not equal\n",
      "not equal\n",
      "not equal\n",
      "not equal\n",
      "not equal\n",
      "not equal\n",
      "not equal\n",
      "not equal\n",
      "not equal\n",
      "not equal\n",
      "not equal\n",
      "not equal\n",
      "not equal\n",
      "not equal\n",
      "not equal\n",
      "not equal\n",
      "not equal\n",
      "not equal\n",
      "not equal\n",
      "not equal\n",
      "not equal\n",
      "not equal\n",
      "not equal\n",
      "not equal\n",
      "not equal\n",
      "not equal\n",
      "not equal\n",
      "not equal\n",
      "not equal\n",
      "not equal\n",
      "not equal\n",
      "not equal\n",
      "not equal\n",
      "not equal\n",
      "not equal\n",
      "not equal\n",
      "not equal\n",
      "not equal\n",
      "not equal\n",
      "not equal\n",
      "not equal\n",
      "not equal\n",
      "not equal\n",
      "not equal\n",
      "not equal\n",
      "not equal\n",
      "not equal\n",
      "not equal\n",
      "not equal\n",
      "not equal\n",
      "not equal\n",
      "not equal\n",
      "not equal\n",
      "not equal\n",
      "not equal\n",
      "not equal\n",
      "not equal\n",
      "not equal\n",
      "not equal\n",
      "not equal\n",
      "not equal\n",
      "not equal\n",
      "not equal\n",
      "not equal\n",
      "not equal\n",
      "not equal\n",
      "not equal\n",
      "not equal\n",
      "not equal\n",
      "not equal\n",
      "not equal\n",
      "not equal\n",
      "not equal\n",
      "not equal\n",
      "not equal\n",
      "not equal\n",
      "not equal\n",
      "not equal\n",
      "not equal\n",
      "not equal\n",
      "not equal\n",
      "not equal\n",
      "not equal\n",
      "not equal\n",
      "not equal\n",
      "not equal\n",
      "not equal\n",
      "not equal\n",
      "not equal\n",
      "not equal\n",
      "not equal\n",
      "not equal\n",
      "not equal\n",
      "not equal\n",
      "not equal\n",
      "not equal\n",
      "not equal\n",
      "not equal\n",
      "not equal\n",
      "not equal\n",
      "not equal\n",
      "not equal\n",
      "not equal\n",
      "not equal\n",
      "not equal\n",
      "not equal\n",
      "not equal\n",
      "not equal\n",
      "not equal\n",
      "not equal\n",
      "not equal\n",
      "not equal\n",
      "not equal\n",
      "not equal\n",
      "not equal\n",
      "not equal\n",
      "not equal\n",
      "not equal\n",
      "not equal\n",
      "not equal\n",
      "not equal\n",
      "not equal\n",
      "not equal\n",
      "not equal\n",
      "not equal\n",
      "not equal\n",
      "not equal\n",
      "not equal\n",
      "not equal\n",
      "not equal\n",
      "not equal\n",
      "not equal\n",
      "not equal\n",
      "not equal\n",
      "not equal\n",
      "not equal\n",
      "not equal\n",
      "not equal\n",
      "not equal\n",
      "not equal\n",
      "not equal\n",
      "not equal\n",
      "not equal\n",
      "not equal\n",
      "not equal\n",
      "not equal\n",
      "not equal\n",
      "not equal\n",
      "not equal\n",
      "not equal\n",
      "not equal\n",
      "not equal\n",
      "not equal\n",
      "not equal\n",
      "not equal\n",
      "not equal\n",
      "not equal\n",
      "not equal\n",
      "not equal\n",
      "not equal\n",
      "not equal\n",
      "not equal\n",
      "not equal\n",
      "not equal\n",
      "not equal\n",
      "not equal\n",
      "not equal\n",
      "not equal\n",
      "not equal\n",
      "not equal\n",
      "not equal\n",
      "not equal\n",
      "not equal\n",
      "not equal\n",
      "not equal\n",
      "not equal\n",
      "not equal\n",
      "not equal\n",
      "not equal\n",
      "not equal\n",
      "not equal\n",
      "not equal\n",
      "not equal\n",
      "not equal\n",
      "not equal\n",
      "not equal\n",
      "not equal\n",
      "not equal\n",
      "not equal\n",
      "not equal\n",
      "not equal\n",
      "not equal\n",
      "not equal\n",
      "not equal\n",
      "not equal\n",
      "not equal\n",
      "not equal\n",
      "not equal\n",
      "not equal\n",
      "not equal\n",
      "not equal\n",
      "not equal\n",
      "not equal\n",
      "not equal\n",
      "not equal\n",
      "not equal\n",
      "not equal\n",
      "not equal\n",
      "not equal\n",
      "not equal\n",
      "not equal\n",
      "not equal\n",
      "not equal\n",
      "not equal\n",
      "not equal\n",
      "not equal\n",
      "not equal\n",
      "not equal\n",
      "not equal\n",
      "not equal\n",
      "not equal\n",
      "not equal\n",
      "not equal\n",
      "not equal\n",
      "not equal\n",
      "not equal\n",
      "not equal\n",
      "not equal\n",
      "not equal\n",
      "not equal\n",
      "not equal\n",
      "not equal\n",
      "not equal\n",
      "not equal\n",
      "not equal\n",
      "not equal\n",
      "not equal\n",
      "not equal\n",
      "not equal\n",
      "not equal\n",
      "not equal\n",
      "not equal\n",
      "not equal\n",
      "not equal\n",
      "not equal\n",
      "not equal\n",
      "not equal\n",
      "not equal\n",
      "not equal\n",
      "not equal\n",
      "not equal\n",
      "not equal\n",
      "not equal\n",
      "not equal\n",
      "not equal\n",
      "not equal\n",
      "not equal\n",
      "not equal\n",
      "not equal\n",
      "not equal\n",
      "not equal\n",
      "not equal\n",
      "not equal\n",
      "not equal\n",
      "not equal\n",
      "not equal\n",
      "not equal\n",
      "not equal\n",
      "not equal\n",
      "not equal\n",
      "not equal\n",
      "not equal\n",
      "not equal\n",
      "not equal\n",
      "not equal\n",
      "not equal\n",
      "not equal\n",
      "not equal\n",
      "not equal\n",
      "not equal\n",
      "not equal\n",
      "not equal\n",
      "not equal\n",
      "not equal\n",
      "not equal\n",
      "not equal\n",
      "not equal\n",
      "not equal\n",
      "not equal\n",
      "not equal\n",
      "not equal\n",
      "not equal\n",
      "not equal\n",
      "not equal\n",
      "not equal\n",
      "not equal\n",
      "not equal\n",
      "not equal\n",
      "not equal\n",
      "not equal\n",
      "not equal\n",
      "not equal\n",
      "not equal\n",
      "not equal\n",
      "not equal\n",
      "not equal\n",
      "not equal\n",
      "not equal\n",
      "not equal\n",
      "not equal\n",
      "not equal\n",
      "not equal\n",
      "not equal\n",
      "not equal\n",
      "not equal\n",
      "not equal\n",
      "not equal\n",
      "not equal\n",
      "not equal\n",
      "not equal\n",
      "not equal\n",
      "not equal\n",
      "not equal\n",
      "not equal\n",
      "not equal\n",
      "not equal\n",
      "not equal\n",
      "not equal\n",
      "not equal\n",
      "not equal\n",
      "not equal\n",
      "not equal\n",
      "not equal\n",
      "not equal\n",
      "not equal\n",
      "not equal\n",
      "not equal\n",
      "not equal\n",
      "not equal\n",
      "not equal\n",
      "not equal\n",
      "not equal\n",
      "not equal\n",
      "not equal\n",
      "not equal\n",
      "not equal\n",
      "not equal\n",
      "not equal\n",
      "not equal\n",
      "not equal\n",
      "not equal\n",
      "not equal\n",
      "not equal\n",
      "not equal\n",
      "not equal\n",
      "not equal\n",
      "not equal\n",
      "not equal\n",
      "not equal\n",
      "not equal\n",
      "not equal\n",
      "not equal\n",
      "not equal\n",
      "not equal\n",
      "not equal\n",
      "not equal\n",
      "not equal\n",
      "not equal\n",
      "not equal\n",
      "not equal\n",
      "not equal\n",
      "not equal\n",
      "not equal\n",
      "not equal\n",
      "not equal\n",
      "not equal\n",
      "not equal\n",
      "not equal\n",
      "not equal\n",
      "not equal\n",
      "not equal\n",
      "not equal\n",
      "not equal\n",
      "not equal\n",
      "not equal\n",
      "not equal\n",
      "not equal\n",
      "not equal\n",
      "not equal\n",
      "not equal\n",
      "not equal\n",
      "not equal\n",
      "not equal\n",
      "not equal\n",
      "not equal\n",
      "not equal\n",
      "not equal\n",
      "not equal\n",
      "not equal\n",
      "not equal\n",
      "not equal\n",
      "not equal\n",
      "not equal\n",
      "not equal\n",
      "not equal\n",
      "not equal\n",
      "not equal\n",
      "not equal\n",
      "not equal\n",
      "not equal\n",
      "not equal\n",
      "not equal\n",
      "not equal\n",
      "not equal\n",
      "not equal\n",
      "not equal\n",
      "not equal\n",
      "not equal\n",
      "not equal\n",
      "not equal\n",
      "not equal\n",
      "not equal\n",
      "not equal\n",
      "not equal\n",
      "not equal\n",
      "not equal\n",
      "not equal\n",
      "not equal\n",
      "not equal\n",
      "not equal\n",
      "not equal\n",
      "not equal\n",
      "not equal\n",
      "not equal\n",
      "not equal\n",
      "not equal\n",
      "not equal\n",
      "not equal\n",
      "not equal\n",
      "not equal\n",
      "not equal\n",
      "not equal\n",
      "not equal\n",
      "not equal\n",
      "not equal\n",
      "not equal\n",
      "not equal\n",
      "not equal\n",
      "not equal\n",
      "not equal\n",
      "not equal\n",
      "not equal\n",
      "not equal\n",
      "not equal\n",
      "not equal\n",
      "not equal\n",
      "not equal\n",
      "not equal\n",
      "not equal\n",
      "not equal\n",
      "not equal\n",
      "not equal\n",
      "not equal\n",
      "not equal\n",
      "not equal\n",
      "not equal\n",
      "not equal\n",
      "not equal\n",
      "not equal\n",
      "not equal\n",
      "not equal\n",
      "not equal\n",
      "not equal\n",
      "not equal\n",
      "not equal\n",
      "not equal\n",
      "not equal\n",
      "not equal\n",
      "not equal\n",
      "not equal\n",
      "not equal\n",
      "not equal\n",
      "not equal\n",
      "not equal\n",
      "not equal\n",
      "not equal\n",
      "not equal\n",
      "not equal\n",
      "not equal\n",
      "not equal\n",
      "not equal\n",
      "not equal\n",
      "not equal\n",
      "not equal\n",
      "not equal\n",
      "not equal\n",
      "not equal\n",
      "not equal\n",
      "not equal\n",
      "not equal\n",
      "not equal\n",
      "not equal\n",
      "not equal\n",
      "not equal\n",
      "not equal\n",
      "not equal\n",
      "not equal\n",
      "not equal\n",
      "not equal\n",
      "not equal\n",
      "not equal\n",
      "not equal\n",
      "not equal\n",
      "not equal\n",
      "not equal\n",
      "not equal\n",
      "not equal\n",
      "not equal\n",
      "not equal\n",
      "not equal\n",
      "not equal\n",
      "not equal\n",
      "not equal\n",
      "not equal\n",
      "not equal\n",
      "not equal\n",
      "not equal\n",
      "not equal\n",
      "not equal\n",
      "not equal\n",
      "not equal\n",
      "not equal\n",
      "not equal\n",
      "not equal\n",
      "not equal\n",
      "not equal\n",
      "not equal\n",
      "not equal\n",
      "not equal\n",
      "not equal\n",
      "not equal\n",
      "not equal\n",
      "not equal\n",
      "not equal\n",
      "not equal\n",
      "not equal\n",
      "not equal\n",
      "not equal\n",
      "not equal\n",
      "not equal\n",
      "not equal\n",
      "not equal\n",
      "not equal\n",
      "not equal\n",
      "not equal\n",
      "not equal\n",
      "not equal\n",
      "not equal\n",
      "not equal\n",
      "not equal\n",
      "not equal\n",
      "not equal\n",
      "not equal\n",
      "not equal\n",
      "not equal\n",
      "not equal\n",
      "not equal\n",
      "not equal\n",
      "not equal\n",
      "not equal\n",
      "not equal\n",
      "not equal\n",
      "not equal\n",
      "not equal\n",
      "not equal\n",
      "not equal\n",
      "not equal\n",
      "not equal\n",
      "not equal\n",
      "not equal\n",
      "not equal\n",
      "not equal\n",
      "not equal\n",
      "not equal\n",
      "not equal\n",
      "not equal\n",
      "not equal\n",
      "not equal\n",
      "not equal\n",
      "not equal\n",
      "not equal\n",
      "not equal\n",
      "not equal\n",
      "not equal\n",
      "not equal\n",
      "not equal\n",
      "not equal\n",
      "not equal\n",
      "not equal\n",
      "not equal\n",
      "not equal\n",
      "not equal\n",
      "not equal\n",
      "not equal\n",
      "not equal\n",
      "not equal\n",
      "not equal\n",
      "not equal\n",
      "not equal\n",
      "not equal\n",
      "not equal\n",
      "not equal\n",
      "not equal\n",
      "not equal\n",
      "not equal\n",
      "not equal\n",
      "not equal\n",
      "not equal\n",
      "not equal\n",
      "not equal\n",
      "not equal\n",
      "not equal\n",
      "not equal\n",
      "not equal\n",
      "not equal\n",
      "not equal\n",
      "not equal\n",
      "not equal\n",
      "not equal\n",
      "not equal\n",
      "not equal\n",
      "not equal\n",
      "not equal\n",
      "not equal\n",
      "not equal\n",
      "not equal\n",
      "not equal\n",
      "not equal\n",
      "not equal\n",
      "not equal\n",
      "not equal\n",
      "not equal\n",
      "not equal\n",
      "not equal\n",
      "not equal\n",
      "not equal\n",
      "not equal\n",
      "not equal\n",
      "not equal\n",
      "not equal\n",
      "not equal\n",
      "not equal\n",
      "not equal\n",
      "not equal\n",
      "not equal\n",
      "not equal\n",
      "not equal\n",
      "not equal\n",
      "not equal\n",
      "not equal\n",
      "not equal\n",
      "not equal\n",
      "not equal\n",
      "not equal\n",
      "not equal\n",
      "not equal\n",
      "not equal\n",
      "not equal\n",
      "not equal\n",
      "not equal\n",
      "not equal\n",
      "not equal\n",
      "not equal\n",
      "not equal\n",
      "not equal\n",
      "not equal\n",
      "not equal\n",
      "not equal\n",
      "not equal\n",
      "not equal\n",
      "not equal\n",
      "not equal\n",
      "not equal\n",
      "not equal\n",
      "not equal\n",
      "not equal\n",
      "not equal\n",
      "not equal\n",
      "not equal\n",
      "not equal\n",
      "not equal\n",
      "not equal\n",
      "not equal\n",
      "not equal\n",
      "not equal\n",
      "not equal\n",
      "not equal\n",
      "not equal\n",
      "not equal\n",
      "not equal\n",
      "not equal\n",
      "not equal\n",
      "not equal\n",
      "not equal\n",
      "not equal\n",
      "not equal\n",
      "not equal\n",
      "not equal\n",
      "not equal\n",
      "not equal\n",
      "not equal\n",
      "not equal\n",
      "not equal\n",
      "not equal\n",
      "not equal\n",
      "not equal\n",
      "not equal\n",
      "not equal\n",
      "not equal\n",
      "not equal\n",
      "not equal\n",
      "not equal\n",
      "not equal\n",
      "not equal\n",
      "not equal\n",
      "not equal\n",
      "not equal\n",
      "not equal\n",
      "not equal\n",
      "not equal\n",
      "not equal\n",
      "not equal\n",
      "not equal\n",
      "not equal\n",
      "not equal\n",
      "not equal\n",
      "not equal\n",
      "not equal\n",
      "not equal\n",
      "not equal\n",
      "not equal\n",
      "not equal\n",
      "not equal\n",
      "not equal\n",
      "not equal\n",
      "not equal\n",
      "not equal\n",
      "not equal\n",
      "not equal\n",
      "not equal\n",
      "not equal\n",
      "not equal\n",
      "not equal\n",
      "not equal\n",
      "not equal\n",
      "not equal\n",
      "not equal\n",
      "not equal\n",
      "not equal\n",
      "not equal\n",
      "not equal\n",
      "not equal\n",
      "not equal\n",
      "not equal\n",
      "not equal\n",
      "not equal\n",
      "not equal\n",
      "not equal\n",
      "not equal\n",
      "not equal\n",
      "not equal\n",
      "not equal\n",
      "not equal\n",
      "not equal\n",
      "not equal\n",
      "not equal\n",
      "not equal\n",
      "not equal\n",
      "not equal\n",
      "not equal\n",
      "not equal\n",
      "not equal\n",
      "not equal\n",
      "not equal\n",
      "not equal\n",
      "not equal\n",
      "not equal\n",
      "not equal\n",
      "not equal\n",
      "not equal\n",
      "not equal\n",
      "not equal\n",
      "not equal\n",
      "not equal\n",
      "not equal\n",
      "not equal\n",
      "not equal\n",
      "not equal\n",
      "not equal\n",
      "not equal\n",
      "not equal\n",
      "not equal\n",
      "not equal\n",
      "not equal\n",
      "not equal\n",
      "not equal\n",
      "not equal\n",
      "not equal\n",
      "not equal\n",
      "not equal\n",
      "not equal\n",
      "not equal\n",
      "not equal\n",
      "not equal\n",
      "not equal\n",
      "not equal\n",
      "not equal\n",
      "not equal\n",
      "not equal\n",
      "not equal\n",
      "not equal\n",
      "not equal\n",
      "not equal\n",
      "not equal\n",
      "not equal\n",
      "not equal\n",
      "not equal\n",
      "not equal\n",
      "not equal\n",
      "not equal\n",
      "not equal\n",
      "not equal\n",
      "not equal\n",
      "not equal\n",
      "not equal\n",
      "not equal\n",
      "not equal\n",
      "not equal\n",
      "not equal\n",
      "not equal\n",
      "not equal\n",
      "not equal\n",
      "not equal\n",
      "not equal\n",
      "not equal\n",
      "not equal\n",
      "not equal\n",
      "not equal\n",
      "not equal\n",
      "not equal\n",
      "not equal\n",
      "not equal\n",
      "not equal\n",
      "not equal\n",
      "not equal\n",
      "not equal\n",
      "not equal\n",
      "not equal\n",
      "not equal\n",
      "not equal\n",
      "not equal\n",
      "not equal\n",
      "not equal\n",
      "not equal\n",
      "not equal\n",
      "not equal\n",
      "not equal\n",
      "not equal\n",
      "not equal\n",
      "not equal\n",
      "not equal\n",
      "not equal\n",
      "not equal\n",
      "not equal\n",
      "not equal\n",
      "not equal\n",
      "not equal\n",
      "not equal\n",
      "not equal\n",
      "not equal\n",
      "not equal\n",
      "not equal\n",
      "not equal\n",
      "not equal\n",
      "not equal\n",
      "not equal\n",
      "not equal\n",
      "not equal\n",
      "not equal\n",
      "not equal\n",
      "not equal\n",
      "not equal\n",
      "not equal\n",
      "not equal\n",
      "not equal\n",
      "not equal\n",
      "not equal\n",
      "not equal\n",
      "not equal\n",
      "not equal\n",
      "not equal\n",
      "not equal\n",
      "not equal\n",
      "not equal\n",
      "not equal\n",
      "not equal\n",
      "not equal\n",
      "not equal\n",
      "not equal\n",
      "not equal\n",
      "not equal\n",
      "not equal\n",
      "not equal\n",
      "not equal\n",
      "not equal\n",
      "not equal\n",
      "not equal\n",
      "not equal\n",
      "not equal\n",
      "not equal\n",
      "not equal\n",
      "not equal\n",
      "not equal\n",
      "not equal\n",
      "not equal\n",
      "not equal\n",
      "not equal\n",
      "not equal\n",
      "not equal\n",
      "not equal\n",
      "not equal\n",
      "not equal\n",
      "not equal\n",
      "not equal\n",
      "not equal\n",
      "not equal\n",
      "not equal\n",
      "not equal\n",
      "not equal\n",
      "not equal\n",
      "not equal\n",
      "not equal\n",
      "not equal\n",
      "not equal\n",
      "not equal\n",
      "not equal\n",
      "not equal\n",
      "not equal\n",
      "not equal\n",
      "not equal\n",
      "not equal\n",
      "not equal\n",
      "not equal\n",
      "not equal\n",
      "not equal\n",
      "not equal\n",
      "not equal\n",
      "not equal\n",
      "not equal\n",
      "not equal\n",
      "not equal\n",
      "not equal\n",
      "not equal\n",
      "not equal\n",
      "not equal\n",
      "not equal\n",
      "not equal\n",
      "not equal\n",
      "not equal\n",
      "not equal\n",
      "not equal\n",
      "not equal\n",
      "not equal\n",
      "not equal\n",
      "not equal\n",
      "not equal\n",
      "not equal\n",
      "not equal\n",
      "not equal\n",
      "not equal\n",
      "not equal\n",
      "not equal\n",
      "not equal\n",
      "not equal\n",
      "not equal\n",
      "not equal\n",
      "not equal\n",
      "not equal\n",
      "not equal\n",
      "not equal\n",
      "not equal\n",
      "not equal\n",
      "not equal\n",
      "not equal\n",
      "not equal\n",
      "not equal\n",
      "not equal\n",
      "not equal\n",
      "not equal\n",
      "not equal\n",
      "not equal\n",
      "not equal\n",
      "not equal\n",
      "not equal\n",
      "not equal\n",
      "not equal\n",
      "not equal\n",
      "not equal\n",
      "not equal\n",
      "not equal\n",
      "not equal\n",
      "not equal\n",
      "not equal\n",
      "not equal\n",
      "not equal\n",
      "not equal\n",
      "not equal\n",
      "not equal\n",
      "not equal\n",
      "not equal\n",
      "not equal\n",
      "not equal\n",
      "not equal\n",
      "not equal\n",
      "not equal\n",
      "not equal\n",
      "not equal\n",
      "not equal\n",
      "not equal\n",
      "not equal\n",
      "not equal\n",
      "not equal\n",
      "not equal\n",
      "not equal\n",
      "not equal\n",
      "not equal\n",
      "not equal\n",
      "not equal\n",
      "not equal\n",
      "not equal\n",
      "not equal\n",
      "not equal\n",
      "not equal\n",
      "not equal\n",
      "not equal\n",
      "not equal\n",
      "not equal\n",
      "not equal\n",
      "not equal\n",
      "not equal\n",
      "not equal\n",
      "not equal\n",
      "not equal\n",
      "not equal\n",
      "not equal\n",
      "not equal\n",
      "not equal\n",
      "not equal\n",
      "not equal\n",
      "not equal\n",
      "not equal\n",
      "not equal\n",
      "not equal\n",
      "not equal\n",
      "not equal\n",
      "not equal\n",
      "not equal\n",
      "not equal\n",
      "not equal\n",
      "not equal\n",
      "not equal\n",
      "not equal\n",
      "not equal\n",
      "not equal\n",
      "not equal\n",
      "not equal\n",
      "not equal\n",
      "not equal\n",
      "not equal\n",
      "not equal\n",
      "not equal\n",
      "not equal\n",
      "not equal\n",
      "not equal\n",
      "not equal\n",
      "not equal\n",
      "not equal\n",
      "not equal\n",
      "not equal\n",
      "not equal\n",
      "not equal\n",
      "not equal\n",
      "not equal\n",
      "not equal\n",
      "not equal\n",
      "not equal\n",
      "not equal\n",
      "not equal\n",
      "not equal\n",
      "not equal\n",
      "not equal\n",
      "not equal\n",
      "not equal\n",
      "not equal\n",
      "not equal\n",
      "not equal\n",
      "not equal\n",
      "not equal\n",
      "not equal\n",
      "not equal\n",
      "not equal\n",
      "not equal\n",
      "not equal\n",
      "not equal\n",
      "not equal\n",
      "not equal\n",
      "not equal\n",
      "not equal\n",
      "not equal\n",
      "not equal\n",
      "not equal\n",
      "not equal\n",
      "not equal\n",
      "not equal\n",
      "not equal\n",
      "not equal\n",
      "not equal\n",
      "not equal\n",
      "not equal\n",
      "not equal\n",
      "not equal\n",
      "not equal\n",
      "not equal\n",
      "not equal\n",
      "not equal\n",
      "not equal\n",
      "not equal\n",
      "not equal\n",
      "not equal\n",
      "not equal\n",
      "not equal\n",
      "not equal\n",
      "not equal\n",
      "not equal\n",
      "not equal\n",
      "not equal\n",
      "not equal\n",
      "not equal\n",
      "not equal\n",
      "not equal\n",
      "not equal\n",
      "not equal\n",
      "not equal\n",
      "not equal\n",
      "not equal\n",
      "not equal\n",
      "not equal\n",
      "not equal\n",
      "not equal\n",
      "not equal\n",
      "not equal\n",
      "not equal\n",
      "not equal\n",
      "not equal\n",
      "not equal\n",
      "not equal\n",
      "not equal\n",
      "not equal\n",
      "not equal\n",
      "not equal\n",
      "not equal\n",
      "not equal\n",
      "not equal\n",
      "not equal\n",
      "not equal\n",
      "not equal\n",
      "not equal\n",
      "not equal\n",
      "not equal\n",
      "not equal\n",
      "not equal\n",
      "not equal\n",
      "not equal\n",
      "not equal\n",
      "not equal\n",
      "not equal\n",
      "not equal\n",
      "not equal\n",
      "not equal\n",
      "not equal\n",
      "not equal\n",
      "not equal\n",
      "not equal\n",
      "not equal\n",
      "not equal\n",
      "not equal\n",
      "not equal\n",
      "not equal\n",
      "not equal\n",
      "not equal\n",
      "not equal\n",
      "not equal\n",
      "not equal\n",
      "not equal\n",
      "not equal\n",
      "not equal\n",
      "not equal\n",
      "not equal\n",
      "not equal\n",
      "not equal\n",
      "not equal\n",
      "not equal\n",
      "not equal\n",
      "not equal\n",
      "not equal\n",
      "not equal\n",
      "not equal\n",
      "not equal\n",
      "not equal\n",
      "not equal\n",
      "not equal\n",
      "not equal\n",
      "not equal\n",
      "not equal\n",
      "not equal\n",
      "not equal\n",
      "not equal\n",
      "not equal\n",
      "not equal\n",
      "not equal\n",
      "not equal\n",
      "not equal\n",
      "not equal\n",
      "not equal\n",
      "not equal\n",
      "not equal\n",
      "not equal\n",
      "not equal\n",
      "not equal\n",
      "not equal\n",
      "not equal\n",
      "not equal\n",
      "not equal\n",
      "not equal\n",
      "not equal\n",
      "not equal\n",
      "not equal\n",
      "not equal\n",
      "not equal\n",
      "not equal\n",
      "not equal\n",
      "not equal\n",
      "not equal\n",
      "not equal\n",
      "not equal\n",
      "not equal\n",
      "not equal\n",
      "not equal\n",
      "not equal\n",
      "not equal\n",
      "not equal\n",
      "not equal\n",
      "not equal\n",
      "not equal\n",
      "not equal\n",
      "not equal\n",
      "not equal\n",
      "not equal\n",
      "not equal\n",
      "not equal\n",
      "not equal\n",
      "not equal\n",
      "not equal\n",
      "not equal\n",
      "not equal\n",
      "not equal\n",
      "not equal\n",
      "not equal\n",
      "not equal\n",
      "not equal\n",
      "not equal\n",
      "not equal\n",
      "not equal\n",
      "not equal\n",
      "not equal\n",
      "not equal\n",
      "not equal\n",
      "not equal\n",
      "not equal\n",
      "not equal\n",
      "not equal\n",
      "not equal\n",
      "not equal\n",
      "not equal\n",
      "not equal\n",
      "not equal\n",
      "not equal\n",
      "not equal\n",
      "not equal\n",
      "not equal\n",
      "not equal\n",
      "not equal\n",
      "not equal\n",
      "not equal\n",
      "not equal\n",
      "not equal\n",
      "not equal\n",
      "not equal\n",
      "not equal\n",
      "not equal\n",
      "not equal\n",
      "not equal\n",
      "not equal\n",
      "not equal\n",
      "not equal\n",
      "not equal\n",
      "not equal\n",
      "not equal\n",
      "not equal\n",
      "not equal\n",
      "not equal\n",
      "not equal\n",
      "not equal\n",
      "not equal\n",
      "not equal\n",
      "not equal\n",
      "not equal\n",
      "not equal\n",
      "not equal\n",
      "not equal\n",
      "not equal\n",
      "not equal\n",
      "not equal\n",
      "not equal\n",
      "not equal\n",
      "not equal\n",
      "not equal\n",
      "not equal\n",
      "not equal\n",
      "not equal\n",
      "not equal\n",
      "not equal\n",
      "not equal\n",
      "not equal\n",
      "not equal\n",
      "not equal\n",
      "not equal\n",
      "not equal\n",
      "not equal\n",
      "not equal\n",
      "not equal\n",
      "not equal\n",
      "not equal\n",
      "not equal\n",
      "not equal\n",
      "not equal\n",
      "not equal\n",
      "not equal\n",
      "not equal\n",
      "not equal\n",
      "not equal\n",
      "not equal\n",
      "not equal\n",
      "not equal\n",
      "not equal\n",
      "not equal\n",
      "not equal\n",
      "not equal\n",
      "not equal\n",
      "not equal\n",
      "not equal\n",
      "not equal\n",
      "not equal\n",
      "not equal\n",
      "not equal\n",
      "not equal\n",
      "not equal\n",
      "not equal\n",
      "not equal\n",
      "not equal\n",
      "not equal\n",
      "not equal\n",
      "not equal\n",
      "not equal\n",
      "not equal\n",
      "not equal\n",
      "not equal\n",
      "not equal\n",
      "not equal\n",
      "not equal\n",
      "not equal\n",
      "not equal\n",
      "not equal\n",
      "not equal\n",
      "not equal\n",
      "not equal\n",
      "not equal\n",
      "not equal\n",
      "not equal\n",
      "not equal\n",
      "not equal\n",
      "not equal\n",
      "not equal\n",
      "not equal\n",
      "not equal\n",
      "not equal\n",
      "not equal\n",
      "not equal\n",
      "not equal\n",
      "not equal\n",
      "not equal\n",
      "not equal\n",
      "not equal\n",
      "not equal\n",
      "not equal\n",
      "not equal\n",
      "not equal\n",
      "not equal\n",
      "not equal\n",
      "not equal\n",
      "not equal\n",
      "not equal\n",
      "not equal\n",
      "not equal\n",
      "not equal\n",
      "not equal\n",
      "not equal\n",
      "not equal\n",
      "not equal\n",
      "not equal\n",
      "not equal\n",
      "not equal\n",
      "not equal\n",
      "not equal\n",
      "not equal\n",
      "not equal\n",
      "not equal\n",
      "not equal\n",
      "not equal\n",
      "not equal\n",
      "not equal\n",
      "not equal\n",
      "not equal\n",
      "not equal\n",
      "not equal\n",
      "not equal\n",
      "not equal\n",
      "not equal\n",
      "not equal\n",
      "not equal\n",
      "not equal\n",
      "not equal\n",
      "not equal\n",
      "not equal\n",
      "not equal\n",
      "not equal\n",
      "not equal\n",
      "not equal\n",
      "not equal\n",
      "not equal\n",
      "not equal\n",
      "not equal\n",
      "not equal\n",
      "not equal\n",
      "not equal\n",
      "not equal\n",
      "not equal\n",
      "not equal\n",
      "not equal\n",
      "not equal\n",
      "not equal\n",
      "not equal\n",
      "not equal\n",
      "not equal\n",
      "not equal\n",
      "not equal\n",
      "not equal\n",
      "not equal\n",
      "not equal\n",
      "not equal\n",
      "not equal\n",
      "not equal\n",
      "not equal\n",
      "not equal\n",
      "not equal\n",
      "not equal\n",
      "not equal\n",
      "not equal\n",
      "not equal\n",
      "not equal\n",
      "not equal\n",
      "not equal\n",
      "not equal\n",
      "not equal\n",
      "not equal\n",
      "not equal\n",
      "not equal\n",
      "not equal\n",
      "not equal\n",
      "not equal\n",
      "not equal\n",
      "not equal\n",
      "not equal\n",
      "not equal\n",
      "not equal\n",
      "not equal\n",
      "not equal\n",
      "not equal\n",
      "not equal\n",
      "not equal\n",
      "not equal\n",
      "not equal\n",
      "not equal\n",
      "not equal\n",
      "not equal\n",
      "not equal\n",
      "not equal\n",
      "not equal\n",
      "not equal\n",
      "not equal\n",
      "not equal\n",
      "not equal\n",
      "not equal\n",
      "not equal\n",
      "not equal\n",
      "not equal\n",
      "not equal\n",
      "not equal\n",
      "not equal\n",
      "not equal\n",
      "not equal\n",
      "not equal\n",
      "not equal\n",
      "not equal\n",
      "not equal\n",
      "not equal\n",
      "not equal\n",
      "not equal\n",
      "not equal\n",
      "not equal\n",
      "not equal\n",
      "not equal\n",
      "not equal\n",
      "not equal\n",
      "not equal\n",
      "not equal\n",
      "not equal\n",
      "not equal\n",
      "not equal\n",
      "not equal\n",
      "not equal\n",
      "not equal\n",
      "not equal\n",
      "not equal\n",
      "not equal\n",
      "not equal\n",
      "not equal\n",
      "not equal\n",
      "not equal\n",
      "not equal\n",
      "not equal\n",
      "not equal\n",
      "not equal\n",
      "not equal\n",
      "not equal\n",
      "not equal\n",
      "not equal\n",
      "not equal\n",
      "not equal\n",
      "not equal\n",
      "not equal\n",
      "not equal\n",
      "not equal\n",
      "not equal\n",
      "not equal\n",
      "not equal\n",
      "not equal\n",
      "not equal\n",
      "not equal\n",
      "not equal\n",
      "not equal\n",
      "not equal\n",
      "not equal\n",
      "not equal\n",
      "not equal\n",
      "not equal\n",
      "not equal\n",
      "not equal\n",
      "not equal\n",
      "not equal\n",
      "not equal\n",
      "not equal\n",
      "not equal\n",
      "not equal\n",
      "not equal\n",
      "not equal\n",
      "not equal\n",
      "not equal\n",
      "not equal\n",
      "not equal\n",
      "not equal\n",
      "not equal\n",
      "not equal\n",
      "not equal\n",
      "not equal\n",
      "not equal\n",
      "not equal\n",
      "not equal\n",
      "not equal\n",
      "not equal\n",
      "not equal\n",
      "not equal\n",
      "not equal\n",
      "not equal\n",
      "not equal\n",
      "not equal\n",
      "not equal\n",
      "not equal\n",
      "not equal\n",
      "not equal\n",
      "not equal\n",
      "not equal\n",
      "not equal\n",
      "not equal\n",
      "not equal\n",
      "not equal\n",
      "not equal\n",
      "not equal\n",
      "not equal\n",
      "not equal\n",
      "not equal\n",
      "not equal\n",
      "not equal\n",
      "not equal\n",
      "not equal\n",
      "not equal\n",
      "not equal\n",
      "not equal\n",
      "not equal\n",
      "not equal\n",
      "not equal\n",
      "not equal\n",
      "not equal\n",
      "not equal\n",
      "not equal\n",
      "not equal\n",
      "not equal\n",
      "not equal\n",
      "not equal\n",
      "not equal\n",
      "not equal\n",
      "not equal\n",
      "not equal\n",
      "not equal\n",
      "not equal\n",
      "not equal\n",
      "not equal\n",
      "not equal\n",
      "not equal\n",
      "not equal\n",
      "not equal\n",
      "not equal\n",
      "not equal\n",
      "not equal\n",
      "not equal\n",
      "not equal\n",
      "not equal\n",
      "not equal\n",
      "not equal\n",
      "not equal\n",
      "not equal\n",
      "not equal\n",
      "not equal\n",
      "not equal\n",
      "not equal\n",
      "not equal\n",
      "not equal\n",
      "not equal\n",
      "not equal\n",
      "not equal\n",
      "not equal\n",
      "not equal\n",
      "not equal\n",
      "not equal\n",
      "not equal\n",
      "not equal\n",
      "not equal\n",
      "not equal\n",
      "not equal\n",
      "not equal\n",
      "not equal\n",
      "not equal\n",
      "not equal\n",
      "not equal\n",
      "not equal\n",
      "not equal\n",
      "not equal\n",
      "not equal\n",
      "not equal\n",
      "not equal\n",
      "not equal\n",
      "not equal\n",
      "not equal\n",
      "not equal\n",
      "not equal\n",
      "not equal\n",
      "not equal\n",
      "not equal\n",
      "not equal\n",
      "not equal\n",
      "not equal\n",
      "not equal\n",
      "not equal\n",
      "not equal\n",
      "not equal\n",
      "not equal\n",
      "not equal\n",
      "not equal\n",
      "not equal\n",
      "not equal\n",
      "not equal\n",
      "not equal\n",
      "not equal\n",
      "not equal\n",
      "not equal\n",
      "not equal\n",
      "not equal\n",
      "not equal\n",
      "not equal\n",
      "not equal\n",
      "not equal\n",
      "not equal\n",
      "not equal\n",
      "not equal\n",
      "not equal\n",
      "not equal\n",
      "not equal\n",
      "not equal\n",
      "not equal\n",
      "not equal\n",
      "not equal\n",
      "not equal\n",
      "not equal\n",
      "not equal\n",
      "not equal\n",
      "not equal\n",
      "not equal\n",
      "not equal\n",
      "not equal\n",
      "not equal\n",
      "not equal\n",
      "not equal\n",
      "not equal\n",
      "not equal\n",
      "not equal\n",
      "not equal\n",
      "not equal\n",
      "not equal\n",
      "not equal\n",
      "not equal\n",
      "not equal\n",
      "not equal\n",
      "not equal\n",
      "not equal\n",
      "not equal\n",
      "not equal\n",
      "not equal\n",
      "not equal\n",
      "not equal\n",
      "not equal\n",
      "not equal\n",
      "not equal\n",
      "not equal\n",
      "not equal\n",
      "not equal\n",
      "not equal\n",
      "not equal\n",
      "not equal\n",
      "not equal\n",
      "not equal\n",
      "not equal\n",
      "not equal\n",
      "not equal\n",
      "not equal\n",
      "not equal\n",
      "not equal\n",
      "not equal\n",
      "not equal\n",
      "not equal\n",
      "not equal\n",
      "not equal\n",
      "not equal\n",
      "not equal\n",
      "not equal\n",
      "not equal\n",
      "not equal\n",
      "not equal\n",
      "not equal\n",
      "not equal\n",
      "not equal\n"
     ]
    }
   ],
   "source": [
    "for i in range(df.shape[0]):\n",
    "  if type(df[\"Type\"][i]) != float and type(df[\"Fuel\"][i]) != float:\n",
    "    if df[\"Type\"][i].split(\",\")[1] != df[\"Fuel\"][i]:\n",
    "      print(\"not equal\")"
   ]
  },
  {
   "cell_type": "code",
   "execution_count": null,
   "metadata": {
    "colab": {
     "base_uri": "https://localhost:8080/"
    },
    "executionInfo": {
     "elapsed": 275,
     "status": "ok",
     "timestamp": 1635888279390,
     "user": {
      "displayName": "Yusuf C",
      "photoUrl": "https://lh3.googleusercontent.com/a/default-user=s64",
      "userId": "01460091991965572961"
     },
     "user_tz": -180
    },
    "id": "dwMYLJRRMf2m",
    "outputId": "a09f9151-dc46-489a-fcbd-0bb5e81a4197"
   },
   "outputs": [
    {
     "data": {
      "text/plain": [
       "0                  Used\n",
       "1                  Used\n",
       "2                  Used\n",
       "3                  Used\n",
       "4                  Used\n",
       "              ...      \n",
       "15914               New\n",
       "15915              Used\n",
       "15916    Pre-registered\n",
       "15917    Pre-registered\n",
       "15918     Demonstration\n",
       "Name: Type, Length: 15919, dtype: object"
      ]
     },
     "execution_count": 169,
     "metadata": {},
     "output_type": "execute_result"
    }
   ],
   "source": [
    "df[\"Type\"].apply(lambda x: x.split(\",\")[0] if type(x)==str else x) "
   ]
  },
  {
   "cell_type": "code",
   "execution_count": null,
   "metadata": {
    "id": "d0Au0cBiNchh"
   },
   "outputs": [],
   "source": [
    "df[\"Type\"] = df[\"Type\"].apply(lambda x: x.split(\",\")[0] if type(x)==str else x) "
   ]
  },
  {
   "cell_type": "code",
   "execution_count": null,
   "metadata": {
    "colab": {
     "base_uri": "https://localhost:8080/",
     "height": 419
    },
    "executionInfo": {
     "elapsed": 212,
     "status": "ok",
     "timestamp": 1635888279392,
     "user": {
      "displayName": "Yusuf C",
      "photoUrl": "https://lh3.googleusercontent.com/a/default-user=s64",
      "userId": "01460091991965572961"
     },
     "user_tz": -180
    },
    "id": "iSGd0e9iyAlU",
    "outputId": "ddce120b-0350-4809-eb22-96bf7912e5c4"
   },
   "outputs": [
    {
     "data": {
      "text/html": [
       "<div>\n",
       "<style scoped>\n",
       "    .dataframe tbody tr th:only-of-type {\n",
       "        vertical-align: middle;\n",
       "    }\n",
       "\n",
       "    .dataframe tbody tr th {\n",
       "        vertical-align: top;\n",
       "    }\n",
       "\n",
       "    .dataframe thead th {\n",
       "        text-align: right;\n",
       "    }\n",
       "</style>\n",
       "<table border=\"1\" class=\"dataframe\">\n",
       "  <thead>\n",
       "    <tr style=\"text-align: right;\">\n",
       "      <th></th>\n",
       "      <th>Demonstration</th>\n",
       "      <th>Employee's</th>\n",
       "      <th>New</th>\n",
       "      <th>Pre-registered</th>\n",
       "      <th>Used</th>\n",
       "    </tr>\n",
       "  </thead>\n",
       "  <tbody>\n",
       "    <tr>\n",
       "      <th>0</th>\n",
       "      <td>0</td>\n",
       "      <td>0</td>\n",
       "      <td>0</td>\n",
       "      <td>0</td>\n",
       "      <td>1</td>\n",
       "    </tr>\n",
       "    <tr>\n",
       "      <th>1</th>\n",
       "      <td>0</td>\n",
       "      <td>0</td>\n",
       "      <td>0</td>\n",
       "      <td>0</td>\n",
       "      <td>1</td>\n",
       "    </tr>\n",
       "    <tr>\n",
       "      <th>2</th>\n",
       "      <td>0</td>\n",
       "      <td>0</td>\n",
       "      <td>0</td>\n",
       "      <td>0</td>\n",
       "      <td>1</td>\n",
       "    </tr>\n",
       "    <tr>\n",
       "      <th>3</th>\n",
       "      <td>0</td>\n",
       "      <td>0</td>\n",
       "      <td>0</td>\n",
       "      <td>0</td>\n",
       "      <td>1</td>\n",
       "    </tr>\n",
       "    <tr>\n",
       "      <th>4</th>\n",
       "      <td>0</td>\n",
       "      <td>0</td>\n",
       "      <td>0</td>\n",
       "      <td>0</td>\n",
       "      <td>1</td>\n",
       "    </tr>\n",
       "    <tr>\n",
       "      <th>...</th>\n",
       "      <td>...</td>\n",
       "      <td>...</td>\n",
       "      <td>...</td>\n",
       "      <td>...</td>\n",
       "      <td>...</td>\n",
       "    </tr>\n",
       "    <tr>\n",
       "      <th>15914</th>\n",
       "      <td>0</td>\n",
       "      <td>0</td>\n",
       "      <td>1</td>\n",
       "      <td>0</td>\n",
       "      <td>0</td>\n",
       "    </tr>\n",
       "    <tr>\n",
       "      <th>15915</th>\n",
       "      <td>0</td>\n",
       "      <td>0</td>\n",
       "      <td>0</td>\n",
       "      <td>0</td>\n",
       "      <td>1</td>\n",
       "    </tr>\n",
       "    <tr>\n",
       "      <th>15916</th>\n",
       "      <td>0</td>\n",
       "      <td>0</td>\n",
       "      <td>0</td>\n",
       "      <td>1</td>\n",
       "      <td>0</td>\n",
       "    </tr>\n",
       "    <tr>\n",
       "      <th>15917</th>\n",
       "      <td>0</td>\n",
       "      <td>0</td>\n",
       "      <td>0</td>\n",
       "      <td>1</td>\n",
       "      <td>0</td>\n",
       "    </tr>\n",
       "    <tr>\n",
       "      <th>15918</th>\n",
       "      <td>1</td>\n",
       "      <td>0</td>\n",
       "      <td>0</td>\n",
       "      <td>0</td>\n",
       "      <td>0</td>\n",
       "    </tr>\n",
       "  </tbody>\n",
       "</table>\n",
       "<p>15919 rows × 5 columns</p>\n",
       "</div>"
      ],
      "text/plain": [
       "       Demonstration  Employee's  New  Pre-registered  Used\n",
       "0                  0           0    0               0     1\n",
       "1                  0           0    0               0     1\n",
       "2                  0           0    0               0     1\n",
       "3                  0           0    0               0     1\n",
       "4                  0           0    0               0     1\n",
       "...              ...         ...  ...             ...   ...\n",
       "15914              0           0    1               0     0\n",
       "15915              0           0    0               0     1\n",
       "15916              0           0    0               1     0\n",
       "15917              0           0    0               1     0\n",
       "15918              1           0    0               0     0\n",
       "\n",
       "[15919 rows x 5 columns]"
      ]
     },
     "execution_count": 171,
     "metadata": {},
     "output_type": "execute_result"
    }
   ],
   "source": [
    "df[\"Type\"].str.get_dummies()"
   ]
  },
  {
   "cell_type": "markdown",
   "metadata": {
    "id": "hSJvqGAYlMrc"
   },
   "source": [
    "# Drive chain (6858 NaN value)"
   ]
  },
  {
   "cell_type": "code",
   "execution_count": null,
   "metadata": {
    "colab": {
     "base_uri": "https://localhost:8080/",
     "height": 301
    },
    "executionInfo": {
     "elapsed": 212,
     "status": "ok",
     "timestamp": 1635888279393,
     "user": {
      "displayName": "Yusuf C",
      "photoUrl": "https://lh3.googleusercontent.com/a/default-user=s64",
      "userId": "01460091991965572961"
     },
     "user_tz": -180
    },
    "id": "HpRotUZGt5Lc",
    "outputId": "6f9aedfc-8473-4ad9-e6c8-e7f5fb07f4b0"
   },
   "outputs": [
    {
     "ename": "TypeError",
     "evalue": "ignored",
     "output_type": "error",
     "traceback": [
      "\u001b[0;31m---------------------------------------------------------------------------\u001b[0m",
      "\u001b[0;31mTypeError\u001b[0m                                 Traceback (most recent call last)",
      "\u001b[0;32mpandas/_libs/hashtable_class_helper.pxi\u001b[0m in \u001b[0;36mpandas._libs.hashtable.PyObjectHashTable.map_locations\u001b[0;34m()\u001b[0m\n",
      "\u001b[0;31mTypeError\u001b[0m: unhashable type: 'list'"
     ]
    },
    {
     "name": "stderr",
     "output_type": "stream",
     "text": [
      "Exception ignored in: 'pandas._libs.index.IndexEngine._call_map_locations'\n",
      "Traceback (most recent call last):\n",
      "  File \"pandas/_libs/hashtable_class_helper.pxi\", line 1709, in pandas._libs.hashtable.PyObjectHashTable.map_locations\n",
      "TypeError: unhashable type: 'list'\n"
     ]
    },
    {
     "data": {
      "text/plain": [
       "[\\nfront\\n]    8886\n",
       "NaN            6858\n",
       "[\\n4WD\\n]       171\n",
       "[\\nrear\\n]        4\n",
       "Name: Drive chain, dtype: int64"
      ]
     },
     "execution_count": 172,
     "metadata": {},
     "output_type": "execute_result"
    }
   ],
   "source": [
    "df[\"Drive chain\"].value_counts(dropna=False)"
   ]
  },
  {
   "cell_type": "code",
   "execution_count": null,
   "metadata": {
    "id": "ePNr_fuZmodf"
   },
   "outputs": [],
   "source": [
    "df[\"Drive chain\"] = df[\"Drive chain\"].apply(lambda x : x[0].split()[0] if type(x)==list else x )"
   ]
  },
  {
   "cell_type": "code",
   "execution_count": null,
   "metadata": {
    "colab": {
     "base_uri": "https://localhost:8080/"
    },
    "executionInfo": {
     "elapsed": 213,
     "status": "ok",
     "timestamp": 1635888279395,
     "user": {
      "displayName": "Yusuf C",
      "photoUrl": "https://lh3.googleusercontent.com/a/default-user=s64",
      "userId": "01460091991965572961"
     },
     "user_tz": -180
    },
    "id": "lfuVEB9ioa9u",
    "outputId": "7e16da64-98f2-4247-a14e-1ba2b2c48d1a"
   },
   "outputs": [
    {
     "data": {
      "text/plain": [
       "front    8886\n",
       "NaN      6858\n",
       "4WD       171\n",
       "rear        4\n",
       "Name: Drive chain, dtype: int64"
      ]
     },
     "execution_count": 174,
     "metadata": {},
     "output_type": "execute_result"
    }
   ],
   "source": [
    "df[\"Drive chain\"].value_counts(dropna=False)"
   ]
  },
  {
   "cell_type": "markdown",
   "metadata": {
    "id": "9ppkZ39do13l"
   },
   "source": [
    "# Make, Model dropped bacuse same with make_model"
   ]
  },
  {
   "cell_type": "code",
   "execution_count": null,
   "metadata": {
    "colab": {
     "base_uri": "https://localhost:8080/",
     "height": 419
    },
    "executionInfo": {
     "elapsed": 206,
     "status": "ok",
     "timestamp": 1635888279395,
     "user": {
      "displayName": "Yusuf C",
      "photoUrl": "https://lh3.googleusercontent.com/a/default-user=s64",
      "userId": "01460091991965572961"
     },
     "user_tz": -180
    },
    "id": "w6sQClf_o2ok",
    "outputId": "40346eb5-d1e8-4633-fe35-8253f8a698fc"
   },
   "outputs": [
    {
     "data": {
      "text/html": [
       "<div>\n",
       "<style scoped>\n",
       "    .dataframe tbody tr th:only-of-type {\n",
       "        vertical-align: middle;\n",
       "    }\n",
       "\n",
       "    .dataframe tbody tr th {\n",
       "        vertical-align: top;\n",
       "    }\n",
       "\n",
       "    .dataframe thead th {\n",
       "        text-align: right;\n",
       "    }\n",
       "</style>\n",
       "<table border=\"1\" class=\"dataframe\">\n",
       "  <thead>\n",
       "    <tr style=\"text-align: right;\">\n",
       "      <th></th>\n",
       "      <th>make_model</th>\n",
       "      <th>Make</th>\n",
       "      <th>Model</th>\n",
       "    </tr>\n",
       "  </thead>\n",
       "  <tbody>\n",
       "    <tr>\n",
       "      <th>0</th>\n",
       "      <td>Audi A1</td>\n",
       "      <td>\\nAudi\\n</td>\n",
       "      <td>[\\n, A1, \\n]</td>\n",
       "    </tr>\n",
       "    <tr>\n",
       "      <th>1</th>\n",
       "      <td>Audi A1</td>\n",
       "      <td>\\nAudi\\n</td>\n",
       "      <td>[\\n, A1, \\n]</td>\n",
       "    </tr>\n",
       "    <tr>\n",
       "      <th>2</th>\n",
       "      <td>Audi A1</td>\n",
       "      <td>\\nAudi\\n</td>\n",
       "      <td>[\\n, A1, \\n]</td>\n",
       "    </tr>\n",
       "    <tr>\n",
       "      <th>3</th>\n",
       "      <td>Audi A1</td>\n",
       "      <td>\\nAudi\\n</td>\n",
       "      <td>[\\n, A1, \\n]</td>\n",
       "    </tr>\n",
       "    <tr>\n",
       "      <th>4</th>\n",
       "      <td>Audi A1</td>\n",
       "      <td>\\nAudi\\n</td>\n",
       "      <td>[\\n, A1, \\n]</td>\n",
       "    </tr>\n",
       "    <tr>\n",
       "      <th>...</th>\n",
       "      <td>...</td>\n",
       "      <td>...</td>\n",
       "      <td>...</td>\n",
       "    </tr>\n",
       "    <tr>\n",
       "      <th>15914</th>\n",
       "      <td>Renault Espace</td>\n",
       "      <td>\\nRenault\\n</td>\n",
       "      <td>[\\n, Espace, \\n]</td>\n",
       "    </tr>\n",
       "    <tr>\n",
       "      <th>15915</th>\n",
       "      <td>Renault Espace</td>\n",
       "      <td>\\nRenault\\n</td>\n",
       "      <td>[\\n, Espace, \\n]</td>\n",
       "    </tr>\n",
       "    <tr>\n",
       "      <th>15916</th>\n",
       "      <td>Renault Espace</td>\n",
       "      <td>\\nRenault\\n</td>\n",
       "      <td>[\\n, Espace, \\n]</td>\n",
       "    </tr>\n",
       "    <tr>\n",
       "      <th>15917</th>\n",
       "      <td>Renault Espace</td>\n",
       "      <td>\\nRenault\\n</td>\n",
       "      <td>[\\n, Espace, \\n]</td>\n",
       "    </tr>\n",
       "    <tr>\n",
       "      <th>15918</th>\n",
       "      <td>Renault Espace</td>\n",
       "      <td>\\nRenault\\n</td>\n",
       "      <td>[\\n, Espace, \\n]</td>\n",
       "    </tr>\n",
       "  </tbody>\n",
       "</table>\n",
       "<p>15919 rows × 3 columns</p>\n",
       "</div>"
      ],
      "text/plain": [
       "           make_model         Make             Model\n",
       "0             Audi A1     \\nAudi\\n      [\\n, A1, \\n]\n",
       "1             Audi A1     \\nAudi\\n      [\\n, A1, \\n]\n",
       "2             Audi A1     \\nAudi\\n      [\\n, A1, \\n]\n",
       "3             Audi A1     \\nAudi\\n      [\\n, A1, \\n]\n",
       "4             Audi A1     \\nAudi\\n      [\\n, A1, \\n]\n",
       "...               ...          ...               ...\n",
       "15914  Renault Espace  \\nRenault\\n  [\\n, Espace, \\n]\n",
       "15915  Renault Espace  \\nRenault\\n  [\\n, Espace, \\n]\n",
       "15916  Renault Espace  \\nRenault\\n  [\\n, Espace, \\n]\n",
       "15917  Renault Espace  \\nRenault\\n  [\\n, Espace, \\n]\n",
       "15918  Renault Espace  \\nRenault\\n  [\\n, Espace, \\n]\n",
       "\n",
       "[15919 rows x 3 columns]"
      ]
     },
     "execution_count": 175,
     "metadata": {},
     "output_type": "execute_result"
    }
   ],
   "source": [
    "df[[\"make_model\", \"Make\", \"Model\"]]"
   ]
  },
  {
   "cell_type": "code",
   "execution_count": null,
   "metadata": {
    "colab": {
     "base_uri": "https://localhost:8080/"
    },
    "executionInfo": {
     "elapsed": 206,
     "status": "ok",
     "timestamp": 1635888279396,
     "user": {
      "displayName": "Yusuf C",
      "photoUrl": "https://lh3.googleusercontent.com/a/default-user=s64",
      "userId": "01460091991965572961"
     },
     "user_tz": -180
    },
    "id": "yeEDOXNuo22A",
    "outputId": "285291bd-c06d-45e9-c873-1d3cb9c11342"
   },
   "outputs": [
    {
     "data": {
      "text/plain": [
       "make_model    0\n",
       "Make          0\n",
       "Model         0\n",
       "dtype: int64"
      ]
     },
     "execution_count": 176,
     "metadata": {},
     "output_type": "execute_result"
    }
   ],
   "source": [
    "df[[\"make_model\", \"Make\", \"Model\"]].isnull().sum()"
   ]
  },
  {
   "cell_type": "code",
   "execution_count": null,
   "metadata": {
    "colab": {
     "base_uri": "https://localhost:8080/"
    },
    "executionInfo": {
     "elapsed": 200,
     "status": "ok",
     "timestamp": 1635888279397,
     "user": {
      "displayName": "Yusuf C",
      "photoUrl": "https://lh3.googleusercontent.com/a/default-user=s64",
      "userId": "01460091991965572961"
     },
     "user_tz": -180
    },
    "id": "z6r26xTJo2-2",
    "outputId": "84b87a18-c232-4e1b-d8f4-cea5270b060b"
   },
   "outputs": [
    {
     "data": {
      "text/plain": [
       "Audi A3           3097\n",
       "Audi A1           2614\n",
       "Opel Insignia     2598\n",
       "Opel Astra        2526\n",
       "Opel Corsa        2219\n",
       "Renault Clio      1839\n",
       "Renault Espace     991\n",
       "Renault Duster      34\n",
       "Audi A2              1\n",
       "Name: make_model, dtype: int64"
      ]
     },
     "execution_count": 177,
     "metadata": {},
     "output_type": "execute_result"
    }
   ],
   "source": [
    "df[\"make_model\"].value_counts(dropna=False)"
   ]
  },
  {
   "cell_type": "code",
   "execution_count": null,
   "metadata": {
    "colab": {
     "base_uri": "https://localhost:8080/"
    },
    "executionInfo": {
     "elapsed": 195,
     "status": "ok",
     "timestamp": 1635888279398,
     "user": {
      "displayName": "Yusuf C",
      "photoUrl": "https://lh3.googleusercontent.com/a/default-user=s64",
      "userId": "01460091991965572961"
     },
     "user_tz": -180
    },
    "id": "5k2iGZFWo3QI",
    "outputId": "54f5b072-945a-4a8e-e458-7f6d88f762e3"
   },
   "outputs": [
    {
     "data": {
      "text/plain": [
       "\\nOpel\\n       7343\n",
       "\\nAudi\\n       5712\n",
       "\\nRenault\\n    2864\n",
       "Name: Make, dtype: int64"
      ]
     },
     "execution_count": 178,
     "metadata": {},
     "output_type": "execute_result"
    }
   ],
   "source": [
    "df[\"Make\"].value_counts(dropna=False)"
   ]
  },
  {
   "cell_type": "code",
   "execution_count": null,
   "metadata": {
    "colab": {
     "base_uri": "https://localhost:8080/",
     "height": 386
    },
    "executionInfo": {
     "elapsed": 190,
     "status": "ok",
     "timestamp": 1635888279399,
     "user": {
      "displayName": "Yusuf C",
      "photoUrl": "https://lh3.googleusercontent.com/a/default-user=s64",
      "userId": "01460091991965572961"
     },
     "user_tz": -180
    },
    "id": "X6nHf1pmqK8c",
    "outputId": "bbd15b38-cb9a-4029-8e8d-b3b1a2b47852"
   },
   "outputs": [
    {
     "ename": "TypeError",
     "evalue": "ignored",
     "output_type": "error",
     "traceback": [
      "\u001b[0;31m---------------------------------------------------------------------------\u001b[0m",
      "\u001b[0;31mTypeError\u001b[0m                                 Traceback (most recent call last)",
      "\u001b[0;32mpandas/_libs/hashtable_class_helper.pxi\u001b[0m in \u001b[0;36mpandas._libs.hashtable.PyObjectHashTable.map_locations\u001b[0;34m()\u001b[0m\n",
      "\u001b[0;31mTypeError\u001b[0m: unhashable type: 'list'"
     ]
    },
    {
     "name": "stderr",
     "output_type": "stream",
     "text": [
      "Exception ignored in: 'pandas._libs.index.IndexEngine._call_map_locations'\n",
      "Traceback (most recent call last):\n",
      "  File \"pandas/_libs/hashtable_class_helper.pxi\", line 1709, in pandas._libs.hashtable.PyObjectHashTable.map_locations\n",
      "TypeError: unhashable type: 'list'\n"
     ]
    },
    {
     "data": {
      "text/plain": [
       "[\\n, A3, \\n]          3097\n",
       "[\\n, A1, \\n]          2614\n",
       "[\\n, Insignia, \\n]    2598\n",
       "[\\n, Astra, \\n]       2526\n",
       "[\\n, Corsa, \\n]       2219\n",
       "[\\n, Clio, \\n]        1839\n",
       "[\\n, Espace, \\n]       991\n",
       "[\\n, Duster, \\n]        34\n",
       "[\\n, A2, \\n]             1\n",
       "Name: Model, dtype: int64"
      ]
     },
     "execution_count": 179,
     "metadata": {},
     "output_type": "execute_result"
    }
   ],
   "source": [
    "df[\"Model\"].value_counts(dropna=False)"
   ]
  },
  {
   "cell_type": "code",
   "execution_count": null,
   "metadata": {
    "colab": {
     "base_uri": "https://localhost:8080/",
     "height": 204
    },
    "executionInfo": {
     "elapsed": 189,
     "status": "ok",
     "timestamp": 1635888279400,
     "user": {
      "displayName": "Yusuf C",
      "photoUrl": "https://lh3.googleusercontent.com/a/default-user=s64",
      "userId": "01460091991965572961"
     },
     "user_tz": -180
    },
    "id": "q9QJr37gqLBN",
    "outputId": "73440079-f750-4a4b-f77d-cac5bf8bbfd4"
   },
   "outputs": [
    {
     "data": {
      "text/html": [
       "<div>\n",
       "<style scoped>\n",
       "    .dataframe tbody tr th:only-of-type {\n",
       "        vertical-align: middle;\n",
       "    }\n",
       "\n",
       "    .dataframe tbody tr th {\n",
       "        vertical-align: top;\n",
       "    }\n",
       "\n",
       "    .dataframe thead tr th {\n",
       "        text-align: left;\n",
       "    }\n",
       "\n",
       "    .dataframe thead tr:last-of-type th {\n",
       "        text-align: right;\n",
       "    }\n",
       "</style>\n",
       "<table border=\"1\" class=\"dataframe\">\n",
       "  <thead>\n",
       "    <tr>\n",
       "      <th></th>\n",
       "      <th colspan=\"4\" halign=\"left\">Model</th>\n",
       "      <th colspan=\"4\" halign=\"left\">make_model</th>\n",
       "    </tr>\n",
       "    <tr>\n",
       "      <th></th>\n",
       "      <th>count</th>\n",
       "      <th>unique</th>\n",
       "      <th>top</th>\n",
       "      <th>freq</th>\n",
       "      <th>count</th>\n",
       "      <th>unique</th>\n",
       "      <th>top</th>\n",
       "      <th>freq</th>\n",
       "    </tr>\n",
       "    <tr>\n",
       "      <th>Make</th>\n",
       "      <th></th>\n",
       "      <th></th>\n",
       "      <th></th>\n",
       "      <th></th>\n",
       "      <th></th>\n",
       "      <th></th>\n",
       "      <th></th>\n",
       "      <th></th>\n",
       "    </tr>\n",
       "  </thead>\n",
       "  <tbody>\n",
       "    <tr>\n",
       "      <th>\\nAudi\\n</th>\n",
       "      <td>5712</td>\n",
       "      <td>3</td>\n",
       "      <td>[\\n, A3, \\n]</td>\n",
       "      <td>3097</td>\n",
       "      <td>5712</td>\n",
       "      <td>3</td>\n",
       "      <td>Audi A3</td>\n",
       "      <td>3097</td>\n",
       "    </tr>\n",
       "    <tr>\n",
       "      <th>\\nOpel\\n</th>\n",
       "      <td>7343</td>\n",
       "      <td>3</td>\n",
       "      <td>[\\n, Insignia, \\n]</td>\n",
       "      <td>2598</td>\n",
       "      <td>7343</td>\n",
       "      <td>3</td>\n",
       "      <td>Opel Insignia</td>\n",
       "      <td>2598</td>\n",
       "    </tr>\n",
       "    <tr>\n",
       "      <th>\\nRenault\\n</th>\n",
       "      <td>2864</td>\n",
       "      <td>3</td>\n",
       "      <td>[\\n, Clio, \\n]</td>\n",
       "      <td>1839</td>\n",
       "      <td>2864</td>\n",
       "      <td>3</td>\n",
       "      <td>Renault Clio</td>\n",
       "      <td>1839</td>\n",
       "    </tr>\n",
       "  </tbody>\n",
       "</table>\n",
       "</div>"
      ],
      "text/plain": [
       "            Model                             ... make_model                     \n",
       "            count unique                 top  ...     unique            top  freq\n",
       "Make                                          ...                                \n",
       "\\nAudi\\n     5712      3        [\\n, A3, \\n]  ...          3        Audi A3  3097\n",
       "\\nOpel\\n     7343      3  [\\n, Insignia, \\n]  ...          3  Opel Insignia  2598\n",
       "\\nRenault\\n  2864      3      [\\n, Clio, \\n]  ...          3   Renault Clio  1839\n",
       "\n",
       "[3 rows x 8 columns]"
      ]
     },
     "execution_count": 180,
     "metadata": {},
     "output_type": "execute_result"
    }
   ],
   "source": [
    "df.groupby(\"Make\")[[\"Model\", \"make_model\"]].describe()"
   ]
  },
  {
   "cell_type": "code",
   "execution_count": null,
   "metadata": {
    "id": "RlDPEIhUqLEM"
   },
   "outputs": [],
   "source": [
    "df.drop([\"Make\", \"Model\"], axis=1, inplace=True)\n"
   ]
  },
  {
   "cell_type": "code",
   "execution_count": null,
   "metadata": {
    "colab": {
     "base_uri": "https://localhost:8080/"
    },
    "executionInfo": {
     "elapsed": 190,
     "status": "ok",
     "timestamp": 1635888279402,
     "user": {
      "displayName": "Yusuf C",
      "photoUrl": "https://lh3.googleusercontent.com/a/default-user=s64",
      "userId": "01460091991965572961"
     },
     "user_tz": -180
    },
    "id": "HIyorfZtqLIi",
    "outputId": "e8da052b-015f-4f94-b2a1-d0d6ae4a5324"
   },
   "outputs": [
    {
     "data": {
      "text/plain": [
       "(15919, 44)"
      ]
     },
     "execution_count": 182,
     "metadata": {},
     "output_type": "execute_result"
    }
   ],
   "source": [
    "df.shape"
   ]
  },
  {
   "cell_type": "markdown",
   "metadata": {
    "id": "AKAiSbTb3bMA"
   },
   "source": [
    "# Weight (6974 NaN value)"
   ]
  },
  {
   "cell_type": "code",
   "execution_count": null,
   "metadata": {
    "colab": {
     "base_uri": "https://localhost:8080/",
     "height": 420
    },
    "executionInfo": {
     "elapsed": 184,
     "status": "ok",
     "timestamp": 1635888279403,
     "user": {
      "displayName": "Yusuf C",
      "photoUrl": "https://lh3.googleusercontent.com/a/default-user=s64",
      "userId": "01460091991965572961"
     },
     "user_tz": -180
    },
    "id": "FN4iR8Fv1l-e",
    "outputId": "71a33e8d-4d61-4a5c-9426-d43967ee4f98"
   },
   "outputs": [
    {
     "ename": "TypeError",
     "evalue": "ignored",
     "output_type": "error",
     "traceback": [
      "\u001b[0;31m---------------------------------------------------------------------------\u001b[0m",
      "\u001b[0;31mTypeError\u001b[0m                                 Traceback (most recent call last)",
      "\u001b[0;32mpandas/_libs/hashtable_class_helper.pxi\u001b[0m in \u001b[0;36mpandas._libs.hashtable.PyObjectHashTable.map_locations\u001b[0;34m()\u001b[0m\n",
      "\u001b[0;31mTypeError\u001b[0m: unhashable type: 'list'"
     ]
    },
    {
     "name": "stderr",
     "output_type": "stream",
     "text": [
      "Exception ignored in: 'pandas._libs.index.IndexEngine._call_map_locations'\n",
      "Traceback (most recent call last):\n",
      "  File \"pandas/_libs/hashtable_class_helper.pxi\", line 1709, in pandas._libs.hashtable.PyObjectHashTable.map_locations\n",
      "TypeError: unhashable type: 'list'\n"
     ]
    },
    {
     "data": {
      "text/plain": [
       "NaN               6974\n",
       "[\\n1,163 kg\\n]     574\n",
       "[\\n1,360 kg\\n]     356\n",
       "[\\n1,165 kg\\n]     301\n",
       "[\\n1,335 kg\\n]     242\n",
       "                  ... \n",
       "[\\n1,030 kg\\n]       1\n",
       "[\\n1,206 kg\\n]       1\n",
       "[\\n1,492 kg\\n]       1\n",
       "[\\n1,057 kg\\n]       1\n",
       "[\\n1,939 kg\\n]       1\n",
       "Name: Weight, Length: 435, dtype: int64"
      ]
     },
     "execution_count": 183,
     "metadata": {},
     "output_type": "execute_result"
    }
   ],
   "source": [
    "df[\"Weight\"].value_counts(dropna=False)"
   ]
  },
  {
   "cell_type": "code",
   "execution_count": null,
   "metadata": {
    "colab": {
     "base_uri": "https://localhost:8080/",
     "height": 35
    },
    "executionInfo": {
     "elapsed": 184,
     "status": "ok",
     "timestamp": 1635888279404,
     "user": {
      "displayName": "Yusuf C",
      "photoUrl": "https://lh3.googleusercontent.com/a/default-user=s64",
      "userId": "01460091991965572961"
     },
     "user_tz": -180
    },
    "id": "1OVd92661mBl",
    "outputId": "e7bea08f-5c90-44bf-c155-e49cbca020e4"
   },
   "outputs": [
    {
     "data": {
      "application/vnd.google.colaboratory.intrinsic+json": {
       "type": "string"
      },
      "text/plain": [
       "'1220'"
      ]
     },
     "execution_count": 184,
     "metadata": {},
     "output_type": "execute_result"
    }
   ],
   "source": [
    "df[\"Weight\"][0][0].split()[0].replace(\",\", \"\")"
   ]
  },
  {
   "cell_type": "code",
   "execution_count": null,
   "metadata": {
    "colab": {
     "base_uri": "https://localhost:8080/"
    },
    "executionInfo": {
     "elapsed": 184,
     "status": "ok",
     "timestamp": 1635888279406,
     "user": {
      "displayName": "Yusuf C",
      "photoUrl": "https://lh3.googleusercontent.com/a/default-user=s64",
      "userId": "01460091991965572961"
     },
     "user_tz": -180
    },
    "id": "YntW9MEd1mHV",
    "outputId": "fa68e902-2184-4dc6-a88b-dd28b040bb08"
   },
   "outputs": [
    {
     "data": {
      "text/plain": [
       "0        1220\n",
       "1        1255\n",
       "2         NaN\n",
       "3        1195\n",
       "4         NaN\n",
       "         ... \n",
       "15914    1758\n",
       "15915    1708\n",
       "15916     NaN\n",
       "15917    1758\n",
       "15918    1685\n",
       "Name: Weight, Length: 15919, dtype: object"
      ]
     },
     "execution_count": 185,
     "metadata": {},
     "output_type": "execute_result"
    }
   ],
   "source": [
    "df[\"Weight\"].apply(lambda x: x[0].split()[0].replace(\",\", \"\") if type(x)==list else x)"
   ]
  },
  {
   "cell_type": "code",
   "execution_count": null,
   "metadata": {
    "id": "CsR4L0dQ4r-P"
   },
   "outputs": [],
   "source": [
    "df[\"Weight\"] = df[\"Weight\"].apply(lambda x: x[0].split()[0].replace(\",\", \"\") if type(x)==list else x)"
   ]
  },
  {
   "cell_type": "code",
   "execution_count": null,
   "metadata": {
    "colab": {
     "base_uri": "https://localhost:8080/"
    },
    "executionInfo": {
     "elapsed": 180,
     "status": "ok",
     "timestamp": 1635888279409,
     "user": {
      "displayName": "Yusuf C",
      "photoUrl": "https://lh3.googleusercontent.com/a/default-user=s64",
      "userId": "01460091991965572961"
     },
     "user_tz": -180
    },
    "id": "PL7Q8lxe4sDM",
    "outputId": "0b6ff013-4ce0-4954-d1f7-d98cc082f179"
   },
   "outputs": [
    {
     "data": {
      "text/plain": [
       "NaN     6974\n",
       "1163     574\n",
       "1360     356\n",
       "1165     301\n",
       "1335     242\n",
       "        ... \n",
       "1150       1\n",
       "1017       1\n",
       "1302       1\n",
       "1791       1\n",
       "1366       1\n",
       "Name: Weight, Length: 435, dtype: int64"
      ]
     },
     "execution_count": 187,
     "metadata": {},
     "output_type": "execute_result"
    }
   ],
   "source": [
    "df[\"Weight\"].value_counts(dropna=False)"
   ]
  },
  {
   "cell_type": "markdown",
   "metadata": {
    "id": "6Sd2sI_T5JHh"
   },
   "source": [
    "# Emission Class (3628 NaN)"
   ]
  },
  {
   "cell_type": "code",
   "execution_count": null,
   "metadata": {
    "colab": {
     "base_uri": "https://localhost:8080/"
    },
    "executionInfo": {
     "elapsed": 175,
     "status": "ok",
     "timestamp": 1635888279410,
     "user": {
      "displayName": "Yusuf C",
      "photoUrl": "https://lh3.googleusercontent.com/a/default-user=s64",
      "userId": "01460091991965572961"
     },
     "user_tz": -180
    },
    "id": "YCH_inNi5KOC",
    "outputId": "d8ba9da8-055e-4297-fa17-b1252ad569be"
   },
   "outputs": [
    {
     "data": {
      "text/plain": [
       "0              [\\nEuro 6\\n]\n",
       "1              [\\nEuro 6\\n]\n",
       "2              [\\nEuro 6\\n]\n",
       "3              [\\nEuro 6\\n]\n",
       "4              [\\nEuro 6\\n]\n",
       "                ...        \n",
       "15914                   NaN\n",
       "15915                   NaN\n",
       "15916    [\\nEuro 6d-TEMP\\n]\n",
       "15917          [\\nEuro 6\\n]\n",
       "15918          [\\nEuro 6\\n]\n",
       "Name: Emission Class, Length: 15919, dtype: object"
      ]
     },
     "execution_count": 188,
     "metadata": {},
     "output_type": "execute_result"
    }
   ],
   "source": [
    "df[\"Emission Class\"]"
   ]
  },
  {
   "cell_type": "code",
   "execution_count": null,
   "metadata": {
    "colab": {
     "base_uri": "https://localhost:8080/",
     "height": 369
    },
    "executionInfo": {
     "elapsed": 168,
     "status": "ok",
     "timestamp": 1635888279411,
     "user": {
      "displayName": "Yusuf C",
      "photoUrl": "https://lh3.googleusercontent.com/a/default-user=s64",
      "userId": "01460091991965572961"
     },
     "user_tz": -180
    },
    "id": "mtHRlEli5KST",
    "outputId": "4149c2d2-17d3-4b5e-a0d7-caea539be770"
   },
   "outputs": [
    {
     "ename": "TypeError",
     "evalue": "ignored",
     "output_type": "error",
     "traceback": [
      "\u001b[0;31m---------------------------------------------------------------------------\u001b[0m",
      "\u001b[0;31mTypeError\u001b[0m                                 Traceback (most recent call last)",
      "\u001b[0;32mpandas/_libs/hashtable_class_helper.pxi\u001b[0m in \u001b[0;36mpandas._libs.hashtable.PyObjectHashTable.map_locations\u001b[0;34m()\u001b[0m\n",
      "\u001b[0;31mTypeError\u001b[0m: unhashable type: 'list'"
     ]
    },
    {
     "name": "stderr",
     "output_type": "stream",
     "text": [
      "Exception ignored in: 'pandas._libs.index.IndexEngine._call_map_locations'\n",
      "Traceback (most recent call last):\n",
      "  File \"pandas/_libs/hashtable_class_helper.pxi\", line 1709, in pandas._libs.hashtable.PyObjectHashTable.map_locations\n",
      "TypeError: unhashable type: 'list'\n"
     ]
    },
    {
     "data": {
      "text/plain": [
       "[\\nEuro 6\\n]          10139\n",
       "NaN                    3021\n",
       "[\\nEuro 6d-TEMP\\n]     1845\n",
       "[[], [], []]            607\n",
       "[\\nEuro 6c\\n]           127\n",
       "[\\nEuro 5\\n]             78\n",
       "[\\nEuro 6d\\n]            62\n",
       "[\\nEuro 4\\n]             40\n",
       "Name: Emission Class, dtype: int64"
      ]
     },
     "execution_count": 189,
     "metadata": {},
     "output_type": "execute_result"
    }
   ],
   "source": [
    "df[\"Emission Class\"].value_counts(dropna=False)"
   ]
  },
  {
   "cell_type": "code",
   "execution_count": null,
   "metadata": {
    "colab": {
     "base_uri": "https://localhost:8080/"
    },
    "executionInfo": {
     "elapsed": 168,
     "status": "ok",
     "timestamp": 1635888279412,
     "user": {
      "displayName": "Yusuf C",
      "photoUrl": "https://lh3.googleusercontent.com/a/default-user=s64",
      "userId": "01460091991965572961"
     },
     "user_tz": -180
    },
    "id": "vYolM48b7PhJ",
    "outputId": "e0707913-fc3a-48ea-9839-af44129df139"
   },
   "outputs": [
    {
     "data": {
      "text/plain": [
       "[[], [], []]"
      ]
     },
     "execution_count": 190,
     "metadata": {},
     "output_type": "execute_result"
    }
   ],
   "source": [
    "df[\"Emission Class\"][124]"
   ]
  },
  {
   "cell_type": "code",
   "execution_count": null,
   "metadata": {
    "colab": {
     "base_uri": "https://localhost:8080/"
    },
    "executionInfo": {
     "elapsed": 162,
     "status": "ok",
     "timestamp": 1635888279413,
     "user": {
      "displayName": "Yusuf C",
      "photoUrl": "https://lh3.googleusercontent.com/a/default-user=s64",
      "userId": "01460091991965572961"
     },
     "user_tz": -180
    },
    "id": "jUHhpnQ95KXO",
    "outputId": "6632b5e3-001f-49e4-b582-e2d25cd15e91"
   },
   "outputs": [
    {
     "data": {
      "text/plain": [
       "list"
      ]
     },
     "execution_count": 191,
     "metadata": {},
     "output_type": "execute_result"
    }
   ],
   "source": [
    "type(df[\"Emission Class\"][124])"
   ]
  },
  {
   "cell_type": "code",
   "execution_count": null,
   "metadata": {
    "colab": {
     "base_uri": "https://localhost:8080/"
    },
    "executionInfo": {
     "elapsed": 156,
     "status": "ok",
     "timestamp": 1635888279414,
     "user": {
      "displayName": "Yusuf C",
      "photoUrl": "https://lh3.googleusercontent.com/a/default-user=s64",
      "userId": "01460091991965572961"
     },
     "user_tz": -180
    },
    "id": "xyj8vprb7URk",
    "outputId": "716d3d12-3687-40b0-f080-80e6d08680e2"
   },
   "outputs": [
    {
     "data": {
      "text/plain": [
       "['\\nEuro 6\\n']"
      ]
     },
     "execution_count": 192,
     "metadata": {},
     "output_type": "execute_result"
    }
   ],
   "source": [
    "(df[\"Emission Class\"][0])"
   ]
  },
  {
   "cell_type": "code",
   "execution_count": null,
   "metadata": {
    "colab": {
     "base_uri": "https://localhost:8080/"
    },
    "executionInfo": {
     "elapsed": 151,
     "status": "ok",
     "timestamp": 1635888279415,
     "user": {
      "displayName": "Yusuf C",
      "photoUrl": "https://lh3.googleusercontent.com/a/default-user=s64",
      "userId": "01460091991965572961"
     },
     "user_tz": -180
    },
    "id": "6gCfAGmE5KjQ",
    "outputId": "81252070-c7cd-43cb-999c-0fac01cd405a"
   },
   "outputs": [
    {
     "data": {
      "text/plain": [
       "list"
      ]
     },
     "execution_count": 193,
     "metadata": {},
     "output_type": "execute_result"
    }
   ],
   "source": [
    "type(df[\"Emission Class\"][0])"
   ]
  },
  {
   "cell_type": "code",
   "execution_count": null,
   "metadata": {
    "colab": {
     "base_uri": "https://localhost:8080/"
    },
    "executionInfo": {
     "elapsed": 148,
     "status": "ok",
     "timestamp": 1635888279418,
     "user": {
      "displayName": "Yusuf C",
      "photoUrl": "https://lh3.googleusercontent.com/a/default-user=s64",
      "userId": "01460091991965572961"
     },
     "user_tz": -180
    },
    "id": "GBFPONbd8jMZ",
    "outputId": "c2086431-1dd9-478f-f37d-f9ad6461bfb2"
   },
   "outputs": [
    {
     "data": {
      "text/plain": [
       "nan"
      ]
     },
     "execution_count": 194,
     "metadata": {},
     "output_type": "execute_result"
    }
   ],
   "source": [
    "df[\"Emission Class\"][170]"
   ]
  },
  {
   "cell_type": "code",
   "execution_count": null,
   "metadata": {
    "colab": {
     "base_uri": "https://localhost:8080/"
    },
    "executionInfo": {
     "elapsed": 149,
     "status": "ok",
     "timestamp": 1635888279425,
     "user": {
      "displayName": "Yusuf C",
      "photoUrl": "https://lh3.googleusercontent.com/a/default-user=s64",
      "userId": "01460091991965572961"
     },
     "user_tz": -180
    },
    "id": "TwxkZ8Zv7Gt6",
    "outputId": "5fb92158-36aa-48c8-d302-a5485143403d"
   },
   "outputs": [
    {
     "data": {
      "text/plain": [
       "float"
      ]
     },
     "execution_count": 195,
     "metadata": {},
     "output_type": "execute_result"
    }
   ],
   "source": [
    "type(df[\"Emission Class\"][170]) #nan"
   ]
  },
  {
   "cell_type": "code",
   "execution_count": null,
   "metadata": {
    "colab": {
     "base_uri": "https://localhost:8080/"
    },
    "executionInfo": {
     "elapsed": 154,
     "status": "ok",
     "timestamp": 1635888279436,
     "user": {
      "displayName": "Yusuf C",
      "photoUrl": "https://lh3.googleusercontent.com/a/default-user=s64",
      "userId": "01460091991965572961"
     },
     "user_tz": -180
    },
    "id": "6xaGv3_c7Gx_",
    "outputId": "43a0d305-63ba-4720-e23b-86dfeb2653f1"
   },
   "outputs": [
    {
     "data": {
      "text/plain": [
       "True"
      ]
     },
     "execution_count": 196,
     "metadata": {},
     "output_type": "execute_result"
    }
   ],
   "source": [
    "df[\"Emission Class\"][124] == [[], [], []]"
   ]
  },
  {
   "cell_type": "code",
   "execution_count": null,
   "metadata": {
    "colab": {
     "base_uri": "https://localhost:8080/"
    },
    "executionInfo": {
     "elapsed": 1074,
     "status": "ok",
     "timestamp": 1635888280363,
     "user": {
      "displayName": "Yusuf C",
      "photoUrl": "https://lh3.googleusercontent.com/a/default-user=s64",
      "userId": "01460091991965572961"
     },
     "user_tz": -180
    },
    "id": "KF44jxfN8FqQ",
    "outputId": "85382a33-360c-4155-902f-ed21cc40e750"
   },
   "outputs": [
    {
     "name": "stderr",
     "output_type": "stream",
     "text": [
      "/usr/local/lib/python3.7/dist-packages/ipykernel_launcher.py:3: SettingWithCopyWarning: \n",
      "A value is trying to be set on a copy of a slice from a DataFrame\n",
      "\n",
      "See the caveats in the documentation: https://pandas.pydata.org/pandas-docs/stable/user_guide/indexing.html#returning-a-view-versus-a-copy\n",
      "  This is separate from the ipykernel package so we can avoid doing imports until\n"
     ]
    }
   ],
   "source": [
    "for i in range(df.shape[0]):\n",
    "  if df[\"Emission Class\"][i] == [[], [], []]:\n",
    "    df[\"Emission Class\"][i] = np.nan"
   ]
  },
  {
   "cell_type": "code",
   "execution_count": null,
   "metadata": {
    "colab": {
     "base_uri": "https://localhost:8080/",
     "height": 352
    },
    "executionInfo": {
     "elapsed": 148,
     "status": "ok",
     "timestamp": 1635888280364,
     "user": {
      "displayName": "Yusuf C",
      "photoUrl": "https://lh3.googleusercontent.com/a/default-user=s64",
      "userId": "01460091991965572961"
     },
     "user_tz": -180
    },
    "id": "i6plMXHa7G4G",
    "outputId": "4d8e9bb0-8cec-467a-8137-3ca991715598"
   },
   "outputs": [
    {
     "ename": "TypeError",
     "evalue": "ignored",
     "output_type": "error",
     "traceback": [
      "\u001b[0;31m---------------------------------------------------------------------------\u001b[0m",
      "\u001b[0;31mTypeError\u001b[0m                                 Traceback (most recent call last)",
      "\u001b[0;32mpandas/_libs/hashtable_class_helper.pxi\u001b[0m in \u001b[0;36mpandas._libs.hashtable.PyObjectHashTable.map_locations\u001b[0;34m()\u001b[0m\n",
      "\u001b[0;31mTypeError\u001b[0m: unhashable type: 'list'"
     ]
    },
    {
     "name": "stderr",
     "output_type": "stream",
     "text": [
      "Exception ignored in: 'pandas._libs.index.IndexEngine._call_map_locations'\n",
      "Traceback (most recent call last):\n",
      "  File \"pandas/_libs/hashtable_class_helper.pxi\", line 1709, in pandas._libs.hashtable.PyObjectHashTable.map_locations\n",
      "TypeError: unhashable type: 'list'\n"
     ]
    },
    {
     "data": {
      "text/plain": [
       "[\\nEuro 6\\n]          10139\n",
       "NaN                    3628\n",
       "[\\nEuro 6d-TEMP\\n]     1845\n",
       "[\\nEuro 6c\\n]           127\n",
       "[\\nEuro 5\\n]             78\n",
       "[\\nEuro 6d\\n]            62\n",
       "[\\nEuro 4\\n]             40\n",
       "Name: Emission Class, dtype: int64"
      ]
     },
     "execution_count": 198,
     "metadata": {},
     "output_type": "execute_result"
    }
   ],
   "source": [
    "df[\"Emission Class\"].value_counts(dropna=False)"
   ]
  },
  {
   "cell_type": "code",
   "execution_count": null,
   "metadata": {
    "id": "ze73UNzN7HAS"
   },
   "outputs": [],
   "source": [
    "df[\"Emission Class\"] = df[\"Emission Class\"].apply(lambda x: x[0] if type(x)==list else x).replace(r\"\\n\",\"\",regex=True)"
   ]
  },
  {
   "cell_type": "code",
   "execution_count": null,
   "metadata": {
    "colab": {
     "base_uri": "https://localhost:8080/"
    },
    "executionInfo": {
     "elapsed": 175,
     "status": "ok",
     "timestamp": 1635888280393,
     "user": {
      "displayName": "Yusuf C",
      "photoUrl": "https://lh3.googleusercontent.com/a/default-user=s64",
      "userId": "01460091991965572961"
     },
     "user_tz": -180
    },
    "id": "veUsqgU5RMTi",
    "outputId": "bf7238dc-8b41-45c7-a910-c68a11a27096"
   },
   "outputs": [
    {
     "data": {
      "text/plain": [
       "Euro 6          10139\n",
       "NaN              3628\n",
       "Euro 6d-TEMP     1845\n",
       "Euro 6c           127\n",
       "Euro 5             78\n",
       "Euro 6d            62\n",
       "Euro 4             40\n",
       "Name: Emission Class, dtype: int64"
      ]
     },
     "execution_count": 200,
     "metadata": {},
     "output_type": "execute_result"
    }
   ],
   "source": [
    "df[\"Emission Class\"].value_counts(dropna=False)"
   ]
  },
  {
   "cell_type": "markdown",
   "metadata": {
    "id": "i7h7fqeXG2HR"
   },
   "source": [
    "# Nr. of Doors (212 NaN value)"
   ]
  },
  {
   "cell_type": "code",
   "execution_count": null,
   "metadata": {
    "colab": {
     "base_uri": "https://localhost:8080/"
    },
    "executionInfo": {
     "elapsed": 169,
     "status": "ok",
     "timestamp": 1635888280404,
     "user": {
      "displayName": "Yusuf C",
      "photoUrl": "https://lh3.googleusercontent.com/a/default-user=s64",
      "userId": "01460091991965572961"
     },
     "user_tz": -180
    },
    "id": "p_HZjqieFGhg",
    "outputId": "778308a6-d6b3-44f1-85a8-192fc62fc81e"
   },
   "outputs": [
    {
     "data": {
      "text/plain": [
       "212"
      ]
     },
     "execution_count": 201,
     "metadata": {},
     "output_type": "execute_result"
    }
   ],
   "source": [
    "df[\"Nr. of Doors\"].isnull().sum()"
   ]
  },
  {
   "cell_type": "code",
   "execution_count": null,
   "metadata": {
    "colab": {
     "base_uri": "https://localhost:8080/",
     "height": 352
    },
    "executionInfo": {
     "elapsed": 162,
     "status": "ok",
     "timestamp": 1635888280405,
     "user": {
      "displayName": "Yusuf C",
      "photoUrl": "https://lh3.googleusercontent.com/a/default-user=s64",
      "userId": "01460091991965572961"
     },
     "user_tz": -180
    },
    "id": "aQuqFSOUTkM0",
    "outputId": "5bdcd28c-091c-43ac-d3ae-510d9eb35b8c"
   },
   "outputs": [
    {
     "ename": "TypeError",
     "evalue": "ignored",
     "output_type": "error",
     "traceback": [
      "\u001b[0;31m---------------------------------------------------------------------------\u001b[0m",
      "\u001b[0;31mTypeError\u001b[0m                                 Traceback (most recent call last)",
      "\u001b[0;32mpandas/_libs/hashtable_class_helper.pxi\u001b[0m in \u001b[0;36mpandas._libs.hashtable.PyObjectHashTable.map_locations\u001b[0;34m()\u001b[0m\n",
      "\u001b[0;31mTypeError\u001b[0m: unhashable type: 'list'"
     ]
    },
    {
     "name": "stderr",
     "output_type": "stream",
     "text": [
      "Exception ignored in: 'pandas._libs.index.IndexEngine._call_map_locations'\n",
      "Traceback (most recent call last):\n",
      "  File \"pandas/_libs/hashtable_class_helper.pxi\", line 1709, in pandas._libs.hashtable.PyObjectHashTable.map_locations\n",
      "TypeError: unhashable type: 'list'\n"
     ]
    },
    {
     "data": {
      "text/plain": [
       "[\\n5\\n]    11575\n",
       "[\\n4\\n]     3079\n",
       "[\\n3\\n]      832\n",
       "[\\n2\\n]      219\n",
       "NaN          212\n",
       "[\\n7\\n]        1\n",
       "[\\n1\\n]        1\n",
       "Name: Nr. of Doors, dtype: int64"
      ]
     },
     "execution_count": 202,
     "metadata": {},
     "output_type": "execute_result"
    }
   ],
   "source": [
    "df[\"Nr. of Doors\"].value_counts(dropna=False)"
   ]
  },
  {
   "cell_type": "code",
   "execution_count": null,
   "metadata": {
    "colab": {
     "base_uri": "https://localhost:8080/"
    },
    "executionInfo": {
     "elapsed": 160,
     "status": "ok",
     "timestamp": 1635888280406,
     "user": {
      "displayName": "Yusuf C",
      "photoUrl": "https://lh3.googleusercontent.com/a/default-user=s64",
      "userId": "01460091991965572961"
     },
     "user_tz": -180
    },
    "id": "GsD5tRjlTkZu",
    "outputId": "a8cb1d77-d4c1-4d64-d7cd-3dda9f12c67f"
   },
   "outputs": [
    {
     "data": {
      "text/plain": [
       "0        5.0\n",
       "1        3.0\n",
       "2        4.0\n",
       "3        3.0\n",
       "4        5.0\n",
       "        ... \n",
       "15914    5.0\n",
       "15915    5.0\n",
       "15916    5.0\n",
       "15917    5.0\n",
       "15918    5.0\n",
       "Name: Nr. of Doors, Length: 15919, dtype: float64"
      ]
     },
     "execution_count": 203,
     "metadata": {},
     "output_type": "execute_result"
    }
   ],
   "source": [
    "df[\"Nr. of Doors\"].apply(lambda x: int(x[0].split()[0]) if type(x)==list else x)"
   ]
  },
  {
   "cell_type": "code",
   "execution_count": null,
   "metadata": {
    "id": "ipzX3F5ATkmw"
   },
   "outputs": [],
   "source": [
    "df[\"Nr. of Doors\"] = df[\"Nr. of Doors\"].apply(lambda x: int(x[0].split()[0]) if type(x)==list else x)"
   ]
  },
  {
   "cell_type": "code",
   "execution_count": null,
   "metadata": {
    "colab": {
     "base_uri": "https://localhost:8080/"
    },
    "executionInfo": {
     "elapsed": 151,
     "status": "ok",
     "timestamp": 1635888280407,
     "user": {
      "displayName": "Yusuf C",
      "photoUrl": "https://lh3.googleusercontent.com/a/default-user=s64",
      "userId": "01460091991965572961"
     },
     "user_tz": -180
    },
    "id": "ffSqyPTIU_Iy",
    "outputId": "a3d3581b-e315-49c7-90eb-435c62f6beaa"
   },
   "outputs": [
    {
     "data": {
      "text/plain": [
       "5.0    11575\n",
       "4.0     3079\n",
       "3.0      832\n",
       "2.0      219\n",
       "NaN      212\n",
       "7.0        1\n",
       "1.0        1\n",
       "Name: Nr. of Doors, dtype: int64"
      ]
     },
     "execution_count": 205,
     "metadata": {},
     "output_type": "execute_result"
    }
   ],
   "source": [
    "df['Nr. of Doors'].value_counts(dropna=False)"
   ]
  },
  {
   "cell_type": "markdown",
   "metadata": {
    "id": "Kz67TAcnWSQP"
   },
   "source": [
    "# Nr. of Seats (977 NaN)"
   ]
  },
  {
   "cell_type": "code",
   "execution_count": null,
   "metadata": {
    "colab": {
     "base_uri": "https://localhost:8080/",
     "height": 352
    },
    "executionInfo": {
     "elapsed": 143,
     "status": "ok",
     "timestamp": 1635888280408,
     "user": {
      "displayName": "Yusuf C",
      "photoUrl": "https://lh3.googleusercontent.com/a/default-user=s64",
      "userId": "01460091991965572961"
     },
     "user_tz": -180
    },
    "id": "eh1Vsl-_U_Mt",
    "outputId": "af3f4f95-76e8-4c26-d7fa-cda965381339"
   },
   "outputs": [
    {
     "ename": "TypeError",
     "evalue": "ignored",
     "output_type": "error",
     "traceback": [
      "\u001b[0;31m---------------------------------------------------------------------------\u001b[0m",
      "\u001b[0;31mTypeError\u001b[0m                                 Traceback (most recent call last)",
      "\u001b[0;32mpandas/_libs/hashtable_class_helper.pxi\u001b[0m in \u001b[0;36mpandas._libs.hashtable.PyObjectHashTable.map_locations\u001b[0;34m()\u001b[0m\n",
      "\u001b[0;31mTypeError\u001b[0m: unhashable type: 'list'"
     ]
    },
    {
     "name": "stderr",
     "output_type": "stream",
     "text": [
      "Exception ignored in: 'pandas._libs.index.IndexEngine._call_map_locations'\n",
      "Traceback (most recent call last):\n",
      "  File \"pandas/_libs/hashtable_class_helper.pxi\", line 1709, in pandas._libs.hashtable.PyObjectHashTable.map_locations\n",
      "TypeError: unhashable type: 'list'\n"
     ]
    },
    {
     "data": {
      "text/plain": [
       "[\\n5\\n]    13336\n",
       "[\\n4\\n]     1125\n",
       "NaN          977\n",
       "[\\n7\\n]      362\n",
       "[\\n2\\n]      116\n",
       "[\\n6\\n]        2\n",
       "[\\n3\\n]        1\n",
       "Name: Nr. of Seats, dtype: int64"
      ]
     },
     "execution_count": 206,
     "metadata": {},
     "output_type": "execute_result"
    }
   ],
   "source": [
    "df[\"Nr. of Seats\"].value_counts(dropna=False)"
   ]
  },
  {
   "cell_type": "code",
   "execution_count": null,
   "metadata": {
    "colab": {
     "base_uri": "https://localhost:8080/"
    },
    "executionInfo": {
     "elapsed": 141,
     "status": "ok",
     "timestamp": 1635888280409,
     "user": {
      "displayName": "Yusuf C",
      "photoUrl": "https://lh3.googleusercontent.com/a/default-user=s64",
      "userId": "01460091991965572961"
     },
     "user_tz": -180
    },
    "id": "pKlra-6zWUwr",
    "outputId": "3587bc39-837f-467f-d493-3d18bb59786b"
   },
   "outputs": [
    {
     "data": {
      "text/plain": [
       "0        5.0\n",
       "1        4.0\n",
       "2        4.0\n",
       "3        4.0\n",
       "4        5.0\n",
       "        ... \n",
       "15914    5.0\n",
       "15915    5.0\n",
       "15916    7.0\n",
       "15917    7.0\n",
       "15918    5.0\n",
       "Name: Nr. of Seats, Length: 15919, dtype: float64"
      ]
     },
     "execution_count": 207,
     "metadata": {},
     "output_type": "execute_result"
    }
   ],
   "source": [
    "df[\"Nr. of Seats\"].apply(lambda x: int(x[0].split()[0]) if type(x)==list else x)"
   ]
  },
  {
   "cell_type": "code",
   "execution_count": null,
   "metadata": {
    "id": "yDdOJqS7WU0H"
   },
   "outputs": [],
   "source": [
    "df[\"Nr. of Seats\"] = df[\"Nr. of Seats\"].apply(lambda x: int(x[0].split()[0]) if type(x)==list else x)"
   ]
  },
  {
   "cell_type": "code",
   "execution_count": null,
   "metadata": {
    "colab": {
     "base_uri": "https://localhost:8080/"
    },
    "executionInfo": {
     "elapsed": 134,
     "status": "ok",
     "timestamp": 1635888280410,
     "user": {
      "displayName": "Yusuf C",
      "photoUrl": "https://lh3.googleusercontent.com/a/default-user=s64",
      "userId": "01460091991965572961"
     },
     "user_tz": -180
    },
    "id": "HEGkODHWWU4S",
    "outputId": "1ab28d72-dc5f-4516-e70d-8d760c2d29fa"
   },
   "outputs": [
    {
     "data": {
      "text/plain": [
       "5.0    13336\n",
       "4.0     1125\n",
       "NaN      977\n",
       "7.0      362\n",
       "2.0      116\n",
       "6.0        2\n",
       "3.0        1\n",
       "Name: Nr. of Seats, dtype: int64"
      ]
     },
     "execution_count": 209,
     "metadata": {},
     "output_type": "execute_result"
    }
   ],
   "source": [
    "df['Nr. of Seats'].value_counts(dropna=False)"
   ]
  },
  {
   "cell_type": "markdown",
   "metadata": {
    "id": "zAk_6kPCWe_d"
   },
   "source": [
    "# First Registration (1597 NaN)"
   ]
  },
  {
   "cell_type": "code",
   "execution_count": null,
   "metadata": {
    "colab": {
     "base_uri": "https://localhost:8080/",
     "height": 318
    },
    "executionInfo": {
     "elapsed": 129,
     "status": "ok",
     "timestamp": 1635888280411,
     "user": {
      "displayName": "Yusuf C",
      "photoUrl": "https://lh3.googleusercontent.com/a/default-user=s64",
      "userId": "01460091991965572961"
     },
     "user_tz": -180
    },
    "id": "ioyv_OfqWU7l",
    "outputId": "d82cf3a7-60f5-4fd7-d824-741d59e4bd1d"
   },
   "outputs": [
    {
     "ename": "TypeError",
     "evalue": "ignored",
     "output_type": "error",
     "traceback": [
      "\u001b[0;31m---------------------------------------------------------------------------\u001b[0m",
      "\u001b[0;31mTypeError\u001b[0m                                 Traceback (most recent call last)",
      "\u001b[0;32mpandas/_libs/hashtable_class_helper.pxi\u001b[0m in \u001b[0;36mpandas._libs.hashtable.PyObjectHashTable.map_locations\u001b[0;34m()\u001b[0m\n",
      "\u001b[0;31mTypeError\u001b[0m: unhashable type: 'list'"
     ]
    },
    {
     "name": "stderr",
     "output_type": "stream",
     "text": [
      "Exception ignored in: 'pandas._libs.index.IndexEngine._call_map_locations'\n",
      "Traceback (most recent call last):\n",
      "  File \"pandas/_libs/hashtable_class_helper.pxi\", line 1709, in pandas._libs.hashtable.PyObjectHashTable.map_locations\n",
      "TypeError: unhashable type: 'list'\n"
     ]
    },
    {
     "data": {
      "text/plain": [
       "[\\n, 2018, \\n]    4522\n",
       "[\\n, 2016, \\n]    3674\n",
       "[\\n, 2017, \\n]    3273\n",
       "[\\n, 2019, \\n]    2853\n",
       "NaN               1597\n",
       "Name: First Registration, dtype: int64"
      ]
     },
     "execution_count": 210,
     "metadata": {},
     "output_type": "execute_result"
    }
   ],
   "source": [
    "df[\"First Registration\"].value_counts(dropna=False)"
   ]
  },
  {
   "cell_type": "code",
   "execution_count": null,
   "metadata": {
    "id": "CbL3bxUuWVIW"
   },
   "outputs": [],
   "source": [
    "df[\"First Registration\"] = df[\"First Registration\"].apply(lambda x: x[1] if type(x)==list else x)"
   ]
  },
  {
   "cell_type": "code",
   "execution_count": null,
   "metadata": {
    "colab": {
     "base_uri": "https://localhost:8080/"
    },
    "executionInfo": {
     "elapsed": 130,
     "status": "ok",
     "timestamp": 1635888280415,
     "user": {
      "displayName": "Yusuf C",
      "photoUrl": "https://lh3.googleusercontent.com/a/default-user=s64",
      "userId": "01460091991965572961"
     },
     "user_tz": -180
    },
    "id": "sHFijoLEWVNr",
    "outputId": "9ce3177f-d17d-42dd-d3db-b466723622d2"
   },
   "outputs": [
    {
     "data": {
      "text/plain": [
       "2018    4522\n",
       "2016    3674\n",
       "2017    3273\n",
       "2019    2853\n",
       "NaN     1597\n",
       "Name: First Registration, dtype: int64"
      ]
     },
     "execution_count": 212,
     "metadata": {},
     "output_type": "execute_result"
    }
   ],
   "source": [
    "df[\"First Registration\"].value_counts(dropna=False)"
   ]
  },
  {
   "cell_type": "code",
   "execution_count": null,
   "metadata": {
    "colab": {
     "base_uri": "https://localhost:8080/"
    },
    "executionInfo": {
     "elapsed": 124,
     "status": "ok",
     "timestamp": 1635888280416,
     "user": {
      "displayName": "Yusuf C",
      "photoUrl": "https://lh3.googleusercontent.com/a/default-user=s64",
      "userId": "01460091991965572961"
     },
     "user_tz": -180
    },
    "id": "94NCQitbd3IJ",
    "outputId": "28c3cdfa-567e-4ea4-c1db-c8ddb8f4e5c9"
   },
   "outputs": [
    {
     "data": {
      "text/plain": [
       "2019    1448\n",
       "NaN      717\n",
       "2018     187\n",
       "2017       9\n",
       "2016       3\n",
       "Name: First Registration, dtype: int64"
      ]
     },
     "execution_count": 213,
     "metadata": {},
     "output_type": "execute_result"
    }
   ],
   "source": [
    "df[df[\"km\"] < 100][\"First Registration\"].value_counts(dropna=False)"
   ]
  },
  {
   "cell_type": "code",
   "execution_count": null,
   "metadata": {
    "colab": {
     "base_uri": "https://localhost:8080/",
     "height": 328
    },
    "executionInfo": {
     "elapsed": 119,
     "status": "ok",
     "timestamp": 1635888280417,
     "user": {
      "displayName": "Yusuf C",
      "photoUrl": "https://lh3.googleusercontent.com/a/default-user=s64",
      "userId": "01460091991965572961"
     },
     "user_tz": -180
    },
    "id": "NkPQEtTVeQ0S",
    "outputId": "f53b24a2-e766-431b-9c7c-f2c59dd4c29e"
   },
   "outputs": [
    {
     "data": {
      "text/html": [
       "<div>\n",
       "<style scoped>\n",
       "    .dataframe tbody tr th:only-of-type {\n",
       "        vertical-align: middle;\n",
       "    }\n",
       "\n",
       "    .dataframe tbody tr th {\n",
       "        vertical-align: top;\n",
       "    }\n",
       "\n",
       "    .dataframe thead th {\n",
       "        text-align: right;\n",
       "    }\n",
       "</style>\n",
       "<table border=\"1\" class=\"dataframe\">\n",
       "  <thead>\n",
       "    <tr style=\"text-align: right;\">\n",
       "      <th></th>\n",
       "      <th>count</th>\n",
       "      <th>mean</th>\n",
       "      <th>std</th>\n",
       "      <th>min</th>\n",
       "      <th>25%</th>\n",
       "      <th>50%</th>\n",
       "      <th>75%</th>\n",
       "      <th>max</th>\n",
       "    </tr>\n",
       "    <tr>\n",
       "      <th>make_model</th>\n",
       "      <th></th>\n",
       "      <th></th>\n",
       "      <th></th>\n",
       "      <th></th>\n",
       "      <th></th>\n",
       "      <th></th>\n",
       "      <th></th>\n",
       "      <th></th>\n",
       "    </tr>\n",
       "  </thead>\n",
       "  <tbody>\n",
       "    <tr>\n",
       "      <th>Audi A1</th>\n",
       "      <td>97.0</td>\n",
       "      <td>705.505155</td>\n",
       "      <td>3445.292792</td>\n",
       "      <td>0.0</td>\n",
       "      <td>10.0</td>\n",
       "      <td>10.0</td>\n",
       "      <td>10.0</td>\n",
       "      <td>22627.0</td>\n",
       "    </tr>\n",
       "    <tr>\n",
       "      <th>Audi A3</th>\n",
       "      <td>193.0</td>\n",
       "      <td>9.663212</td>\n",
       "      <td>11.765307</td>\n",
       "      <td>0.0</td>\n",
       "      <td>1.0</td>\n",
       "      <td>10.0</td>\n",
       "      <td>10.0</td>\n",
       "      <td>100.0</td>\n",
       "    </tr>\n",
       "    <tr>\n",
       "      <th>Opel Astra</th>\n",
       "      <td>107.0</td>\n",
       "      <td>1441.981308</td>\n",
       "      <td>10502.795581</td>\n",
       "      <td>0.0</td>\n",
       "      <td>1.0</td>\n",
       "      <td>5.0</td>\n",
       "      <td>10.0</td>\n",
       "      <td>85000.0</td>\n",
       "    </tr>\n",
       "    <tr>\n",
       "      <th>Opel Corsa</th>\n",
       "      <td>108.0</td>\n",
       "      <td>2327.888889</td>\n",
       "      <td>10558.416950</td>\n",
       "      <td>0.0</td>\n",
       "      <td>5.0</td>\n",
       "      <td>10.0</td>\n",
       "      <td>10.0</td>\n",
       "      <td>81800.0</td>\n",
       "    </tr>\n",
       "    <tr>\n",
       "      <th>Opel Insignia</th>\n",
       "      <td>137.0</td>\n",
       "      <td>793.189781</td>\n",
       "      <td>7750.156705</td>\n",
       "      <td>0.0</td>\n",
       "      <td>8.0</td>\n",
       "      <td>10.0</td>\n",
       "      <td>10.0</td>\n",
       "      <td>89982.0</td>\n",
       "    </tr>\n",
       "    <tr>\n",
       "      <th>Renault Clio</th>\n",
       "      <td>75.0</td>\n",
       "      <td>1269.106667</td>\n",
       "      <td>10356.476031</td>\n",
       "      <td>0.0</td>\n",
       "      <td>5.0</td>\n",
       "      <td>10.0</td>\n",
       "      <td>10.0</td>\n",
       "      <td>89692.0</td>\n",
       "    </tr>\n",
       "    <tr>\n",
       "      <th>Renault Duster</th>\n",
       "      <td>0.0</td>\n",
       "      <td>NaN</td>\n",
       "      <td>NaN</td>\n",
       "      <td>NaN</td>\n",
       "      <td>NaN</td>\n",
       "      <td>NaN</td>\n",
       "      <td>NaN</td>\n",
       "      <td>NaN</td>\n",
       "    </tr>\n",
       "    <tr>\n",
       "      <th>Renault Espace</th>\n",
       "      <td>42.0</td>\n",
       "      <td>700.714286</td>\n",
       "      <td>3135.964210</td>\n",
       "      <td>0.0</td>\n",
       "      <td>10.0</td>\n",
       "      <td>10.0</td>\n",
       "      <td>11.0</td>\n",
       "      <td>19500.0</td>\n",
       "    </tr>\n",
       "  </tbody>\n",
       "</table>\n",
       "</div>"
      ],
      "text/plain": [
       "                count         mean           std  ...   50%   75%      max\n",
       "make_model                                        ...                     \n",
       "Audi A1          97.0   705.505155   3445.292792  ...  10.0  10.0  22627.0\n",
       "Audi A3         193.0     9.663212     11.765307  ...  10.0  10.0    100.0\n",
       "Opel Astra      107.0  1441.981308  10502.795581  ...   5.0  10.0  85000.0\n",
       "Opel Corsa      108.0  2327.888889  10558.416950  ...  10.0  10.0  81800.0\n",
       "Opel Insignia   137.0   793.189781   7750.156705  ...  10.0  10.0  89982.0\n",
       "Renault Clio     75.0  1269.106667  10356.476031  ...  10.0  10.0  89692.0\n",
       "Renault Duster    0.0          NaN           NaN  ...   NaN   NaN      NaN\n",
       "Renault Espace   42.0   700.714286   3135.964210  ...  10.0  11.0  19500.0\n",
       "\n",
       "[8 rows x 8 columns]"
      ]
     },
     "execution_count": 214,
     "metadata": {},
     "output_type": "execute_result"
    }
   ],
   "source": [
    "df.groupby([df[df[\"First Registration\"].isnull()][\"make_model\"]])[\"km\"].describe()"
   ]
  },
  {
   "cell_type": "code",
   "execution_count": null,
   "metadata": {
    "colab": {
     "base_uri": "https://localhost:8080/",
     "height": 142
    },
    "executionInfo": {
     "elapsed": 118,
     "status": "ok",
     "timestamp": 1635888280418,
     "user": {
      "displayName": "Yusuf C",
      "photoUrl": "https://lh3.googleusercontent.com/a/default-user=s64",
      "userId": "01460091991965572961"
     },
     "user_tz": -180
    },
    "id": "Zo2Q3RtaepKI",
    "outputId": "75fb1343-f691-4350-eba6-9c895c1a18dd"
   },
   "outputs": [
    {
     "data": {
      "text/html": [
       "<div>\n",
       "<style scoped>\n",
       "    .dataframe tbody tr th:only-of-type {\n",
       "        vertical-align: middle;\n",
       "    }\n",
       "\n",
       "    .dataframe tbody tr th {\n",
       "        vertical-align: top;\n",
       "    }\n",
       "\n",
       "    .dataframe thead th {\n",
       "        text-align: right;\n",
       "    }\n",
       "</style>\n",
       "<table border=\"1\" class=\"dataframe\">\n",
       "  <thead>\n",
       "    <tr style=\"text-align: right;\">\n",
       "      <th></th>\n",
       "      <th>count</th>\n",
       "      <th>mean</th>\n",
       "      <th>std</th>\n",
       "      <th>min</th>\n",
       "      <th>25%</th>\n",
       "      <th>50%</th>\n",
       "      <th>75%</th>\n",
       "      <th>max</th>\n",
       "    </tr>\n",
       "    <tr>\n",
       "      <th>First Registration</th>\n",
       "      <th></th>\n",
       "      <th></th>\n",
       "      <th></th>\n",
       "      <th></th>\n",
       "      <th></th>\n",
       "      <th></th>\n",
       "      <th></th>\n",
       "      <th></th>\n",
       "    </tr>\n",
       "  </thead>\n",
       "  <tbody>\n",
       "    <tr>\n",
       "      <th>False</th>\n",
       "      <td>14136.0</td>\n",
       "      <td>35912.490874</td>\n",
       "      <td>37481.560170</td>\n",
       "      <td>1.0</td>\n",
       "      <td>7999.75</td>\n",
       "      <td>24268.5</td>\n",
       "      <td>51485.0</td>\n",
       "      <td>317000.0</td>\n",
       "    </tr>\n",
       "    <tr>\n",
       "      <th>True</th>\n",
       "      <td>759.0</td>\n",
       "      <td>934.496706</td>\n",
       "      <td>7416.243875</td>\n",
       "      <td>0.0</td>\n",
       "      <td>5.00</td>\n",
       "      <td>10.0</td>\n",
       "      <td>10.0</td>\n",
       "      <td>89982.0</td>\n",
       "    </tr>\n",
       "  </tbody>\n",
       "</table>\n",
       "</div>"
      ],
      "text/plain": [
       "                      count          mean  ...      75%       max\n",
       "First Registration                         ...                   \n",
       "False               14136.0  35912.490874  ...  51485.0  317000.0\n",
       "True                  759.0    934.496706  ...     10.0   89982.0\n",
       "\n",
       "[2 rows x 8 columns]"
      ]
     },
     "execution_count": 215,
     "metadata": {},
     "output_type": "execute_result"
    }
   ],
   "source": [
    "df.groupby([df[\"First Registration\"].isnull()])[\"km\"].describe()"
   ]
  },
  {
   "cell_type": "markdown",
   "metadata": {
    "id": "B6OEcJwvYeD_"
   },
   "source": [
    "# Gearing Type"
   ]
  },
  {
   "cell_type": "code",
   "execution_count": null,
   "metadata": {
    "colab": {
     "base_uri": "https://localhost:8080/"
    },
    "executionInfo": {
     "elapsed": 117,
     "status": "ok",
     "timestamp": 1635888280420,
     "user": {
      "displayName": "Yusuf C",
      "photoUrl": "https://lh3.googleusercontent.com/a/default-user=s64",
      "userId": "01460091991965572961"
     },
     "user_tz": -180
    },
    "id": "P55Pds83WVSL",
    "outputId": "0ff6711d-ff65-4b91-f243-8629eba2b500"
   },
   "outputs": [
    {
     "data": {
      "text/plain": [
       "0        [\\n, Automatic, \\n]\n",
       "1        [\\n, Automatic, \\n]\n",
       "2        [\\n, Automatic, \\n]\n",
       "3        [\\n, Automatic, \\n]\n",
       "4        [\\n, Automatic, \\n]\n",
       "                ...         \n",
       "15914    [\\n, Automatic, \\n]\n",
       "15915    [\\n, Automatic, \\n]\n",
       "15916    [\\n, Automatic, \\n]\n",
       "15917    [\\n, Automatic, \\n]\n",
       "15918    [\\n, Automatic, \\n]\n",
       "Name: Gearing Type, Length: 15919, dtype: object"
      ]
     },
     "execution_count": 216,
     "metadata": {},
     "output_type": "execute_result"
    }
   ],
   "source": [
    "df[\"Gearing Type\"]"
   ]
  },
  {
   "cell_type": "code",
   "execution_count": null,
   "metadata": {
    "colab": {
     "base_uri": "https://localhost:8080/",
     "height": 284
    },
    "executionInfo": {
     "elapsed": 784,
     "status": "ok",
     "timestamp": 1635888281095,
     "user": {
      "displayName": "Yusuf C",
      "photoUrl": "https://lh3.googleusercontent.com/a/default-user=s64",
      "userId": "01460091991965572961"
     },
     "user_tz": -180
    },
    "id": "t5DNV8N5WVWl",
    "outputId": "65d9bd36-6c7b-4389-8bf7-f8e2be7e68c7"
   },
   "outputs": [
    {
     "ename": "TypeError",
     "evalue": "ignored",
     "output_type": "error",
     "traceback": [
      "\u001b[0;31m---------------------------------------------------------------------------\u001b[0m",
      "\u001b[0;31mTypeError\u001b[0m                                 Traceback (most recent call last)",
      "\u001b[0;32mpandas/_libs/hashtable_class_helper.pxi\u001b[0m in \u001b[0;36mpandas._libs.hashtable.PyObjectHashTable.map_locations\u001b[0;34m()\u001b[0m\n",
      "\u001b[0;31mTypeError\u001b[0m: unhashable type: 'list'"
     ]
    },
    {
     "name": "stderr",
     "output_type": "stream",
     "text": [
      "Exception ignored in: 'pandas._libs.index.IndexEngine._call_map_locations'\n",
      "Traceback (most recent call last):\n",
      "  File \"pandas/_libs/hashtable_class_helper.pxi\", line 1709, in pandas._libs.hashtable.PyObjectHashTable.map_locations\n",
      "TypeError: unhashable type: 'list'\n"
     ]
    },
    {
     "data": {
      "text/plain": [
       "[\\n, Manual, \\n]            8153\n",
       "[\\n, Automatic, \\n]         7297\n",
       "[\\n, Semi-automatic, \\n]     469\n",
       "Name: Gearing Type, dtype: int64"
      ]
     },
     "execution_count": 217,
     "metadata": {},
     "output_type": "execute_result"
    }
   ],
   "source": [
    "df[\"Gearing Type\"].value_counts(dropna=False)"
   ]
  },
  {
   "cell_type": "code",
   "execution_count": null,
   "metadata": {
    "id": "M0TBUCzuZCuQ"
   },
   "outputs": [],
   "source": [
    "df[\"Gearing Type\"] = df[\"Gearing Type\"].apply(lambda x: x[1] if type(x)==list else x)"
   ]
  },
  {
   "cell_type": "code",
   "execution_count": null,
   "metadata": {
    "colab": {
     "base_uri": "https://localhost:8080/"
    },
    "executionInfo": {
     "elapsed": 141,
     "status": "ok",
     "timestamp": 1635888281097,
     "user": {
      "displayName": "Yusuf C",
      "photoUrl": "https://lh3.googleusercontent.com/a/default-user=s64",
      "userId": "01460091991965572961"
     },
     "user_tz": -180
    },
    "id": "vMG-k-wHZCxo",
    "outputId": "4b0f527b-6cc4-410b-bd77-bb7f0a6e45bd"
   },
   "outputs": [
    {
     "data": {
      "text/plain": [
       "Manual            8153\n",
       "Automatic         7297\n",
       "Semi-automatic     469\n",
       "Name: Gearing Type, dtype: int64"
      ]
     },
     "execution_count": 219,
     "metadata": {},
     "output_type": "execute_result"
    }
   ],
   "source": [
    "df[\"Gearing Type\"].value_counts(dropna=False)"
   ]
  },
  {
   "cell_type": "markdown",
   "metadata": {
    "id": "wZR7uCa3Zd_S"
   },
   "source": [
    "# Emission Label 11974 Nan"
   ]
  },
  {
   "cell_type": "code",
   "execution_count": null,
   "metadata": {
    "id": "U7KCTfGUt28u"
   },
   "outputs": [],
   "source": [
    "#df.to_json(\"scout_car_V12.json\")\n"
   ]
  },
  {
   "cell_type": "code",
   "execution_count": null,
   "metadata": {
    "id": "iydbNm6ZZJst"
   },
   "outputs": [],
   "source": [
    "# df = pd.read_json('/content/drive/MyDrive/Colab Notebooks/scout_car_V12.json', lines=True)"
   ]
  },
  {
   "cell_type": "code",
   "execution_count": null,
   "metadata": {
    "colab": {
     "base_uri": "https://localhost:8080/",
     "height": 352
    },
    "executionInfo": {
     "elapsed": 132,
     "status": "ok",
     "timestamp": 1635888281100,
     "user": {
      "displayName": "Yusuf C",
      "photoUrl": "https://lh3.googleusercontent.com/a/default-user=s64",
      "userId": "01460091991965572961"
     },
     "user_tz": -180
    },
    "id": "ex6v50JbZC1t",
    "outputId": "9d23283a-c81b-4ad1-c00e-84c4dae96ab8"
   },
   "outputs": [
    {
     "ename": "TypeError",
     "evalue": "ignored",
     "output_type": "error",
     "traceback": [
      "\u001b[0;31m---------------------------------------------------------------------------\u001b[0m",
      "\u001b[0;31mTypeError\u001b[0m                                 Traceback (most recent call last)",
      "\u001b[0;32mpandas/_libs/hashtable_class_helper.pxi\u001b[0m in \u001b[0;36mpandas._libs.hashtable.PyObjectHashTable.map_locations\u001b[0;34m()\u001b[0m\n",
      "\u001b[0;31mTypeError\u001b[0m: unhashable type: 'list'"
     ]
    },
    {
     "name": "stderr",
     "output_type": "stream",
     "text": [
      "Exception ignored in: 'pandas._libs.index.IndexEngine._call_map_locations'\n",
      "Traceback (most recent call last):\n",
      "  File \"pandas/_libs/hashtable_class_helper.pxi\", line 1709, in pandas._libs.hashtable.PyObjectHashTable.map_locations\n",
      "TypeError: unhashable type: 'list'\n"
     ]
    },
    {
     "data": {
      "text/plain": [
       "NaN                     11934\n",
       "[\\n4 (Green)\\n]          3553\n",
       "[\\n1 (No sticker)\\n]      381\n",
       "[[], [], []]               40\n",
       "[\\n5 (Blue)\\n]              8\n",
       "[\\n3 (Yellow)\\n]            2\n",
       "[\\n2 (Red)\\n]               1\n",
       "Name: Emission Label, dtype: int64"
      ]
     },
     "execution_count": 222,
     "metadata": {},
     "output_type": "execute_result"
    }
   ],
   "source": [
    "df[\"Emission Label\"].value_counts(dropna=False)"
   ]
  },
  {
   "cell_type": "code",
   "execution_count": null,
   "metadata": {
    "colab": {
     "base_uri": "https://localhost:8080/"
    },
    "executionInfo": {
     "elapsed": 131,
     "status": "ok",
     "timestamp": 1635888281101,
     "user": {
      "displayName": "Yusuf C",
      "photoUrl": "https://lh3.googleusercontent.com/a/default-user=s64",
      "userId": "01460091991965572961"
     },
     "user_tz": -180
    },
    "id": "smsJJ1m3ZC7b",
    "outputId": "bfaae961-5967-4643-eed6-d00c89231891"
   },
   "outputs": [
    {
     "name": "stderr",
     "output_type": "stream",
     "text": [
      "/usr/local/lib/python3.7/dist-packages/ipykernel_launcher.py:3: SettingWithCopyWarning: \n",
      "A value is trying to be set on a copy of a slice from a DataFrame\n",
      "\n",
      "See the caveats in the documentation: https://pandas.pydata.org/pandas-docs/stable/user_guide/indexing.html#returning-a-view-versus-a-copy\n",
      "  This is separate from the ipykernel package so we can avoid doing imports until\n"
     ]
    }
   ],
   "source": [
    "for i in range(df.shape[0]):\n",
    "  if df[\"Emission Label\"][i] == [[], [], []]:\n",
    "    df[\"Emission Label\"][i] = np.nan"
   ]
  },
  {
   "cell_type": "code",
   "execution_count": null,
   "metadata": {
    "colab": {
     "base_uri": "https://localhost:8080/",
     "height": 335
    },
    "executionInfo": {
     "elapsed": 123,
     "status": "ok",
     "timestamp": 1635888281102,
     "user": {
      "displayName": "Yusuf C",
      "photoUrl": "https://lh3.googleusercontent.com/a/default-user=s64",
      "userId": "01460091991965572961"
     },
     "user_tz": -180
    },
    "id": "LN7seLAKbYEd",
    "outputId": "5e9cd54b-c9a1-44f8-9d72-0ad0d2d994cd"
   },
   "outputs": [
    {
     "ename": "TypeError",
     "evalue": "ignored",
     "output_type": "error",
     "traceback": [
      "\u001b[0;31m---------------------------------------------------------------------------\u001b[0m",
      "\u001b[0;31mTypeError\u001b[0m                                 Traceback (most recent call last)",
      "\u001b[0;32mpandas/_libs/hashtable_class_helper.pxi\u001b[0m in \u001b[0;36mpandas._libs.hashtable.PyObjectHashTable.map_locations\u001b[0;34m()\u001b[0m\n",
      "\u001b[0;31mTypeError\u001b[0m: unhashable type: 'list'"
     ]
    },
    {
     "name": "stderr",
     "output_type": "stream",
     "text": [
      "Exception ignored in: 'pandas._libs.index.IndexEngine._call_map_locations'\n",
      "Traceback (most recent call last):\n",
      "  File \"pandas/_libs/hashtable_class_helper.pxi\", line 1709, in pandas._libs.hashtable.PyObjectHashTable.map_locations\n",
      "TypeError: unhashable type: 'list'\n"
     ]
    },
    {
     "data": {
      "text/plain": [
       "NaN                     11974\n",
       "[\\n4 (Green)\\n]          3553\n",
       "[\\n1 (No sticker)\\n]      381\n",
       "[\\n5 (Blue)\\n]              8\n",
       "[\\n3 (Yellow)\\n]            2\n",
       "[\\n2 (Red)\\n]               1\n",
       "Name: Emission Label, dtype: int64"
      ]
     },
     "execution_count": 224,
     "metadata": {},
     "output_type": "execute_result"
    }
   ],
   "source": [
    "df[\"Emission Label\"].value_counts(dropna=False)"
   ]
  },
  {
   "cell_type": "code",
   "execution_count": null,
   "metadata": {
    "colab": {
     "base_uri": "https://localhost:8080/",
     "height": 35
    },
    "executionInfo": {
     "elapsed": 122,
     "status": "ok",
     "timestamp": 1635888281103,
     "user": {
      "displayName": "Yusuf C",
      "photoUrl": "https://lh3.googleusercontent.com/a/default-user=s64",
      "userId": "01460091991965572961"
     },
     "user_tz": -180
    },
    "id": "o_oBLa27Ws0o",
    "outputId": "78175d13-e354-42f2-f289-f5e886ef337c"
   },
   "outputs": [
    {
     "data": {
      "application/vnd.google.colaboratory.intrinsic+json": {
       "type": "string"
      },
      "text/plain": [
       "'4,(Green)'"
      ]
     },
     "execution_count": 225,
     "metadata": {},
     "output_type": "execute_result"
    }
   ],
   "source": [
    "df[\"Emission Label\"][1][0].split()[0] + \",\" + df[\"Emission Label\"][1][0].split()[1]"
   ]
  },
  {
   "cell_type": "code",
   "execution_count": null,
   "metadata": {
    "id": "rk2hiVrvZjhT"
   },
   "outputs": [],
   "source": [
    "df[\"Emission Label\"] = df[\"Emission Label\"].apply(lambda x : x[0].split()[0] + \",\" + x[0].split()[1] if type(x) != float else x )"
   ]
  },
  {
   "cell_type": "code",
   "execution_count": null,
   "metadata": {
    "colab": {
     "base_uri": "https://localhost:8080/"
    },
    "executionInfo": {
     "elapsed": 122,
     "status": "ok",
     "timestamp": 1635888281105,
     "user": {
      "displayName": "Yusuf C",
      "photoUrl": "https://lh3.googleusercontent.com/a/default-user=s64",
      "userId": "01460091991965572961"
     },
     "user_tz": -180
    },
    "id": "A8CacU_Ydtsh",
    "outputId": "0e021104-240f-4975-9c93-3dc2bd158873"
   },
   "outputs": [
    {
     "data": {
      "text/plain": [
       "NaN           11974\n",
       "4,(Green)      3553\n",
       "1,(No           381\n",
       "5,(Blue)          8\n",
       "3,(Yellow)        2\n",
       "2,(Red)           1\n",
       "Name: Emission Label, dtype: int64"
      ]
     },
     "execution_count": 227,
     "metadata": {},
     "output_type": "execute_result"
    }
   ],
   "source": [
    "df[\"Emission Label\"].value_counts(dropna=False)"
   ]
  },
  {
   "cell_type": "code",
   "execution_count": null,
   "metadata": {
    "colab": {
     "base_uri": "https://localhost:8080/"
    },
    "executionInfo": {
     "elapsed": 112,
     "status": "ok",
     "timestamp": 1635888281106,
     "user": {
      "displayName": "Yusuf C",
      "photoUrl": "https://lh3.googleusercontent.com/a/default-user=s64",
      "userId": "01460091991965572961"
     },
     "user_tz": -180
    },
    "id": "Yz_xvY9BrhvZ",
    "outputId": "b121a224-0f7a-4425-ad50-4d3e8155cc85"
   },
   "outputs": [
    {
     "data": {
      "text/plain": [
       "Int64Index([   19,    81,    95,   139,   141,   197,   201,   247,   261,\n",
       "              371,\n",
       "            ...\n",
       "            15102, 15158, 15225, 15249, 15253, 15254, 15255, 15259, 15287,\n",
       "            15813],\n",
       "           dtype='int64', length=381)"
      ]
     },
     "execution_count": 228,
     "metadata": {},
     "output_type": "execute_result"
    }
   ],
   "source": [
    "df[df[\"Emission Label\"] == \"1,(No\"].index"
   ]
  },
  {
   "cell_type": "code",
   "execution_count": null,
   "metadata": {
    "id": "etgUMYzYur8Z"
   },
   "outputs": [],
   "source": [
    "df.loc[df[df[\"Emission Label\"] == \"1,(No\"].index, \"Emission Label\"] = \"1,(NoSticker)\""
   ]
  },
  {
   "cell_type": "code",
   "execution_count": null,
   "metadata": {
    "colab": {
     "base_uri": "https://localhost:8080/"
    },
    "executionInfo": {
     "elapsed": 108,
     "status": "ok",
     "timestamp": 1635888281109,
     "user": {
      "displayName": "Yusuf C",
      "photoUrl": "https://lh3.googleusercontent.com/a/default-user=s64",
      "userId": "01460091991965572961"
     },
     "user_tz": -180
    },
    "id": "B3XETHI_ur_j",
    "outputId": "dc341c27-a7dc-4801-a5b4-1a0d6c654beb"
   },
   "outputs": [
    {
     "data": {
      "text/plain": [
       "NaN              11974\n",
       "4,(Green)         3553\n",
       "1,(NoSticker)      381\n",
       "5,(Blue)             8\n",
       "3,(Yellow)           2\n",
       "2,(Red)              1\n",
       "Name: Emission Label, dtype: int64"
      ]
     },
     "execution_count": 230,
     "metadata": {},
     "output_type": "execute_result"
    }
   ],
   "source": [
    "df[\"Emission Label\"].value_counts(dropna=False)"
   ]
  },
  {
   "cell_type": "markdown",
   "metadata": {
    "id": "DqutcCRCYhiU"
   },
   "source": [
    "# Gears 4712 Nan"
   ]
  },
  {
   "cell_type": "code",
   "execution_count": null,
   "metadata": {
    "colab": {
     "base_uri": "https://localhost:8080/",
     "height": 420
    },
    "executionInfo": {
     "elapsed": 101,
     "status": "ok",
     "timestamp": 1635888281109,
     "user": {
      "displayName": "Yusuf C",
      "photoUrl": "https://lh3.googleusercontent.com/a/default-user=s64",
      "userId": "01460091991965572961"
     },
     "user_tz": -180
    },
    "id": "_RDYOmEGup1c",
    "outputId": "8c431f8d-3a9b-4860-d66e-e329a7ec7e5a"
   },
   "outputs": [
    {
     "ename": "TypeError",
     "evalue": "ignored",
     "output_type": "error",
     "traceback": [
      "\u001b[0;31m---------------------------------------------------------------------------\u001b[0m",
      "\u001b[0;31mTypeError\u001b[0m                                 Traceback (most recent call last)",
      "\u001b[0;32mpandas/_libs/hashtable_class_helper.pxi\u001b[0m in \u001b[0;36mpandas._libs.hashtable.PyObjectHashTable.map_locations\u001b[0;34m()\u001b[0m\n",
      "\u001b[0;31mTypeError\u001b[0m: unhashable type: 'list'"
     ]
    },
    {
     "name": "stderr",
     "output_type": "stream",
     "text": [
      "Exception ignored in: 'pandas._libs.index.IndexEngine._call_map_locations'\n",
      "Traceback (most recent call last):\n",
      "  File \"pandas/_libs/hashtable_class_helper.pxi\", line 1709, in pandas._libs.hashtable.PyObjectHashTable.map_locations\n",
      "TypeError: unhashable type: 'list'\n"
     ]
    },
    {
     "data": {
      "text/plain": [
       "[\\n6\\n]     5822\n",
       "NaN         4712\n",
       "[\\n5\\n]     3239\n",
       "[\\n7\\n]     1908\n",
       "[\\n8\\n]      224\n",
       "[\\n9\\n]        6\n",
       "[\\n4\\n]        2\n",
       "[\\n3\\n]        2\n",
       "[\\n1\\n]        2\n",
       "[\\n50\\n]       1\n",
       "[\\n2\\n]        1\n",
       "Name: Gears, dtype: int64"
      ]
     },
     "execution_count": 231,
     "metadata": {},
     "output_type": "execute_result"
    }
   ],
   "source": [
    "df[\"Gears\"].value_counts(dropna=False)"
   ]
  },
  {
   "cell_type": "code",
   "execution_count": null,
   "metadata": {
    "id": "ZyKlOmWSdbK_"
   },
   "outputs": [],
   "source": [
    "df[\"Gears\"] = df[\"Gears\"].apply(lambda x : x[0].split()[0] if type(x)==list else x)"
   ]
  },
  {
   "cell_type": "code",
   "execution_count": null,
   "metadata": {
    "colab": {
     "base_uri": "https://localhost:8080/"
    },
    "executionInfo": {
     "elapsed": 101,
     "status": "ok",
     "timestamp": 1635888281111,
     "user": {
      "displayName": "Yusuf C",
      "photoUrl": "https://lh3.googleusercontent.com/a/default-user=s64",
      "userId": "01460091991965572961"
     },
     "user_tz": -180
    },
    "id": "461fSyc8dbOp",
    "outputId": "e62cc399-0d8d-45f8-9b2b-8c7fdffa9d93"
   },
   "outputs": [
    {
     "data": {
      "text/plain": [
       "6      5822\n",
       "NaN    4712\n",
       "5      3239\n",
       "7      1908\n",
       "8       224\n",
       "9         6\n",
       "1         2\n",
       "4         2\n",
       "3         2\n",
       "2         1\n",
       "50        1\n",
       "Name: Gears, dtype: int64"
      ]
     },
     "execution_count": 233,
     "metadata": {},
     "output_type": "execute_result"
    }
   ],
   "source": [
    "df[\"Gears\"].value_counts(dropna=False)"
   ]
  },
  {
   "cell_type": "markdown",
   "metadata": {
    "id": "ln2X3Z1MzvQw"
   },
   "source": [
    "# Previous Owners 6640 NaN"
   ]
  },
  {
   "cell_type": "code",
   "execution_count": 22,
   "metadata": {
    "colab": {
     "base_uri": "https://localhost:8080/",
     "height": 420
    },
    "executionInfo": {
     "elapsed": 96,
     "status": "ok",
     "timestamp": 1635888281112,
     "user": {
      "displayName": "Yusuf C",
      "photoUrl": "https://lh3.googleusercontent.com/a/default-user=s64",
      "userId": "01460091991965572961"
     },
     "user_tz": -180
    },
    "id": "O64INv4Hdbfj",
    "outputId": "4c67ffe2-9935-4882-d7fa-806c94197db5"
   },
   "outputs": [
    {
     "data": {
      "text/plain": [
       "\\n1\\n                                                                                        8101\n",
       "NaN                                                                                          6640\n",
       "\\n2\\n                                                                                         766\n",
       "\\n0\\n                                                                                         163\n",
       "\\n3\\n                                                                                          17\n",
       "[\\n1\\n, \\n168 g CO2/km (comb)\\n]                                                               13\n",
       "[\\n1\\n, \\n139 g CO2/km (comb)\\n]                                                               12\n",
       "[\\n1\\n, \\n110 g CO2/km (comb)\\n]                                                               12\n",
       "[\\n1\\n, \\n135 g CO2/km (comb)\\n]                                                                9\n",
       "[\\n1\\n, \\n120 g CO2/km (comb)\\n]                                                                8\n",
       "[\\n1\\n, \\n, 6.3 l/100 km (comb), \\n, 7.8 l/100 km (city), \\n, 5.4 l/100 km (country), \\n]       7\n",
       "[\\n1\\n, \\n153 g CO2/km (comb)\\n]                                                                6\n",
       "[\\n1\\n, \\n113 g CO2/km (comb)\\n]                                                                5\n",
       "[\\n1\\n, \\n114 g CO2/km (comb)\\n]                                                                5\n",
       "[\\n1\\n, \\n140 g CO2/km (comb)\\n]                                                                5\n",
       "[\\n1\\n, \\n107 g CO2/km (comb)\\n]                                                                5\n",
       "[\\n1\\n, \\n127 g CO2/km (comb)\\n]                                                                4\n",
       "[\\n1\\n, \\n128 g CO2/km (comb)\\n]                                                                4\n",
       "[\\n1\\n, \\n, 6 l/100 km (comb), \\n, 7.8 l/100 km (city), \\n, 4.9 l/100 km (country), \\n]         4\n",
       "[\\n0\\n, \\n139 g CO2/km (comb)\\n]                                                                4\n",
       "[\\n0\\n, \\n114 g CO2/km (comb)\\n]                                                                3\n",
       "[\\n1\\n, \\n124 g CO2/km (comb)\\n]                                                                3\n",
       "[\\n1\\n, \\n147 g CO2/km (comb)\\n]                                                                3\n",
       "[\\n1\\n, \\n129 g CO2/km (comb)\\n]                                                                3\n",
       "[\\n1\\n, \\n136 g CO2/km (comb)\\n]                                                                3\n",
       "[\\n1\\n, \\n, 5.7 l/100 km (comb), \\n, 7.3 l/100 km (city), \\n, 4.7 l/100 km (country), \\n]       3\n",
       "[\\n1\\n, \\n150 g CO2/km (comb)\\n]                                                                3\n",
       "[\\n1\\n, \\n123 g CO2/km (comb)\\n]                                                                3\n",
       "[\\n1\\n, \\n149 g CO2/km (comb)\\n]                                                                3\n",
       "[\\n1\\n, \\n119 g CO2/km (comb)\\n]                                                                3\n",
       "                                                                                             ... \n",
       "[\\n0\\n, \\n105 g CO2/km (comb)\\n]                                                                1\n",
       "[\\n2\\n, \\n123 g CO2/km (comb)\\n]                                                                1\n",
       "[\\n1\\n, \\n, 6.8 l/100 km (comb), \\n, 8.7 l/100 km (city), \\n, 5.7 l/100 km (country), \\n]       1\n",
       "[\\n1\\n, \\n125 g CO2/km (comb)\\n]                                                                1\n",
       "[\\n1\\n, \\n, 6.7 l/100 km (comb), \\n, 8.6 l/100 km (city), \\n, 5.6 l/100 km (country), \\n]       1\n",
       "[\\n1\\n, \\n188 g CO2/km (comb)\\n]                                                                1\n",
       "[\\n1\\n, \\n0 g CO2/km (comb)\\n]                                                                  1\n",
       "[\\n1\\n, \\n, 5.9 l/100 km (comb), \\n, 7.9 l/100 km (city), \\n, 4.8 l/100 km (country), \\n]       1\n",
       "[\\n1\\n, \\n, 6 l/100 km (comb), \\n, 8 l/100 km (city), \\n, 4.9 l/100 km (country), \\n]           1\n",
       "[\\n1\\n, \\n, 6.6 l/100 km (comb), \\n, 8.2 l/100 km (city), \\n, 5.6 l/100 km (country), \\n]       1\n",
       "[\\n0\\n, \\n, 6.6 l/100 km (comb), \\n, 8.2 l/100 km (city), \\n, 5.7 l/100 km (country), \\n]       1\n",
       "[\\n1\\n, \\n, 6.6 l/100 km (comb), \\n, 8.1 l/100 km (city), \\n, 5.7 l/100 km (country), \\n]       1\n",
       "[\\n1\\n, \\n, 5.6 l/100 km (comb), \\n, 7.3 l/100 km (city), \\n, 4.7 l/100 km (country), \\n]       1\n",
       "[\\n1\\n, \\n84 g CO2/km (comb)\\n]                                                                 1\n",
       "[\\n1\\n, \\n142 g CO2/km (comb)\\n]                                                                1\n",
       "[\\n2\\n, \\n137 g CO2/km (comb)\\n]                                                                1\n",
       "[\\n1\\n, \\n137 g CO2/km (comb)\\n]                                                                1\n",
       "[\\n1\\n, \\n159 g CO2/km (comb)\\n]                                                                1\n",
       "[\\n0\\n, \\n187 g CO2/km (comb)\\n]                                                                1\n",
       "[\\n1\\n, \\n141 g CO2/km (comb)\\n]                                                                1\n",
       "[\\n1\\n, \\n, 5.9 l/100 km (comb), \\n, 7.4 l/100 km (city), \\n, 5 l/100 km (country), \\n]         1\n",
       "[\\n1\\n, \\n, 6.5 l/100 km (comb), \\n, 8.5 l/100 km (city), \\n, 5.4 l/100 km (country), \\n]       1\n",
       "[\\n1\\n, \\n134 g CO2/km (comb)\\n]                                                                1\n",
       "[\\n1\\n, \\n104 g CO2/km (comb)\\n]                                                                1\n",
       "[\\n1\\n, \\n96 g CO2/km (comb)\\n]                                                                 1\n",
       "[\\n1\\n, \\n181 g CO2/km (comb)\\n]                                                                1\n",
       "[\\n1\\n, \\n, 6.1 l/100 km (comb), \\n, 7.7 l/100 km (city), \\n, 5.2 l/100 km (country), \\n]       1\n",
       "[\\n1\\n, \\nEuro 6\\n]                                                                             1\n",
       "[\\n1\\n, \\n, 5.9 l/100 km (comb), \\n, 7.6 l/100 km (city), \\n, 4.9 l/100 km (country), \\n]       1\n",
       "[\\n1\\n, \\n102 g CO2/km (comb)\\n]                                                                1\n",
       "Name: Previous Owners, Length: 103, dtype: int64"
      ]
     },
     "execution_count": 22,
     "metadata": {},
     "output_type": "execute_result"
    }
   ],
   "source": [
    "df[\"Previous Owners\"].value_counts(dropna=False)"
   ]
  },
  {
   "cell_type": "code",
   "execution_count": 23,
   "metadata": {
    "colab": {
     "base_uri": "https://localhost:8080/"
    },
    "executionInfo": {
     "elapsed": 95,
     "status": "ok",
     "timestamp": 1635888281113,
     "user": {
      "displayName": "Yusuf C",
      "photoUrl": "https://lh3.googleusercontent.com/a/default-user=s64",
      "userId": "01460091991965572961"
     },
     "user_tz": -180
    },
    "id": "9HK_oYucTUmx",
    "outputId": "4a717f21-4afd-470c-9715-7ef12b4cf0c5"
   },
   "outputs": [
    {
     "data": {
      "text/plain": [
       "\\n1\\n    8294\n",
       "NaN      6640\n",
       "\\n2\\n     778\n",
       "\\n0\\n     188\n",
       "\\n3\\n      17\n",
       "\\n4\\n       2\n",
       "Name: Previous Owners, dtype: int64"
      ]
     },
     "execution_count": 23,
     "metadata": {},
     "output_type": "execute_result"
    }
   ],
   "source": [
    "df[\"Previous Owners\"].apply(lambda x : x[0] if type(x)==list else x).value_counts(dropna=False)"
   ]
  },
  {
   "cell_type": "code",
   "execution_count": 24,
   "metadata": {
    "id": "a0Eg8z9nWBk1"
   },
   "outputs": [],
   "source": [
    "df[\"Previous Owners\"] = df[\"Previous Owners\"].apply(lambda x : x[0] if type(x)==list else x)"
   ]
  },
  {
   "cell_type": "code",
   "execution_count": 25,
   "metadata": {
    "colab": {
     "base_uri": "https://localhost:8080/"
    },
    "executionInfo": {
     "elapsed": 89,
     "status": "ok",
     "timestamp": 1635888281115,
     "user": {
      "displayName": "Yusuf C",
      "photoUrl": "https://lh3.googleusercontent.com/a/default-user=s64",
      "userId": "01460091991965572961"
     },
     "user_tz": -180
    },
    "id": "5eRJYuXc2VKK",
    "outputId": "3772e7d4-1b42-4610-ce0e-69b083e14d95"
   },
   "outputs": [
    {
     "data": {
      "text/plain": [
       "1      8294\n",
       "NaN    6640\n",
       "2       778\n",
       "0       188\n",
       "3        17\n",
       "4         2\n",
       "Name: Previous Owners, dtype: int64"
      ]
     },
     "execution_count": 25,
     "metadata": {},
     "output_type": "execute_result"
    }
   ],
   "source": [
    "df[\"Previous Owners\"].apply(lambda x : x.split()[0] if type(x) == str else x ).value_counts(dropna=False)"
   ]
  },
  {
   "cell_type": "code",
   "execution_count": 26,
   "metadata": {
    "id": "J6WO-1074GTm"
   },
   "outputs": [],
   "source": [
    "df[\"Previous Owners\"] = df[\"Previous Owners\"].apply(lambda x : x.split()[0] if type(x) == str else x )"
   ]
  },
  {
   "cell_type": "code",
   "execution_count": 27,
   "metadata": {
    "colab": {
     "base_uri": "https://localhost:8080/"
    },
    "executionInfo": {
     "elapsed": 82,
     "status": "ok",
     "timestamp": 1635888281116,
     "user": {
      "displayName": "Yusuf C",
      "photoUrl": "https://lh3.googleusercontent.com/a/default-user=s64",
      "userId": "01460091991965572961"
     },
     "user_tz": -180
    },
    "id": "kWQaDHnSz1ij",
    "outputId": "cbd75dda-9883-4413-b450-da9488c87ef1"
   },
   "outputs": [
    {
     "data": {
      "text/plain": [
       "1      8294\n",
       "NaN    6640\n",
       "2       778\n",
       "0       188\n",
       "3        17\n",
       "4         2\n",
       "Name: Previous Owners, dtype: int64"
      ]
     },
     "execution_count": 27,
     "metadata": {},
     "output_type": "execute_result"
    }
   ],
   "source": [
    "df[\"Previous Owners\"].value_counts(dropna=False)"
   ]
  },
  {
   "cell_type": "markdown",
   "metadata": {
    "id": "whqrimQSvZQ1"
   },
   "source": [
    "# CO2 Emission 2436 NaN"
   ]
  },
  {
   "cell_type": "code",
   "execution_count": null,
   "metadata": {
    "colab": {
     "base_uri": "https://localhost:8080/",
     "height": 420
    },
    "executionInfo": {
     "elapsed": 76,
     "status": "ok",
     "timestamp": 1635888281117,
     "user": {
      "displayName": "Yusuf C",
      "photoUrl": "https://lh3.googleusercontent.com/a/default-user=s64",
      "userId": "01460091991965572961"
     },
     "user_tz": -180
    },
    "id": "Fz6wMhbt4S7T",
    "outputId": "0c425c5e-f85a-4078-a616-e38e96c047c4"
   },
   "outputs": [
    {
     "ename": "TypeError",
     "evalue": "ignored",
     "output_type": "error",
     "traceback": [
      "\u001b[0;31m---------------------------------------------------------------------------\u001b[0m",
      "\u001b[0;31mTypeError\u001b[0m                                 Traceback (most recent call last)",
      "\u001b[0;32mpandas/_libs/hashtable_class_helper.pxi\u001b[0m in \u001b[0;36mpandas._libs.hashtable.PyObjectHashTable.map_locations\u001b[0;34m()\u001b[0m\n",
      "\u001b[0;31mTypeError\u001b[0m: unhashable type: 'list'"
     ]
    },
    {
     "name": "stderr",
     "output_type": "stream",
     "text": [
      "Exception ignored in: 'pandas._libs.index.IndexEngine._call_map_locations'\n",
      "Traceback (most recent call last):\n",
      "  File \"pandas/_libs/hashtable_class_helper.pxi\", line 1709, in pandas._libs.hashtable.PyObjectHashTable.map_locations\n",
      "TypeError: unhashable type: 'list'\n"
     ]
    },
    {
     "data": {
      "text/plain": [
       "NaN                            1808\n",
       "[\\n120 g CO2/km (comb)\\n]       740\n",
       "[[], [], []]                    628\n",
       "[\\n99 g CO2/km (comb)\\n]        545\n",
       "[\\n97 g CO2/km (comb)\\n]        537\n",
       "                               ... \n",
       "[\\n193 g CO2/km (comb)\\n]         1\n",
       "[\\n171 g CO2/km (comb)\\n]         1\n",
       "[\\n990 g CO2/km (comb)\\n]         1\n",
       "[\\n1,060 g CO2/km (comb)\\n]       1\n",
       "[\\n183 g CO2/km (comb)\\n]         1\n",
       "Name: CO2 Emission, Length: 124, dtype: int64"
      ]
     },
     "execution_count": 240,
     "metadata": {},
     "output_type": "execute_result"
    }
   ],
   "source": [
    "df[\"CO2 Emission\"].value_counts(dropna=False)"
   ]
  },
  {
   "cell_type": "code",
   "execution_count": null,
   "metadata": {
    "colab": {
     "base_uri": "https://localhost:8080/"
    },
    "executionInfo": {
     "elapsed": 75,
     "status": "ok",
     "timestamp": 1635888281118,
     "user": {
      "displayName": "Yusuf C",
      "photoUrl": "https://lh3.googleusercontent.com/a/default-user=s64",
      "userId": "01460091991965572961"
     },
     "user_tz": -180
    },
    "id": "imsV9Taq4S_x",
    "outputId": "b680f7c1-6f1a-4ff4-d5a0-d4b966f7ecff"
   },
   "outputs": [
    {
     "name": "stderr",
     "output_type": "stream",
     "text": [
      "/usr/local/lib/python3.7/dist-packages/ipykernel_launcher.py:3: SettingWithCopyWarning: \n",
      "A value is trying to be set on a copy of a slice from a DataFrame\n",
      "\n",
      "See the caveats in the documentation: https://pandas.pydata.org/pandas-docs/stable/user_guide/indexing.html#returning-a-view-versus-a-copy\n",
      "  This is separate from the ipykernel package so we can avoid doing imports until\n"
     ]
    }
   ],
   "source": [
    "for i in range(df.shape[0]):\n",
    "  if df[\"CO2 Emission\"][i] == [[], [], []]:\n",
    "    df[\"CO2 Emission\"][i] = np.nan"
   ]
  },
  {
   "cell_type": "code",
   "execution_count": null,
   "metadata": {
    "colab": {
     "base_uri": "https://localhost:8080/",
     "height": 420
    },
    "executionInfo": {
     "elapsed": 68,
     "status": "ok",
     "timestamp": 1635888281119,
     "user": {
      "displayName": "Yusuf C",
      "photoUrl": "https://lh3.googleusercontent.com/a/default-user=s64",
      "userId": "01460091991965572961"
     },
     "user_tz": -180
    },
    "id": "vtd0dljo4TD0",
    "outputId": "711e7f2f-93a5-422f-b6cc-58944f9bea49"
   },
   "outputs": [
    {
     "ename": "TypeError",
     "evalue": "ignored",
     "output_type": "error",
     "traceback": [
      "\u001b[0;31m---------------------------------------------------------------------------\u001b[0m",
      "\u001b[0;31mTypeError\u001b[0m                                 Traceback (most recent call last)",
      "\u001b[0;32mpandas/_libs/hashtable_class_helper.pxi\u001b[0m in \u001b[0;36mpandas._libs.hashtable.PyObjectHashTable.map_locations\u001b[0;34m()\u001b[0m\n",
      "\u001b[0;31mTypeError\u001b[0m: unhashable type: 'list'"
     ]
    },
    {
     "name": "stderr",
     "output_type": "stream",
     "text": [
      "Exception ignored in: 'pandas._libs.index.IndexEngine._call_map_locations'\n",
      "Traceback (most recent call last):\n",
      "  File \"pandas/_libs/hashtable_class_helper.pxi\", line 1709, in pandas._libs.hashtable.PyObjectHashTable.map_locations\n",
      "TypeError: unhashable type: 'list'\n"
     ]
    },
    {
     "data": {
      "text/plain": [
       "NaN                            2436\n",
       "[\\n120 g CO2/km (comb)\\n]       740\n",
       "[\\n99 g CO2/km (comb)\\n]        545\n",
       "[\\n97 g CO2/km (comb)\\n]        537\n",
       "[\\n104 g CO2/km (comb)\\n]       501\n",
       "                               ... \n",
       "[\\n183 g CO2/km (comb)\\n]         1\n",
       "[\\n990 g CO2/km (comb)\\n]         1\n",
       "[\\n331 g CO2/km (comb)\\n]         1\n",
       "[\\n1,060 g CO2/km (comb)\\n]       1\n",
       "[\\n1 g CO2/km (comb)\\n]           1\n",
       "Name: CO2 Emission, Length: 123, dtype: int64"
      ]
     },
     "execution_count": 242,
     "metadata": {},
     "output_type": "execute_result"
    }
   ],
   "source": [
    "df[\"CO2 Emission\"].value_counts(dropna=False)"
   ]
  },
  {
   "cell_type": "code",
   "execution_count": null,
   "metadata": {
    "colab": {
     "base_uri": "https://localhost:8080/"
    },
    "executionInfo": {
     "elapsed": 69,
     "status": "ok",
     "timestamp": 1635888281121,
     "user": {
      "displayName": "Yusuf C",
      "photoUrl": "https://lh3.googleusercontent.com/a/default-user=s64",
      "userId": "01460091991965572961"
     },
     "user_tz": -180
    },
    "id": "kAhggX1D4THR",
    "outputId": "e8218286-25ee-42d9-ca7e-3f4444f2ba25"
   },
   "outputs": [
    {
     "data": {
      "text/plain": [
       "0         99\n",
       "1        129\n",
       "2         99\n",
       "3         99\n",
       "4        109\n",
       "        ... \n",
       "15914    139\n",
       "15915    168\n",
       "15916    139\n",
       "15917    139\n",
       "15918    153\n",
       "Name: CO2 Emission, Length: 15919, dtype: object"
      ]
     },
     "execution_count": 243,
     "metadata": {},
     "output_type": "execute_result"
    }
   ],
   "source": [
    "df[\"CO2 Emission\"].apply(lambda x: x[0].split()[0] if type(x)==list else x)"
   ]
  },
  {
   "cell_type": "code",
   "execution_count": null,
   "metadata": {
    "id": "JSEiO96Q4TPD"
   },
   "outputs": [],
   "source": [
    "df[\"CO2 Emission\"] = df[\"CO2 Emission\"].apply(lambda x: x[0].split()[0] if type(x)==list else x)"
   ]
  },
  {
   "cell_type": "code",
   "execution_count": null,
   "metadata": {
    "colab": {
     "base_uri": "https://localhost:8080/"
    },
    "executionInfo": {
     "elapsed": 98,
     "status": "ok",
     "timestamp": 1635888282412,
     "user": {
      "displayName": "Yusuf C",
      "photoUrl": "https://lh3.googleusercontent.com/a/default-user=s64",
      "userId": "01460091991965572961"
     },
     "user_tz": -180
    },
    "id": "7iPQdIDH4TUb",
    "outputId": "f9c86cb8-9f6b-4281-a751-c345039f2ecd"
   },
   "outputs": [
    {
     "data": {
      "text/plain": [
       "NaN       2436\n",
       "120        740\n",
       "99         545\n",
       "97         537\n",
       "104        501\n",
       "          ... \n",
       "190          1\n",
       "184          1\n",
       "181          1\n",
       "14,457       1\n",
       "171          1\n",
       "Name: CO2 Emission, Length: 123, dtype: int64"
      ]
     },
     "execution_count": 245,
     "metadata": {},
     "output_type": "execute_result"
    }
   ],
   "source": [
    "df[\"CO2 Emission\"].value_counts(dropna=False)"
   ]
  },
  {
   "cell_type": "code",
   "execution_count": null,
   "metadata": {
    "colab": {
     "base_uri": "https://localhost:8080/"
    },
    "executionInfo": {
     "elapsed": 86,
     "status": "ok",
     "timestamp": 1635888282413,
     "user": {
      "displayName": "Yusuf C",
      "photoUrl": "https://lh3.googleusercontent.com/a/default-user=s64",
      "userId": "01460091991965572961"
     },
     "user_tz": -180
    },
    "id": "QSf7Vq-H4TX0",
    "outputId": "238c983f-51aa-4e27-adad-755c1d2add62"
   },
   "outputs": [
    {
     "data": {
      "text/plain": [
       "0         99\n",
       "1        129\n",
       "2         99\n",
       "3         99\n",
       "4        109\n",
       "        ... \n",
       "15914    139\n",
       "15915    168\n",
       "15916    139\n",
       "15917    139\n",
       "15918    153\n",
       "Name: CO2 Emission, Length: 15919, dtype: object"
      ]
     },
     "execution_count": 246,
     "metadata": {},
     "output_type": "execute_result"
    }
   ],
   "source": [
    "df[\"CO2 Emission\"].str.replace(\",\", \"\")"
   ]
  },
  {
   "cell_type": "code",
   "execution_count": null,
   "metadata": {
    "id": "leDuvRJ7dajG"
   },
   "outputs": [],
   "source": [
    "df[\"CO2 Emission\"] = df[\"CO2 Emission\"].str.replace(\",\", \"\")"
   ]
  },
  {
   "cell_type": "code",
   "execution_count": null,
   "metadata": {
    "colab": {
     "base_uri": "https://localhost:8080/",
     "height": 80
    },
    "executionInfo": {
     "elapsed": 78,
     "status": "ok",
     "timestamp": 1635888282417,
     "user": {
      "displayName": "Yusuf C",
      "photoUrl": "https://lh3.googleusercontent.com/a/default-user=s64",
      "userId": "01460091991965572961"
     },
     "user_tz": -180
    },
    "id": "p9jIR5rPdJ9D",
    "outputId": "9de59825-67e3-48bf-e4c4-c3705ec615dd"
   },
   "outputs": [
    {
     "data": {
      "text/html": [
       "<div>\n",
       "<style scoped>\n",
       "    .dataframe tbody tr th:only-of-type {\n",
       "        vertical-align: middle;\n",
       "    }\n",
       "\n",
       "    .dataframe tbody tr th {\n",
       "        vertical-align: top;\n",
       "    }\n",
       "\n",
       "    .dataframe thead th {\n",
       "        text-align: right;\n",
       "    }\n",
       "</style>\n",
       "<table border=\"1\" class=\"dataframe\">\n",
       "  <thead>\n",
       "    <tr style=\"text-align: right;\">\n",
       "      <th></th>\n",
       "      <th>make_model</th>\n",
       "      <th>Emission Label</th>\n",
       "      <th>CO2 Emission</th>\n",
       "      <th>Fuel</th>\n",
       "      <th>Displacement</th>\n",
       "      <th>Cylinders</th>\n",
       "      <th>hp</th>\n",
       "    </tr>\n",
       "  </thead>\n",
       "  <tbody>\n",
       "    <tr>\n",
       "      <th>12343</th>\n",
       "      <td>Opel Insignia</td>\n",
       "      <td>4,(Green)</td>\n",
       "      <td>13983</td>\n",
       "      <td>Gasoline</td>\n",
       "      <td>1490</td>\n",
       "      <td>4</td>\n",
       "      <td>103</td>\n",
       "    </tr>\n",
       "  </tbody>\n",
       "</table>\n",
       "</div>"
      ],
      "text/plain": [
       "          make_model Emission Label CO2 Emission  ... Displacement Cylinders   hp\n",
       "12343  Opel Insignia      4,(Green)        13983  ...         1490         4  103\n",
       "\n",
       "[1 rows x 7 columns]"
      ]
     },
     "execution_count": 248,
     "metadata": {},
     "output_type": "execute_result"
    }
   ],
   "source": [
    "df[df[\"CO2 Emission\"] == \"13983\"][[\"make_model\",\"Emission Label\", \"CO2 Emission\", \"Fuel\", \"Displacement\", \"Cylinders\", \"hp\"]]"
   ]
  },
  {
   "cell_type": "code",
   "execution_count": null,
   "metadata": {
    "colab": {
     "base_uri": "https://localhost:8080/"
    },
    "executionInfo": {
     "elapsed": 78,
     "status": "ok",
     "timestamp": 1635888282418,
     "user": {
      "displayName": "Yusuf C",
      "photoUrl": "https://lh3.googleusercontent.com/a/default-user=s64",
      "userId": "01460091991965572961"
     },
     "user_tz": -180
    },
    "id": "QkkDqGm9d5bg",
    "outputId": "65f33f10-4783-417e-861c-146f224cd229"
   },
   "outputs": [
    {
     "data": {
      "text/plain": [
       "array([nan, '146', '149', '114', '144', '159', '166', '253', '164', '151',\n",
       "       '145', '129', '175', '170', '0', '169', '148', '147', '134', '135',\n",
       "       '130', '189', '103', '131', '101', '124', '136', '119', '132',\n",
       "       '152', '109', '126', '133', '104', '143', '141', '150', '137',\n",
       "       '138', '139', '140', '111', '142', '112', '128', '13983', '156',\n",
       "       '154', '177', '180', '186', '162', '187', '188', '171', '172',\n",
       "       '121', '125', '110', '155', '116', '120', '118'], dtype=object)"
      ]
     },
     "execution_count": 249,
     "metadata": {},
     "output_type": "execute_result"
    }
   ],
   "source": [
    "df[(df['make_model'] == \"Opel Insignia\") & (df[\"Emission Label\"] == \"4,(Green)\")][\"CO2 Emission\"].unique()"
   ]
  },
  {
   "cell_type": "markdown",
   "metadata": {
    "id": "DxfKDFty4UXR"
   },
   "source": [
    "# registration (1597 NaN)"
   ]
  },
  {
   "cell_type": "code",
   "execution_count": null,
   "metadata": {
    "colab": {
     "base_uri": "https://localhost:8080/"
    },
    "executionInfo": {
     "elapsed": 73,
     "status": "ok",
     "timestamp": 1635888282420,
     "user": {
      "displayName": "Yusuf C",
      "photoUrl": "https://lh3.googleusercontent.com/a/default-user=s64",
      "userId": "01460091991965572961"
     },
     "user_tz": -180
    },
    "id": "YQMYodpKMZSY",
    "outputId": "302a7f91-8d6b-45bb-e9dc-b8118058435f"
   },
   "outputs": [
    {
     "data": {
      "text/plain": [
       "(1597, 44)"
      ]
     },
     "execution_count": 250,
     "metadata": {},
     "output_type": "execute_result"
    }
   ],
   "source": [
    "df[df[\"registration\"]=='-/-'].shape"
   ]
  },
  {
   "cell_type": "code",
   "execution_count": null,
   "metadata": {
    "id": "lIjlvcr7MZVv"
   },
   "outputs": [],
   "source": [
    "df.loc[df[df[\"registration\"]=='-/-'].index, \"registration\"] = np.nan"
   ]
  },
  {
   "cell_type": "code",
   "execution_count": null,
   "metadata": {
    "colab": {
     "base_uri": "https://localhost:8080/"
    },
    "executionInfo": {
     "elapsed": 71,
     "status": "ok",
     "timestamp": 1635888282425,
     "user": {
      "displayName": "Yusuf C",
      "photoUrl": "https://lh3.googleusercontent.com/a/default-user=s64",
      "userId": "01460091991965572961"
     },
     "user_tz": -180
    },
    "id": "F1UaybzjMZeN",
    "outputId": "acea4166-9924-4e2c-b39b-7ace42fa113b"
   },
   "outputs": [
    {
     "data": {
      "text/plain": [
       "NaN        1597\n",
       "03/2018     695\n",
       "02/2019     585\n",
       "05/2018     572\n",
       "03/2019     543\n",
       "01/2019     541\n",
       "04/2018     541\n",
       "02/2018     539\n",
       "03/2016     536\n",
       "04/2016     532\n",
       "06/2018     532\n",
       "01/2018     511\n",
       "04/2019     506\n",
       "02/2016     472\n",
       "03/2017     471\n",
       "05/2016     459\n",
       "06/2016     452\n",
       "05/2019     440\n",
       "06/2017     409\n",
       "05/2017     404\n",
       "07/2018     396\n",
       "04/2017     380\n",
       "01/2016     376\n",
       "02/2017     368\n",
       "01/2017     306\n",
       "08/2018     285\n",
       "06/2019     224\n",
       "07/2017     215\n",
       "11/2017     180\n",
       "07/2016     176\n",
       "10/2016     160\n",
       "10/2017     154\n",
       "09/2017     149\n",
       "11/2016     142\n",
       "09/2016     141\n",
       "09/2018     141\n",
       "12/2016     134\n",
       "12/2017     123\n",
       "08/2017     114\n",
       "11/2018     110\n",
       "12/2018     103\n",
       "10/2018      97\n",
       "08/2016      94\n",
       "07/2019       6\n",
       "09/2019       5\n",
       "11/2019       1\n",
       "08/2019       1\n",
       "12/2019       1\n",
       "Name: registration, dtype: int64"
      ]
     },
     "execution_count": 252,
     "metadata": {},
     "output_type": "execute_result"
    }
   ],
   "source": [
    "df[\"registration\"].value_counts(dropna=False)"
   ]
  },
  {
   "cell_type": "markdown",
   "metadata": {
    "id": "R52_pZwiMbSZ"
   },
   "source": [
    "# Availability (days from ordering) 15284 NaN"
   ]
  },
  {
   "cell_type": "code",
   "execution_count": null,
   "metadata": {
    "colab": {
     "base_uri": "https://localhost:8080/"
    },
    "executionInfo": {
     "elapsed": 65,
     "status": "ok",
     "timestamp": 1635888282426,
     "user": {
      "displayName": "Yusuf C",
      "photoUrl": "https://lh3.googleusercontent.com/a/default-user=s64",
      "userId": "01460091991965572961"
     },
     "user_tz": -180
    },
    "id": "TGZbqzzrMZmT",
    "outputId": "32b99e37-a2fb-4d26-986f-84cdedf28ef3"
   },
   "outputs": [
    {
     "data": {
      "text/plain": [
       "NaN                              15284\n",
       "\\nin 90 days from ordering\\n       196\n",
       "\\nin 120 days from ordering\\n      182\n",
       "\\nin 1 day from ordering\\n          51\n",
       "\\nin 5 days from ordering\\n         35\n",
       "\\nin 3 days from ordering\\n         35\n",
       "\\nin 14 days from ordering\\n        24\n",
       "\\nin 180 days from ordering\\n       24\n",
       "\\nin 7 days from ordering\\n         20\n",
       "\\nin 150 days from ordering\\n       18\n",
       "\\nin 2 days from ordering\\n         16\n",
       "\\nin 60 days from ordering\\n        13\n",
       "\\nin 42 days from ordering\\n        10\n",
       "\\nin 21 days from ordering\\n         8\n",
       "\\nin 4 days from ordering\\n          2\n",
       "\\nin 6 days from ordering\\n          1\n",
       "Name: Availability, dtype: int64"
      ]
     },
     "execution_count": 253,
     "metadata": {},
     "output_type": "execute_result"
    }
   ],
   "source": [
    "df[\"Availability\"].value_counts(dropna=False)"
   ]
  },
  {
   "cell_type": "code",
   "execution_count": null,
   "metadata": {
    "colab": {
     "base_uri": "https://localhost:8080/"
    },
    "executionInfo": {
     "elapsed": 58,
     "status": "ok",
     "timestamp": 1635888282426,
     "user": {
      "displayName": "Yusuf C",
      "photoUrl": "https://lh3.googleusercontent.com/a/default-user=s64",
      "userId": "01460091991965572961"
     },
     "user_tz": -180
    },
    "id": "64hQV2VRMZiv",
    "outputId": "039970b4-07fe-4550-d214-212dc22de6a4"
   },
   "outputs": [
    {
     "data": {
      "text/plain": [
       "0        NaN\n",
       "1        NaN\n",
       "2        NaN\n",
       "3        NaN\n",
       "4        NaN\n",
       "        ... \n",
       "15914    NaN\n",
       "15915      5\n",
       "15916    120\n",
       "15917    NaN\n",
       "15918    NaN\n",
       "Name: Availability, Length: 15919, dtype: object"
      ]
     },
     "execution_count": 254,
     "metadata": {},
     "output_type": "execute_result"
    }
   ],
   "source": [
    "df[\"Availability\"].apply(lambda x : x.split()[1] if type(x)==str else x)"
   ]
  },
  {
   "cell_type": "code",
   "execution_count": null,
   "metadata": {
    "id": "shENfdg2MZpm"
   },
   "outputs": [],
   "source": [
    "df[\"Availability\"] = df[\"Availability\"].apply(lambda x : x.split()[1] if type(x)==str else x)"
   ]
  },
  {
   "cell_type": "code",
   "execution_count": null,
   "metadata": {
    "id": "MvUEuQkXMZtj"
   },
   "outputs": [],
   "source": []
  },
  {
   "cell_type": "markdown",
   "metadata": {
    "id": "dJlruFlwN7Nh"
   },
   "source": [
    "# Model Code  10941NaN "
   ]
  },
  {
   "cell_type": "code",
   "execution_count": null,
   "metadata": {
    "colab": {
     "base_uri": "https://localhost:8080/"
    },
    "executionInfo": {
     "elapsed": 52,
     "status": "ok",
     "timestamp": 1635888282428,
     "user": {
      "displayName": "Yusuf C",
      "photoUrl": "https://lh3.googleusercontent.com/a/default-user=s64",
      "userId": "01460091991965572961"
     },
     "user_tz": -180
    },
    "id": "GHbmN3LpT1Ih",
    "outputId": "2c6c57de-b218-4940-8408-ace891195ffd"
   },
   "outputs": [
    {
     "data": {
      "text/plain": [
       "0        [\\n0588/BDF\\n]\n",
       "1        [\\n0588/BCY\\n]\n",
       "2                   NaN\n",
       "3                   NaN\n",
       "4        [\\n0588/BDF\\n]\n",
       "              ...      \n",
       "15914               NaN\n",
       "15915    [\\n0000/000\\n]\n",
       "15916               NaN\n",
       "15917               NaN\n",
       "15918    [\\n3333/BHJ\\n]\n",
       "Name: Model Code, Length: 15919, dtype: object"
      ]
     },
     "execution_count": 256,
     "metadata": {},
     "output_type": "execute_result"
    }
   ],
   "source": [
    "df[\"Model Code\"]"
   ]
  },
  {
   "cell_type": "code",
   "execution_count": null,
   "metadata": {
    "colab": {
     "base_uri": "https://localhost:8080/",
     "height": 420
    },
    "executionInfo": {
     "elapsed": 46,
     "status": "ok",
     "timestamp": 1635888282429,
     "user": {
      "displayName": "Yusuf C",
      "photoUrl": "https://lh3.googleusercontent.com/a/default-user=s64",
      "userId": "01460091991965572961"
     },
     "user_tz": -180
    },
    "id": "O5GEdrVbT1MH",
    "outputId": "bcdf7bc4-8766-4b9b-a25b-a6137686d5d6"
   },
   "outputs": [
    {
     "ename": "TypeError",
     "evalue": "ignored",
     "output_type": "error",
     "traceback": [
      "\u001b[0;31m---------------------------------------------------------------------------\u001b[0m",
      "\u001b[0;31mTypeError\u001b[0m                                 Traceback (most recent call last)",
      "\u001b[0;32mpandas/_libs/hashtable_class_helper.pxi\u001b[0m in \u001b[0;36mpandas._libs.hashtable.PyObjectHashTable.map_locations\u001b[0;34m()\u001b[0m\n",
      "\u001b[0;31mTypeError\u001b[0m: unhashable type: 'list'"
     ]
    },
    {
     "name": "stderr",
     "output_type": "stream",
     "text": [
      "Exception ignored in: 'pandas._libs.index.IndexEngine._call_map_locations'\n",
      "Traceback (most recent call last):\n",
      "  File \"pandas/_libs/hashtable_class_helper.pxi\", line 1709, in pandas._libs.hashtable.PyObjectHashTable.map_locations\n",
      "TypeError: unhashable type: 'list'\n"
     ]
    },
    {
     "data": {
      "text/plain": [
       "NaN               10941\n",
       "[\\n0035/BCB\\n]      268\n",
       "[\\n0588/BNO\\n]      245\n",
       "[\\n0588/BDB\\n]      206\n",
       "[\\n0588/BHX\\n]      188\n",
       "                  ...  \n",
       "[\\n1844/AEN\\n]        1\n",
       "[\\n0588/AVR\\n]        1\n",
       "[\\n0035/AFF\\n]        1\n",
       "[\\n1844/AFM\\n]        1\n",
       "[\\n0035/AVN\\n]        1\n",
       "Name: Model Code, Length: 233, dtype: int64"
      ]
     },
     "execution_count": 257,
     "metadata": {},
     "output_type": "execute_result"
    }
   ],
   "source": [
    "df[\"Model Code\"].value_counts(dropna=False)"
   ]
  },
  {
   "cell_type": "code",
   "execution_count": null,
   "metadata": {
    "id": "4Pj0DJ9ZT1RB"
   },
   "outputs": [],
   "source": [
    "df[\"Model Code\"] = df[\"Model Code\"].apply(lambda x : x[0].split()[0] if type(x)==list else x)"
   ]
  },
  {
   "cell_type": "code",
   "execution_count": null,
   "metadata": {
    "id": "WtWYGFBZkcvT"
   },
   "outputs": [],
   "source": [
    "df.drop(\"Model Code\", axis=1, inplace=True)"
   ]
  },
  {
   "cell_type": "markdown",
   "metadata": {
    "id": "-HxhcVDoW4AV"
   },
   "source": [
    "# Upholstery 3720 NaN"
   ]
  },
  {
   "cell_type": "code",
   "execution_count": null,
   "metadata": {
    "colab": {
     "base_uri": "https://localhost:8080/"
    },
    "executionInfo": {
     "elapsed": 46,
     "status": "ok",
     "timestamp": 1635888282432,
     "user": {
      "displayName": "Yusuf C",
      "photoUrl": "https://lh3.googleusercontent.com/a/default-user=s64",
      "userId": "01460091991965572961"
     },
     "user_tz": -180
    },
    "id": "LdTWXdboXNAV",
    "outputId": "9d0f4202-a509-4729-ba02-740def80ee4b"
   },
   "outputs": [
    {
     "data": {
      "text/plain": [
       "0               [\\nCloth, Black\\n]\n",
       "1                [\\nCloth, Grey\\n]\n",
       "2               [\\nCloth, Black\\n]\n",
       "3                              NaN\n",
       "4               [\\nCloth, Black\\n]\n",
       "                   ...            \n",
       "15914                          NaN\n",
       "15915                  [\\nCloth\\n]\n",
       "15916    [\\nFull leather, Black\\n]\n",
       "15917           [\\nPart leather\\n]\n",
       "15918    [\\nFull leather, Brown\\n]\n",
       "Name: Upholstery, Length: 15919, dtype: object"
      ]
     },
     "execution_count": 260,
     "metadata": {},
     "output_type": "execute_result"
    }
   ],
   "source": [
    "df[\"Upholstery\"]"
   ]
  },
  {
   "cell_type": "code",
   "execution_count": null,
   "metadata": {
    "colab": {
     "base_uri": "https://localhost:8080/",
     "height": 1000
    },
    "executionInfo": {
     "elapsed": 41,
     "status": "ok",
     "timestamp": 1635888282433,
     "user": {
      "displayName": "Yusuf C",
      "photoUrl": "https://lh3.googleusercontent.com/a/default-user=s64",
      "userId": "01460091991965572961"
     },
     "user_tz": -180
    },
    "id": "oK5RN7YulPVo",
    "outputId": "559ac148-a353-4bae-854e-e43ac7c5290b"
   },
   "outputs": [
    {
     "ename": "TypeError",
     "evalue": "ignored",
     "output_type": "error",
     "traceback": [
      "\u001b[0;31m---------------------------------------------------------------------------\u001b[0m",
      "\u001b[0;31mTypeError\u001b[0m                                 Traceback (most recent call last)",
      "\u001b[0;32mpandas/_libs/hashtable_class_helper.pxi\u001b[0m in \u001b[0;36mpandas._libs.hashtable.PyObjectHashTable.map_locations\u001b[0;34m()\u001b[0m\n",
      "\u001b[0;31mTypeError\u001b[0m: unhashable type: 'list'"
     ]
    },
    {
     "name": "stderr",
     "output_type": "stream",
     "text": [
      "Exception ignored in: 'pandas._libs.index.IndexEngine._call_map_locations'\n",
      "Traceback (most recent call last):\n",
      "  File \"pandas/_libs/hashtable_class_helper.pxi\", line 1709, in pandas._libs.hashtable.PyObjectHashTable.map_locations\n",
      "TypeError: unhashable type: 'list'\n"
     ]
    },
    {
     "data": {
      "text/plain": [
       "[\\nCloth, Black\\n]           5821\n",
       "[\\nPart leather, Black\\n]    1121\n",
       "[\\nCloth\\n]                  1005\n",
       "[\\nCloth, Grey\\n]             891\n",
       "[\\nCloth, Other\\n]            639\n",
       "[\\nFull leather, Black\\n]     575\n",
       "[\\nBlack\\n]                   491\n",
       "[\\nGrey\\n]                    273\n",
       "[\\nOther, Other\\n]            182\n",
       "[\\nPart leather\\n]            140\n",
       "[\\nFull leather\\n]            139\n",
       "[\\nFull leather, Brown\\n]     116\n",
       "[\\nPart leather, Grey\\n]      116\n",
       "[\\nOther, Black\\n]            110\n",
       "[\\nFull leather, Other\\n]      72\n",
       "[\\nFull leather, Grey\\n]       67\n",
       "[\\nPart leather, Other\\n]      65\n",
       "[\\nOther\\n]                    56\n",
       "[\\nPart leather, Brown\\n]      50\n",
       "[\\nalcantara, Black\\n]         47\n",
       "[\\nVelour, Black\\n]            36\n",
       "[\\nFull leather, Beige\\n]      36\n",
       "[\\nCloth, Brown\\n]             28\n",
       "[\\nVelour\\n]                   16\n",
       "[\\nOther, Grey\\n]              15\n",
       "[\\nCloth, Beige\\n]             13\n",
       "[\\nCloth, Blue\\n]              12\n",
       "[\\nBrown\\n]                    12\n",
       "[\\nCloth, White\\n]              8\n",
       "[\\nVelour, Grey\\n]              8\n",
       "[\\nalcantara, Grey\\n]           6\n",
       "[\\nCloth, Red\\n]                5\n",
       "[\\nOther, Yellow\\n]             4\n",
       "[\\nPart leather, Red\\n]         3\n",
       "[\\nBeige\\n]                     3\n",
       "[\\nBlue\\n]                      2\n",
       "[\\nFull leather, Blue\\n]        2\n",
       "[\\nPart leather, White\\n]       2\n",
       "[\\nalcantara\\n]                 2\n",
       "[\\nWhite\\n]                     2\n",
       "[\\nPart leather, Beige\\n]       2\n",
       "[\\nalcantara, Other\\n]          2\n",
       "[\\nFull leather, Red\\n]         1\n",
       "[\\nFull leather, White\\n]       1\n",
       "[\\nOther, Brown\\n]              1\n",
       "[\\nCloth, Orange\\n]             1\n",
       "Name: Upholstery, dtype: int64"
      ]
     },
     "execution_count": 261,
     "metadata": {},
     "output_type": "execute_result"
    }
   ],
   "source": [
    "df[~df[\"Upholstery\"].isnull()][\"Upholstery\"].value_counts(dropna=False)"
   ]
  },
  {
   "cell_type": "code",
   "execution_count": null,
   "metadata": {
    "id": "DzlQ_F0BXNEQ"
   },
   "outputs": [],
   "source": [
    "df[\"Upholstery\"] = df[~df[\"Upholstery\"].isnull()][\"Upholstery\"].apply(lambda x :( x[0].split()[0] + \" \" + x[0].split()[1])\n",
    "                                                   if len(x[0].split())==2 else x)\n",
    "\n",
    "df[\"Upholstery\"] = df[~df[\"Upholstery\"].isnull()][\"Upholstery\"].apply(lambda x : x[0].split()[0]\n",
    "                                                   if ((len(x[0].split())==1) & (type(x) != str)) else x)\n",
    "\n",
    "(df[\"Upholstery\"][5][0].split()[0] + \" \" + df[\"Upholstery\"][5][0].split()[1] + df[\"Upholstery\"][5][0].split()[2])\n",
    "\n",
    "df[\"Upholstery\"] = df[~df[\"Upholstery\"].isnull()][\"Upholstery\"].apply(lambda x : (x[0].split()[0] + \" \" + x[0].split()[1]+ \" \" + x[0].split()[2])\n",
    "                                                   if ((len(x[0].split())==3) & (type(x) != str)) else x)"
   ]
  },
  {
   "cell_type": "code",
   "execution_count": null,
   "metadata": {
    "colab": {
     "base_uri": "https://localhost:8080/"
    },
    "executionInfo": {
     "elapsed": 105,
     "status": "ok",
     "timestamp": 1635888283178,
     "user": {
      "displayName": "Yusuf C",
      "photoUrl": "https://lh3.googleusercontent.com/a/default-user=s64",
      "userId": "01460091991965572961"
     },
     "user_tz": -180
    },
    "id": "HXfMVyzAif41",
    "outputId": "0489e188-055f-4ca9-eaf1-90cd574d23d1"
   },
   "outputs": [
    {
     "data": {
      "text/plain": [
       "0               Cloth,Black\n",
       "1                Cloth,Grey\n",
       "2               Cloth,Black\n",
       "3                       NaN\n",
       "4               Cloth,Black\n",
       "                ...        \n",
       "15914                   NaN\n",
       "15915                 Cloth\n",
       "15916    Full leather,Black\n",
       "15917          Part leather\n",
       "15918    Full leather,Brown\n",
       "Name: Upholstery, Length: 15919, dtype: object"
      ]
     },
     "execution_count": 263,
     "metadata": {},
     "output_type": "execute_result"
    }
   ],
   "source": [
    "df[\"Upholstery\"].str.replace(\", \", \",\")"
   ]
  },
  {
   "cell_type": "code",
   "execution_count": null,
   "metadata": {
    "id": "X4lbEaWziuej"
   },
   "outputs": [],
   "source": [
    "df[\"Upholstery\"] = df[\"Upholstery\"].str.replace(\", \", \",\")"
   ]
  },
  {
   "cell_type": "code",
   "execution_count": null,
   "metadata": {
    "colab": {
     "base_uri": "https://localhost:8080/"
    },
    "executionInfo": {
     "elapsed": 99,
     "status": "ok",
     "timestamp": 1635888283182,
     "user": {
      "displayName": "Yusuf C",
      "photoUrl": "https://lh3.googleusercontent.com/a/default-user=s64",
      "userId": "01460091991965572961"
     },
     "user_tz": -180
    },
    "id": "7pJwoHYLXNJX",
    "outputId": "97d9d0c3-874d-493b-e6ea-da63f03afda6"
   },
   "outputs": [
    {
     "data": {
      "text/plain": [
       "Cloth,Black           5821\n",
       "NaN                   3720\n",
       "Part leather,Black    1121\n",
       "Cloth                 1005\n",
       "Cloth,Grey             891\n",
       "Cloth,Other            639\n",
       "Full leather,Black     575\n",
       "Black                  491\n",
       "Grey                   273\n",
       "Other,Other            182\n",
       "Part leather           140\n",
       "Full leather           139\n",
       "Part leather,Grey      116\n",
       "Full leather,Brown     116\n",
       "Other,Black            110\n",
       "Full leather,Other      72\n",
       "Full leather,Grey       67\n",
       "Part leather,Other      65\n",
       "Other                   56\n",
       "Part leather,Brown      50\n",
       "alcantara,Black         47\n",
       "Full leather,Beige      36\n",
       "Velour,Black            36\n",
       "Cloth,Brown             28\n",
       "Velour                  16\n",
       "Other,Grey              15\n",
       "Cloth,Beige             13\n",
       "Brown                   12\n",
       "Cloth,Blue              12\n",
       "Velour,Grey              8\n",
       "Cloth,White              8\n",
       "alcantara,Grey           6\n",
       "Cloth,Red                5\n",
       "Other,Yellow             4\n",
       "Part leather,Red         3\n",
       "Beige                    3\n",
       "Part leather,White       2\n",
       "White                    2\n",
       "Part leather,Beige       2\n",
       "alcantara,Other          2\n",
       "Full leather,Blue        2\n",
       "alcantara                2\n",
       "Blue                     2\n",
       "Cloth,Orange             1\n",
       "Other,Brown              1\n",
       "Full leather,Red         1\n",
       "Full leather,White       1\n",
       "Name: Upholstery, dtype: int64"
      ]
     },
     "execution_count": 265,
     "metadata": {},
     "output_type": "execute_result"
    }
   ],
   "source": [
    "df[\"Upholstery\"].value_counts(dropna=False)"
   ]
  },
  {
   "cell_type": "markdown",
   "metadata": {
    "id": "T7dC4UONR_Gh"
   },
   "source": [
    "# Previous Owners 6640 NaN"
   ]
  },
  {
   "cell_type": "code",
   "execution_count": null,
   "metadata": {
    "colab": {
     "base_uri": "https://localhost:8080/"
    },
    "executionInfo": {
     "elapsed": 93,
     "status": "ok",
     "timestamp": 1635888283183,
     "user": {
      "displayName": "Yusuf C",
      "photoUrl": "https://lh3.googleusercontent.com/a/default-user=s64",
      "userId": "01460091991965572961"
     },
     "user_tz": -180
    },
    "id": "Uqqx-c8WXNOu",
    "outputId": "6d32fd89-28d7-43b5-8bc9-12d8e2b66bce"
   },
   "outputs": [
    {
     "data": {
      "text/plain": [
       "0          2\n",
       "1        NaN\n",
       "2          1\n",
       "3          1\n",
       "4          1\n",
       "        ... \n",
       "15914    NaN\n",
       "15915      1\n",
       "15916      1\n",
       "15917    NaN\n",
       "15918      1\n",
       "Name: Previous Owners, Length: 15919, dtype: object"
      ]
     },
     "execution_count": 266,
     "metadata": {},
     "output_type": "execute_result"
    }
   ],
   "source": [
    "df[\"Previous Owners\"]"
   ]
  },
  {
   "cell_type": "code",
   "execution_count": null,
   "metadata": {
    "id": "3c82Qd6ojDEm"
   },
   "outputs": [],
   "source": [
    "df[\"prev_owner\"] = df[\"prev_owner\"].apply(lambda x: x.split()[0] if type(x) == str else x)"
   ]
  },
  {
   "cell_type": "code",
   "execution_count": null,
   "metadata": {
    "colab": {
     "base_uri": "https://localhost:8080/"
    },
    "executionInfo": {
     "elapsed": 88,
     "status": "ok",
     "timestamp": 1635888283186,
     "user": {
      "displayName": "Yusuf C",
      "photoUrl": "https://lh3.googleusercontent.com/a/default-user=s64",
      "userId": "01460091991965572961"
     },
     "user_tz": -180
    },
    "id": "gG-j-0Z8jgIv",
    "outputId": "34742c05-540b-42a1-d720-16f1d3a45e2c"
   },
   "outputs": [
    {
     "data": {
      "text/plain": [
       "1      8294\n",
       "NaN    6828\n",
       "2       778\n",
       "3        17\n",
       "4         2\n",
       "Name: prev_owner, dtype: int64"
      ]
     },
     "execution_count": 268,
     "metadata": {},
     "output_type": "execute_result"
    }
   ],
   "source": [
    "df[\"prev_owner\"].apply(lambda x: x.split()[0] if type(x) == str else x).value_counts(dropna=False)"
   ]
  },
  {
   "cell_type": "code",
   "execution_count": null,
   "metadata": {
    "colab": {
     "base_uri": "https://localhost:8080/"
    },
    "executionInfo": {
     "elapsed": 91,
     "status": "ok",
     "timestamp": 1635888283197,
     "user": {
      "displayName": "Yusuf C",
      "photoUrl": "https://lh3.googleusercontent.com/a/default-user=s64",
      "userId": "01460091991965572961"
     },
     "user_tz": -180
    },
    "id": "HWtdNvw3RS2n",
    "outputId": "03be9668-9ea2-4e47-93be-28b70315c588"
   },
   "outputs": [
    {
     "data": {
      "text/plain": [
       "Previous Owners  prev_owner\n",
       "0                NaN            188\n",
       "1                1             8294\n",
       "2                2              778\n",
       "3                3               17\n",
       "4                4                2\n",
       "Name: prev_owner, dtype: int64"
      ]
     },
     "execution_count": 269,
     "metadata": {},
     "output_type": "execute_result"
    }
   ],
   "source": [
    "df.groupby(\"Previous Owners\")[\"prev_owner\"].value_counts(dropna=False)"
   ]
  },
  {
   "cell_type": "code",
   "execution_count": null,
   "metadata": {
    "colab": {
     "base_uri": "https://localhost:8080/"
    },
    "executionInfo": {
     "elapsed": 86,
     "status": "ok",
     "timestamp": 1635888283198,
     "user": {
      "displayName": "Yusuf C",
      "photoUrl": "https://lh3.googleusercontent.com/a/default-user=s64",
      "userId": "01460091991965572961"
     },
     "user_tz": -180
    },
    "id": "-Ofs4hMfRTIK",
    "outputId": "c8d1b3de-07d0-47b3-a015-5e403fb30eef"
   },
   "outputs": [
    {
     "data": {
      "text/plain": [
       "1      8294\n",
       "NaN    6828\n",
       "2       778\n",
       "3        17\n",
       "4         2\n",
       "Name: prev_owner, dtype: int64"
      ]
     },
     "execution_count": 270,
     "metadata": {},
     "output_type": "execute_result"
    }
   ],
   "source": [
    "df[\"prev_owner\"].value_counts(dropna=False)"
   ]
  },
  {
   "cell_type": "code",
   "execution_count": null,
   "metadata": {
    "colab": {
     "base_uri": "https://localhost:8080/"
    },
    "executionInfo": {
     "elapsed": 80,
     "status": "ok",
     "timestamp": 1635888283199,
     "user": {
      "displayName": "Yusuf C",
      "photoUrl": "https://lh3.googleusercontent.com/a/default-user=s64",
      "userId": "01460091991965572961"
     },
     "user_tz": -180
    },
    "id": "5TyBCiKARTMN",
    "outputId": "e2910fb0-0481-49b3-f2cc-764dd0f3717c"
   },
   "outputs": [
    {
     "data": {
      "text/plain": [
       "1      8294\n",
       "NaN    6640\n",
       "2       778\n",
       "0       188\n",
       "3        17\n",
       "4         2\n",
       "Name: Previous Owners, dtype: int64"
      ]
     },
     "execution_count": 271,
     "metadata": {},
     "output_type": "execute_result"
    }
   ],
   "source": [
    "df[\"Previous Owners\"].value_counts(dropna=False)"
   ]
  },
  {
   "cell_type": "code",
   "execution_count": null,
   "metadata": {
    "colab": {
     "base_uri": "https://localhost:8080/"
    },
    "executionInfo": {
     "elapsed": 74,
     "status": "ok",
     "timestamp": 1635888283200,
     "user": {
      "displayName": "Yusuf C",
      "photoUrl": "https://lh3.googleusercontent.com/a/default-user=s64",
      "userId": "01460091991965572961"
     },
     "user_tz": -180
    },
    "id": "8EIWmKYkRTRS",
    "outputId": "d6ee2b1a-a414-4ee9-ea72-735bc52246eb"
   },
   "outputs": [
    {
     "data": {
      "text/plain": [
       "47       None\n",
       "418      None\n",
       "586      None\n",
       "648      None\n",
       "734      None\n",
       "         ... \n",
       "15301    None\n",
       "15408    None\n",
       "15668    None\n",
       "15853    None\n",
       "15860    None\n",
       "Name: prev_owner, Length: 188, dtype: object"
      ]
     },
     "execution_count": 272,
     "metadata": {},
     "output_type": "execute_result"
    }
   ],
   "source": [
    "df[df[\"Previous Owners\"] == \"0\"][\"prev_owner\"]"
   ]
  },
  {
   "cell_type": "code",
   "execution_count": null,
   "metadata": {
    "colab": {
     "base_uri": "https://localhost:8080/",
     "height": 173
    },
    "executionInfo": {
     "elapsed": 72,
     "status": "ok",
     "timestamp": 1635888283205,
     "user": {
      "displayName": "Yusuf C",
      "photoUrl": "https://lh3.googleusercontent.com/a/default-user=s64",
      "userId": "01460091991965572961"
     },
     "user_tz": -180
    },
    "id": "V66dNvxbj9Y5",
    "outputId": "94912bc3-1c12-4802-826e-96b8d30f9f95"
   },
   "outputs": [
    {
     "data": {
      "text/html": [
       "<div>\n",
       "<style scoped>\n",
       "    .dataframe tbody tr th:only-of-type {\n",
       "        vertical-align: middle;\n",
       "    }\n",
       "\n",
       "    .dataframe tbody tr th {\n",
       "        vertical-align: top;\n",
       "    }\n",
       "\n",
       "    .dataframe thead th {\n",
       "        text-align: right;\n",
       "    }\n",
       "</style>\n",
       "<table border=\"1\" class=\"dataframe\">\n",
       "  <thead>\n",
       "    <tr style=\"text-align: right;\">\n",
       "      <th></th>\n",
       "      <th>Previous Owners</th>\n",
       "      <th>prev_owner</th>\n",
       "    </tr>\n",
       "  </thead>\n",
       "  <tbody>\n",
       "    <tr>\n",
       "      <th>count</th>\n",
       "      <td>9279</td>\n",
       "      <td>9091</td>\n",
       "    </tr>\n",
       "    <tr>\n",
       "      <th>unique</th>\n",
       "      <td>5</td>\n",
       "      <td>4</td>\n",
       "    </tr>\n",
       "    <tr>\n",
       "      <th>top</th>\n",
       "      <td>1</td>\n",
       "      <td>1</td>\n",
       "    </tr>\n",
       "    <tr>\n",
       "      <th>freq</th>\n",
       "      <td>8294</td>\n",
       "      <td>8294</td>\n",
       "    </tr>\n",
       "  </tbody>\n",
       "</table>\n",
       "</div>"
      ],
      "text/plain": [
       "       Previous Owners prev_owner\n",
       "count             9279       9091\n",
       "unique               5          4\n",
       "top                  1          1\n",
       "freq              8294       8294"
      ]
     },
     "execution_count": 273,
     "metadata": {},
     "output_type": "execute_result"
    }
   ],
   "source": [
    "df[[\"Previous Owners\", \"prev_owner\"]].describe()"
   ]
  },
  {
   "cell_type": "code",
   "execution_count": null,
   "metadata": {
    "id": "ik_qYYQgkCqF"
   },
   "outputs": [],
   "source": [
    "df.drop(\"prev_owner\", axis=1, inplace=True)"
   ]
  },
  {
   "cell_type": "markdown",
   "metadata": {
    "id": "R5C3ni2-sm8r"
   },
   "source": [
    "# Body Color Original"
   ]
  },
  {
   "cell_type": "code",
   "execution_count": null,
   "metadata": {
    "colab": {
     "base_uri": "https://localhost:8080/"
    },
    "executionInfo": {
     "elapsed": 75,
     "status": "ok",
     "timestamp": 1635888283210,
     "user": {
      "displayName": "Yusuf C",
      "photoUrl": "https://lh3.googleusercontent.com/a/default-user=s64",
      "userId": "01460091991965572961"
     },
     "user_tz": -180
    },
    "id": "Tr14rM8ESOD3",
    "outputId": "0458c686-7afa-42ba-f10b-4a3fd7577bff"
   },
   "outputs": [
    {
     "data": {
      "text/plain": [
       "0                 [\\nMythosschwarz\\n]\n",
       "1                                 NaN\n",
       "2        [\\nmythosschwarz metallic\\n]\n",
       "3                                 NaN\n",
       "4        [\\nMythosschwarz Metallic\\n]\n",
       "                     ...             \n",
       "15914              [\\nGrigio scuro\\n]\n",
       "15915       [\\nStahl-Grau Metallic\\n]\n",
       "15916               [\\narktis-weiß\\n]\n",
       "15917                    [\\nGrigio\\n]\n",
       "15918    [\\nTitanium-Grau Metallic\\n]\n",
       "Name: Body Color Original, Length: 15919, dtype: object"
      ]
     },
     "execution_count": 275,
     "metadata": {},
     "output_type": "execute_result"
    }
   ],
   "source": [
    "df[\"Body Color Original\"]"
   ]
  },
  {
   "cell_type": "code",
   "execution_count": null,
   "metadata": {
    "colab": {
     "base_uri": "https://localhost:8080/",
     "height": 420
    },
    "executionInfo": {
     "elapsed": 71,
     "status": "ok",
     "timestamp": 1635888283213,
     "user": {
      "displayName": "Yusuf C",
      "photoUrl": "https://lh3.googleusercontent.com/a/default-user=s64",
      "userId": "01460091991965572961"
     },
     "user_tz": -180
    },
    "id": "PA849GI3j9cw",
    "outputId": "a4a43668-e035-4a54-dc45-d8d28415c482"
   },
   "outputs": [
    {
     "ename": "TypeError",
     "evalue": "ignored",
     "output_type": "error",
     "traceback": [
      "\u001b[0;31m---------------------------------------------------------------------------\u001b[0m",
      "\u001b[0;31mTypeError\u001b[0m                                 Traceback (most recent call last)",
      "\u001b[0;32mpandas/_libs/hashtable_class_helper.pxi\u001b[0m in \u001b[0;36mpandas._libs.hashtable.PyObjectHashTable.map_locations\u001b[0;34m()\u001b[0m\n",
      "\u001b[0;31mTypeError\u001b[0m: unhashable type: 'list'"
     ]
    },
    {
     "name": "stderr",
     "output_type": "stream",
     "text": [
      "Exception ignored in: 'pandas._libs.index.IndexEngine._call_map_locations'\n",
      "Traceback (most recent call last):\n",
      "  File \"pandas/_libs/hashtable_class_helper.pxi\", line 1709, in pandas._libs.hashtable.PyObjectHashTable.map_locations\n",
      "TypeError: unhashable type: 'list'\n"
     ]
    },
    {
     "data": {
      "text/plain": [
       "NaN                             3759\n",
       "[\\nOnyx Schwarz\\n]               338\n",
       "[\\nBianco\\n]                     282\n",
       "[\\nMythosschwarz Metallic\\n]     238\n",
       "[\\nBrillantschwarz\\n]            216\n",
       "                                ... \n",
       "[\\nBianca - Tetto Nero\\n]          1\n",
       "[\\ndezir rot\\n]                    1\n",
       "[\\nnero/tetto argento met\\n]       1\n",
       "[\\nPython Yellow Metallic\\n]       1\n",
       "[\\nkarbongrau\\n]                   1\n",
       "Name: Body Color Original, Length: 1928, dtype: int64"
      ]
     },
     "execution_count": 276,
     "metadata": {},
     "output_type": "execute_result"
    }
   ],
   "source": [
    "df[\"Body Color Original\"].value_counts(dropna=False)"
   ]
  },
  {
   "cell_type": "code",
   "execution_count": null,
   "metadata": {
    "colab": {
     "base_uri": "https://localhost:8080/",
     "height": 419
    },
    "executionInfo": {
     "elapsed": 73,
     "status": "ok",
     "timestamp": 1635888283216,
     "user": {
      "displayName": "Yusuf C",
      "photoUrl": "https://lh3.googleusercontent.com/a/default-user=s64",
      "userId": "01460091991965572961"
     },
     "user_tz": -180
    },
    "id": "PTwPCYTASOHc",
    "outputId": "218ed065-22fe-418c-b77f-605038cb7ef3"
   },
   "outputs": [
    {
     "data": {
      "text/html": [
       "<div>\n",
       "<style scoped>\n",
       "    .dataframe tbody tr th:only-of-type {\n",
       "        vertical-align: middle;\n",
       "    }\n",
       "\n",
       "    .dataframe tbody tr th {\n",
       "        vertical-align: top;\n",
       "    }\n",
       "\n",
       "    .dataframe thead th {\n",
       "        text-align: right;\n",
       "    }\n",
       "</style>\n",
       "<table border=\"1\" class=\"dataframe\">\n",
       "  <thead>\n",
       "    <tr style=\"text-align: right;\">\n",
       "      <th></th>\n",
       "      <th>Body Color Original</th>\n",
       "      <th>Body Color</th>\n",
       "      <th>Paint Type</th>\n",
       "    </tr>\n",
       "  </thead>\n",
       "  <tbody>\n",
       "    <tr>\n",
       "      <th>0</th>\n",
       "      <td>[\\nMythosschwarz\\n]</td>\n",
       "      <td>Black</td>\n",
       "      <td>Metallic</td>\n",
       "    </tr>\n",
       "    <tr>\n",
       "      <th>1</th>\n",
       "      <td>NaN</td>\n",
       "      <td>Red</td>\n",
       "      <td>NaN</td>\n",
       "    </tr>\n",
       "    <tr>\n",
       "      <th>2</th>\n",
       "      <td>[\\nmythosschwarz metallic\\n]</td>\n",
       "      <td>Black</td>\n",
       "      <td>Metallic</td>\n",
       "    </tr>\n",
       "    <tr>\n",
       "      <th>3</th>\n",
       "      <td>NaN</td>\n",
       "      <td>Brown</td>\n",
       "      <td>Metallic</td>\n",
       "    </tr>\n",
       "    <tr>\n",
       "      <th>4</th>\n",
       "      <td>[\\nMythosschwarz Metallic\\n]</td>\n",
       "      <td>Black</td>\n",
       "      <td>Metallic</td>\n",
       "    </tr>\n",
       "    <tr>\n",
       "      <th>...</th>\n",
       "      <td>...</td>\n",
       "      <td>...</td>\n",
       "      <td>...</td>\n",
       "    </tr>\n",
       "    <tr>\n",
       "      <th>15914</th>\n",
       "      <td>[\\nGrigio scuro\\n]</td>\n",
       "      <td>Grey</td>\n",
       "      <td>Metallic</td>\n",
       "    </tr>\n",
       "    <tr>\n",
       "      <th>15915</th>\n",
       "      <td>[\\nStahl-Grau Metallic\\n]</td>\n",
       "      <td>Grey</td>\n",
       "      <td>Metallic</td>\n",
       "    </tr>\n",
       "    <tr>\n",
       "      <th>15916</th>\n",
       "      <td>[\\narktis-weiß\\n]</td>\n",
       "      <td>White</td>\n",
       "      <td>NaN</td>\n",
       "    </tr>\n",
       "    <tr>\n",
       "      <th>15917</th>\n",
       "      <td>[\\nGrigio\\n]</td>\n",
       "      <td>Grey</td>\n",
       "      <td>NaN</td>\n",
       "    </tr>\n",
       "    <tr>\n",
       "      <th>15918</th>\n",
       "      <td>[\\nTitanium-Grau Metallic\\n]</td>\n",
       "      <td>Grey</td>\n",
       "      <td>Metallic</td>\n",
       "    </tr>\n",
       "  </tbody>\n",
       "</table>\n",
       "<p>15919 rows × 3 columns</p>\n",
       "</div>"
      ],
      "text/plain": [
       "                Body Color Original Body Color Paint Type\n",
       "0               [\\nMythosschwarz\\n]      Black   Metallic\n",
       "1                               NaN        Red        NaN\n",
       "2      [\\nmythosschwarz metallic\\n]      Black   Metallic\n",
       "3                               NaN      Brown   Metallic\n",
       "4      [\\nMythosschwarz Metallic\\n]      Black   Metallic\n",
       "...                             ...        ...        ...\n",
       "15914            [\\nGrigio scuro\\n]       Grey   Metallic\n",
       "15915     [\\nStahl-Grau Metallic\\n]       Grey   Metallic\n",
       "15916             [\\narktis-weiß\\n]      White        NaN\n",
       "15917                  [\\nGrigio\\n]       Grey        NaN\n",
       "15918  [\\nTitanium-Grau Metallic\\n]       Grey   Metallic\n",
       "\n",
       "[15919 rows x 3 columns]"
      ]
     },
     "execution_count": 277,
     "metadata": {},
     "output_type": "execute_result"
    }
   ],
   "source": [
    "df[[\"Body Color Original\", \"Body Color\", \"Paint Type\"]]"
   ]
  },
  {
   "cell_type": "code",
   "execution_count": null,
   "metadata": {
    "colab": {
     "base_uri": "https://localhost:8080/"
    },
    "executionInfo": {
     "elapsed": 73,
     "status": "ok",
     "timestamp": 1635888283217,
     "user": {
      "displayName": "Yusuf C",
      "photoUrl": "https://lh3.googleusercontent.com/a/default-user=s64",
      "userId": "01460091991965572961"
     },
     "user_tz": -180
    },
    "id": "nA43f0CItGQC",
    "outputId": "f86bae14-c431-4ce0-afc0-96df671c8081"
   },
   "outputs": [
    {
     "data": {
      "text/plain": [
       "0        Mythosschwarz\n",
       "1                  NaN\n",
       "2        mythosschwarz\n",
       "3                  NaN\n",
       "4        Mythosschwarz\n",
       "             ...      \n",
       "15914           Grigio\n",
       "15915       Stahl-Grau\n",
       "15916      arktis-weiß\n",
       "15917           Grigio\n",
       "15918    Titanium-Grau\n",
       "Name: Body Color Original, Length: 15919, dtype: object"
      ]
     },
     "execution_count": 278,
     "metadata": {},
     "output_type": "execute_result"
    }
   ],
   "source": [
    "df[\"Body Color Original\"].apply(lambda x: x[0].split()[0] if type(x)==list else x)"
   ]
  },
  {
   "cell_type": "code",
   "execution_count": null,
   "metadata": {
    "id": "m_vfBWZ4tGUM"
   },
   "outputs": [],
   "source": [
    "df[\"Body Color Original\"] = df[\"Body Color Original\"].apply(lambda x: x[0].split()[0] if type(x)==list else x)"
   ]
  },
  {
   "cell_type": "code",
   "execution_count": null,
   "metadata": {
    "colab": {
     "base_uri": "https://localhost:8080/",
     "height": 545
    },
    "executionInfo": {
     "elapsed": 593,
     "status": "ok",
     "timestamp": 1635888283745,
     "user": {
      "displayName": "Yusuf C",
      "photoUrl": "https://lh3.googleusercontent.com/a/default-user=s64",
      "userId": "01460091991965572961"
     },
     "user_tz": -180
    },
    "id": "k3siYFRnj9f3",
    "outputId": "7f2b725e-a910-4198-a47d-3b4285063790"
   },
   "outputs": [
    {
     "data": {
      "text/html": [
       "<div>\n",
       "<style scoped>\n",
       "    .dataframe tbody tr th:only-of-type {\n",
       "        vertical-align: middle;\n",
       "    }\n",
       "\n",
       "    .dataframe tbody tr th {\n",
       "        vertical-align: top;\n",
       "    }\n",
       "\n",
       "    .dataframe thead tr th {\n",
       "        text-align: left;\n",
       "    }\n",
       "\n",
       "    .dataframe thead tr:last-of-type th {\n",
       "        text-align: right;\n",
       "    }\n",
       "</style>\n",
       "<table border=\"1\" class=\"dataframe\">\n",
       "  <thead>\n",
       "    <tr>\n",
       "      <th></th>\n",
       "      <th colspan=\"4\" halign=\"left\">Body Color Original</th>\n",
       "      <th colspan=\"4\" halign=\"left\">Paint Type</th>\n",
       "    </tr>\n",
       "    <tr>\n",
       "      <th></th>\n",
       "      <th>count</th>\n",
       "      <th>unique</th>\n",
       "      <th>top</th>\n",
       "      <th>freq</th>\n",
       "      <th>count</th>\n",
       "      <th>unique</th>\n",
       "      <th>top</th>\n",
       "      <th>freq</th>\n",
       "    </tr>\n",
       "    <tr>\n",
       "      <th>Body Color</th>\n",
       "      <th></th>\n",
       "      <th></th>\n",
       "      <th></th>\n",
       "      <th></th>\n",
       "      <th></th>\n",
       "      <th></th>\n",
       "      <th></th>\n",
       "      <th></th>\n",
       "    </tr>\n",
       "  </thead>\n",
       "  <tbody>\n",
       "    <tr>\n",
       "      <th>Beige</th>\n",
       "      <td>78</td>\n",
       "      <td>19</td>\n",
       "      <td>Beige</td>\n",
       "      <td>37</td>\n",
       "      <td>76</td>\n",
       "      <td>2</td>\n",
       "      <td>Metallic</td>\n",
       "      <td>74</td>\n",
       "    </tr>\n",
       "    <tr>\n",
       "      <th>Black</th>\n",
       "      <td>2879</td>\n",
       "      <td>168</td>\n",
       "      <td>Onyx</td>\n",
       "      <td>455</td>\n",
       "      <td>2719</td>\n",
       "      <td>2</td>\n",
       "      <td>Metallic</td>\n",
       "      <td>2654</td>\n",
       "    </tr>\n",
       "    <tr>\n",
       "      <th>Blue</th>\n",
       "      <td>1165</td>\n",
       "      <td>128</td>\n",
       "      <td>Tiefsee</td>\n",
       "      <td>140</td>\n",
       "      <td>1024</td>\n",
       "      <td>3</td>\n",
       "      <td>Metallic</td>\n",
       "      <td>1006</td>\n",
       "    </tr>\n",
       "    <tr>\n",
       "      <th>Bronze</th>\n",
       "      <td>2</td>\n",
       "      <td>2</td>\n",
       "      <td>Bronzo</td>\n",
       "      <td>1</td>\n",
       "      <td>3</td>\n",
       "      <td>1</td>\n",
       "      <td>Metallic</td>\n",
       "      <td>3</td>\n",
       "    </tr>\n",
       "    <tr>\n",
       "      <th>Brown</th>\n",
       "      <td>233</td>\n",
       "      <td>55</td>\n",
       "      <td>Kokosnuss</td>\n",
       "      <td>41</td>\n",
       "      <td>232</td>\n",
       "      <td>2</td>\n",
       "      <td>Metallic</td>\n",
       "      <td>231</td>\n",
       "    </tr>\n",
       "    <tr>\n",
       "      <th>Gold</th>\n",
       "      <td>0</td>\n",
       "      <td>0</td>\n",
       "      <td>NaN</td>\n",
       "      <td>NaN</td>\n",
       "      <td>0</td>\n",
       "      <td>0</td>\n",
       "      <td>NaN</td>\n",
       "      <td>NaN</td>\n",
       "    </tr>\n",
       "    <tr>\n",
       "      <th>Green</th>\n",
       "      <td>142</td>\n",
       "      <td>30</td>\n",
       "      <td>Smaragd</td>\n",
       "      <td>43</td>\n",
       "      <td>117</td>\n",
       "      <td>2</td>\n",
       "      <td>Metallic</td>\n",
       "      <td>115</td>\n",
       "    </tr>\n",
       "    <tr>\n",
       "      <th>Grey</th>\n",
       "      <td>2718</td>\n",
       "      <td>230</td>\n",
       "      <td>Grigio</td>\n",
       "      <td>336</td>\n",
       "      <td>2792</td>\n",
       "      <td>2</td>\n",
       "      <td>Metallic</td>\n",
       "      <td>2730</td>\n",
       "    </tr>\n",
       "    <tr>\n",
       "      <th>Orange</th>\n",
       "      <td>2</td>\n",
       "      <td>2</td>\n",
       "      <td>Mandarina</td>\n",
       "      <td>1</td>\n",
       "      <td>1</td>\n",
       "      <td>1</td>\n",
       "      <td>Metallic</td>\n",
       "      <td>1</td>\n",
       "    </tr>\n",
       "    <tr>\n",
       "      <th>Red</th>\n",
       "      <td>737</td>\n",
       "      <td>80</td>\n",
       "      <td>Misanorot</td>\n",
       "      <td>126</td>\n",
       "      <td>549</td>\n",
       "      <td>3</td>\n",
       "      <td>Metallic</td>\n",
       "      <td>526</td>\n",
       "    </tr>\n",
       "    <tr>\n",
       "      <th>Silver</th>\n",
       "      <td>1265</td>\n",
       "      <td>94</td>\n",
       "      <td>Argon</td>\n",
       "      <td>335</td>\n",
       "      <td>1455</td>\n",
       "      <td>2</td>\n",
       "      <td>Metallic</td>\n",
       "      <td>1425</td>\n",
       "    </tr>\n",
       "    <tr>\n",
       "      <th>Violet</th>\n",
       "      <td>4</td>\n",
       "      <td>3</td>\n",
       "      <td>violet</td>\n",
       "      <td>2</td>\n",
       "      <td>13</td>\n",
       "      <td>1</td>\n",
       "      <td>Metallic</td>\n",
       "      <td>13</td>\n",
       "    </tr>\n",
       "    <tr>\n",
       "      <th>White</th>\n",
       "      <td>2484</td>\n",
       "      <td>152</td>\n",
       "      <td>Bianco</td>\n",
       "      <td>374</td>\n",
       "      <td>1013</td>\n",
       "      <td>3</td>\n",
       "      <td>Metallic</td>\n",
       "      <td>865</td>\n",
       "    </tr>\n",
       "    <tr>\n",
       "      <th>Yellow</th>\n",
       "      <td>44</td>\n",
       "      <td>17</td>\n",
       "      <td>Pythongelb</td>\n",
       "      <td>13</td>\n",
       "      <td>39</td>\n",
       "      <td>2</td>\n",
       "      <td>Metallic</td>\n",
       "      <td>37</td>\n",
       "    </tr>\n",
       "  </tbody>\n",
       "</table>\n",
       "</div>"
      ],
      "text/plain": [
       "           Body Color Original                     ... Paint Type                \n",
       "                         count unique         top  ...     unique       top  freq\n",
       "Body Color                                         ...                           \n",
       "Beige                       78     19       Beige  ...          2  Metallic    74\n",
       "Black                     2879    168        Onyx  ...          2  Metallic  2654\n",
       "Blue                      1165    128     Tiefsee  ...          3  Metallic  1006\n",
       "Bronze                       2      2      Bronzo  ...          1  Metallic     3\n",
       "Brown                      233     55   Kokosnuss  ...          2  Metallic   231\n",
       "Gold                         0      0         NaN  ...          0       NaN   NaN\n",
       "Green                      142     30     Smaragd  ...          2  Metallic   115\n",
       "Grey                      2718    230      Grigio  ...          2  Metallic  2730\n",
       "Orange                       2      2   Mandarina  ...          1  Metallic     1\n",
       "Red                        737     80   Misanorot  ...          3  Metallic   526\n",
       "Silver                    1265     94       Argon  ...          2  Metallic  1425\n",
       "Violet                       4      3      violet  ...          1  Metallic    13\n",
       "White                     2484    152      Bianco  ...          3  Metallic   865\n",
       "Yellow                      44     17  Pythongelb  ...          2  Metallic    37\n",
       "\n",
       "[14 rows x 8 columns]"
      ]
     },
     "execution_count": 280,
     "metadata": {},
     "output_type": "execute_result"
    }
   ],
   "source": [
    "df.groupby(\"Body Color\")[[ \"Body Color Original\", \"Paint Type\"]].describe()"
   ]
  },
  {
   "cell_type": "markdown",
   "metadata": {
    "id": "HNZTQZlVzT7s"
   },
   "source": [
    "# Next Inspection 12384 NAN"
   ]
  },
  {
   "cell_type": "code",
   "execution_count": null,
   "metadata": {
    "colab": {
     "base_uri": "https://localhost:8080/",
     "height": 420
    },
    "executionInfo": {
     "elapsed": 85,
     "status": "ok",
     "timestamp": 1635888283746,
     "user": {
      "displayName": "Yusuf C",
      "photoUrl": "https://lh3.googleusercontent.com/a/default-user=s64",
      "userId": "01460091991965572961"
     },
     "user_tz": -180
    },
    "id": "vGPQjtrCzRXQ",
    "outputId": "950e3058-c989-4f05-d8e6-65064affd3da"
   },
   "outputs": [
    {
     "ename": "TypeError",
     "evalue": "ignored",
     "output_type": "error",
     "traceback": [
      "\u001b[0;31m---------------------------------------------------------------------------\u001b[0m",
      "\u001b[0;31mTypeError\u001b[0m                                 Traceback (most recent call last)",
      "\u001b[0;32mpandas/_libs/hashtable_class_helper.pxi\u001b[0m in \u001b[0;36mpandas._libs.hashtable.PyObjectHashTable.map_locations\u001b[0;34m()\u001b[0m\n",
      "\u001b[0;31mTypeError\u001b[0m: unhashable type: 'list'"
     ]
    },
    {
     "name": "stderr",
     "output_type": "stream",
     "text": [
      "Exception ignored in: 'pandas._libs.index.IndexEngine._call_map_locations'\n",
      "Traceback (most recent call last):\n",
      "  File \"pandas/_libs/hashtable_class_helper.pxi\", line 1709, in pandas._libs.hashtable.PyObjectHashTable.map_locations\n",
      "TypeError: unhashable type: 'list'\n"
     ]
    },
    {
     "data": {
      "text/plain": [
       "[\\n06/2020\\n, \\n122 g CO2/km (comb)\\n]        1\n",
       "[\\n10/2021\\n, \\n4 (Green)\\n]                  1\n",
       "[\\n06/2019\\n, \\n105 g CO2/km (comb)\\n]        1\n",
       "[\\n03/2021\\n, \\n151 g CO2/km (comb)\\n]        1\n",
       "[\\n08/2020\\n, \\n99 g CO2/km (comb)\\n]         1\n",
       "                                          ...  \n",
       "\\n06/2021\\n                                  34\n",
       "\\n03/2022\\n                                  36\n",
       "\\n03/2021\\n                                  38\n",
       "\\n04/2022\\n                                  62\n",
       "NaN                                       12384\n",
       "Name: Next Inspection, Length: 1400, dtype: int64"
      ]
     },
     "execution_count": 281,
     "metadata": {},
     "output_type": "execute_result"
    }
   ],
   "source": [
    "df[\"Next Inspection\"].value_counts(dropna=False).sort_values()"
   ]
  },
  {
   "cell_type": "code",
   "execution_count": null,
   "metadata": {
    "colab": {
     "base_uri": "https://localhost:8080/"
    },
    "executionInfo": {
     "elapsed": 85,
     "status": "ok",
     "timestamp": 1635888283747,
     "user": {
      "displayName": "Yusuf C",
      "photoUrl": "https://lh3.googleusercontent.com/a/default-user=s64",
      "userId": "01460091991965572961"
     },
     "user_tz": -180
    },
    "id": "EDKQAx6Lj9mz",
    "outputId": "c9eb31bb-63db-49c7-b929-5e636eaca638"
   },
   "outputs": [
    {
     "data": {
      "text/plain": [
       "12384"
      ]
     },
     "execution_count": 282,
     "metadata": {},
     "output_type": "execute_result"
    }
   ],
   "source": [
    "df[\"Next Inspection\"].isnull().sum()"
   ]
  },
  {
   "cell_type": "code",
   "execution_count": null,
   "metadata": {
    "id": "gQonFhGvj7eZ"
   },
   "outputs": [],
   "source": [
    "def regulazer(x):\n",
    "  \n",
    "  #if x != np.nan:\n",
    "    if type(x)==list:\n",
    "        x = x[0].split()[0]\n",
    "    elif type(x)==str:\n",
    "        x = x.split()[0]\n",
    "    return x"
   ]
  },
  {
   "cell_type": "code",
   "execution_count": null,
   "metadata": {
    "colab": {
     "base_uri": "https://localhost:8080/"
    },
    "executionInfo": {
     "elapsed": 78,
     "status": "ok",
     "timestamp": 1635888283751,
     "user": {
      "displayName": "Yusuf C",
      "photoUrl": "https://lh3.googleusercontent.com/a/default-user=s64",
      "userId": "01460091991965572961"
     },
     "user_tz": -180
    },
    "id": "grZeO4Jvj7iF",
    "outputId": "8e96df45-d8e5-4947-9633-4109dbd8173f"
   },
   "outputs": [
    {
     "data": {
      "text/plain": [
       "NaN        12384\n",
       "06/2021      471\n",
       "03/2021      210\n",
       "05/2021      180\n",
       "04/2021      171\n",
       "           ...  \n",
       "02/2017        1\n",
       "12/2017        1\n",
       "03/2024        1\n",
       "11/2022        1\n",
       "01/1999        1\n",
       "Name: Next Inspection, Length: 78, dtype: int64"
      ]
     },
     "execution_count": 284,
     "metadata": {},
     "output_type": "execute_result"
    }
   ],
   "source": [
    "df[\"Next Inspection\"].apply(regulazer).value_counts(dropna=False)"
   ]
  },
  {
   "cell_type": "code",
   "execution_count": null,
   "metadata": {
    "colab": {
     "base_uri": "https://localhost:8080/"
    },
    "executionInfo": {
     "elapsed": 73,
     "status": "ok",
     "timestamp": 1635888283752,
     "user": {
      "displayName": "Yusuf C",
      "photoUrl": "https://lh3.googleusercontent.com/a/default-user=s64",
      "userId": "01460091991965572961"
     },
     "user_tz": -180
    },
    "id": "JX_9Hqnuj7mg",
    "outputId": "84b80d51-4199-404c-8ee1-789fde2a404f"
   },
   "outputs": [
    {
     "data": {
      "text/plain": [
       "0                    [\\n06/2021\\n, \\n99 g CO2/km (comb)\\n]\n",
       "8                    [\\n02/2020\\n, \\n97 g CO2/km (comb)\\n]\n",
       "12                  [\\n09/2019\\n, \\n112 g CO2/km (comb)\\n]\n",
       "14                   [\\n10/2019\\n, \\n99 g CO2/km (comb)\\n]\n",
       "15                   [\\n04/2020\\n, \\n97 g CO2/km (comb)\\n]\n",
       "                               ...                        \n",
       "15882               [\\n05/2022\\n, \\n168 g CO2/km (comb)\\n]\n",
       "15889    [\\n06/2021\\n, \\n, 7.4 l/100 km (comb), \\n, 9.2...\n",
       "15895               [\\n06/2021\\n, \\n139 g CO2/km (comb)\\n]\n",
       "15905               [\\n01/2022\\n, \\n153 g CO2/km (comb)\\n]\n",
       "15915               [\\n01/2022\\n, \\n168 g CO2/km (comb)\\n]\n",
       "Name: Next Inspection, Length: 3535, dtype: object"
      ]
     },
     "execution_count": 285,
     "metadata": {},
     "output_type": "execute_result"
    }
   ],
   "source": [
    "df[~df[\"Next Inspection\"].isnull()][\"Next Inspection\"]"
   ]
  },
  {
   "cell_type": "code",
   "execution_count": null,
   "metadata": {
    "colab": {
     "base_uri": "https://localhost:8080/"
    },
    "executionInfo": {
     "elapsed": 66,
     "status": "ok",
     "timestamp": 1635888283753,
     "user": {
      "displayName": "Yusuf C",
      "photoUrl": "https://lh3.googleusercontent.com/a/default-user=s64",
      "userId": "01460091991965572961"
     },
     "user_tz": -180
    },
    "id": "pXe6bTGbj7p8",
    "outputId": "7e6e89ab-aff1-48d7-ede1-e0827c17597c"
   },
   "outputs": [
    {
     "data": {
      "text/plain": [
       "2              2551\n",
       "8               239\n",
       "\\n04/2022\\n      62\n",
       "\\n03/2021\\n      38\n",
       "\\n03/2022\\n      36\n",
       "               ... \n",
       "\\n12/2022\\n       1\n",
       "\\n03/2024\\n       1\n",
       "\\n01/1955\\n       1\n",
       "\\n01/1999\\n       1\n",
       "\\n03/2018\\n       1\n",
       "Name: Next Inspection, Length: 68, dtype: int64"
      ]
     },
     "execution_count": 286,
     "metadata": {},
     "output_type": "execute_result"
    }
   ],
   "source": [
    "df[~df[\"Next Inspection\"].isnull()][\"Next Inspection\"].apply(lambda x : len(x) \n",
    "                                                             if ((len(x)>=1) & (type(x)==list)) else x ).value_counts()"
   ]
  },
  {
   "cell_type": "code",
   "execution_count": null,
   "metadata": {
    "id": "rDjYgNmnj7tO"
   },
   "outputs": [],
   "source": [
    "df[\"Next Inspection\"] = df[\"Next Inspection\"].apply(regulazer)"
   ]
  },
  {
   "cell_type": "code",
   "execution_count": null,
   "metadata": {
    "colab": {
     "base_uri": "https://localhost:8080/"
    },
    "executionInfo": {
     "elapsed": 61,
     "status": "ok",
     "timestamp": 1635888283755,
     "user": {
      "displayName": "Yusuf C",
      "photoUrl": "https://lh3.googleusercontent.com/a/default-user=s64",
      "userId": "01460091991965572961"
     },
     "user_tz": -180
    },
    "id": "kXnfSRq-SOMC",
    "outputId": "d5a1df75-1eca-41f8-ae33-202e300f5e17"
   },
   "outputs": [
    {
     "data": {
      "text/plain": [
       "NaN        12384\n",
       "06/2021      471\n",
       "03/2021      210\n",
       "05/2021      180\n",
       "04/2021      171\n",
       "           ...  \n",
       "02/2017        1\n",
       "12/2017        1\n",
       "03/2024        1\n",
       "11/2022        1\n",
       "01/1999        1\n",
       "Name: Next Inspection, Length: 78, dtype: int64"
      ]
     },
     "execution_count": 288,
     "metadata": {},
     "output_type": "execute_result"
    }
   ],
   "source": [
    "df[\"Next Inspection\"].value_counts(dropna=False)"
   ]
  },
  {
   "cell_type": "markdown",
   "metadata": {
    "id": "QyYNizYUIpfS"
   },
   "source": [
    "# Inspection new 11987 Nan"
   ]
  },
  {
   "cell_type": "code",
   "execution_count": null,
   "metadata": {
    "colab": {
     "base_uri": "https://localhost:8080/"
    },
    "executionInfo": {
     "elapsed": 54,
     "status": "ok",
     "timestamp": 1635888283755,
     "user": {
      "displayName": "Yusuf C",
      "photoUrl": "https://lh3.googleusercontent.com/a/default-user=s64",
      "userId": "01460091991965572961"
     },
     "user_tz": -180
    },
    "id": "xrED5BQhSOTH",
    "outputId": "445b6af3-7f18-4e60-a38f-ed72fd7a4f2a"
   },
   "outputs": [
    {
     "data": {
      "text/plain": [
       "0                     [\\nYes\\n, \\nEuro 6\\n]\n",
       "1                                       NaN\n",
       "2                                       NaN\n",
       "3                                       NaN\n",
       "4        [\\nYes\\n, \\n109 g CO2/km (comb)\\n]\n",
       "                        ...                \n",
       "15914                                   NaN\n",
       "15915                                   NaN\n",
       "15916           [\\nYes\\n, \\nEuro 6d-TEMP\\n]\n",
       "15917                                   NaN\n",
       "15918    [\\nYes\\n, \\n153 g CO2/km (comb)\\n]\n",
       "Name: Inspection new, Length: 15919, dtype: object"
      ]
     },
     "execution_count": 289,
     "metadata": {},
     "output_type": "execute_result"
    }
   ],
   "source": [
    "df[\"Inspection new\"]"
   ]
  },
  {
   "cell_type": "code",
   "execution_count": null,
   "metadata": {
    "colab": {
     "base_uri": "https://localhost:8080/"
    },
    "executionInfo": {
     "elapsed": 49,
     "status": "ok",
     "timestamp": 1635888283757,
     "user": {
      "displayName": "Yusuf C",
      "photoUrl": "https://lh3.googleusercontent.com/a/default-user=s64",
      "userId": "01460091991965572961"
     },
     "user_tz": -180
    },
    "id": "V60VDc3eKGNv",
    "outputId": "67720e62-6668-4944-81b0-527a845c25f8"
   },
   "outputs": [
    {
     "data": {
      "text/plain": [
       "NaN    11987\n",
       "Yes     3932\n",
       "Name: Inspection new, dtype: int64"
      ]
     },
     "execution_count": 290,
     "metadata": {},
     "output_type": "execute_result"
    }
   ],
   "source": [
    "df[\"Inspection new\"].apply(regulazer).value_counts(dropna=False)"
   ]
  },
  {
   "cell_type": "code",
   "execution_count": null,
   "metadata": {
    "id": "3Do7bO6EKGSe"
   },
   "outputs": [],
   "source": [
    "df[\"Inspection new\"] = df[\"Inspection new\"].apply(regulazer)"
   ]
  },
  {
   "cell_type": "markdown",
   "metadata": {
    "id": "BhOuqGMrKsZf"
   },
   "source": [
    "# Warranty 11096 Nan"
   ]
  },
  {
   "cell_type": "code",
   "execution_count": null,
   "metadata": {
    "colab": {
     "base_uri": "https://localhost:8080/",
     "height": 420
    },
    "executionInfo": {
     "elapsed": 43,
     "status": "ok",
     "timestamp": 1635888283759,
     "user": {
      "displayName": "Yusuf C",
      "photoUrl": "https://lh3.googleusercontent.com/a/default-user=s64",
      "userId": "01460091991965572961"
     },
     "user_tz": -180
    },
    "id": "d0d4uN1uKGWf",
    "outputId": "48e409ba-7ea9-4040-ee98-59d47cf71b97"
   },
   "outputs": [
    {
     "ename": "TypeError",
     "evalue": "ignored",
     "output_type": "error",
     "traceback": [
      "\u001b[0;31m---------------------------------------------------------------------------\u001b[0m",
      "\u001b[0;31mTypeError\u001b[0m                                 Traceback (most recent call last)",
      "\u001b[0;32mpandas/_libs/hashtable_class_helper.pxi\u001b[0m in \u001b[0;36mpandas._libs.hashtable.PyObjectHashTable.map_locations\u001b[0;34m()\u001b[0m\n",
      "\u001b[0;31mTypeError\u001b[0m: unhashable type: 'list'"
     ]
    },
    {
     "name": "stderr",
     "output_type": "stream",
     "text": [
      "Exception ignored in: 'pandas._libs.index.IndexEngine._call_map_locations'\n",
      "Traceback (most recent call last):\n",
      "  File \"pandas/_libs/hashtable_class_helper.pxi\", line 1709, in pandas._libs.hashtable.PyObjectHashTable.map_locations\n",
      "TypeError: unhashable type: 'list'\n"
     ]
    },
    {
     "data": {
      "text/plain": [
       "NaN                                         5420\n",
       "[\\n, \\n, \\nEuro 6\\n]                        1868\n",
       "\\n12 months\\n                               1177\n",
       "\\n                                           979\n",
       "\\n24 months\\n                                566\n",
       "                                            ... \n",
       "[\\n28 months\\n, \\n106 g CO2/km (comb)\\n]       1\n",
       "[\\n72 months\\n, \\n133 g CO2/km (comb)\\n]       1\n",
       "[\\n20 months\\n, \\n139 g CO2/km (comb)\\n]       1\n",
       "\\n30 months\\n                                  1\n",
       "[\\n56 months\\n, \\n4 (Green)\\n]                 1\n",
       "Name: Warranty, Length: 516, dtype: int64"
      ]
     },
     "execution_count": 292,
     "metadata": {},
     "output_type": "execute_result"
    }
   ],
   "source": [
    "df[\"Warranty\"].value_counts(dropna=False)"
   ]
  },
  {
   "cell_type": "code",
   "execution_count": null,
   "metadata": {
    "id": "XFoBdv10waK6"
   },
   "outputs": [],
   "source": [
    "df.loc[df[df[\"Warranty\"] == \"\\n\"][\"Warranty\"].index, \"Warranty\"] = np.nan"
   ]
  },
  {
   "cell_type": "code",
   "execution_count": null,
   "metadata": {
    "colab": {
     "base_uri": "https://localhost:8080/",
     "height": 420
    },
    "executionInfo": {
     "elapsed": 45,
     "status": "ok",
     "timestamp": 1635888283762,
     "user": {
      "displayName": "Yusuf C",
      "photoUrl": "https://lh3.googleusercontent.com/a/default-user=s64",
      "userId": "01460091991965572961"
     },
     "user_tz": -180
    },
    "id": "sGjycRuzwfBS",
    "outputId": "94c62a22-69c2-48f7-edeb-e695d210fa41"
   },
   "outputs": [
    {
     "ename": "TypeError",
     "evalue": "ignored",
     "output_type": "error",
     "traceback": [
      "\u001b[0;31m---------------------------------------------------------------------------\u001b[0m",
      "\u001b[0;31mTypeError\u001b[0m                                 Traceback (most recent call last)",
      "\u001b[0;32mpandas/_libs/hashtable_class_helper.pxi\u001b[0m in \u001b[0;36mpandas._libs.hashtable.PyObjectHashTable.map_locations\u001b[0;34m()\u001b[0m\n",
      "\u001b[0;31mTypeError\u001b[0m: unhashable type: 'list'"
     ]
    },
    {
     "name": "stderr",
     "output_type": "stream",
     "text": [
      "Exception ignored in: 'pandas._libs.index.IndexEngine._call_map_locations'\n",
      "Traceback (most recent call last):\n",
      "  File \"pandas/_libs/hashtable_class_helper.pxi\", line 1709, in pandas._libs.hashtable.PyObjectHashTable.map_locations\n",
      "TypeError: unhashable type: 'list'\n"
     ]
    },
    {
     "data": {
      "text/plain": [
       "NaN                                                                                                6399\n",
       "[\\n, \\n, \\nEuro 6\\n]                                                                               1868\n",
       "\\n12 months\\n                                                                                      1177\n",
       "\\n24 months\\n                                                                                       566\n",
       "[\\n, \\n, \\n4 (Green)\\n]                                                                             517\n",
       "                                                                                                   ... \n",
       "[\\n36 months\\n, \\n115 g CO2/km (comb)\\n]                                                              1\n",
       "[\\n36 months\\n, \\n, 6 l/100 km (comb), \\n, 8.2 l/100 km (city), \\n, 4.7 l/100 km (country), \\n]       1\n",
       "[\\n60 months\\n, \\n, 6 l/100 km (comb), \\n, 7.3 l/100 km (city), \\n, 5.2 l/100 km (country), \\n]       1\n",
       "[\\n12 months\\n, \\n14,457 g CO2/km (comb)\\n]                                                           1\n",
       "[\\n60 months\\n, \\nEuro 6d\\n]                                                                          1\n",
       "Name: Warranty, Length: 515, dtype: int64"
      ]
     },
     "execution_count": 294,
     "metadata": {},
     "output_type": "execute_result"
    }
   ],
   "source": [
    "df[\"Warranty\"].value_counts(dropna=False)"
   ]
  },
  {
   "cell_type": "code",
   "execution_count": null,
   "metadata": {
    "colab": {
     "base_uri": "https://localhost:8080/"
    },
    "executionInfo": {
     "elapsed": 45,
     "status": "ok",
     "timestamp": 1635888283764,
     "user": {
      "displayName": "Yusuf C",
      "photoUrl": "https://lh3.googleusercontent.com/a/default-user=s64",
      "userId": "01460091991965572961"
     },
     "user_tz": -180
    },
    "id": "Wm3P2GcuKGek",
    "outputId": "ea511d7f-7db7-4252-caaa-76a4e4b964a6"
   },
   "outputs": [
    {
     "data": {
      "text/plain": [
       "0                 [\\n, \\n, \\n4 (Green)\\n]\n",
       "2        [\\n, \\n, \\n99 g CO2/km (comb)\\n]\n",
       "4                    [\\n, \\n, \\nEuro 6\\n]\n",
       "7                    [\\n, \\n, \\nEuro 6\\n]\n",
       "8             [\\n12 months\\n, \\nEuro 6\\n]\n",
       "                       ...               \n",
       "15909                                  48\n",
       "15912                                  24\n",
       "15914                                  24\n",
       "15915                [\\n, \\n, \\nEuro 6\\n]\n",
       "15916             [\\n, \\n, \\n4 (Green)\\n]\n",
       "Name: Warranty, Length: 9520, dtype: object"
      ]
     },
     "execution_count": 295,
     "metadata": {},
     "output_type": "execute_result"
    }
   ],
   "source": [
    "df[~df[\"Warranty\"].isnull()][\"Warranty\"].apply(lambda x : x.split()[0] if type(x)==str else x)"
   ]
  },
  {
   "cell_type": "code",
   "execution_count": null,
   "metadata": {
    "id": "bQ4YV_btwpe0"
   },
   "outputs": [],
   "source": [
    "df[\"Warranty\"] = df[~df[\"Warranty\"].isnull()][\"Warranty\"].apply(lambda x : x.split()[0] if type(x)==str else x)"
   ]
  },
  {
   "cell_type": "code",
   "execution_count": null,
   "metadata": {
    "colab": {
     "base_uri": "https://localhost:8080/",
     "height": 420
    },
    "executionInfo": {
     "elapsed": 123,
     "status": "ok",
     "timestamp": 1635888284228,
     "user": {
      "displayName": "Yusuf C",
      "photoUrl": "https://lh3.googleusercontent.com/a/default-user=s64",
      "userId": "01460091991965572961"
     },
     "user_tz": -180
    },
    "id": "xA-5EnXYwpjb",
    "outputId": "4e0f4190-4208-42ea-90b7-043983243c2d"
   },
   "outputs": [
    {
     "ename": "TypeError",
     "evalue": "ignored",
     "output_type": "error",
     "traceback": [
      "\u001b[0;31m---------------------------------------------------------------------------\u001b[0m",
      "\u001b[0;31mTypeError\u001b[0m                                 Traceback (most recent call last)",
      "\u001b[0;32mpandas/_libs/hashtable_class_helper.pxi\u001b[0m in \u001b[0;36mpandas._libs.hashtable.PyObjectHashTable.map_locations\u001b[0;34m()\u001b[0m\n",
      "\u001b[0;31mTypeError\u001b[0m: unhashable type: 'list'"
     ]
    },
    {
     "name": "stderr",
     "output_type": "stream",
     "text": [
      "Exception ignored in: 'pandas._libs.index.IndexEngine._call_map_locations'\n",
      "Traceback (most recent call last):\n",
      "  File \"pandas/_libs/hashtable_class_helper.pxi\", line 1709, in pandas._libs.hashtable.PyObjectHashTable.map_locations\n",
      "TypeError: unhashable type: 'list'\n"
     ]
    },
    {
     "data": {
      "text/plain": [
       "NaN                                         6399\n",
       "[\\n, \\n, \\nEuro 6\\n]                        1868\n",
       "12                                          1177\n",
       "24                                           566\n",
       "[\\n, \\n, \\n4 (Green)\\n]                      517\n",
       "                                            ... \n",
       "[\\n24 months\\n, \\n141 g CO2/km (comb)\\n]       1\n",
       "[\\n56 months\\n, \\n4 (Green)\\n]                 1\n",
       "[\\n60 months\\n, \\n150 g CO2/km (comb)\\n]       1\n",
       "[\\n21 months\\n, \\n140 g CO2/km (comb)\\n]       1\n",
       "[\\n17 months\\n, \\nEuro 6\\n]                    1\n",
       "Name: Warranty, Length: 515, dtype: int64"
      ]
     },
     "execution_count": 297,
     "metadata": {},
     "output_type": "execute_result"
    }
   ],
   "source": [
    "df[\"Warranty\"].value_counts(dropna=False)"
   ]
  },
  {
   "cell_type": "code",
   "execution_count": null,
   "metadata": {
    "id": "hXgD9etjwzR3"
   },
   "outputs": [],
   "source": [
    "def regulazer_warranty(x):\n",
    "  if type(x)==list:\n",
    "    if x[0].split() == []:\n",
    "      x = np.nan\n",
    "    else:\n",
    "      x = x[0].split()[0]\n",
    "  return x"
   ]
  },
  {
   "cell_type": "code",
   "execution_count": null,
   "metadata": {
    "colab": {
     "base_uri": "https://localhost:8080/"
    },
    "executionInfo": {
     "elapsed": 119,
     "status": "ok",
     "timestamp": 1635888284231,
     "user": {
      "displayName": "Yusuf C",
      "photoUrl": "https://lh3.googleusercontent.com/a/default-user=s64",
      "userId": "01460091991965572961"
     },
     "user_tz": -180
    },
    "id": "K-8JK93hwzWV",
    "outputId": "6d606fcd-eceb-4f7c-f8a5-9008573820b5"
   },
   "outputs": [
    {
     "data": {
      "text/plain": [
       "NaN    11066\n",
       "12      2594\n",
       "24      1118\n",
       "60       401\n",
       "36       279\n",
       "48       149\n",
       "6        125\n",
       "72        59\n",
       "3         33\n",
       "23        11\n",
       "18        10\n",
       "20         7\n",
       "25         6\n",
       "2          5\n",
       "26         4\n",
       "50         4\n",
       "16         4\n",
       "19         3\n",
       "1          3\n",
       "13         3\n",
       "4          3\n",
       "34         3\n",
       "11         2\n",
       "45         2\n",
       "14         2\n",
       "46         2\n",
       "17         2\n",
       "22         2\n",
       "21         2\n",
       "28         2\n",
       "9          2\n",
       "65         1\n",
       "30         1\n",
       "56         1\n",
       "10         1\n",
       "47         1\n",
       "49         1\n",
       "7          1\n",
       "8          1\n",
       "15         1\n",
       "40         1\n",
       "33         1\n",
       "Name: Warranty, dtype: int64"
      ]
     },
     "execution_count": 299,
     "metadata": {},
     "output_type": "execute_result"
    }
   ],
   "source": [
    "df[\"Warranty\"].apply(regulazer_warranty).value_counts(dropna=False)"
   ]
  },
  {
   "cell_type": "code",
   "execution_count": null,
   "metadata": {
    "id": "zfDKil-3wzaS"
   },
   "outputs": [],
   "source": [
    "df[\"Warranty\"] = df[\"Warranty\"].apply(regulazer_warranty)"
   ]
  },
  {
   "cell_type": "code",
   "execution_count": null,
   "metadata": {
    "colab": {
     "base_uri": "https://localhost:8080/"
    },
    "executionInfo": {
     "elapsed": 97,
     "status": "ok",
     "timestamp": 1635888284235,
     "user": {
      "displayName": "Yusuf C",
      "photoUrl": "https://lh3.googleusercontent.com/a/default-user=s64",
      "userId": "01460091991965572961"
     },
     "user_tz": -180
    },
    "id": "L4luX_V2sHVi",
    "outputId": "8c2b8f08-dea0-4514-c893-8ca8028a592e"
   },
   "outputs": [
    {
     "data": {
      "text/plain": [
       "NaN    11066\n",
       "12      2594\n",
       "24      1118\n",
       "60       401\n",
       "36       279\n",
       "48       149\n",
       "6        125\n",
       "72        59\n",
       "3         33\n",
       "23        11\n",
       "18        10\n",
       "20         7\n",
       "25         6\n",
       "2          5\n",
       "26         4\n",
       "50         4\n",
       "16         4\n",
       "19         3\n",
       "1          3\n",
       "13         3\n",
       "4          3\n",
       "34         3\n",
       "11         2\n",
       "45         2\n",
       "14         2\n",
       "46         2\n",
       "17         2\n",
       "22         2\n",
       "21         2\n",
       "28         2\n",
       "9          2\n",
       "65         1\n",
       "30         1\n",
       "56         1\n",
       "10         1\n",
       "47         1\n",
       "49         1\n",
       "7          1\n",
       "8          1\n",
       "15         1\n",
       "40         1\n",
       "33         1\n",
       "Name: Warranty, dtype: int64"
      ]
     },
     "execution_count": 301,
     "metadata": {},
     "output_type": "execute_result"
    }
   ],
   "source": [
    "df[\"Warranty\"].value_counts(dropna=False)"
   ]
  },
  {
   "cell_type": "markdown",
   "metadata": {
    "id": "bsOBJyfj3jnd"
   },
   "source": [
    "#Consumption Comb 2064, City 2467, Country 2407 NAN"
   ]
  },
  {
   "cell_type": "code",
   "execution_count": null,
   "metadata": {
    "id": "DZcfQMPY31Dv"
   },
   "outputs": [],
   "source": [
    "#import pandas as pd\n",
    "#df = pd.read_json('/content/drive/MyDrive/Colab Notebooks/scout_car.json', lines=True, orient=str)"
   ]
  },
  {
   "cell_type": "code",
   "execution_count": null,
   "metadata": {
    "colab": {
     "base_uri": "https://localhost:8080/"
    },
    "executionInfo": {
     "elapsed": 75,
     "status": "ok",
     "timestamp": 1635888284237,
     "user": {
      "displayName": "Yusuf C",
      "photoUrl": "https://lh3.googleusercontent.com/a/default-user=s64",
      "userId": "01460091991965572961"
     },
     "user_tz": -180
    },
    "id": "h24pOd7XsHbE",
    "outputId": "9b1c39bd-70f5-44d8-e674-036a924569a7"
   },
   "outputs": [
    {
     "name": "stdout",
     "output_type": "stream",
     "text": [
      "[['3.8 l/100 km (comb)'], ['4.3 l/100 km (city)'], ['3.5 l/100 km (country)']]\n"
     ]
    },
    {
     "data": {
      "text/plain": [
       "['3.8 l/100 km (comb)', '4.3 l/100 km (city)', '3.5 l/100 km (country)']"
      ]
     },
     "execution_count": 303,
     "metadata": {},
     "output_type": "execute_result"
    }
   ],
   "source": [
    "# len(df[\"Consumption\"]) == 3:\n",
    "print(df[\"Consumption\"][0])\n",
    "df[\"Consumption\"][0][0] + df[\"Consumption\"][0][1] + df[\"Consumption\"][0][2]"
   ]
  },
  {
   "cell_type": "code",
   "execution_count": null,
   "metadata": {
    "colab": {
     "base_uri": "https://localhost:8080/"
    },
    "executionInfo": {
     "elapsed": 56,
     "status": "ok",
     "timestamp": 1635888284238,
     "user": {
      "displayName": "Yusuf C",
      "photoUrl": "https://lh3.googleusercontent.com/a/default-user=s64",
      "userId": "01460091991965572961"
     },
     "user_tz": -180
    },
    "id": "8tKdwQdqv17U",
    "outputId": "d2cef8eb-c0f0-4a42-8485-119bd2ad9cac"
   },
   "outputs": [
    {
     "name": "stdout",
     "output_type": "stream",
     "text": [
      "['\\n', '7.4 l/100 km (comb)', '\\n', '9.2 l/100 km (city)', '\\n', '6.3 l/100 km (country)', '\\n']\n"
     ]
    },
    {
     "data": {
      "text/plain": [
       "['7.4 l/100 km (comb)', '9.2 l/100 km (city)', '6.3 l/100 km (country)']"
      ]
     },
     "execution_count": 304,
     "metadata": {},
     "output_type": "execute_result"
    }
   ],
   "source": [
    "# len(df[\"Consumption\"]) == 7:\n",
    "print(df[\"Consumption\"][15915])\n",
    "(df[\"Consumption\"][15915][1] + \",\" + df[\"Consumption\"][15915][3] + \",\" + df[\"Consumption\"][15915][5]).split(\",\")"
   ]
  },
  {
   "cell_type": "code",
   "execution_count": null,
   "metadata": {
    "colab": {
     "base_uri": "https://localhost:8080/",
     "height": 52
    },
    "executionInfo": {
     "elapsed": 48,
     "status": "ok",
     "timestamp": 1635888284240,
     "user": {
      "displayName": "Yusuf C",
      "photoUrl": "https://lh3.googleusercontent.com/a/default-user=s64",
      "userId": "01460091991965572961"
     },
     "user_tz": -180
    },
    "id": "F8hFr2XSxJWz",
    "outputId": "ba1f0d6b-c5fc-4ccb-9e4b-d2770b9ba364"
   },
   "outputs": [
    {
     "name": "stdout",
     "output_type": "stream",
     "text": [
      "['\\n', '1.6 l/100 km (comb)', '\\n', '\\n', '\\n']\n"
     ]
    },
    {
     "data": {
      "application/vnd.google.colaboratory.intrinsic+json": {
       "type": "string"
      },
      "text/plain": [
       "'1.6 l/100 km (comb)'"
      ]
     },
     "execution_count": 305,
     "metadata": {},
     "output_type": "execute_result"
    }
   ],
   "source": [
    "# len(df[\"Consumption\"]) == 5:\n",
    "print(df[\"Consumption\"][3612])\n",
    "df[\"Consumption\"][3612][1] #+ df[\"Consumption\"][0][1] + df[\"Consumption\"][0][2]"
   ]
  },
  {
   "cell_type": "code",
   "execution_count": null,
   "metadata": {
    "colab": {
     "base_uri": "https://localhost:8080/"
    },
    "executionInfo": {
     "elapsed": 1836,
     "status": "ok",
     "timestamp": 1635888286043,
     "user": {
      "displayName": "Yusuf C",
      "photoUrl": "https://lh3.googleusercontent.com/a/default-user=s64",
      "userId": "01460091991965572961"
     },
     "user_tz": -180
    },
    "id": "TtLtGsRo341K",
    "outputId": "654671ae-df38-4735-ca29-ef23c9a47f25"
   },
   "outputs": [
    {
     "name": "stdout",
     "output_type": "stream",
     "text": [
      "nan: 1906 len1: 0 len2: 0 len3: 13163 len4: 0 len5: 14 len6: 0 len7: 836\n",
      "toplam 15919\n"
     ]
    }
   ],
   "source": [
    "\n",
    "a = b=c=d=e=f=g=z=0\n",
    "for i in range(df.shape[0]):\n",
    "\n",
    "  if type(df[\"Consumption\"][i])==float:\n",
    "    z+=1\n",
    "    pass\n",
    "  elif type(df[\"Consumption\"][i])==list:\n",
    "    if len(df[\"Consumption\"][i])==1:\n",
    "      a = a +1\n",
    "      #print(i, a, df[\"Consumption\"][i])\n",
    "    elif len(df[\"Consumption\"][i])==2:\n",
    "      b = b+1\n",
    "      #print(i, b, df[\"Consumption\"][i])\n",
    "    elif len(df[\"Consumption\"][i])==3:\n",
    "      c = c+1\n",
    "      #print(i, c, df[\"Consumption\"][i])\n",
    "    elif len(df[\"Consumption\"][i])==4:\n",
    "      d = d +1\n",
    "      #print(i, d, df[\"Consumption\"][i]) \n",
    "    elif len(df[\"Consumption\"][i])==5:\n",
    "      e = e +1\n",
    "      #print(i, e, df[\"Consumption\"][i])\n",
    "    elif len(df[\"Consumption\"][i])==6:\n",
    "      f = f +1\n",
    "      #print(i, f, df[\"Consumption\"][i])\n",
    "    elif len(df[\"Consumption\"][i])==7:\n",
    "      g = g +1\n",
    "\n",
    "print(\"nan:\",z , \"len1:\", a, \"len2:\", b, \"len3:\", c, \"len4:\", d, \"len5:\", e, \"len6:\", f, \"len7:\", g)\n",
    "print(\"toplam\", z +a +b+d+f+e +g+c)"
   ]
  },
  {
   "cell_type": "code",
   "execution_count": null,
   "metadata": {
    "colab": {
     "base_uri": "https://localhost:8080/"
    },
    "executionInfo": {
     "elapsed": 3664,
     "status": "ok",
     "timestamp": 1635888289695,
     "user": {
      "displayName": "Yusuf C",
      "photoUrl": "https://lh3.googleusercontent.com/a/default-user=s64",
      "userId": "01460091991965572961"
     },
     "user_tz": -180
    },
    "id": "nu66KF2qx-L-",
    "outputId": "8a8fa138-7d33-4d27-cb48-2307e9b6c61e"
   },
   "outputs": [
    {
     "name": "stderr",
     "output_type": "stream",
     "text": [
      "/usr/local/lib/python3.7/dist-packages/ipykernel_launcher.py:5: SettingWithCopyWarning: \n",
      "A value is trying to be set on a copy of a slice from a DataFrame\n",
      "\n",
      "See the caveats in the documentation: https://pandas.pydata.org/pandas-docs/stable/user_guide/indexing.html#returning-a-view-versus-a-copy\n",
      "  \"\"\"\n"
     ]
    },
    {
     "data": {
      "text/plain": [
       "['3.8 l/100 km (comb)', '4.3 l/100 km (city)', '3.5 l/100 km (country)']"
      ]
     },
     "execution_count": 307,
     "metadata": {},
     "output_type": "execute_result"
    }
   ],
   "source": [
    "for i in range(df.shape[0]):\n",
    "  if type(df[\"Consumption\"][i])==float:\n",
    "    pass\n",
    "  elif (type(df[\"Consumption\"][i])==list) & (len(df[\"Consumption\"][i])==3):\n",
    "    df[\"Consumption\"][i] = df[\"Consumption\"][i][0] + df[\"Consumption\"][i][1] + df[\"Consumption\"][i][2]\n",
    "df[\"Consumption\"][0]"
   ]
  },
  {
   "cell_type": "code",
   "execution_count": null,
   "metadata": {
    "colab": {
     "base_uri": "https://localhost:8080/"
    },
    "executionInfo": {
     "elapsed": 26,
     "status": "ok",
     "timestamp": 1635888289696,
     "user": {
      "displayName": "Yusuf C",
      "photoUrl": "https://lh3.googleusercontent.com/a/default-user=s64",
      "userId": "01460091991965572961"
     },
     "user_tz": -180
    },
    "id": "MhtiTPEqyHwt",
    "outputId": "56c4c397-37a4-438f-c654-89fc5a7194b2"
   },
   "outputs": [
    {
     "name": "stderr",
     "output_type": "stream",
     "text": [
      "/usr/local/lib/python3.7/dist-packages/ipykernel_launcher.py:5: SettingWithCopyWarning: \n",
      "A value is trying to be set on a copy of a slice from a DataFrame\n",
      "\n",
      "See the caveats in the documentation: https://pandas.pydata.org/pandas-docs/stable/user_guide/indexing.html#returning-a-view-versus-a-copy\n",
      "  \"\"\"\n"
     ]
    },
    {
     "data": {
      "text/plain": [
       "['7.4 l/100 km (comb)', ' 9.2 l/100 km (city)', ' 6.3 l/100 km (country)']"
      ]
     },
     "execution_count": 308,
     "metadata": {},
     "output_type": "execute_result"
    }
   ],
   "source": [
    "for i in range(df.shape[0]):\n",
    "  if type(df[\"Consumption\"][i])==float:\n",
    "    pass\n",
    "  elif (type(df[\"Consumption\"][i])==list) & (len(df[\"Consumption\"][i])==7):\n",
    "    df[\"Consumption\"][i] = (df[\"Consumption\"][i][1] + \", \" + df[\"Consumption\"][i][3] + \", \" + df[\"Consumption\"][i][5]).split(\",\")\n",
    "df[\"Consumption\"][15915]"
   ]
  },
  {
   "cell_type": "code",
   "execution_count": null,
   "metadata": {
    "colab": {
     "base_uri": "https://localhost:8080/",
     "height": 120
    },
    "executionInfo": {
     "elapsed": 440,
     "status": "ok",
     "timestamp": 1635888290122,
     "user": {
      "displayName": "Yusuf C",
      "photoUrl": "https://lh3.googleusercontent.com/a/default-user=s64",
      "userId": "01460091991965572961"
     },
     "user_tz": -180
    },
    "id": "wMTCpEtGyQeX",
    "outputId": "d6c6a136-9f67-4c46-b3dd-9aa52e1525bc"
   },
   "outputs": [
    {
     "name": "stderr",
     "output_type": "stream",
     "text": [
      "/usr/local/lib/python3.7/dist-packages/ipykernel_launcher.py:5: SettingWithCopyWarning: \n",
      "A value is trying to be set on a copy of a slice from a DataFrame\n",
      "\n",
      "See the caveats in the documentation: https://pandas.pydata.org/pandas-docs/stable/user_guide/indexing.html#returning-a-view-versus-a-copy\n",
      "  \"\"\"\n"
     ]
    },
    {
     "data": {
      "application/vnd.google.colaboratory.intrinsic+json": {
       "type": "string"
      },
      "text/plain": [
       "'1.6 l/100 km (comb)'"
      ]
     },
     "execution_count": 309,
     "metadata": {},
     "output_type": "execute_result"
    }
   ],
   "source": [
    "for i in range(df.shape[0]):\n",
    "  if type(df[\"Consumption\"][i])==float:\n",
    "    pass\n",
    "  elif (type(df[\"Consumption\"][i])==list) & (len(df[\"Consumption\"][i])==5):\n",
    "    df[\"Consumption\"][i] = df[\"Consumption\"][i][1]\n",
    "df[\"Consumption\"][3612]"
   ]
  },
  {
   "cell_type": "code",
   "execution_count": null,
   "metadata": {
    "colab": {
     "base_uri": "https://localhost:8080/"
    },
    "executionInfo": {
     "elapsed": 466,
     "status": "ok",
     "timestamp": 1635888290582,
     "user": {
      "displayName": "Yusuf C",
      "photoUrl": "https://lh3.googleusercontent.com/a/default-user=s64",
      "userId": "01460091991965572961"
     },
     "user_tz": -180
    },
    "id": "jXm9LvQFp3Dz",
    "outputId": "253ed179-a5bc-4197-b52a-465dc9f13e51"
   },
   "outputs": [
    {
     "name": "stdout",
     "output_type": "stream",
     "text": [
      "nan: 1906 len1: 464 len2: 171 len3: 13364 len4: 0 len5: 0 len6: 0 len7: 0\n",
      "toplam 15905\n"
     ]
    }
   ],
   "source": [
    "a = b=c=d=e=f=g=z=0\n",
    "for i in range(df.shape[0]):\n",
    "\n",
    "  if type(df[\"Consumption\"][i])==float:\n",
    "    z+=1\n",
    "    pass\n",
    "  elif type(df[\"Consumption\"][i])==list:\n",
    "    if len(df[\"Consumption\"][i])==1:\n",
    "      a = a +1\n",
    "      #print(i, a, df[\"Consumption\"][i])\n",
    "    elif len(df[\"Consumption\"][i])==2:\n",
    "      b = b+1\n",
    "      #print(i, b, df[\"Consumption\"][i])\n",
    "    elif len(df[\"Consumption\"][i])==3:\n",
    "      c = c+1\n",
    "      #print(i, c, df[\"Consumption\"][i])\n",
    "    elif len(df[\"Consumption\"][i])==4:\n",
    "      d = d +1\n",
    "      #print(i, d, df[\"Consumption\"][i]) \n",
    "    elif len(df[\"Consumption\"][i])==5:\n",
    "      e = e +1\n",
    "      #print(i, e, df[\"Consumption\"][i])\n",
    "    elif len(df[\"Consumption\"][i])==6:\n",
    "      f = f +1\n",
    "      #print(i, f, df[\"Consumption\"][i])\n",
    "    elif len(df[\"Consumption\"][i])==7:\n",
    "      g = g +1\n",
    "\n",
    "print(\"nan:\",z , \"len1:\", a, \"len2:\", b, \"len3:\", c, \"len4:\", d, \"len5:\", e, \"len6:\", f, \"len7:\", g)\n",
    "print(\"toplam\", z +a +b+d+f+e +g+c)"
   ]
  },
  {
   "cell_type": "code",
   "execution_count": null,
   "metadata": {
    "colab": {
     "base_uri": "https://localhost:8080/"
    },
    "executionInfo": {
     "elapsed": 21,
     "status": "ok",
     "timestamp": 1635888290584,
     "user": {
      "displayName": "Yusuf C",
      "photoUrl": "https://lh3.googleusercontent.com/a/default-user=s64",
      "userId": "01460091991965572961"
     },
     "user_tz": -180
    },
    "id": "nJkwh_Bxm5fB",
    "outputId": "e380a03f-450e-4bd7-da63-579c607d6df7"
   },
   "outputs": [
    {
     "data": {
      "text/plain": [
       "['5.3 l/100 km (comb)', '6.2 l/100 km (city)']"
      ]
     },
     "execution_count": 311,
     "metadata": {},
     "output_type": "execute_result"
    }
   ],
   "source": [
    "df[\"Consumption\"][15442] # len was 3 but ['5.3 l/100 km (comb)', '6.2 l/100 km (city)', []]"
   ]
  },
  {
   "cell_type": "code",
   "execution_count": null,
   "metadata": {
    "colab": {
     "base_uri": "https://localhost:8080/"
    },
    "executionInfo": {
     "elapsed": 14,
     "status": "ok",
     "timestamp": 1635888290585,
     "user": {
      "displayName": "Yusuf C",
      "photoUrl": "https://lh3.googleusercontent.com/a/default-user=s64",
      "userId": "01460091991965572961"
     },
     "user_tz": -180
    },
    "id": "r6ocp3ssnZwZ",
    "outputId": "aacb59d4-6f20-40df-ddc3-38d349e1b724"
   },
   "outputs": [
    {
     "data": {
      "text/plain": [
       "['4.2 l/100 km (comb)']"
      ]
     },
     "execution_count": 312,
     "metadata": {},
     "output_type": "execute_result"
    }
   ],
   "source": [
    "df[\"Consumption\"][1352]  # len was 3  but [['4.2 l/100 km (comb)'], [], []]"
   ]
  },
  {
   "cell_type": "code",
   "execution_count": null,
   "metadata": {
    "colab": {
     "base_uri": "https://localhost:8080/",
     "height": 120
    },
    "executionInfo": {
     "elapsed": 373,
     "status": "ok",
     "timestamp": 1635888290951,
     "user": {
      "displayName": "Yusuf C",
      "photoUrl": "https://lh3.googleusercontent.com/a/default-user=s64",
      "userId": "01460091991965572961"
     },
     "user_tz": -180
    },
    "id": "JJ0PjhO-n4Id",
    "outputId": "ac9ebc40-33e8-43de-9ae9-229e13cc76d9"
   },
   "outputs": [
    {
     "name": "stderr",
     "output_type": "stream",
     "text": [
      "/usr/local/lib/python3.7/dist-packages/ipykernel_launcher.py:5: SettingWithCopyWarning: \n",
      "A value is trying to be set on a copy of a slice from a DataFrame\n",
      "\n",
      "See the caveats in the documentation: https://pandas.pydata.org/pandas-docs/stable/user_guide/indexing.html#returning-a-view-versus-a-copy\n",
      "  \"\"\"\n"
     ]
    },
    {
     "data": {
      "application/vnd.google.colaboratory.intrinsic+json": {
       "type": "string"
      },
      "text/plain": [
       "'5.3 l/100 km (comb), 6.2 l/100 km (city)'"
      ]
     },
     "execution_count": 313,
     "metadata": {},
     "output_type": "execute_result"
    }
   ],
   "source": [
    "for i in range(df.shape[0]):\n",
    "  if type(df[\"Consumption\"][i])==float:\n",
    "    pass\n",
    "  elif (type(df[\"Consumption\"][i])==list) & (len(df[\"Consumption\"][i])==2):\n",
    "    df[\"Consumption\"][i] = df[\"Consumption\"][i][0] + \", \" + df[\"Consumption\"][i][1]\n",
    "df[\"Consumption\"][15442]"
   ]
  },
  {
   "cell_type": "code",
   "execution_count": null,
   "metadata": {
    "colab": {
     "base_uri": "https://localhost:8080/",
     "height": 120
    },
    "executionInfo": {
     "elapsed": 667,
     "status": "ok",
     "timestamp": 1635888291614,
     "user": {
      "displayName": "Yusuf C",
      "photoUrl": "https://lh3.googleusercontent.com/a/default-user=s64",
      "userId": "01460091991965572961"
     },
     "user_tz": -180
    },
    "id": "6lTY1oTkomJi",
    "outputId": "c1069cc7-0e95-4b78-80ef-504ab34432b1"
   },
   "outputs": [
    {
     "name": "stderr",
     "output_type": "stream",
     "text": [
      "/usr/local/lib/python3.7/dist-packages/ipykernel_launcher.py:5: SettingWithCopyWarning: \n",
      "A value is trying to be set on a copy of a slice from a DataFrame\n",
      "\n",
      "See the caveats in the documentation: https://pandas.pydata.org/pandas-docs/stable/user_guide/indexing.html#returning-a-view-versus-a-copy\n",
      "  \"\"\"\n"
     ]
    },
    {
     "data": {
      "application/vnd.google.colaboratory.intrinsic+json": {
       "type": "string"
      },
      "text/plain": [
       "'4.2 l/100 km (comb)'"
      ]
     },
     "execution_count": 314,
     "metadata": {},
     "output_type": "execute_result"
    }
   ],
   "source": [
    "for i in range(df.shape[0]):\n",
    "  if type(df[\"Consumption\"][i])==float:\n",
    "    pass\n",
    "  elif (type(df[\"Consumption\"][i])==list) & (len(df[\"Consumption\"][i])==1):\n",
    "    df[\"Consumption\"][i] = df[\"Consumption\"][i][0]\n",
    "df[\"Consumption\"][1352]"
   ]
  },
  {
   "cell_type": "code",
   "execution_count": null,
   "metadata": {
    "colab": {
     "base_uri": "https://localhost:8080/"
    },
    "executionInfo": {
     "elapsed": 434,
     "status": "ok",
     "timestamp": 1635888292040,
     "user": {
      "displayName": "Yusuf C",
      "photoUrl": "https://lh3.googleusercontent.com/a/default-user=s64",
      "userId": "01460091991965572961"
     },
     "user_tz": -180
    },
    "id": "wPjO8k95qqds",
    "outputId": "0a4caf40-0b69-4949-93be-60800eb06838"
   },
   "outputs": [
    {
     "name": "stdout",
     "output_type": "stream",
     "text": [
      "nan: 1906 len1: 0 len2: 0 len3: 13364 len4: 0 len5: 0 len6: 0 len7: 0\n",
      "toplam 15270\n"
     ]
    }
   ],
   "source": [
    "a = b=c=d=e=f=g=z=0\n",
    "for i in range(df.shape[0]):\n",
    "\n",
    "  if type(df[\"Consumption\"][i])==float:\n",
    "    z+=1\n",
    "    pass\n",
    "  elif type(df[\"Consumption\"][i])==list:\n",
    "    if len(df[\"Consumption\"][i])==1:\n",
    "      a = a +1\n",
    "      #print(i, a, df[\"Consumption\"][i])\n",
    "    elif len(df[\"Consumption\"][i])==2:\n",
    "      b = b+1\n",
    "      #print(i, b, df[\"Consumption\"][i])\n",
    "    elif len(df[\"Consumption\"][i])==3:\n",
    "      c = c+1\n",
    "      #print(i, c, df[\"Consumption\"][i])\n",
    "    elif len(df[\"Consumption\"][i])==4:\n",
    "      d = d +1\n",
    "      #print(i, d, df[\"Consumption\"][i]) \n",
    "    elif len(df[\"Consumption\"][i])==5:\n",
    "      e = e +1\n",
    "      #print(i, e, df[\"Consumption\"][i])\n",
    "    elif len(df[\"Consumption\"][i])==6:\n",
    "      f = f +1\n",
    "      #print(i, f, df[\"Consumption\"][i])\n",
    "    elif len(df[\"Consumption\"][i])==7:\n",
    "      g = g +1\n",
    "\n",
    "print(\"nan:\",z , \"len1:\", a, \"len2:\", b, \"len3:\", c, \"len4:\", d, \"len5:\", e, \"len6:\", f, \"len7:\", g)\n",
    "print(\"toplam\", z +a +b+d+f+e +g+c)"
   ]
  },
  {
   "cell_type": "code",
   "execution_count": null,
   "metadata": {
    "colab": {
     "base_uri": "https://localhost:8080/"
    },
    "executionInfo": {
     "elapsed": 4013,
     "status": "ok",
     "timestamp": 1635888296051,
     "user": {
      "displayName": "Yusuf C",
      "photoUrl": "https://lh3.googleusercontent.com/a/default-user=s64",
      "userId": "01460091991965572961"
     },
     "user_tz": -180
    },
    "id": "G_Lk7zNQqxvE",
    "outputId": "820b056a-5d58-4b99-9878-d068026763f2"
   },
   "outputs": [
    {
     "name": "stderr",
     "output_type": "stream",
     "text": [
      "/usr/local/lib/python3.7/dist-packages/ipykernel_launcher.py:5: SettingWithCopyWarning: \n",
      "A value is trying to be set on a copy of a slice from a DataFrame\n",
      "\n",
      "See the caveats in the documentation: https://pandas.pydata.org/pandas-docs/stable/user_guide/indexing.html#returning-a-view-versus-a-copy\n",
      "  \"\"\"\n"
     ]
    }
   ],
   "source": [
    "for i in range(df.shape[0]):\n",
    "  if type(df[\"Consumption\"][i])==float:\n",
    "    pass\n",
    "  elif (type(df[\"Consumption\"][i])==list) & (len(df[\"Consumption\"][i])==3):\n",
    "    df[\"Consumption\"][i] = df[\"Consumption\"][i][0] + \", \" + df[\"Consumption\"][i][1] + \", \" + df[\"Consumption\"][i][2]"
   ]
  },
  {
   "cell_type": "code",
   "execution_count": null,
   "metadata": {
    "colab": {
     "base_uri": "https://localhost:8080/"
    },
    "executionInfo": {
     "elapsed": 50,
     "status": "ok",
     "timestamp": 1635888296055,
     "user": {
      "displayName": "Yusuf C",
      "photoUrl": "https://lh3.googleusercontent.com/a/default-user=s64",
      "userId": "01460091991965572961"
     },
     "user_tz": -180
    },
    "id": "o0veQ0stn4NM",
    "outputId": "708adb0d-8f50-40e8-ab37-e6b910f5c35a"
   },
   "outputs": [
    {
     "data": {
      "text/plain": [
       "NaN                                                                     1906\n",
       "3.9 l/100 km (comb), 4.1 l/100 km (city), 3.7 l/100 km (country)         304\n",
       "4.2 l/100 km (comb), 5 l/100 km (city), 3.7 l/100 km (country)           276\n",
       "5.4 l/100 km (comb), 6.8 l/100 km (city), 4.5 l/100 km (country)         257\n",
       "3.8 l/100 km (comb), 4.3 l/100 km (city), 3.5 l/100 km (country)         253\n",
       "                                                                        ... \n",
       "5 l/100 km (comb), 6.5 l/100 km (city), 4 l/100 km (country)               1\n",
       "7.4 l/100 km (comb),  9.6 l/100 km (city),  6 l/100 km (country)           1\n",
       "4.3 l/100 km (comb), 5.6 l/100 km (city), 3.5 l/100 km (country)           1\n",
       "5.2 l/100 km (comb),  6.6 l/100 km (city),  4.3 l/100 km (country)         1\n",
       "8.3 kg/100 km (comb), 10.5 kg/100 km (city), 6.9 kg/100 km (country)       1\n",
       "Name: Consumption, Length: 876, dtype: int64"
      ]
     },
     "execution_count": 317,
     "metadata": {},
     "output_type": "execute_result"
    }
   ],
   "source": [
    "df[\"Consumption\"].value_counts(dropna=False)"
   ]
  },
  {
   "cell_type": "code",
   "execution_count": null,
   "metadata": {
    "colab": {
     "base_uri": "https://localhost:8080/"
    },
    "executionInfo": {
     "elapsed": 45,
     "status": "ok",
     "timestamp": 1635888296060,
     "user": {
      "displayName": "Yusuf C",
      "photoUrl": "https://lh3.googleusercontent.com/a/default-user=s64",
      "userId": "01460091991965572961"
     },
     "user_tz": -180
    },
    "id": "vbgvU11isHf1",
    "outputId": "e8db6c39-1525-4934-defc-7c6071f95539"
   },
   "outputs": [
    {
     "data": {
      "text/plain": [
       "875"
      ]
     },
     "execution_count": 318,
     "metadata": {},
     "output_type": "execute_result"
    }
   ],
   "source": [
    "df[\"Consumption\"].nunique()"
   ]
  },
  {
   "cell_type": "code",
   "execution_count": null,
   "metadata": {
    "colab": {
     "base_uri": "https://localhost:8080/"
    },
    "executionInfo": {
     "elapsed": 40,
     "status": "ok",
     "timestamp": 1635888296062,
     "user": {
      "displayName": "Yusuf C",
      "photoUrl": "https://lh3.googleusercontent.com/a/default-user=s64",
      "userId": "01460091991965572961"
     },
     "user_tz": -180
    },
    "id": "JTzam0XRoXry",
    "outputId": "bd6b3c6e-0a94-48fa-9eb9-7db091c937f5"
   },
   "outputs": [
    {
     "data": {
      "text/plain": [
       "0        3.8 l/100 km (comb)\n",
       "1        5.6 l/100 km (comb)\n",
       "2        3.8 l/100 km (comb)\n",
       "3        3.8 l/100 km (comb)\n",
       "4        4.1 l/100 km (comb)\n",
       "                ...         \n",
       "15914    5.3 l/100 km (comb)\n",
       "15915    7.4 l/100 km (comb)\n",
       "15916    5.3 l/100 km (comb)\n",
       "15917    5.3 l/100 km (comb)\n",
       "15918    6.8 l/100 km (comb)\n",
       "Name: Consumption, Length: 15919, dtype: object"
      ]
     },
     "execution_count": 319,
     "metadata": {},
     "output_type": "execute_result"
    }
   ],
   "source": [
    "pattern1  = r'([0-9]+[\\.]?[0-9]?\\sl\\/100\\skm\\s\\(comb\\))'  #\n",
    "extr1 = df['Consumption'].str.extract(pattern1, expand=False)\n",
    "extr1"
   ]
  },
  {
   "cell_type": "code",
   "execution_count": null,
   "metadata": {
    "colab": {
     "base_uri": "https://localhost:8080/"
    },
    "executionInfo": {
     "elapsed": 34,
     "status": "ok",
     "timestamp": 1635888296063,
     "user": {
      "displayName": "Yusuf C",
      "photoUrl": "https://lh3.googleusercontent.com/a/default-user=s64",
      "userId": "01460091991965572961"
     },
     "user_tz": -180
    },
    "id": "iO7SnKW8Tbcc",
    "outputId": "2089d5ac-efe8-4ac0-c4a2-4653856c7685"
   },
   "outputs": [
    {
     "data": {
      "text/plain": [
       "0        4.3 l/100 km (city)\n",
       "1        7.1 l/100 km (city)\n",
       "2        4.4 l/100 km (city)\n",
       "3        4.3 l/100 km (city)\n",
       "4        4.6 l/100 km (city)\n",
       "                ...         \n",
       "15914    6.2 l/100 km (city)\n",
       "15915    9.2 l/100 km (city)\n",
       "15916    6.2 l/100 km (city)\n",
       "15917    6.2 l/100 km (city)\n",
       "15918    8.7 l/100 km (city)\n",
       "Name: Consumption, Length: 15919, dtype: object"
      ]
     },
     "execution_count": 320,
     "metadata": {},
     "output_type": "execute_result"
    }
   ],
   "source": [
    "pattern2  = r'([0-9]+[\\.]?[0-9]?\\sl\\/100\\skm\\s\\(city\\))'  #\n",
    "extr2 = df['Consumption'].str.extract(pattern2, expand=False)\n",
    "extr2"
   ]
  },
  {
   "cell_type": "code",
   "execution_count": null,
   "metadata": {
    "colab": {
     "base_uri": "https://localhost:8080/"
    },
    "executionInfo": {
     "elapsed": 29,
     "status": "ok",
     "timestamp": 1635888296065,
     "user": {
      "displayName": "Yusuf C",
      "photoUrl": "https://lh3.googleusercontent.com/a/default-user=s64",
      "userId": "01460091991965572961"
     },
     "user_tz": -180
    },
    "id": "fmovynKETxal",
    "outputId": "51875a27-ef86-4fd8-a049-8be76ed5b884"
   },
   "outputs": [
    {
     "data": {
      "text/plain": [
       "0        3.5 l/100 km (country)\n",
       "1        4.7 l/100 km (country)\n",
       "2        3.4 l/100 km (country)\n",
       "3        3.5 l/100 km (country)\n",
       "4        3.8 l/100 km (country)\n",
       "                  ...          \n",
       "15914    4.7 l/100 km (country)\n",
       "15915    6.3 l/100 km (country)\n",
       "15916    4.7 l/100 km (country)\n",
       "15917    4.7 l/100 km (country)\n",
       "15918    5.7 l/100 km (country)\n",
       "Name: Consumption, Length: 15919, dtype: object"
      ]
     },
     "execution_count": 321,
     "metadata": {},
     "output_type": "execute_result"
    }
   ],
   "source": [
    "pattern3  = r'([0-9]+[\\.]?[0-9]?\\sl\\/100\\skm\\s\\(country\\))'  #\n",
    "extr3 = df['Consumption'].str.extract(pattern3, expand=False)\n",
    "extr3"
   ]
  },
  {
   "cell_type": "code",
   "execution_count": null,
   "metadata": {
    "colab": {
     "base_uri": "https://localhost:8080/",
     "height": 419
    },
    "executionInfo": {
     "elapsed": 508,
     "status": "ok",
     "timestamp": 1635888296551,
     "user": {
      "displayName": "Yusuf C",
      "photoUrl": "https://lh3.googleusercontent.com/a/default-user=s64",
      "userId": "01460091991965572961"
     },
     "user_tz": -180
    },
    "id": "GEy59pSXUAMs",
    "outputId": "d3af9c99-34cb-4112-ee14-5b5cce1fa2f0"
   },
   "outputs": [
    {
     "data": {
      "text/html": [
       "<div>\n",
       "<style scoped>\n",
       "    .dataframe tbody tr th:only-of-type {\n",
       "        vertical-align: middle;\n",
       "    }\n",
       "\n",
       "    .dataframe tbody tr th {\n",
       "        vertical-align: top;\n",
       "    }\n",
       "\n",
       "    .dataframe thead th {\n",
       "        text-align: right;\n",
       "    }\n",
       "</style>\n",
       "<table border=\"1\" class=\"dataframe\">\n",
       "  <thead>\n",
       "    <tr style=\"text-align: right;\">\n",
       "      <th></th>\n",
       "      <th>Consumption</th>\n",
       "      <th>Consumption</th>\n",
       "      <th>Consumption</th>\n",
       "    </tr>\n",
       "  </thead>\n",
       "  <tbody>\n",
       "    <tr>\n",
       "      <th>0</th>\n",
       "      <td>3.8 l/100 km (comb)</td>\n",
       "      <td>4.3 l/100 km (city)</td>\n",
       "      <td>3.5 l/100 km (country)</td>\n",
       "    </tr>\n",
       "    <tr>\n",
       "      <th>1</th>\n",
       "      <td>5.6 l/100 km (comb)</td>\n",
       "      <td>7.1 l/100 km (city)</td>\n",
       "      <td>4.7 l/100 km (country)</td>\n",
       "    </tr>\n",
       "    <tr>\n",
       "      <th>2</th>\n",
       "      <td>3.8 l/100 km (comb)</td>\n",
       "      <td>4.4 l/100 km (city)</td>\n",
       "      <td>3.4 l/100 km (country)</td>\n",
       "    </tr>\n",
       "    <tr>\n",
       "      <th>3</th>\n",
       "      <td>3.8 l/100 km (comb)</td>\n",
       "      <td>4.3 l/100 km (city)</td>\n",
       "      <td>3.5 l/100 km (country)</td>\n",
       "    </tr>\n",
       "    <tr>\n",
       "      <th>4</th>\n",
       "      <td>4.1 l/100 km (comb)</td>\n",
       "      <td>4.6 l/100 km (city)</td>\n",
       "      <td>3.8 l/100 km (country)</td>\n",
       "    </tr>\n",
       "    <tr>\n",
       "      <th>...</th>\n",
       "      <td>...</td>\n",
       "      <td>...</td>\n",
       "      <td>...</td>\n",
       "    </tr>\n",
       "    <tr>\n",
       "      <th>15914</th>\n",
       "      <td>5.3 l/100 km (comb)</td>\n",
       "      <td>6.2 l/100 km (city)</td>\n",
       "      <td>4.7 l/100 km (country)</td>\n",
       "    </tr>\n",
       "    <tr>\n",
       "      <th>15915</th>\n",
       "      <td>7.4 l/100 km (comb)</td>\n",
       "      <td>9.2 l/100 km (city)</td>\n",
       "      <td>6.3 l/100 km (country)</td>\n",
       "    </tr>\n",
       "    <tr>\n",
       "      <th>15916</th>\n",
       "      <td>5.3 l/100 km (comb)</td>\n",
       "      <td>6.2 l/100 km (city)</td>\n",
       "      <td>4.7 l/100 km (country)</td>\n",
       "    </tr>\n",
       "    <tr>\n",
       "      <th>15917</th>\n",
       "      <td>5.3 l/100 km (comb)</td>\n",
       "      <td>6.2 l/100 km (city)</td>\n",
       "      <td>4.7 l/100 km (country)</td>\n",
       "    </tr>\n",
       "    <tr>\n",
       "      <th>15918</th>\n",
       "      <td>6.8 l/100 km (comb)</td>\n",
       "      <td>8.7 l/100 km (city)</td>\n",
       "      <td>5.7 l/100 km (country)</td>\n",
       "    </tr>\n",
       "  </tbody>\n",
       "</table>\n",
       "<p>15919 rows × 3 columns</p>\n",
       "</div>"
      ],
      "text/plain": [
       "               Consumption          Consumption             Consumption\n",
       "0      3.8 l/100 km (comb)  4.3 l/100 km (city)  3.5 l/100 km (country)\n",
       "1      5.6 l/100 km (comb)  7.1 l/100 km (city)  4.7 l/100 km (country)\n",
       "2      3.8 l/100 km (comb)  4.4 l/100 km (city)  3.4 l/100 km (country)\n",
       "3      3.8 l/100 km (comb)  4.3 l/100 km (city)  3.5 l/100 km (country)\n",
       "4      4.1 l/100 km (comb)  4.6 l/100 km (city)  3.8 l/100 km (country)\n",
       "...                    ...                  ...                     ...\n",
       "15914  5.3 l/100 km (comb)  6.2 l/100 km (city)  4.7 l/100 km (country)\n",
       "15915  7.4 l/100 km (comb)  9.2 l/100 km (city)  6.3 l/100 km (country)\n",
       "15916  5.3 l/100 km (comb)  6.2 l/100 km (city)  4.7 l/100 km (country)\n",
       "15917  5.3 l/100 km (comb)  6.2 l/100 km (city)  4.7 l/100 km (country)\n",
       "15918  6.8 l/100 km (comb)  8.7 l/100 km (city)  5.7 l/100 km (country)\n",
       "\n",
       "[15919 rows x 3 columns]"
      ]
     },
     "execution_count": 322,
     "metadata": {},
     "output_type": "execute_result"
    }
   ],
   "source": [
    "series_list = [extr1, extr2, extr3]\n",
    "data = pd.concat(series_list, axis=1, sort=False)\n",
    "data\n",
    "# pd.merge(df[\"Consumption\"], extr1, how=\"left\")"
   ]
  },
  {
   "cell_type": "code",
   "execution_count": null,
   "metadata": {
    "colab": {
     "base_uri": "https://localhost:8080/",
     "height": 419
    },
    "executionInfo": {
     "elapsed": 61,
     "status": "ok",
     "timestamp": 1635888296554,
     "user": {
      "displayName": "Yusuf C",
      "photoUrl": "https://lh3.googleusercontent.com/a/default-user=s64",
      "userId": "01460091991965572961"
     },
     "user_tz": -180
    },
    "id": "ndubQdv3UAQk",
    "outputId": "e3d73c2f-0830-42f4-9cb8-9c9d7c3c5474"
   },
   "outputs": [
    {
     "data": {
      "text/html": [
       "<div>\n",
       "<style scoped>\n",
       "    .dataframe tbody tr th:only-of-type {\n",
       "        vertical-align: middle;\n",
       "    }\n",
       "\n",
       "    .dataframe tbody tr th {\n",
       "        vertical-align: top;\n",
       "    }\n",
       "\n",
       "    .dataframe thead th {\n",
       "        text-align: right;\n",
       "    }\n",
       "</style>\n",
       "<table border=\"1\" class=\"dataframe\">\n",
       "  <thead>\n",
       "    <tr style=\"text-align: right;\">\n",
       "      <th></th>\n",
       "      <th>Comb</th>\n",
       "      <th>City</th>\n",
       "      <th>Country</th>\n",
       "    </tr>\n",
       "  </thead>\n",
       "  <tbody>\n",
       "    <tr>\n",
       "      <th>0</th>\n",
       "      <td>3.8 l/100 km (comb)</td>\n",
       "      <td>4.3 l/100 km (city)</td>\n",
       "      <td>3.5 l/100 km (country)</td>\n",
       "    </tr>\n",
       "    <tr>\n",
       "      <th>1</th>\n",
       "      <td>5.6 l/100 km (comb)</td>\n",
       "      <td>7.1 l/100 km (city)</td>\n",
       "      <td>4.7 l/100 km (country)</td>\n",
       "    </tr>\n",
       "    <tr>\n",
       "      <th>2</th>\n",
       "      <td>3.8 l/100 km (comb)</td>\n",
       "      <td>4.4 l/100 km (city)</td>\n",
       "      <td>3.4 l/100 km (country)</td>\n",
       "    </tr>\n",
       "    <tr>\n",
       "      <th>3</th>\n",
       "      <td>3.8 l/100 km (comb)</td>\n",
       "      <td>4.3 l/100 km (city)</td>\n",
       "      <td>3.5 l/100 km (country)</td>\n",
       "    </tr>\n",
       "    <tr>\n",
       "      <th>4</th>\n",
       "      <td>4.1 l/100 km (comb)</td>\n",
       "      <td>4.6 l/100 km (city)</td>\n",
       "      <td>3.8 l/100 km (country)</td>\n",
       "    </tr>\n",
       "    <tr>\n",
       "      <th>...</th>\n",
       "      <td>...</td>\n",
       "      <td>...</td>\n",
       "      <td>...</td>\n",
       "    </tr>\n",
       "    <tr>\n",
       "      <th>15914</th>\n",
       "      <td>5.3 l/100 km (comb)</td>\n",
       "      <td>6.2 l/100 km (city)</td>\n",
       "      <td>4.7 l/100 km (country)</td>\n",
       "    </tr>\n",
       "    <tr>\n",
       "      <th>15915</th>\n",
       "      <td>7.4 l/100 km (comb)</td>\n",
       "      <td>9.2 l/100 km (city)</td>\n",
       "      <td>6.3 l/100 km (country)</td>\n",
       "    </tr>\n",
       "    <tr>\n",
       "      <th>15916</th>\n",
       "      <td>5.3 l/100 km (comb)</td>\n",
       "      <td>6.2 l/100 km (city)</td>\n",
       "      <td>4.7 l/100 km (country)</td>\n",
       "    </tr>\n",
       "    <tr>\n",
       "      <th>15917</th>\n",
       "      <td>5.3 l/100 km (comb)</td>\n",
       "      <td>6.2 l/100 km (city)</td>\n",
       "      <td>4.7 l/100 km (country)</td>\n",
       "    </tr>\n",
       "    <tr>\n",
       "      <th>15918</th>\n",
       "      <td>6.8 l/100 km (comb)</td>\n",
       "      <td>8.7 l/100 km (city)</td>\n",
       "      <td>5.7 l/100 km (country)</td>\n",
       "    </tr>\n",
       "  </tbody>\n",
       "</table>\n",
       "<p>15919 rows × 3 columns</p>\n",
       "</div>"
      ],
      "text/plain": [
       "                      Comb                 City                 Country\n",
       "0      3.8 l/100 km (comb)  4.3 l/100 km (city)  3.5 l/100 km (country)\n",
       "1      5.6 l/100 km (comb)  7.1 l/100 km (city)  4.7 l/100 km (country)\n",
       "2      3.8 l/100 km (comb)  4.4 l/100 km (city)  3.4 l/100 km (country)\n",
       "3      3.8 l/100 km (comb)  4.3 l/100 km (city)  3.5 l/100 km (country)\n",
       "4      4.1 l/100 km (comb)  4.6 l/100 km (city)  3.8 l/100 km (country)\n",
       "...                    ...                  ...                     ...\n",
       "15914  5.3 l/100 km (comb)  6.2 l/100 km (city)  4.7 l/100 km (country)\n",
       "15915  7.4 l/100 km (comb)  9.2 l/100 km (city)  6.3 l/100 km (country)\n",
       "15916  5.3 l/100 km (comb)  6.2 l/100 km (city)  4.7 l/100 km (country)\n",
       "15917  5.3 l/100 km (comb)  6.2 l/100 km (city)  4.7 l/100 km (country)\n",
       "15918  6.8 l/100 km (comb)  8.7 l/100 km (city)  5.7 l/100 km (country)\n",
       "\n",
       "[15919 rows x 3 columns]"
      ]
     },
     "execution_count": 323,
     "metadata": {},
     "output_type": "execute_result"
    }
   ],
   "source": [
    "columns = [\"Comb\", \"City\", \"Country\"]\n",
    "data.columns = columns\n",
    "data"
   ]
  },
  {
   "cell_type": "code",
   "execution_count": null,
   "metadata": {
    "colab": {
     "base_uri": "https://localhost:8080/"
    },
    "executionInfo": {
     "elapsed": 60,
     "status": "ok",
     "timestamp": 1635888296556,
     "user": {
      "displayName": "Yusuf C",
      "photoUrl": "https://lh3.googleusercontent.com/a/default-user=s64",
      "userId": "01460091991965572961"
     },
     "user_tz": -180
    },
    "id": "cqPs3Z9dUAWK",
    "outputId": "cc6d7aad-ebd9-4546-f8e7-d10f319605c9"
   },
   "outputs": [
    {
     "data": {
      "text/plain": [
       "Comb       2064\n",
       "City       2467\n",
       "Country    2407\n",
       "dtype: int64"
      ]
     },
     "execution_count": 324,
     "metadata": {},
     "output_type": "execute_result"
    }
   ],
   "source": [
    "data.isnull().sum()"
   ]
  },
  {
   "cell_type": "code",
   "execution_count": null,
   "metadata": {
    "colab": {
     "base_uri": "https://localhost:8080/",
     "height": 1000
    },
    "executionInfo": {
     "elapsed": 48,
     "status": "ok",
     "timestamp": 1635888296558,
     "user": {
      "displayName": "Yusuf C",
      "photoUrl": "https://lh3.googleusercontent.com/a/default-user=s64",
      "userId": "01460091991965572961"
     },
     "user_tz": -180
    },
    "id": "mY6SOMOWUAc7",
    "outputId": "3f0243fe-5a26-4fb6-ca3d-d21e537dad99"
   },
   "outputs": [
    {
     "data": {
      "text/html": [
       "<div>\n",
       "<style scoped>\n",
       "    .dataframe tbody tr th:only-of-type {\n",
       "        vertical-align: middle;\n",
       "    }\n",
       "\n",
       "    .dataframe tbody tr th {\n",
       "        vertical-align: top;\n",
       "    }\n",
       "\n",
       "    .dataframe thead th {\n",
       "        text-align: right;\n",
       "    }\n",
       "</style>\n",
       "<table border=\"1\" class=\"dataframe\">\n",
       "  <thead>\n",
       "    <tr style=\"text-align: right;\">\n",
       "      <th></th>\n",
       "      <th>make_model</th>\n",
       "      <th>short_description</th>\n",
       "      <th>body_type</th>\n",
       "      <th>price</th>\n",
       "      <th>vat</th>\n",
       "      <th>km</th>\n",
       "      <th>registration</th>\n",
       "      <th>hp</th>\n",
       "      <th>Type</th>\n",
       "      <th>Previous Owners</th>\n",
       "      <th>Next Inspection</th>\n",
       "      <th>Inspection new</th>\n",
       "      <th>Warranty</th>\n",
       "      <th>Non-smoking Vehicle</th>\n",
       "      <th>First Registration</th>\n",
       "      <th>Body Color</th>\n",
       "      <th>Paint Type</th>\n",
       "      <th>Body Color Original</th>\n",
       "      <th>Upholstery</th>\n",
       "      <th>Nr. of Doors</th>\n",
       "      <th>Nr. of Seats</th>\n",
       "      <th>Gearing Type</th>\n",
       "      <th>Displacement</th>\n",
       "      <th>Cylinders</th>\n",
       "      <th>Weight</th>\n",
       "      <th>Drive chain</th>\n",
       "      <th>Fuel</th>\n",
       "      <th>Consumption</th>\n",
       "      <th>CO2 Emission</th>\n",
       "      <th>Emission Class</th>\n",
       "      <th>Comfort &amp; Convenience</th>\n",
       "      <th>Entertainment &amp; Media</th>\n",
       "      <th>Extras</th>\n",
       "      <th>Safety &amp; Security</th>\n",
       "      <th>description</th>\n",
       "      <th>Emission Label</th>\n",
       "      <th>Gears</th>\n",
       "      <th>Country version</th>\n",
       "      <th>Electricity consumption</th>\n",
       "      <th>Last Service Date</th>\n",
       "      <th>Availability</th>\n",
       "      <th>Available from</th>\n",
       "      <th>Comb</th>\n",
       "      <th>City</th>\n",
       "      <th>Country</th>\n",
       "    </tr>\n",
       "  </thead>\n",
       "  <tbody>\n",
       "    <tr>\n",
       "      <th>0</th>\n",
       "      <td>Audi A1</td>\n",
       "      <td>Sportback 1.4 TDI S-tronic Xenon Navi Klima</td>\n",
       "      <td>Sedans</td>\n",
       "      <td>15770</td>\n",
       "      <td>VAT deductible</td>\n",
       "      <td>56013.0</td>\n",
       "      <td>01/2016</td>\n",
       "      <td>66</td>\n",
       "      <td>Used</td>\n",
       "      <td>2</td>\n",
       "      <td>06/2021</td>\n",
       "      <td>Yes</td>\n",
       "      <td>NaN</td>\n",
       "      <td>[\\n, \\n]</td>\n",
       "      <td>2016</td>\n",
       "      <td>Black</td>\n",
       "      <td>Metallic</td>\n",
       "      <td>Mythosschwarz</td>\n",
       "      <td>Cloth,Black</td>\n",
       "      <td>5.0</td>\n",
       "      <td>5.0</td>\n",
       "      <td>Automatic</td>\n",
       "      <td>1422</td>\n",
       "      <td>3</td>\n",
       "      <td>1220</td>\n",
       "      <td>front</td>\n",
       "      <td>Diesel</td>\n",
       "      <td>3.8 l/100 km (comb), 4.3 l/100 km (city), 3.5 ...</td>\n",
       "      <td>99</td>\n",
       "      <td>Euro 6</td>\n",
       "      <td>[Air conditioning, Armrest, Automatic climate ...</td>\n",
       "      <td>[Bluetooth, Hands-free equipment, On-board com...</td>\n",
       "      <td>[Alloy wheels, Catalytic Converter, Voice Cont...</td>\n",
       "      <td>[ABS, Central door lock, Daytime running light...</td>\n",
       "      <td>[\\n, Sicherheit:,  , Deaktivierung für Beifahr...</td>\n",
       "      <td>NaN</td>\n",
       "      <td>NaN</td>\n",
       "      <td>NaN</td>\n",
       "      <td>NaN</td>\n",
       "      <td>NaN</td>\n",
       "      <td>NaN</td>\n",
       "      <td>NaN</td>\n",
       "      <td>3.8 l/100 km (comb)</td>\n",
       "      <td>4.3 l/100 km (city)</td>\n",
       "      <td>3.5 l/100 km (country)</td>\n",
       "    </tr>\n",
       "    <tr>\n",
       "      <th>1</th>\n",
       "      <td>Audi A1</td>\n",
       "      <td>1.8 TFSI sport</td>\n",
       "      <td>Sedans</td>\n",
       "      <td>14500</td>\n",
       "      <td>Price negotiable</td>\n",
       "      <td>80000.0</td>\n",
       "      <td>03/2017</td>\n",
       "      <td>141</td>\n",
       "      <td>Used</td>\n",
       "      <td>NaN</td>\n",
       "      <td>NaN</td>\n",
       "      <td>NaN</td>\n",
       "      <td>NaN</td>\n",
       "      <td>NaN</td>\n",
       "      <td>2017</td>\n",
       "      <td>Red</td>\n",
       "      <td>NaN</td>\n",
       "      <td>NaN</td>\n",
       "      <td>Cloth,Grey</td>\n",
       "      <td>3.0</td>\n",
       "      <td>4.0</td>\n",
       "      <td>Automatic</td>\n",
       "      <td>1798</td>\n",
       "      <td>4</td>\n",
       "      <td>1255</td>\n",
       "      <td>front</td>\n",
       "      <td>Gasoline</td>\n",
       "      <td>5.6 l/100 km (comb), 7.1 l/100 km (city), 4.7 ...</td>\n",
       "      <td>129</td>\n",
       "      <td>Euro 6</td>\n",
       "      <td>[Air conditioning, Automatic climate control, ...</td>\n",
       "      <td>[Bluetooth, Hands-free equipment, On-board com...</td>\n",
       "      <td>[Alloy wheels, Sport seats, Sport suspension, ...</td>\n",
       "      <td>[ABS, Central door lock, Central door lock wit...</td>\n",
       "      <td>[\\nLangstreckenfahrzeug daher die hohe Kilomet...</td>\n",
       "      <td>4,(Green)</td>\n",
       "      <td>7</td>\n",
       "      <td>NaN</td>\n",
       "      <td>NaN</td>\n",
       "      <td>NaN</td>\n",
       "      <td>NaN</td>\n",
       "      <td>NaN</td>\n",
       "      <td>5.6 l/100 km (comb)</td>\n",
       "      <td>7.1 l/100 km (city)</td>\n",
       "      <td>4.7 l/100 km (country)</td>\n",
       "    </tr>\n",
       "    <tr>\n",
       "      <th>2</th>\n",
       "      <td>Audi A1</td>\n",
       "      <td>Sportback 1.6 TDI S tronic Einparkhilfe plus+m...</td>\n",
       "      <td>Sedans</td>\n",
       "      <td>14640</td>\n",
       "      <td>VAT deductible</td>\n",
       "      <td>83450.0</td>\n",
       "      <td>02/2016</td>\n",
       "      <td>85</td>\n",
       "      <td>Used</td>\n",
       "      <td>1</td>\n",
       "      <td>NaN</td>\n",
       "      <td>NaN</td>\n",
       "      <td>NaN</td>\n",
       "      <td>NaN</td>\n",
       "      <td>2016</td>\n",
       "      <td>Black</td>\n",
       "      <td>Metallic</td>\n",
       "      <td>mythosschwarz</td>\n",
       "      <td>Cloth,Black</td>\n",
       "      <td>4.0</td>\n",
       "      <td>4.0</td>\n",
       "      <td>Automatic</td>\n",
       "      <td>1598</td>\n",
       "      <td>NaN</td>\n",
       "      <td>NaN</td>\n",
       "      <td>front</td>\n",
       "      <td>Diesel</td>\n",
       "      <td>3.8 l/100 km (comb), 4.4 l/100 km (city), 3.4 ...</td>\n",
       "      <td>99</td>\n",
       "      <td>Euro 6</td>\n",
       "      <td>[Air conditioning, Cruise control, Electrical ...</td>\n",
       "      <td>[MP3, On-board computer]</td>\n",
       "      <td>[Alloy wheels, Voice Control]</td>\n",
       "      <td>[ABS, Central door lock, Daytime running light...</td>\n",
       "      <td>[\\n, Fahrzeug-Nummer: AM-95365,  , Ehem. UPE 2...</td>\n",
       "      <td>4,(Green)</td>\n",
       "      <td>NaN</td>\n",
       "      <td>NaN</td>\n",
       "      <td>NaN</td>\n",
       "      <td>NaN</td>\n",
       "      <td>NaN</td>\n",
       "      <td>NaN</td>\n",
       "      <td>3.8 l/100 km (comb)</td>\n",
       "      <td>4.4 l/100 km (city)</td>\n",
       "      <td>3.4 l/100 km (country)</td>\n",
       "    </tr>\n",
       "    <tr>\n",
       "      <th>3</th>\n",
       "      <td>Audi A1</td>\n",
       "      <td>1.4 TDi Design S tronic</td>\n",
       "      <td>Sedans</td>\n",
       "      <td>14500</td>\n",
       "      <td>None</td>\n",
       "      <td>73000.0</td>\n",
       "      <td>08/2016</td>\n",
       "      <td>66</td>\n",
       "      <td>Used</td>\n",
       "      <td>1</td>\n",
       "      <td>NaN</td>\n",
       "      <td>NaN</td>\n",
       "      <td>NaN</td>\n",
       "      <td>[\\n, \\n, \\nEuro 6\\n]</td>\n",
       "      <td>2016</td>\n",
       "      <td>Brown</td>\n",
       "      <td>Metallic</td>\n",
       "      <td>NaN</td>\n",
       "      <td>NaN</td>\n",
       "      <td>3.0</td>\n",
       "      <td>4.0</td>\n",
       "      <td>Automatic</td>\n",
       "      <td>1422</td>\n",
       "      <td>3</td>\n",
       "      <td>1195</td>\n",
       "      <td>NaN</td>\n",
       "      <td>Diesel</td>\n",
       "      <td>3.8 l/100 km (comb), 4.3 l/100 km (city), 3.5 ...</td>\n",
       "      <td>99</td>\n",
       "      <td>Euro 6</td>\n",
       "      <td>[Air suspension, Armrest, Auxiliary heating, E...</td>\n",
       "      <td>[Bluetooth, CD player, Hands-free equipment, M...</td>\n",
       "      <td>[Alloy wheels, Sport seats, Voice Control]</td>\n",
       "      <td>[ABS, Alarm system, Central door lock with rem...</td>\n",
       "      <td>[\\nAudi A1: , - 1e eigenaar , - Perfecte staat...</td>\n",
       "      <td>NaN</td>\n",
       "      <td>6</td>\n",
       "      <td>NaN</td>\n",
       "      <td>NaN</td>\n",
       "      <td>NaN</td>\n",
       "      <td>NaN</td>\n",
       "      <td>NaN</td>\n",
       "      <td>3.8 l/100 km (comb)</td>\n",
       "      <td>4.3 l/100 km (city)</td>\n",
       "      <td>3.5 l/100 km (country)</td>\n",
       "    </tr>\n",
       "    <tr>\n",
       "      <th>4</th>\n",
       "      <td>Audi A1</td>\n",
       "      <td>Sportback 1.4 TDI S-Tronic S-Line Ext. admired...</td>\n",
       "      <td>Sedans</td>\n",
       "      <td>16790</td>\n",
       "      <td>None</td>\n",
       "      <td>16200.0</td>\n",
       "      <td>05/2016</td>\n",
       "      <td>66</td>\n",
       "      <td>Used</td>\n",
       "      <td>1</td>\n",
       "      <td>NaN</td>\n",
       "      <td>Yes</td>\n",
       "      <td>NaN</td>\n",
       "      <td>[\\n, \\n]</td>\n",
       "      <td>2016</td>\n",
       "      <td>Black</td>\n",
       "      <td>Metallic</td>\n",
       "      <td>Mythosschwarz</td>\n",
       "      <td>Cloth,Black</td>\n",
       "      <td>5.0</td>\n",
       "      <td>5.0</td>\n",
       "      <td>Automatic</td>\n",
       "      <td>1422</td>\n",
       "      <td>3</td>\n",
       "      <td>NaN</td>\n",
       "      <td>front</td>\n",
       "      <td>Diesel</td>\n",
       "      <td>4.1 l/100 km (comb), 4.6 l/100 km (city), 3.8 ...</td>\n",
       "      <td>109</td>\n",
       "      <td>Euro 6</td>\n",
       "      <td>[Air conditioning, Armrest, Automatic climate ...</td>\n",
       "      <td>[Bluetooth, CD player, Hands-free equipment, M...</td>\n",
       "      <td>[Alloy wheels, Sport package, Sport suspension...</td>\n",
       "      <td>[ABS, Central door lock, Driver-side airbag, E...</td>\n",
       "      <td>[\\n, Technik &amp; Sicherheit:, Xenon plus, Klimaa...</td>\n",
       "      <td>NaN</td>\n",
       "      <td>NaN</td>\n",
       "      <td>Germany</td>\n",
       "      <td>NaN</td>\n",
       "      <td>NaN</td>\n",
       "      <td>NaN</td>\n",
       "      <td>NaN</td>\n",
       "      <td>4.1 l/100 km (comb)</td>\n",
       "      <td>4.6 l/100 km (city)</td>\n",
       "      <td>3.8 l/100 km (country)</td>\n",
       "    </tr>\n",
       "    <tr>\n",
       "      <th>...</th>\n",
       "      <td>...</td>\n",
       "      <td>...</td>\n",
       "      <td>...</td>\n",
       "      <td>...</td>\n",
       "      <td>...</td>\n",
       "      <td>...</td>\n",
       "      <td>...</td>\n",
       "      <td>...</td>\n",
       "      <td>...</td>\n",
       "      <td>...</td>\n",
       "      <td>...</td>\n",
       "      <td>...</td>\n",
       "      <td>...</td>\n",
       "      <td>...</td>\n",
       "      <td>...</td>\n",
       "      <td>...</td>\n",
       "      <td>...</td>\n",
       "      <td>...</td>\n",
       "      <td>...</td>\n",
       "      <td>...</td>\n",
       "      <td>...</td>\n",
       "      <td>...</td>\n",
       "      <td>...</td>\n",
       "      <td>...</td>\n",
       "      <td>...</td>\n",
       "      <td>...</td>\n",
       "      <td>...</td>\n",
       "      <td>...</td>\n",
       "      <td>...</td>\n",
       "      <td>...</td>\n",
       "      <td>...</td>\n",
       "      <td>...</td>\n",
       "      <td>...</td>\n",
       "      <td>...</td>\n",
       "      <td>...</td>\n",
       "      <td>...</td>\n",
       "      <td>...</td>\n",
       "      <td>...</td>\n",
       "      <td>...</td>\n",
       "      <td>...</td>\n",
       "      <td>...</td>\n",
       "      <td>...</td>\n",
       "      <td>...</td>\n",
       "      <td>...</td>\n",
       "      <td>...</td>\n",
       "    </tr>\n",
       "    <tr>\n",
       "      <th>15914</th>\n",
       "      <td>Renault Espace</td>\n",
       "      <td>Blue dCi 200CV EDC Executive 4Control</td>\n",
       "      <td>Van</td>\n",
       "      <td>39950</td>\n",
       "      <td>VAT deductible</td>\n",
       "      <td>NaN</td>\n",
       "      <td>NaN</td>\n",
       "      <td>147</td>\n",
       "      <td>New</td>\n",
       "      <td>NaN</td>\n",
       "      <td>NaN</td>\n",
       "      <td>NaN</td>\n",
       "      <td>24</td>\n",
       "      <td>NaN</td>\n",
       "      <td>NaN</td>\n",
       "      <td>Grey</td>\n",
       "      <td>Metallic</td>\n",
       "      <td>Grigio</td>\n",
       "      <td>NaN</td>\n",
       "      <td>5.0</td>\n",
       "      <td>5.0</td>\n",
       "      <td>Automatic</td>\n",
       "      <td>1997</td>\n",
       "      <td>4</td>\n",
       "      <td>1758</td>\n",
       "      <td>front</td>\n",
       "      <td>Diesel</td>\n",
       "      <td>5.3 l/100 km (comb), 6.2 l/100 km (city), 4.7 ...</td>\n",
       "      <td>139</td>\n",
       "      <td>NaN</td>\n",
       "      <td>[Air conditioning, Automatic climate control, ...</td>\n",
       "      <td>[Bluetooth, Digital radio, Hands-free equipmen...</td>\n",
       "      <td>[Alloy wheels, Touch screen]</td>\n",
       "      <td>[ABS, Central door lock, Central door lock wit...</td>\n",
       "      <td>[\\nVettura visionabile nella sede in Via Roma ...</td>\n",
       "      <td>NaN</td>\n",
       "      <td>6</td>\n",
       "      <td>NaN</td>\n",
       "      <td>NaN</td>\n",
       "      <td>NaN</td>\n",
       "      <td>NaN</td>\n",
       "      <td>NaN</td>\n",
       "      <td>5.3 l/100 km (comb)</td>\n",
       "      <td>6.2 l/100 km (city)</td>\n",
       "      <td>4.7 l/100 km (country)</td>\n",
       "    </tr>\n",
       "    <tr>\n",
       "      <th>15915</th>\n",
       "      <td>Renault Espace</td>\n",
       "      <td>TCe 225 EDC GPF LIM Deluxe Pano,RFK</td>\n",
       "      <td>Van</td>\n",
       "      <td>39885</td>\n",
       "      <td>VAT deductible</td>\n",
       "      <td>9900.0</td>\n",
       "      <td>01/2019</td>\n",
       "      <td>165</td>\n",
       "      <td>Used</td>\n",
       "      <td>1</td>\n",
       "      <td>01/2022</td>\n",
       "      <td>NaN</td>\n",
       "      <td>NaN</td>\n",
       "      <td>[\\n, \\n, \\n4 (Green)\\n]</td>\n",
       "      <td>2019</td>\n",
       "      <td>Grey</td>\n",
       "      <td>Metallic</td>\n",
       "      <td>Stahl-Grau</td>\n",
       "      <td>Cloth</td>\n",
       "      <td>5.0</td>\n",
       "      <td>5.0</td>\n",
       "      <td>Automatic</td>\n",
       "      <td>1798</td>\n",
       "      <td>4</td>\n",
       "      <td>1708</td>\n",
       "      <td>front</td>\n",
       "      <td>Gasoline</td>\n",
       "      <td>7.4 l/100 km (comb),  9.2 l/100 km (city),  6....</td>\n",
       "      <td>168</td>\n",
       "      <td>NaN</td>\n",
       "      <td>[Air conditioning, Automatic climate control, ...</td>\n",
       "      <td>[Bluetooth, Digital radio, Hands-free equipmen...</td>\n",
       "      <td>[Alloy wheels, Touch screen, Voice Control]</td>\n",
       "      <td>[ABS, Adaptive Cruise Control, Blind spot moni...</td>\n",
       "      <td>[\\nDach: Panorama-Glas-Schiebedach, Lackierung...</td>\n",
       "      <td>NaN</td>\n",
       "      <td>7</td>\n",
       "      <td>Germany</td>\n",
       "      <td>NaN</td>\n",
       "      <td>NaN</td>\n",
       "      <td>5</td>\n",
       "      <td>NaN</td>\n",
       "      <td>7.4 l/100 km (comb)</td>\n",
       "      <td>9.2 l/100 km (city)</td>\n",
       "      <td>6.3 l/100 km (country)</td>\n",
       "    </tr>\n",
       "    <tr>\n",
       "      <th>15916</th>\n",
       "      <td>Renault Espace</td>\n",
       "      <td>Blue dCi 200 EDC Initiale Paris Leder LED Navi...</td>\n",
       "      <td>Van</td>\n",
       "      <td>39875</td>\n",
       "      <td>VAT deductible</td>\n",
       "      <td>15.0</td>\n",
       "      <td>03/2019</td>\n",
       "      <td>146</td>\n",
       "      <td>Pre-registered</td>\n",
       "      <td>1</td>\n",
       "      <td>NaN</td>\n",
       "      <td>Yes</td>\n",
       "      <td>NaN</td>\n",
       "      <td>[\\n, \\n]</td>\n",
       "      <td>2019</td>\n",
       "      <td>White</td>\n",
       "      <td>NaN</td>\n",
       "      <td>arktis-weiß</td>\n",
       "      <td>Full leather,Black</td>\n",
       "      <td>5.0</td>\n",
       "      <td>7.0</td>\n",
       "      <td>Automatic</td>\n",
       "      <td>1997</td>\n",
       "      <td>4</td>\n",
       "      <td>NaN</td>\n",
       "      <td>front</td>\n",
       "      <td>Diesel</td>\n",
       "      <td>5.3 l/100 km (comb), 6.2 l/100 km (city), 4.7 ...</td>\n",
       "      <td>139</td>\n",
       "      <td>Euro 6d-TEMP</td>\n",
       "      <td>[Air conditioning, Armrest, Automatic climate ...</td>\n",
       "      <td>[Bluetooth, Hands-free equipment, On-board com...</td>\n",
       "      <td>[Alloy wheels]</td>\n",
       "      <td>[ABS, Adaptive Cruise Control, Blind spot moni...</td>\n",
       "      <td>[\\n, Getriebe:,  Automatik, Technik:,  Bordcom...</td>\n",
       "      <td>NaN</td>\n",
       "      <td>6</td>\n",
       "      <td>Austria</td>\n",
       "      <td>NaN</td>\n",
       "      <td>NaN</td>\n",
       "      <td>120</td>\n",
       "      <td>NaN</td>\n",
       "      <td>5.3 l/100 km (comb)</td>\n",
       "      <td>6.2 l/100 km (city)</td>\n",
       "      <td>4.7 l/100 km (country)</td>\n",
       "    </tr>\n",
       "    <tr>\n",
       "      <th>15917</th>\n",
       "      <td>Renault Espace</td>\n",
       "      <td>Blue dCi 200CV EDC Business , NUOVA DA IMMATRI...</td>\n",
       "      <td>Van</td>\n",
       "      <td>39700</td>\n",
       "      <td>VAT deductible</td>\n",
       "      <td>10.0</td>\n",
       "      <td>06/2019</td>\n",
       "      <td>147</td>\n",
       "      <td>Pre-registered</td>\n",
       "      <td>NaN</td>\n",
       "      <td>NaN</td>\n",
       "      <td>NaN</td>\n",
       "      <td>NaN</td>\n",
       "      <td>NaN</td>\n",
       "      <td>2019</td>\n",
       "      <td>Grey</td>\n",
       "      <td>NaN</td>\n",
       "      <td>Grigio</td>\n",
       "      <td>Part leather</td>\n",
       "      <td>5.0</td>\n",
       "      <td>7.0</td>\n",
       "      <td>Automatic</td>\n",
       "      <td>1997</td>\n",
       "      <td>4</td>\n",
       "      <td>1758</td>\n",
       "      <td>front</td>\n",
       "      <td>Diesel</td>\n",
       "      <td>5.3 l/100 km (comb), 6.2 l/100 km (city), 4.7 ...</td>\n",
       "      <td>139</td>\n",
       "      <td>Euro 6</td>\n",
       "      <td>[Air conditioning, Automatic climate control, ...</td>\n",
       "      <td>[Bluetooth, Digital radio, Radio, USB]</td>\n",
       "      <td>[Alloy wheels, Touch screen]</td>\n",
       "      <td>[ABS, Blind spot monitor, Driver-side airbag, ...</td>\n",
       "      <td>[\\nDEK:[2691331], Renault Espace Blue dCi 200C...</td>\n",
       "      <td>NaN</td>\n",
       "      <td>6</td>\n",
       "      <td>NaN</td>\n",
       "      <td>NaN</td>\n",
       "      <td>NaN</td>\n",
       "      <td>NaN</td>\n",
       "      <td>NaN</td>\n",
       "      <td>5.3 l/100 km (comb)</td>\n",
       "      <td>6.2 l/100 km (city)</td>\n",
       "      <td>4.7 l/100 km (country)</td>\n",
       "    </tr>\n",
       "    <tr>\n",
       "      <th>15918</th>\n",
       "      <td>Renault Espace</td>\n",
       "      <td>INITIALE PARIS TCe 225 EDC GPF NAVI SHZ AUX</td>\n",
       "      <td>Van</td>\n",
       "      <td>40999</td>\n",
       "      <td>VAT deductible</td>\n",
       "      <td>NaN</td>\n",
       "      <td>01/2019</td>\n",
       "      <td>165</td>\n",
       "      <td>Demonstration</td>\n",
       "      <td>1</td>\n",
       "      <td>NaN</td>\n",
       "      <td>Yes</td>\n",
       "      <td>NaN</td>\n",
       "      <td>NaN</td>\n",
       "      <td>2019</td>\n",
       "      <td>Grey</td>\n",
       "      <td>Metallic</td>\n",
       "      <td>Titanium-Grau</td>\n",
       "      <td>Full leather,Brown</td>\n",
       "      <td>5.0</td>\n",
       "      <td>5.0</td>\n",
       "      <td>Automatic</td>\n",
       "      <td>1798</td>\n",
       "      <td>4</td>\n",
       "      <td>1685</td>\n",
       "      <td>4WD</td>\n",
       "      <td>Gasoline</td>\n",
       "      <td>6.8 l/100 km (comb), 8.7 l/100 km (city), 5.7 ...</td>\n",
       "      <td>153</td>\n",
       "      <td>Euro 6</td>\n",
       "      <td>[Air conditioning, Automatic climate control, ...</td>\n",
       "      <td>[USB]</td>\n",
       "      <td>[Alloy wheels, Touch screen]</td>\n",
       "      <td>[ABS, Blind spot monitor, Daytime running ligh...</td>\n",
       "      <td>[\\n, Sicherheit Airbags:,  , Seitenairbag,  , ...</td>\n",
       "      <td>4,(Green)</td>\n",
       "      <td>NaN</td>\n",
       "      <td>Germany</td>\n",
       "      <td>NaN</td>\n",
       "      <td>NaN</td>\n",
       "      <td>NaN</td>\n",
       "      <td>NaN</td>\n",
       "      <td>6.8 l/100 km (comb)</td>\n",
       "      <td>8.7 l/100 km (city)</td>\n",
       "      <td>5.7 l/100 km (country)</td>\n",
       "    </tr>\n",
       "  </tbody>\n",
       "</table>\n",
       "<p>15919 rows × 45 columns</p>\n",
       "</div>"
      ],
      "text/plain": [
       "           make_model  ...                 Country\n",
       "0             Audi A1  ...  3.5 l/100 km (country)\n",
       "1             Audi A1  ...  4.7 l/100 km (country)\n",
       "2             Audi A1  ...  3.4 l/100 km (country)\n",
       "3             Audi A1  ...  3.5 l/100 km (country)\n",
       "4             Audi A1  ...  3.8 l/100 km (country)\n",
       "...               ...  ...                     ...\n",
       "15914  Renault Espace  ...  4.7 l/100 km (country)\n",
       "15915  Renault Espace  ...  6.3 l/100 km (country)\n",
       "15916  Renault Espace  ...  4.7 l/100 km (country)\n",
       "15917  Renault Espace  ...  4.7 l/100 km (country)\n",
       "15918  Renault Espace  ...  5.7 l/100 km (country)\n",
       "\n",
       "[15919 rows x 45 columns]"
      ]
     },
     "execution_count": 325,
     "metadata": {},
     "output_type": "execute_result"
    }
   ],
   "source": [
    "pd.merge(df, data, how='left', left_index=True, right_index=True)"
   ]
  },
  {
   "cell_type": "code",
   "execution_count": null,
   "metadata": {
    "id": "UKWcqzM7ieaE"
   },
   "outputs": [],
   "source": [
    "df = pd.merge(df, data, how='left', left_index=True, right_index=True)"
   ]
  },
  {
   "cell_type": "code",
   "execution_count": null,
   "metadata": {
    "id": "q0znxcbQi_Mu"
   },
   "outputs": [],
   "source": [
    "df.drop(\"Consumption\", axis=1, inplace=True)"
   ]
  },
  {
   "cell_type": "markdown",
   "metadata": {
    "id": "Sg8WqkvLEK04"
   },
   "source": [
    "# Non-smoking dropped"
   ]
  },
  {
   "cell_type": "code",
   "execution_count": null,
   "metadata": {
    "colab": {
     "base_uri": "https://localhost:8080/",
     "height": 420
    },
    "executionInfo": {
     "elapsed": 50,
     "status": "ok",
     "timestamp": 1635888296562,
     "user": {
      "displayName": "Yusuf C",
      "photoUrl": "https://lh3.googleusercontent.com/a/default-user=s64",
      "userId": "01460091991965572961"
     },
     "user_tz": -180
    },
    "id": "Mx_tlEPa19xh",
    "outputId": "24f8f11a-5dc5-476a-d2db-15aee87a6ec6"
   },
   "outputs": [
    {
     "ename": "TypeError",
     "evalue": "ignored",
     "output_type": "error",
     "traceback": [
      "\u001b[0;31m---------------------------------------------------------------------------\u001b[0m",
      "\u001b[0;31mTypeError\u001b[0m                                 Traceback (most recent call last)",
      "\u001b[0;32mpandas/_libs/hashtable_class_helper.pxi\u001b[0m in \u001b[0;36mpandas._libs.hashtable.PyObjectHashTable.map_locations\u001b[0;34m()\u001b[0m\n",
      "\u001b[0;31mTypeError\u001b[0m: unhashable type: 'list'"
     ]
    },
    {
     "name": "stderr",
     "output_type": "stream",
     "text": [
      "Exception ignored in: 'pandas._libs.index.IndexEngine._call_map_locations'\n",
      "Traceback (most recent call last):\n",
      "  File \"pandas/_libs/hashtable_class_helper.pxi\", line 1709, in pandas._libs.hashtable.PyObjectHashTable.map_locations\n",
      "TypeError: unhashable type: 'list'\n"
     ]
    },
    {
     "data": {
      "text/plain": [
       "NaN                                                                                           8742\n",
       "[\\n, \\n]                                                                                      3647\n",
       "[\\n, \\n, \\n4 (Green)\\n]                                                                       1240\n",
       "[\\n, \\n, \\nEuro 6\\n]                                                                          1127\n",
       "[\\n, \\n, \\nEuro 6d-TEMP\\n]                                                                     345\n",
       "                                                                                              ... \n",
       "[\\n, \\n, \\n101 g CO2/km (comb)\\n]                                                                1\n",
       "[\\n, \\n, \\n122 g CO2/km (comb)\\n]                                                                1\n",
       "[\\n, \\n, \\n159 g CO2/km (comb)\\n]                                                                1\n",
       "[\\n, \\n, \\n, 6.2 l/100 km (comb), \\n, 7.9 l/100 km (city), \\n, 5.3 l/100 km (country), \\n]       1\n",
       "[\\n, \\n, \\n175 g CO2/km (comb)\\n]                                                                1\n",
       "Name: Non-smoking Vehicle, Length: 95, dtype: int64"
      ]
     },
     "execution_count": 328,
     "metadata": {},
     "output_type": "execute_result"
    }
   ],
   "source": [
    "df[\"Non-smoking Vehicle\"].value_counts(dropna=False)"
   ]
  },
  {
   "cell_type": "code",
   "execution_count": null,
   "metadata": {
    "id": "j_07SR-n191d"
   },
   "outputs": [],
   "source": [
    "df.drop(\"Non-smoking Vehicle\", axis=1, inplace=True)\n"
   ]
  },
  {
   "cell_type": "markdown",
   "metadata": {
    "id": "KTowo46tGpCK"
   },
   "source": [
    "# description"
   ]
  },
  {
   "cell_type": "code",
   "execution_count": null,
   "metadata": {
    "colab": {
     "base_uri": "https://localhost:8080/"
    },
    "executionInfo": {
     "elapsed": 50,
     "status": "ok",
     "timestamp": 1635888296564,
     "user": {
      "displayName": "Yusuf C",
      "photoUrl": "https://lh3.googleusercontent.com/a/default-user=s64",
      "userId": "01460091991965572961"
     },
     "user_tz": -180
    },
    "id": "9PmgUJ5tGnvY",
    "outputId": "6a1f955f-2fd3-41d0-c3d9-7852636ac580"
   },
   "outputs": [
    {
     "data": {
      "text/plain": [
       "0"
      ]
     },
     "execution_count": 330,
     "metadata": {},
     "output_type": "execute_result"
    }
   ],
   "source": [
    "df[\"description\"].isnull().sum()"
   ]
  },
  {
   "cell_type": "code",
   "execution_count": null,
   "metadata": {
    "id": "onTqvNqCGn3A"
   },
   "outputs": [],
   "source": [
    "df.drop(\"description\", axis=1, inplace=True)"
   ]
  },
  {
   "cell_type": "markdown",
   "metadata": {
    "id": "hwmhadlcHR4c"
   },
   "source": [
    "# short_description"
   ]
  },
  {
   "cell_type": "code",
   "execution_count": null,
   "metadata": {
    "colab": {
     "base_uri": "https://localhost:8080/"
    },
    "executionInfo": {
     "elapsed": 43,
     "status": "ok",
     "timestamp": 1635888296565,
     "user": {
      "displayName": "Yusuf C",
      "photoUrl": "https://lh3.googleusercontent.com/a/default-user=s64",
      "userId": "01460091991965572961"
     },
     "user_tz": -180
    },
    "id": "YUKeacEGGn-c",
    "outputId": "879f6538-d972-440d-e6f7-4f4223d0ebf3"
   },
   "outputs": [
    {
     "data": {
      "text/plain": [
       "SPB 1.6 TDI 116 CV S tronic Sport               64\n",
       "NaN                                             46\n",
       "1.4 66kW (90CV) Selective                       40\n",
       "MOVE KLIMA CD USB ALLWETTER BLUETOOTH           38\n",
       "SPB 30 TFSI S tronic Admired                    35\n",
       "                                                ..\n",
       "1.2 5 porte b-Color CLIMA ELETTR.                1\n",
       "Sportback 1.0TFSI design                         1\n",
       "Sportback 2.0 TDI Ambition *Xenon*               1\n",
       "1.2 Edition 1.Hd. Klima Parkpilot Sitzh.         1\n",
       "1,4 Turbo Ecotec Direct Inj. Innovation Star     1\n",
       "Name: short_description, Length: 10002, dtype: int64"
      ]
     },
     "execution_count": 332,
     "metadata": {},
     "output_type": "execute_result"
    }
   ],
   "source": [
    "df[\"short_description\"].value_counts(dropna=False)"
   ]
  },
  {
   "cell_type": "markdown",
   "metadata": {
    "id": "z7G80f51YhYq"
   },
   "source": [
    "# Electricity consumption dropped"
   ]
  },
  {
   "cell_type": "code",
   "execution_count": null,
   "metadata": {
    "colab": {
     "base_uri": "https://localhost:8080/",
     "height": 250
    },
    "executionInfo": {
     "elapsed": 608,
     "status": "ok",
     "timestamp": 1635888297137,
     "user": {
      "displayName": "Yusuf C",
      "photoUrl": "https://lh3.googleusercontent.com/a/default-user=s64",
      "userId": "01460091991965572961"
     },
     "user_tz": -180
    },
    "id": "AJBWq3KuYT7a",
    "outputId": "e8982b47-218d-4adc-f3e4-cc84d55bd94e"
   },
   "outputs": [
    {
     "ename": "TypeError",
     "evalue": "ignored",
     "output_type": "error",
     "traceback": [
      "\u001b[0;31m---------------------------------------------------------------------------\u001b[0m",
      "\u001b[0;31mTypeError\u001b[0m                                 Traceback (most recent call last)",
      "\u001b[0;32mpandas/_libs/hashtable_class_helper.pxi\u001b[0m in \u001b[0;36mpandas._libs.hashtable.PyObjectHashTable.map_locations\u001b[0;34m()\u001b[0m\n",
      "\u001b[0;31mTypeError\u001b[0m: unhashable type: 'list'"
     ]
    },
    {
     "name": "stderr",
     "output_type": "stream",
     "text": [
      "Exception ignored in: 'pandas._libs.index.IndexEngine._call_map_locations'\n",
      "Traceback (most recent call last):\n",
      "  File \"pandas/_libs/hashtable_class_helper.pxi\", line 1709, in pandas._libs.hashtable.PyObjectHashTable.map_locations\n",
      "TypeError: unhashable type: 'list'\n"
     ]
    },
    {
     "data": {
      "text/plain": [
       "[\\n0 kWh/100 km (comb)\\n]    137\n",
       "Name: Electricity consumption, dtype: int64"
      ]
     },
     "execution_count": 333,
     "metadata": {},
     "output_type": "execute_result"
    }
   ],
   "source": [
    "df[~df['Electricity consumption'].isnull()][\"Electricity consumption\"].value_counts()"
   ]
  },
  {
   "cell_type": "code",
   "execution_count": null,
   "metadata": {
    "id": "XGKqQRfvYT-8"
   },
   "outputs": [],
   "source": [
    "df.drop(\"Electricity consumption\", axis=1, inplace=True)"
   ]
  },
  {
   "cell_type": "markdown",
   "metadata": {
    "id": "81GEZaOnS668"
   },
   "source": [
    "# Last Service Date"
   ]
  },
  {
   "cell_type": "code",
   "execution_count": null,
   "metadata": {
    "colab": {
     "base_uri": "https://localhost:8080/",
     "height": 420
    },
    "executionInfo": {
     "elapsed": 60,
     "status": "ok",
     "timestamp": 1635888297139,
     "user": {
      "displayName": "Yusuf C",
      "photoUrl": "https://lh3.googleusercontent.com/a/default-user=s64",
      "userId": "01460091991965572961"
     },
     "user_tz": -180
    },
    "id": "pp0VLxV7S5xA",
    "outputId": "3cb36473-930e-49e6-af7d-93b02d681fe0"
   },
   "outputs": [
    {
     "ename": "TypeError",
     "evalue": "ignored",
     "output_type": "error",
     "traceback": [
      "\u001b[0;31m---------------------------------------------------------------------------\u001b[0m",
      "\u001b[0;31mTypeError\u001b[0m                                 Traceback (most recent call last)",
      "\u001b[0;32mpandas/_libs/hashtable_class_helper.pxi\u001b[0m in \u001b[0;36mpandas._libs.hashtable.PyObjectHashTable.map_locations\u001b[0;34m()\u001b[0m\n",
      "\u001b[0;31mTypeError\u001b[0m: unhashable type: 'list'"
     ]
    },
    {
     "name": "stderr",
     "output_type": "stream",
     "text": [
      "Exception ignored in: 'pandas._libs.index.IndexEngine._call_map_locations'\n",
      "Traceback (most recent call last):\n",
      "  File \"pandas/_libs/hashtable_class_helper.pxi\", line 1709, in pandas._libs.hashtable.PyObjectHashTable.map_locations\n",
      "TypeError: unhashable type: 'list'\n"
     ]
    },
    {
     "data": {
      "text/plain": [
       "NaN                                       15353\n",
       "[\\n02/2019\\n, \\nEuro 6\\n]                    23\n",
       "[\\n05/2019\\n, \\nEuro 6\\n]                    16\n",
       "[\\n01/2018\\n, \\n118 g CO2/km (comb)\\n]       15\n",
       "[\\n03/2019\\n, \\nEuro 6\\n]                    15\n",
       "                                          ...  \n",
       "[\\n03/2019\\n, \\n129 g CO2/km (comb)\\n]        1\n",
       "[\\n04/2018\\n, \\n110 g CO2/km (comb)\\n]        1\n",
       "[\\n04/2018\\n, \\n123 g CO2/km (comb)\\n]        1\n",
       "[\\n03/2019\\n, \\n139 g CO2/km (comb)\\n]        1\n",
       "[\\n01/2019\\n, \\n104 g CO2/km (comb)\\n]        1\n",
       "Name: Last Service Date, Length: 267, dtype: int64"
      ]
     },
     "execution_count": 335,
     "metadata": {},
     "output_type": "execute_result"
    }
   ],
   "source": [
    "df[\"Last Service Date\"].value_counts(dropna=False)"
   ]
  },
  {
   "cell_type": "code",
   "execution_count": null,
   "metadata": {
    "colab": {
     "base_uri": "https://localhost:8080/"
    },
    "executionInfo": {
     "elapsed": 60,
     "status": "ok",
     "timestamp": 1635888297142,
     "user": {
      "displayName": "Yusuf C",
      "photoUrl": "https://lh3.googleusercontent.com/a/default-user=s64",
      "userId": "01460091991965572961"
     },
     "user_tz": -180
    },
    "id": "iovdfTKxS5zw",
    "outputId": "98afa4ec-443c-4207-bc4b-2c2a886af69e"
   },
   "outputs": [
    {
     "data": {
      "text/plain": [
       "['\\n12/2018\\n', '\\nEuro 6\\n']"
      ]
     },
     "execution_count": 336,
     "metadata": {},
     "output_type": "execute_result"
    }
   ],
   "source": [
    "df[~df[\"Last Service Date\"].isnull()][\"Last Service Date\"][22]"
   ]
  },
  {
   "cell_type": "code",
   "execution_count": null,
   "metadata": {
    "colab": {
     "base_uri": "https://localhost:8080/"
    },
    "executionInfo": {
     "elapsed": 50,
     "status": "ok",
     "timestamp": 1635888297144,
     "user": {
      "displayName": "Yusuf C",
      "photoUrl": "https://lh3.googleusercontent.com/a/default-user=s64",
      "userId": "01460091991965572961"
     },
     "user_tz": -180
    },
    "id": "h_is5VDccXh-",
    "outputId": "0c4a137d-ac84-4ffa-ad0a-8e0f2b2cff8a"
   },
   "outputs": [
    {
     "data": {
      "text/plain": [
       "['\\n12/2018\\n']"
      ]
     },
     "execution_count": 337,
     "metadata": {},
     "output_type": "execute_result"
    }
   ],
   "source": [
    "df[\"Last Service Date\"][2968]"
   ]
  },
  {
   "cell_type": "code",
   "execution_count": null,
   "metadata": {
    "colab": {
     "base_uri": "https://localhost:8080/"
    },
    "executionInfo": {
     "elapsed": 45,
     "status": "ok",
     "timestamp": 1635888297146,
     "user": {
      "displayName": "Yusuf C",
      "photoUrl": "https://lh3.googleusercontent.com/a/default-user=s64",
      "userId": "01460091991965572961"
     },
     "user_tz": -180
    },
    "id": "AEyx29OZbw-r",
    "outputId": "c0bcae89-6467-4a4d-eb31-f8f1a12bf597"
   },
   "outputs": [
    {
     "data": {
      "text/plain": [
       "2779     \\n12/2018\\n\n",
       "3021     \\n12/2018\\n\n",
       "3427     \\n12/2018\\n\n",
       "13392    \\n12/2018\\n\n",
       "13723    \\n12/2018\\n\n",
       "13934    \\n12/2018\\n\n",
       "14112    \\n12/2018\\n\n",
       "Name: Last Service Date, dtype: object"
      ]
     },
     "execution_count": 338,
     "metadata": {},
     "output_type": "execute_result"
    }
   ],
   "source": [
    "df[df[\"Last Service Date\"] == \"\\n12/2018\\n\"][\"Last Service Date\"]"
   ]
  },
  {
   "cell_type": "code",
   "execution_count": null,
   "metadata": {
    "colab": {
     "base_uri": "https://localhost:8080/"
    },
    "executionInfo": {
     "elapsed": 37,
     "status": "ok",
     "timestamp": 1635888297147,
     "user": {
      "displayName": "Yusuf C",
      "photoUrl": "https://lh3.googleusercontent.com/a/default-user=s64",
      "userId": "01460091991965572961"
     },
     "user_tz": -180
    },
    "id": "9RgLyR1_XBYV",
    "outputId": "7f588fd6-4000-4913-eb97-e18e4ceed9b9"
   },
   "outputs": [
    {
     "name": "stderr",
     "output_type": "stream",
     "text": [
      "/usr/local/lib/python3.7/dist-packages/ipykernel_launcher.py:4: SettingWithCopyWarning: \n",
      "A value is trying to be set on a copy of a slice from a DataFrame\n",
      "\n",
      "See the caveats in the documentation: https://pandas.pydata.org/pandas-docs/stable/user_guide/indexing.html#returning-a-view-versus-a-copy\n",
      "  after removing the cwd from sys.path.\n",
      "/usr/local/lib/python3.7/dist-packages/ipykernel_launcher.py:6: SettingWithCopyWarning: \n",
      "A value is trying to be set on a copy of a slice from a DataFrame\n",
      "\n",
      "See the caveats in the documentation: https://pandas.pydata.org/pandas-docs/stable/user_guide/indexing.html#returning-a-view-versus-a-copy\n",
      "  \n"
     ]
    }
   ],
   "source": [
    "for i in range(df.shape[0]):\n",
    "  if type(df[\"Last Service Date\"][i]) != float:\n",
    "    if (type(df[\"Last Service Date\"][i]) == list):\n",
    "      df[\"Last Service Date\"][i] = df[\"Last Service Date\"][i][0].split()[0]\n",
    "    elif (type(df[\"Last Service Date\"][i]) == str):\n",
    "      df[\"Last Service Date\"][i] = df[\"Last Service Date\"][i].split()[0]"
   ]
  },
  {
   "cell_type": "code",
   "execution_count": null,
   "metadata": {
    "colab": {
     "base_uri": "https://localhost:8080/"
    },
    "executionInfo": {
     "elapsed": 31,
     "status": "ok",
     "timestamp": 1635888297148,
     "user": {
      "displayName": "Yusuf C",
      "photoUrl": "https://lh3.googleusercontent.com/a/default-user=s64",
      "userId": "01460091991965572961"
     },
     "user_tz": -180
    },
    "id": "hw5ng5YiZAyh",
    "outputId": "790cdbaa-834c-4a74-c5c1-d1fdfddea83f"
   },
   "outputs": [
    {
     "data": {
      "text/plain": [
       "NaN        15353\n",
       "05/2019       61\n",
       "02/2019       55\n",
       "01/2019       51\n",
       "06/2019       49\n",
       "04/2019       48\n",
       "03/2019       47\n",
       "12/2018       32\n",
       "10/2018       24\n",
       "07/2018       21\n",
       "05/2018       21\n",
       "06/2018       21\n",
       "01/2018       20\n",
       "09/2018       17\n",
       "11/2018       17\n",
       "04/2018       16\n",
       "08/2018       13\n",
       "03/2018        9\n",
       "06/2017        7\n",
       "02/2018        5\n",
       "10/2017        3\n",
       "12/2017        3\n",
       "01/2017        3\n",
       "02/2017        3\n",
       "05/2017        3\n",
       "04/2016        2\n",
       "06/2016        2\n",
       "07/2017        2\n",
       "11/2017        2\n",
       "11/2019        1\n",
       "04/2017        1\n",
       "05/2016        1\n",
       "10/2019        1\n",
       "09/2017        1\n",
       "07/2019        1\n",
       "08/2019        1\n",
       "09/2019        1\n",
       "03/2016        1\n",
       "Name: Last Service Date, dtype: int64"
      ]
     },
     "execution_count": 340,
     "metadata": {},
     "output_type": "execute_result"
    }
   ],
   "source": [
    "df[\"Last Service Date\"].value_counts(dropna=False)"
   ]
  },
  {
   "cell_type": "markdown",
   "metadata": {
    "id": "wrmD25UPIcPx"
   },
   "source": [
    "# Comfort & Convenience  920 \n",
    "\n",
    "# Extras  2961 \n",
    "\n",
    "# Entertainment & Media  1374 \n",
    "\n",
    "# Safety & Security 982 "
   ]
  },
  {
   "cell_type": "code",
   "execution_count": null,
   "metadata": {
    "colab": {
     "base_uri": "https://localhost:8080/",
     "height": 35
    },
    "executionInfo": {
     "elapsed": 24,
     "status": "ok",
     "timestamp": 1635888297149,
     "user": {
      "displayName": "Yusuf C",
      "photoUrl": "https://lh3.googleusercontent.com/a/default-user=s64",
      "userId": "01460091991965572961"
     },
     "user_tz": -180
    },
    "id": "fgtr8Pz-Sq4r",
    "outputId": "8bba8f2b-a006-4364-f440-ff5034843666"
   },
   "outputs": [
    {
     "data": {
      "application/vnd.google.colaboratory.intrinsic+json": {
       "type": "string"
      },
      "text/plain": [
       "'Alloy wheels,Sport seats,Sport suspension,Voice Control'"
      ]
     },
     "execution_count": 341,
     "metadata": {},
     "output_type": "execute_result"
    }
   ],
   "source": [
    "str(df['Extras'][1])[2:-2].replace(\"', '\", \",\")"
   ]
  },
  {
   "cell_type": "code",
   "execution_count": null,
   "metadata": {
    "colab": {
     "base_uri": "https://localhost:8080/"
    },
    "executionInfo": {
     "elapsed": 418,
     "status": "ok",
     "timestamp": 1635888297545,
     "user": {
      "displayName": "Yusuf C",
      "photoUrl": "https://lh3.googleusercontent.com/a/default-user=s64",
      "userId": "01460091991965572961"
     },
     "user_tz": -180
    },
    "id": "rin9s-ElVGHp",
    "outputId": "67f136f9-8a13-4519-bb57-6bca62754f6a"
   },
   "outputs": [
    {
     "data": {
      "text/plain": [
       "0        Air conditioning,Armrest,Automatic climate con...\n",
       "1        Air conditioning,Automatic climate control,Hil...\n",
       "2        Air conditioning,Cruise control,Electrical sid...\n",
       "3        Air suspension,Armrest,Auxiliary heating,Elect...\n",
       "4        Air conditioning,Armrest,Automatic climate con...\n",
       "                               ...                        \n",
       "15914    Air conditioning,Automatic climate control,Cru...\n",
       "15915    Air conditioning,Automatic climate control,Cru...\n",
       "15916    Air conditioning,Armrest,Automatic climate con...\n",
       "15917    Air conditioning,Automatic climate control,Cru...\n",
       "15918    Air conditioning,Automatic climate control,Cru...\n",
       "Name: Comfort & Convenience, Length: 15919, dtype: object"
      ]
     },
     "execution_count": 342,
     "metadata": {},
     "output_type": "execute_result"
    }
   ],
   "source": [
    "df['Comfort & Convenience'].apply(lambda x: str(x)[2:-2].replace(\"', '\", \",\") if type(x)==list else x)"
   ]
  },
  {
   "cell_type": "code",
   "execution_count": null,
   "metadata": {
    "colab": {
     "base_uri": "https://localhost:8080/",
     "height": 419
    },
    "executionInfo": {
     "elapsed": 14,
     "status": "ok",
     "timestamp": 1635888297547,
     "user": {
      "displayName": "Yusuf C",
      "photoUrl": "https://lh3.googleusercontent.com/a/default-user=s64",
      "userId": "01460091991965572961"
     },
     "user_tz": -180
    },
    "id": "zND4WWmWKdTM",
    "outputId": "13412bd9-2ff1-4421-f97a-6c088e8ef519"
   },
   "outputs": [
    {
     "data": {
      "text/html": [
       "<div>\n",
       "<style scoped>\n",
       "    .dataframe tbody tr th:only-of-type {\n",
       "        vertical-align: middle;\n",
       "    }\n",
       "\n",
       "    .dataframe tbody tr th {\n",
       "        vertical-align: top;\n",
       "    }\n",
       "\n",
       "    .dataframe thead th {\n",
       "        text-align: right;\n",
       "    }\n",
       "</style>\n",
       "<table border=\"1\" class=\"dataframe\">\n",
       "  <thead>\n",
       "    <tr style=\"text-align: right;\">\n",
       "      <th></th>\n",
       "      <th>Comfort &amp; Convenience</th>\n",
       "      <th>Extras</th>\n",
       "      <th>Entertainment &amp; Media</th>\n",
       "      <th>Safety &amp; Security</th>\n",
       "    </tr>\n",
       "  </thead>\n",
       "  <tbody>\n",
       "    <tr>\n",
       "      <th>0</th>\n",
       "      <td>Air conditioning,Armrest,Automatic climate con...</td>\n",
       "      <td>Alloy wheels,Catalytic Converter,Voice Control</td>\n",
       "      <td>Bluetooth,Hands-free equipment,On-board comput...</td>\n",
       "      <td>ABS,Central door lock,Daytime running lights,D...</td>\n",
       "    </tr>\n",
       "    <tr>\n",
       "      <th>1</th>\n",
       "      <td>Air conditioning,Automatic climate control,Hil...</td>\n",
       "      <td>Alloy wheels,Sport seats,Sport suspension,Voic...</td>\n",
       "      <td>Bluetooth,Hands-free equipment,On-board comput...</td>\n",
       "      <td>ABS,Central door lock,Central door lock with r...</td>\n",
       "    </tr>\n",
       "    <tr>\n",
       "      <th>2</th>\n",
       "      <td>Air conditioning,Cruise control,Electrical sid...</td>\n",
       "      <td>Alloy wheels,Voice Control</td>\n",
       "      <td>MP3,On-board computer</td>\n",
       "      <td>ABS,Central door lock,Daytime running lights,D...</td>\n",
       "    </tr>\n",
       "    <tr>\n",
       "      <th>3</th>\n",
       "      <td>Air suspension,Armrest,Auxiliary heating,Elect...</td>\n",
       "      <td>Alloy wheels,Sport seats,Voice Control</td>\n",
       "      <td>Bluetooth,CD player,Hands-free equipment,MP3,O...</td>\n",
       "      <td>ABS,Alarm system,Central door lock with remote...</td>\n",
       "    </tr>\n",
       "    <tr>\n",
       "      <th>4</th>\n",
       "      <td>Air conditioning,Armrest,Automatic climate con...</td>\n",
       "      <td>Alloy wheels,Sport package,Sport suspension,Vo...</td>\n",
       "      <td>Bluetooth,CD player,Hands-free equipment,MP3,O...</td>\n",
       "      <td>ABS,Central door lock,Driver-side airbag,Elect...</td>\n",
       "    </tr>\n",
       "    <tr>\n",
       "      <th>...</th>\n",
       "      <td>...</td>\n",
       "      <td>...</td>\n",
       "      <td>...</td>\n",
       "      <td>...</td>\n",
       "    </tr>\n",
       "    <tr>\n",
       "      <th>15914</th>\n",
       "      <td>Air conditioning,Automatic climate control,Cru...</td>\n",
       "      <td>Alloy wheels,Touch screen</td>\n",
       "      <td>Bluetooth,Digital radio,Hands-free equipment,O...</td>\n",
       "      <td>ABS,Central door lock,Central door lock with r...</td>\n",
       "    </tr>\n",
       "    <tr>\n",
       "      <th>15915</th>\n",
       "      <td>Air conditioning,Automatic climate control,Cru...</td>\n",
       "      <td>Alloy wheels,Touch screen,Voice Control</td>\n",
       "      <td>Bluetooth,Digital radio,Hands-free equipment,R...</td>\n",
       "      <td>ABS,Adaptive Cruise Control,Blind spot monitor...</td>\n",
       "    </tr>\n",
       "    <tr>\n",
       "      <th>15916</th>\n",
       "      <td>Air conditioning,Armrest,Automatic climate con...</td>\n",
       "      <td>Alloy wheels</td>\n",
       "      <td>Bluetooth,Hands-free equipment,On-board comput...</td>\n",
       "      <td>ABS,Adaptive Cruise Control,Blind spot monitor...</td>\n",
       "    </tr>\n",
       "    <tr>\n",
       "      <th>15917</th>\n",
       "      <td>Air conditioning,Automatic climate control,Cru...</td>\n",
       "      <td>Alloy wheels,Touch screen</td>\n",
       "      <td>Bluetooth,Digital radio,Radio,USB</td>\n",
       "      <td>ABS,Blind spot monitor,Driver-side airbag,Elec...</td>\n",
       "    </tr>\n",
       "    <tr>\n",
       "      <th>15918</th>\n",
       "      <td>Air conditioning,Automatic climate control,Cru...</td>\n",
       "      <td>Alloy wheels,Touch screen</td>\n",
       "      <td>USB</td>\n",
       "      <td>ABS,Blind spot monitor,Daytime running lights,...</td>\n",
       "    </tr>\n",
       "  </tbody>\n",
       "</table>\n",
       "<p>15919 rows × 4 columns</p>\n",
       "</div>"
      ],
      "text/plain": [
       "                                   Comfort & Convenience  ...                                  Safety & Security\n",
       "0      Air conditioning,Armrest,Automatic climate con...  ...  ABS,Central door lock,Daytime running lights,D...\n",
       "1      Air conditioning,Automatic climate control,Hil...  ...  ABS,Central door lock,Central door lock with r...\n",
       "2      Air conditioning,Cruise control,Electrical sid...  ...  ABS,Central door lock,Daytime running lights,D...\n",
       "3      Air suspension,Armrest,Auxiliary heating,Elect...  ...  ABS,Alarm system,Central door lock with remote...\n",
       "4      Air conditioning,Armrest,Automatic climate con...  ...  ABS,Central door lock,Driver-side airbag,Elect...\n",
       "...                                                  ...  ...                                                ...\n",
       "15914  Air conditioning,Automatic climate control,Cru...  ...  ABS,Central door lock,Central door lock with r...\n",
       "15915  Air conditioning,Automatic climate control,Cru...  ...  ABS,Adaptive Cruise Control,Blind spot monitor...\n",
       "15916  Air conditioning,Armrest,Automatic climate con...  ...  ABS,Adaptive Cruise Control,Blind spot monitor...\n",
       "15917  Air conditioning,Automatic climate control,Cru...  ...  ABS,Blind spot monitor,Driver-side airbag,Elec...\n",
       "15918  Air conditioning,Automatic climate control,Cru...  ...  ABS,Blind spot monitor,Daytime running lights,...\n",
       "\n",
       "[15919 rows x 4 columns]"
      ]
     },
     "execution_count": 343,
     "metadata": {},
     "output_type": "execute_result"
    }
   ],
   "source": [
    "# df['Comfort & Convenience'].str.join(\"|\").str.get_dummies()  this is for the lists in the series row\n",
    "\n",
    "\n",
    "df[['Comfort & Convenience', 'Extras', 'Entertainment & Media', 'Safety & Security']].applymap(lambda x: str(x)[2:-2].replace(\"', '\", \",\") if type(x)==list else x)"
   ]
  },
  {
   "cell_type": "code",
   "execution_count": null,
   "metadata": {
    "id": "9zCuyf5sKdW9"
   },
   "outputs": [],
   "source": [
    "df[['Comfort & Convenience', 'Extras', 'Entertainment & Media', 'Safety & Security']] = df[['Comfort & Convenience', 'Extras', 'Entertainment & Media', 'Safety & Security']].applymap(lambda x: str(x)[2:-2].replace(\"', '\", \",\") if type(x)==list else x)"
   ]
  },
  {
   "cell_type": "code",
   "execution_count": null,
   "metadata": {
    "colab": {
     "base_uri": "https://localhost:8080/",
     "height": 419
    },
    "executionInfo": {
     "elapsed": 14,
     "status": "ok",
     "timestamp": 1635888297549,
     "user": {
      "displayName": "Yusuf C",
      "photoUrl": "https://lh3.googleusercontent.com/a/default-user=s64",
      "userId": "01460091991965572961"
     },
     "user_tz": -180
    },
    "id": "_bPnpM3bL3aM",
    "outputId": "aeedb080-578d-4faf-d8a5-93d3944d68d5"
   },
   "outputs": [
    {
     "data": {
      "text/html": [
       "<div>\n",
       "<style scoped>\n",
       "    .dataframe tbody tr th:only-of-type {\n",
       "        vertical-align: middle;\n",
       "    }\n",
       "\n",
       "    .dataframe tbody tr th {\n",
       "        vertical-align: top;\n",
       "    }\n",
       "\n",
       "    .dataframe thead th {\n",
       "        text-align: right;\n",
       "    }\n",
       "</style>\n",
       "<table border=\"1\" class=\"dataframe\">\n",
       "  <thead>\n",
       "    <tr style=\"text-align: right;\">\n",
       "      <th></th>\n",
       "      <th>Comfort &amp; Convenience</th>\n",
       "      <th>Extras</th>\n",
       "      <th>Entertainment &amp; Media</th>\n",
       "      <th>Safety &amp; Security</th>\n",
       "    </tr>\n",
       "  </thead>\n",
       "  <tbody>\n",
       "    <tr>\n",
       "      <th>0</th>\n",
       "      <td>Air conditioning,Armrest,Automatic climate con...</td>\n",
       "      <td>Alloy wheels,Catalytic Converter,Voice Control</td>\n",
       "      <td>Bluetooth,Hands-free equipment,On-board comput...</td>\n",
       "      <td>ABS,Central door lock,Daytime running lights,D...</td>\n",
       "    </tr>\n",
       "    <tr>\n",
       "      <th>1</th>\n",
       "      <td>Air conditioning,Automatic climate control,Hil...</td>\n",
       "      <td>Alloy wheels,Sport seats,Sport suspension,Voic...</td>\n",
       "      <td>Bluetooth,Hands-free equipment,On-board comput...</td>\n",
       "      <td>ABS,Central door lock,Central door lock with r...</td>\n",
       "    </tr>\n",
       "    <tr>\n",
       "      <th>2</th>\n",
       "      <td>Air conditioning,Cruise control,Electrical sid...</td>\n",
       "      <td>Alloy wheels,Voice Control</td>\n",
       "      <td>MP3,On-board computer</td>\n",
       "      <td>ABS,Central door lock,Daytime running lights,D...</td>\n",
       "    </tr>\n",
       "    <tr>\n",
       "      <th>3</th>\n",
       "      <td>Air suspension,Armrest,Auxiliary heating,Elect...</td>\n",
       "      <td>Alloy wheels,Sport seats,Voice Control</td>\n",
       "      <td>Bluetooth,CD player,Hands-free equipment,MP3,O...</td>\n",
       "      <td>ABS,Alarm system,Central door lock with remote...</td>\n",
       "    </tr>\n",
       "    <tr>\n",
       "      <th>4</th>\n",
       "      <td>Air conditioning,Armrest,Automatic climate con...</td>\n",
       "      <td>Alloy wheels,Sport package,Sport suspension,Vo...</td>\n",
       "      <td>Bluetooth,CD player,Hands-free equipment,MP3,O...</td>\n",
       "      <td>ABS,Central door lock,Driver-side airbag,Elect...</td>\n",
       "    </tr>\n",
       "    <tr>\n",
       "      <th>...</th>\n",
       "      <td>...</td>\n",
       "      <td>...</td>\n",
       "      <td>...</td>\n",
       "      <td>...</td>\n",
       "    </tr>\n",
       "    <tr>\n",
       "      <th>15914</th>\n",
       "      <td>Air conditioning,Automatic climate control,Cru...</td>\n",
       "      <td>Alloy wheels,Touch screen</td>\n",
       "      <td>Bluetooth,Digital radio,Hands-free equipment,O...</td>\n",
       "      <td>ABS,Central door lock,Central door lock with r...</td>\n",
       "    </tr>\n",
       "    <tr>\n",
       "      <th>15915</th>\n",
       "      <td>Air conditioning,Automatic climate control,Cru...</td>\n",
       "      <td>Alloy wheels,Touch screen,Voice Control</td>\n",
       "      <td>Bluetooth,Digital radio,Hands-free equipment,R...</td>\n",
       "      <td>ABS,Adaptive Cruise Control,Blind spot monitor...</td>\n",
       "    </tr>\n",
       "    <tr>\n",
       "      <th>15916</th>\n",
       "      <td>Air conditioning,Armrest,Automatic climate con...</td>\n",
       "      <td>Alloy wheels</td>\n",
       "      <td>Bluetooth,Hands-free equipment,On-board comput...</td>\n",
       "      <td>ABS,Adaptive Cruise Control,Blind spot monitor...</td>\n",
       "    </tr>\n",
       "    <tr>\n",
       "      <th>15917</th>\n",
       "      <td>Air conditioning,Automatic climate control,Cru...</td>\n",
       "      <td>Alloy wheels,Touch screen</td>\n",
       "      <td>Bluetooth,Digital radio,Radio,USB</td>\n",
       "      <td>ABS,Blind spot monitor,Driver-side airbag,Elec...</td>\n",
       "    </tr>\n",
       "    <tr>\n",
       "      <th>15918</th>\n",
       "      <td>Air conditioning,Automatic climate control,Cru...</td>\n",
       "      <td>Alloy wheels,Touch screen</td>\n",
       "      <td>USB</td>\n",
       "      <td>ABS,Blind spot monitor,Daytime running lights,...</td>\n",
       "    </tr>\n",
       "  </tbody>\n",
       "</table>\n",
       "<p>15919 rows × 4 columns</p>\n",
       "</div>"
      ],
      "text/plain": [
       "                                   Comfort & Convenience  ...                                  Safety & Security\n",
       "0      Air conditioning,Armrest,Automatic climate con...  ...  ABS,Central door lock,Daytime running lights,D...\n",
       "1      Air conditioning,Automatic climate control,Hil...  ...  ABS,Central door lock,Central door lock with r...\n",
       "2      Air conditioning,Cruise control,Electrical sid...  ...  ABS,Central door lock,Daytime running lights,D...\n",
       "3      Air suspension,Armrest,Auxiliary heating,Elect...  ...  ABS,Alarm system,Central door lock with remote...\n",
       "4      Air conditioning,Armrest,Automatic climate con...  ...  ABS,Central door lock,Driver-side airbag,Elect...\n",
       "...                                                  ...  ...                                                ...\n",
       "15914  Air conditioning,Automatic climate control,Cru...  ...  ABS,Central door lock,Central door lock with r...\n",
       "15915  Air conditioning,Automatic climate control,Cru...  ...  ABS,Adaptive Cruise Control,Blind spot monitor...\n",
       "15916  Air conditioning,Armrest,Automatic climate con...  ...  ABS,Adaptive Cruise Control,Blind spot monitor...\n",
       "15917  Air conditioning,Automatic climate control,Cru...  ...  ABS,Blind spot monitor,Driver-side airbag,Elec...\n",
       "15918  Air conditioning,Automatic climate control,Cru...  ...  ABS,Blind spot monitor,Daytime running lights,...\n",
       "\n",
       "[15919 rows x 4 columns]"
      ]
     },
     "execution_count": 345,
     "metadata": {},
     "output_type": "execute_result"
    }
   ],
   "source": [
    "df[['Comfort & Convenience', 'Extras', 'Entertainment & Media', 'Safety & Security']]"
   ]
  },
  {
   "cell_type": "code",
   "execution_count": null,
   "metadata": {
    "colab": {
     "base_uri": "https://localhost:8080/"
    },
    "executionInfo": {
     "elapsed": 336,
     "status": "ok",
     "timestamp": 1635888297872,
     "user": {
      "displayName": "Yusuf C",
      "photoUrl": "https://lh3.googleusercontent.com/a/default-user=s64",
      "userId": "01460091991965572961"
     },
     "user_tz": -180
    },
    "id": "TeizIvGeL3d1",
    "outputId": "ec268766-3a1d-4ab6-c241-e2d3b89ca6c1"
   },
   "outputs": [
    {
     "name": "stdout",
     "output_type": "stream",
     "text": [
      "Comfort & Convenience \n",
      " NaN                                                                                                                                                                                                                                                                                                                                                                                                                                                                                                      920\n",
      "Air conditioning,Electrical side mirrors,Hill Holder,Power windows                                                                                                                                                                                                                                                                                                                                                                                                                                       216\n",
      "Air conditioning,Electrical side mirrors,Power windows                                                                                                                                                                                                                                                                                                                                                                                                                                                   134\n",
      "Air conditioning,Power windows                                                                                                                                                                                                                                                                                                                                                                                                                                                                           130\n",
      "Air conditioning,Armrest,Automatic climate control,Cruise control,Electrical side mirrors,Leather steering wheel,Light sensor,Lumbar support,Multi-function steering wheel,Navigation system,Park Distance Control,Parking assist system sensors front,Parking assist system sensors rear,Power windows,Rain sensor,Seat heating,Start-stop system                                                                                                                                                       105\n",
      "                                                                                                                                                                                                                                                                                                                                                                                                                                                                                                        ... \n",
      "Air conditioning,Automatic climate control,Light sensor,Navigation system,Park Distance Control,Parking assist system sensors rear,Rain sensor                                                                                                                                                                                                                                                                                                                                                             1\n",
      "Air conditioning,Automatic climate control,Cruise control,Leather steering wheel,Light sensor,Multi-function steering wheel,Power windows,Rain sensor,Split rear seats,Start-stop system                                                                                                                                                                                                                                                                                                                   1\n",
      "Air conditioning,Automatic climate control,Cruise control,Electrically heated windshield,Electrical side mirrors,Keyless central door lock,Leather steering wheel,Light sensor,Lumbar support,Multi-function steering wheel,Navigation system,Parking assist system camera,Parking assist system sensors front,Parking assist system sensors rear,Power windows,Rain sensor,Seat heating,Seat ventilation,Split rear seats,Start-stop system,Tinted windows                                                1\n",
      "Air conditioning,Armrest,Automatic climate control,Cruise control,Electrical side mirrors,Electric tailgate,Hill Holder,Keyless central door lock,Leather steering wheel,Light sensor,Lumbar support,Multi-function steering wheel,Navigation system,Park Distance Control,Parking assist system camera,Parking assist system sensors rear,Power windows,Rain sensor,Seat heating                                                                                                                          1\n",
      "Air conditioning,Armrest,Automatic climate control,Cruise control,Electrically adjustable seats,Electrical side mirrors,Heated steering wheel,Keyless central door lock,Leather steering wheel,Lumbar support,Multi-function steering wheel,Navigation system,Park Distance Control,Parking assist system camera,Parking assist system self-steering,Parking assist system sensors front,Parking assist system sensors rear,Power windows,Rain sensor,Seat heating,Seat ventilation,Start-stop system      1\n",
      "Name: Comfort & Convenience, Length: 6199, dtype: int64 \n",
      "\n",
      "Extras \n",
      " Alloy wheels                                                                                                          3245\n",
      "NaN                                                                                                                   2962\n",
      "Alloy wheels,Touch screen                                                                                              697\n",
      "Alloy wheels,Voice Control                                                                                             577\n",
      "Alloy wheels,Touch screen,Voice Control                                                                                541\n",
      "                                                                                                                      ... \n",
      "Cab or rented Car,Catalytic Converter,Roof rack                                                                          1\n",
      "Alloy wheels,Roof rack,Shift paddles,Ski bag,Sport package,Sport seats,Sport suspension,Touch screen,Voice Control       1\n",
      "Alloy wheels,Cab or rented Car,Shift paddles,Sport seats                                                                 1\n",
      "Alloy wheels,Catalytic Converter,Sport package,Sport seats,Sport suspension,Trailer hitch,Voice Control                  1\n",
      "Alloy wheels,Roof rack,Sport suspension,Touch screen                                                                     1\n",
      "Name: Extras, Length: 660, dtype: int64 \n",
      "\n",
      "Entertainment & Media \n",
      " NaN                                                                                                         1374\n",
      "Bluetooth,Hands-free equipment,On-board computer,Radio,USB                                                  1282\n",
      "Bluetooth,Hands-free equipment,MP3,On-board computer,Radio,USB                                               982\n",
      "Bluetooth,CD player,Hands-free equipment,MP3,On-board computer,Radio,USB                                     783\n",
      "On-board computer,Radio                                                                                      487\n",
      "                                                                                                            ... \n",
      "Bluetooth,CD player,Digital radio,Hands-free equipment,On-board computer,Radio,Sound system                    1\n",
      "CD player,Digital radio,On-board computer,USB                                                                  1\n",
      "Bluetooth,CD player,MP3                                                                                        1\n",
      "Bluetooth,MP3,On-board computer,Radio,Television,USB                                                           1\n",
      "Bluetooth,CD player,Digital radio,Hands-free equipment,MP3,On-board computer,Sound system,Television,USB       1\n",
      "Name: Entertainment & Media, Length: 347, dtype: int64 \n",
      "\n",
      "Safety & Security \n",
      " NaN                                                                                                                                                                                                                                                                                                                                                                                                                                                                       982\n",
      "ABS,Central door lock,Daytime running lights,Driver-side airbag,Electronic stability control,Fog lights,Immobilizer,Isofix,Passenger-side airbag,Power steering,Side airbag,Tire pressure monitoring system,Traction control                                                                                                                                                                                                                                              538\n",
      "ABS,Central door lock,Daytime running lights,Driver-side airbag,Electronic stability control,Immobilizer,Isofix,Passenger-side airbag,Power steering,Side airbag,Tire pressure monitoring system,Traction control                                                                                                                                                                                                                                                         480\n",
      "ABS,Central door lock,Daytime running lights,Driver-side airbag,Electronic stability control,Immobilizer,Isofix,Passenger-side airbag,Power steering,Side airbag,Tire pressure monitoring system,Traction control,Xenon headlights                                                                                                                                                                                                                                        275\n",
      "ABS,Central door lock,Daytime running lights,Driver-side airbag,Electronic stability control,Fog lights,Immobilizer,Isofix,LED Daytime Running Lights,Passenger-side airbag,Power steering,Side airbag,Tire pressure monitoring system,Traction control                                                                                                                                                                                                                   272\n",
      "                                                                                                                                                                                                                                                                                                                                                                                                                                                                         ... \n",
      "ABS,Alarm system,Central door lock,Central door lock with remote control,Daytime running lights,Driver drowsiness detection,Driver-side airbag,Electronic stability control,Head airbag,Immobilizer,Isofix,Passenger-side airbag,Power steering,Rear airbag,Side airbag,Tire pressure monitoring system,Traction control                                                                                                                                                    1\n",
      "ABS,Adaptive headlights,Central door lock,Daytime running lights,Driver-side airbag,Electronic stability control,Emergency brake assistant,Fog lights,Immobilizer,Isofix,LED Daytime Running Lights,LED Headlights,Passenger-side airbag,Side airbag,Tire pressure monitoring system,Traction control                                                                                                                                                                       1\n",
      "ABS,Adaptive headlights,Alarm system,Central door lock,Central door lock with remote control,Daytime running lights,Driver drowsiness detection,Driver-side airbag,Electronic stability control,Emergency brake assistant,Fog lights,Head airbag,Immobilizer,Isofix,Lane departure warning system,LED Daytime Running Lights,LED Headlights,Passenger-side airbag,Power steering,Side airbag,Tire pressure monitoring system,Traction control,Traffic sign recognition      1\n",
      "ABS,Central door lock,Daytime running lights,Driver-side airbag,Electronic stability control,Fog lights,Immobilizer,Isofix,Power steering,Tire pressure monitoring system,Traction control                                                                                                                                                                                                                                                                                  1\n",
      "ABS,Central door lock,Daytime running lights,Driver-side airbag,Fog lights,Isofix,LED Daytime Running Lights,LED Headlights,Passenger-side airbag,Power steering,Side airbag,Tire pressure monitoring system                                                                                                                                                                                                                                                                1\n",
      "Name: Safety & Security, Length: 4444, dtype: int64 \n",
      "\n"
     ]
    }
   ],
   "source": [
    "for i in df[['Comfort & Convenience', 'Extras', 'Entertainment & Media', 'Safety & Security']].columns:\n",
    "  print(i, \"\\n\", df[i].value_counts(dropna=False), \"\\n\")"
   ]
  },
  {
   "cell_type": "code",
   "execution_count": null,
   "metadata": {
    "colab": {
     "base_uri": "https://localhost:8080/"
    },
    "executionInfo": {
     "elapsed": 16,
     "status": "ok",
     "timestamp": 1635888297873,
     "user": {
      "displayName": "Yusuf C",
      "photoUrl": "https://lh3.googleusercontent.com/a/default-user=s64",
      "userId": "01460091991965572961"
     },
     "user_tz": -180
    },
    "id": "FRJkS_kDBX_t",
    "outputId": "e3a86085-b3ed-44ea-8263-7d3fea74a99c"
   },
   "outputs": [
    {
     "name": "stdout",
     "output_type": "stream",
     "text": [
      "Comfort & Convenience \n",
      " 920 \n",
      "\n",
      "Extras \n",
      " 2962 \n",
      "\n",
      "Entertainment & Media \n",
      " 1374 \n",
      "\n",
      "Safety & Security \n",
      " 982 \n",
      "\n"
     ]
    }
   ],
   "source": [
    "for i in df[['Comfort & Convenience', 'Extras', 'Entertainment & Media', 'Safety & Security']].columns:\n",
    "  print(i, \"\\n\", df[i].isnull().sum(), \"\\n\")"
   ]
  },
  {
   "cell_type": "code",
   "execution_count": null,
   "metadata": {
    "colab": {
     "base_uri": "https://localhost:8080/",
     "height": 507
    },
    "executionInfo": {
     "elapsed": 816,
     "status": "ok",
     "timestamp": 1635888298684,
     "user": {
      "displayName": "Yusuf C",
      "photoUrl": "https://lh3.googleusercontent.com/a/default-user=s64",
      "userId": "01460091991965572961"
     },
     "user_tz": -180
    },
    "id": "H2PIXSrehdAO",
    "outputId": "b3b50494-2ffe-4901-a3c7-cc415dbba060"
   },
   "outputs": [
    {
     "data": {
      "text/html": [
       "<div>\n",
       "<style scoped>\n",
       "    .dataframe tbody tr th:only-of-type {\n",
       "        vertical-align: middle;\n",
       "    }\n",
       "\n",
       "    .dataframe tbody tr th {\n",
       "        vertical-align: top;\n",
       "    }\n",
       "\n",
       "    .dataframe thead th {\n",
       "        text-align: right;\n",
       "    }\n",
       "</style>\n",
       "<table border=\"1\" class=\"dataframe\">\n",
       "  <thead>\n",
       "    <tr style=\"text-align: right;\">\n",
       "      <th></th>\n",
       "      <th>Air conditioning</th>\n",
       "      <th>Air suspension</th>\n",
       "      <th>Armrest</th>\n",
       "      <th>Automatic climate control</th>\n",
       "      <th>Auxiliary heating</th>\n",
       "      <th>Cruise control</th>\n",
       "      <th>Electric Starter</th>\n",
       "      <th>Electric tailgate</th>\n",
       "      <th>Electrical side mirrors</th>\n",
       "      <th>Electrically adjustable seats</th>\n",
       "      <th>Electrically heated windshield</th>\n",
       "      <th>Heads-up display</th>\n",
       "      <th>Heated steering wheel</th>\n",
       "      <th>Hill Holder</th>\n",
       "      <th>Keyless central door lock</th>\n",
       "      <th>Leather seats</th>\n",
       "      <th>Leather steering wheel</th>\n",
       "      <th>Light sensor</th>\n",
       "      <th>Lumbar support</th>\n",
       "      <th>Massage seats</th>\n",
       "      <th>Multi-function steering wheel</th>\n",
       "      <th>Navigation system</th>\n",
       "      <th>Panorama roof</th>\n",
       "      <th>Park Distance Control</th>\n",
       "      <th>Parking assist system camera</th>\n",
       "      <th>Parking assist system self-steering</th>\n",
       "      <th>Parking assist system sensors front</th>\n",
       "      <th>Parking assist system sensors rear</th>\n",
       "      <th>Power windows</th>\n",
       "      <th>Rain sensor</th>\n",
       "      <th>Seat heating</th>\n",
       "      <th>Seat ventilation</th>\n",
       "      <th>Split rear seats</th>\n",
       "      <th>Start-stop system</th>\n",
       "      <th>Sunroof</th>\n",
       "      <th>Tinted windows</th>\n",
       "      <th>Wind deflector</th>\n",
       "      <th>Windshield</th>\n",
       "    </tr>\n",
       "  </thead>\n",
       "  <tbody>\n",
       "    <tr>\n",
       "      <th>0</th>\n",
       "      <td>1</td>\n",
       "      <td>0</td>\n",
       "      <td>1</td>\n",
       "      <td>1</td>\n",
       "      <td>0</td>\n",
       "      <td>1</td>\n",
       "      <td>0</td>\n",
       "      <td>0</td>\n",
       "      <td>1</td>\n",
       "      <td>0</td>\n",
       "      <td>0</td>\n",
       "      <td>0</td>\n",
       "      <td>0</td>\n",
       "      <td>1</td>\n",
       "      <td>0</td>\n",
       "      <td>0</td>\n",
       "      <td>1</td>\n",
       "      <td>1</td>\n",
       "      <td>0</td>\n",
       "      <td>0</td>\n",
       "      <td>1</td>\n",
       "      <td>1</td>\n",
       "      <td>0</td>\n",
       "      <td>1</td>\n",
       "      <td>0</td>\n",
       "      <td>0</td>\n",
       "      <td>0</td>\n",
       "      <td>1</td>\n",
       "      <td>1</td>\n",
       "      <td>1</td>\n",
       "      <td>1</td>\n",
       "      <td>0</td>\n",
       "      <td>0</td>\n",
       "      <td>1</td>\n",
       "      <td>0</td>\n",
       "      <td>0</td>\n",
       "      <td>0</td>\n",
       "      <td>0</td>\n",
       "    </tr>\n",
       "    <tr>\n",
       "      <th>1</th>\n",
       "      <td>1</td>\n",
       "      <td>0</td>\n",
       "      <td>0</td>\n",
       "      <td>1</td>\n",
       "      <td>0</td>\n",
       "      <td>0</td>\n",
       "      <td>0</td>\n",
       "      <td>0</td>\n",
       "      <td>0</td>\n",
       "      <td>0</td>\n",
       "      <td>0</td>\n",
       "      <td>0</td>\n",
       "      <td>0</td>\n",
       "      <td>1</td>\n",
       "      <td>0</td>\n",
       "      <td>0</td>\n",
       "      <td>1</td>\n",
       "      <td>0</td>\n",
       "      <td>1</td>\n",
       "      <td>0</td>\n",
       "      <td>0</td>\n",
       "      <td>0</td>\n",
       "      <td>0</td>\n",
       "      <td>0</td>\n",
       "      <td>0</td>\n",
       "      <td>0</td>\n",
       "      <td>0</td>\n",
       "      <td>1</td>\n",
       "      <td>1</td>\n",
       "      <td>0</td>\n",
       "      <td>0</td>\n",
       "      <td>0</td>\n",
       "      <td>0</td>\n",
       "      <td>1</td>\n",
       "      <td>0</td>\n",
       "      <td>1</td>\n",
       "      <td>0</td>\n",
       "      <td>0</td>\n",
       "    </tr>\n",
       "    <tr>\n",
       "      <th>2</th>\n",
       "      <td>1</td>\n",
       "      <td>0</td>\n",
       "      <td>0</td>\n",
       "      <td>0</td>\n",
       "      <td>0</td>\n",
       "      <td>1</td>\n",
       "      <td>0</td>\n",
       "      <td>0</td>\n",
       "      <td>1</td>\n",
       "      <td>0</td>\n",
       "      <td>0</td>\n",
       "      <td>0</td>\n",
       "      <td>0</td>\n",
       "      <td>1</td>\n",
       "      <td>0</td>\n",
       "      <td>0</td>\n",
       "      <td>1</td>\n",
       "      <td>0</td>\n",
       "      <td>0</td>\n",
       "      <td>0</td>\n",
       "      <td>1</td>\n",
       "      <td>1</td>\n",
       "      <td>0</td>\n",
       "      <td>1</td>\n",
       "      <td>0</td>\n",
       "      <td>0</td>\n",
       "      <td>1</td>\n",
       "      <td>1</td>\n",
       "      <td>1</td>\n",
       "      <td>0</td>\n",
       "      <td>1</td>\n",
       "      <td>0</td>\n",
       "      <td>0</td>\n",
       "      <td>1</td>\n",
       "      <td>0</td>\n",
       "      <td>0</td>\n",
       "      <td>0</td>\n",
       "      <td>0</td>\n",
       "    </tr>\n",
       "    <tr>\n",
       "      <th>3</th>\n",
       "      <td>0</td>\n",
       "      <td>1</td>\n",
       "      <td>1</td>\n",
       "      <td>0</td>\n",
       "      <td>1</td>\n",
       "      <td>0</td>\n",
       "      <td>0</td>\n",
       "      <td>0</td>\n",
       "      <td>1</td>\n",
       "      <td>0</td>\n",
       "      <td>0</td>\n",
       "      <td>1</td>\n",
       "      <td>0</td>\n",
       "      <td>1</td>\n",
       "      <td>0</td>\n",
       "      <td>0</td>\n",
       "      <td>1</td>\n",
       "      <td>1</td>\n",
       "      <td>1</td>\n",
       "      <td>0</td>\n",
       "      <td>1</td>\n",
       "      <td>1</td>\n",
       "      <td>0</td>\n",
       "      <td>0</td>\n",
       "      <td>0</td>\n",
       "      <td>0</td>\n",
       "      <td>0</td>\n",
       "      <td>0</td>\n",
       "      <td>1</td>\n",
       "      <td>1</td>\n",
       "      <td>1</td>\n",
       "      <td>0</td>\n",
       "      <td>1</td>\n",
       "      <td>1</td>\n",
       "      <td>0</td>\n",
       "      <td>0</td>\n",
       "      <td>0</td>\n",
       "      <td>0</td>\n",
       "    </tr>\n",
       "    <tr>\n",
       "      <th>4</th>\n",
       "      <td>1</td>\n",
       "      <td>0</td>\n",
       "      <td>1</td>\n",
       "      <td>1</td>\n",
       "      <td>0</td>\n",
       "      <td>0</td>\n",
       "      <td>0</td>\n",
       "      <td>0</td>\n",
       "      <td>1</td>\n",
       "      <td>0</td>\n",
       "      <td>0</td>\n",
       "      <td>0</td>\n",
       "      <td>0</td>\n",
       "      <td>1</td>\n",
       "      <td>0</td>\n",
       "      <td>0</td>\n",
       "      <td>1</td>\n",
       "      <td>1</td>\n",
       "      <td>0</td>\n",
       "      <td>0</td>\n",
       "      <td>1</td>\n",
       "      <td>0</td>\n",
       "      <td>0</td>\n",
       "      <td>1</td>\n",
       "      <td>0</td>\n",
       "      <td>0</td>\n",
       "      <td>0</td>\n",
       "      <td>1</td>\n",
       "      <td>1</td>\n",
       "      <td>1</td>\n",
       "      <td>0</td>\n",
       "      <td>0</td>\n",
       "      <td>0</td>\n",
       "      <td>1</td>\n",
       "      <td>0</td>\n",
       "      <td>0</td>\n",
       "      <td>0</td>\n",
       "      <td>0</td>\n",
       "    </tr>\n",
       "    <tr>\n",
       "      <th>...</th>\n",
       "      <td>...</td>\n",
       "      <td>...</td>\n",
       "      <td>...</td>\n",
       "      <td>...</td>\n",
       "      <td>...</td>\n",
       "      <td>...</td>\n",
       "      <td>...</td>\n",
       "      <td>...</td>\n",
       "      <td>...</td>\n",
       "      <td>...</td>\n",
       "      <td>...</td>\n",
       "      <td>...</td>\n",
       "      <td>...</td>\n",
       "      <td>...</td>\n",
       "      <td>...</td>\n",
       "      <td>...</td>\n",
       "      <td>...</td>\n",
       "      <td>...</td>\n",
       "      <td>...</td>\n",
       "      <td>...</td>\n",
       "      <td>...</td>\n",
       "      <td>...</td>\n",
       "      <td>...</td>\n",
       "      <td>...</td>\n",
       "      <td>...</td>\n",
       "      <td>...</td>\n",
       "      <td>...</td>\n",
       "      <td>...</td>\n",
       "      <td>...</td>\n",
       "      <td>...</td>\n",
       "      <td>...</td>\n",
       "      <td>...</td>\n",
       "      <td>...</td>\n",
       "      <td>...</td>\n",
       "      <td>...</td>\n",
       "      <td>...</td>\n",
       "      <td>...</td>\n",
       "      <td>...</td>\n",
       "    </tr>\n",
       "    <tr>\n",
       "      <th>15914</th>\n",
       "      <td>1</td>\n",
       "      <td>0</td>\n",
       "      <td>0</td>\n",
       "      <td>1</td>\n",
       "      <td>0</td>\n",
       "      <td>1</td>\n",
       "      <td>0</td>\n",
       "      <td>0</td>\n",
       "      <td>1</td>\n",
       "      <td>1</td>\n",
       "      <td>0</td>\n",
       "      <td>0</td>\n",
       "      <td>0</td>\n",
       "      <td>1</td>\n",
       "      <td>1</td>\n",
       "      <td>0</td>\n",
       "      <td>1</td>\n",
       "      <td>1</td>\n",
       "      <td>0</td>\n",
       "      <td>1</td>\n",
       "      <td>1</td>\n",
       "      <td>1</td>\n",
       "      <td>0</td>\n",
       "      <td>1</td>\n",
       "      <td>0</td>\n",
       "      <td>0</td>\n",
       "      <td>1</td>\n",
       "      <td>1</td>\n",
       "      <td>1</td>\n",
       "      <td>1</td>\n",
       "      <td>0</td>\n",
       "      <td>0</td>\n",
       "      <td>1</td>\n",
       "      <td>1</td>\n",
       "      <td>0</td>\n",
       "      <td>1</td>\n",
       "      <td>0</td>\n",
       "      <td>0</td>\n",
       "    </tr>\n",
       "    <tr>\n",
       "      <th>15915</th>\n",
       "      <td>1</td>\n",
       "      <td>0</td>\n",
       "      <td>0</td>\n",
       "      <td>1</td>\n",
       "      <td>0</td>\n",
       "      <td>1</td>\n",
       "      <td>0</td>\n",
       "      <td>1</td>\n",
       "      <td>1</td>\n",
       "      <td>0</td>\n",
       "      <td>1</td>\n",
       "      <td>1</td>\n",
       "      <td>1</td>\n",
       "      <td>1</td>\n",
       "      <td>1</td>\n",
       "      <td>0</td>\n",
       "      <td>1</td>\n",
       "      <td>1</td>\n",
       "      <td>1</td>\n",
       "      <td>0</td>\n",
       "      <td>0</td>\n",
       "      <td>1</td>\n",
       "      <td>0</td>\n",
       "      <td>1</td>\n",
       "      <td>1</td>\n",
       "      <td>1</td>\n",
       "      <td>1</td>\n",
       "      <td>1</td>\n",
       "      <td>1</td>\n",
       "      <td>1</td>\n",
       "      <td>1</td>\n",
       "      <td>0</td>\n",
       "      <td>0</td>\n",
       "      <td>0</td>\n",
       "      <td>1</td>\n",
       "      <td>0</td>\n",
       "      <td>0</td>\n",
       "      <td>0</td>\n",
       "    </tr>\n",
       "    <tr>\n",
       "      <th>15916</th>\n",
       "      <td>1</td>\n",
       "      <td>0</td>\n",
       "      <td>1</td>\n",
       "      <td>1</td>\n",
       "      <td>0</td>\n",
       "      <td>1</td>\n",
       "      <td>0</td>\n",
       "      <td>1</td>\n",
       "      <td>1</td>\n",
       "      <td>0</td>\n",
       "      <td>1</td>\n",
       "      <td>1</td>\n",
       "      <td>1</td>\n",
       "      <td>0</td>\n",
       "      <td>0</td>\n",
       "      <td>0</td>\n",
       "      <td>1</td>\n",
       "      <td>1</td>\n",
       "      <td>0</td>\n",
       "      <td>1</td>\n",
       "      <td>1</td>\n",
       "      <td>1</td>\n",
       "      <td>1</td>\n",
       "      <td>1</td>\n",
       "      <td>1</td>\n",
       "      <td>0</td>\n",
       "      <td>1</td>\n",
       "      <td>1</td>\n",
       "      <td>1</td>\n",
       "      <td>1</td>\n",
       "      <td>1</td>\n",
       "      <td>1</td>\n",
       "      <td>0</td>\n",
       "      <td>0</td>\n",
       "      <td>1</td>\n",
       "      <td>0</td>\n",
       "      <td>0</td>\n",
       "      <td>0</td>\n",
       "    </tr>\n",
       "    <tr>\n",
       "      <th>15917</th>\n",
       "      <td>1</td>\n",
       "      <td>0</td>\n",
       "      <td>0</td>\n",
       "      <td>1</td>\n",
       "      <td>0</td>\n",
       "      <td>1</td>\n",
       "      <td>0</td>\n",
       "      <td>0</td>\n",
       "      <td>1</td>\n",
       "      <td>1</td>\n",
       "      <td>0</td>\n",
       "      <td>0</td>\n",
       "      <td>0</td>\n",
       "      <td>0</td>\n",
       "      <td>0</td>\n",
       "      <td>0</td>\n",
       "      <td>1</td>\n",
       "      <td>1</td>\n",
       "      <td>0</td>\n",
       "      <td>0</td>\n",
       "      <td>0</td>\n",
       "      <td>0</td>\n",
       "      <td>0</td>\n",
       "      <td>1</td>\n",
       "      <td>0</td>\n",
       "      <td>0</td>\n",
       "      <td>0</td>\n",
       "      <td>0</td>\n",
       "      <td>1</td>\n",
       "      <td>0</td>\n",
       "      <td>0</td>\n",
       "      <td>0</td>\n",
       "      <td>0</td>\n",
       "      <td>1</td>\n",
       "      <td>0</td>\n",
       "      <td>0</td>\n",
       "      <td>0</td>\n",
       "      <td>0</td>\n",
       "    </tr>\n",
       "    <tr>\n",
       "      <th>15918</th>\n",
       "      <td>1</td>\n",
       "      <td>0</td>\n",
       "      <td>0</td>\n",
       "      <td>1</td>\n",
       "      <td>0</td>\n",
       "      <td>1</td>\n",
       "      <td>0</td>\n",
       "      <td>1</td>\n",
       "      <td>1</td>\n",
       "      <td>1</td>\n",
       "      <td>0</td>\n",
       "      <td>0</td>\n",
       "      <td>0</td>\n",
       "      <td>1</td>\n",
       "      <td>0</td>\n",
       "      <td>0</td>\n",
       "      <td>1</td>\n",
       "      <td>0</td>\n",
       "      <td>0</td>\n",
       "      <td>0</td>\n",
       "      <td>0</td>\n",
       "      <td>1</td>\n",
       "      <td>0</td>\n",
       "      <td>0</td>\n",
       "      <td>0</td>\n",
       "      <td>0</td>\n",
       "      <td>0</td>\n",
       "      <td>0</td>\n",
       "      <td>1</td>\n",
       "      <td>0</td>\n",
       "      <td>1</td>\n",
       "      <td>0</td>\n",
       "      <td>0</td>\n",
       "      <td>0</td>\n",
       "      <td>0</td>\n",
       "      <td>0</td>\n",
       "      <td>0</td>\n",
       "      <td>0</td>\n",
       "    </tr>\n",
       "  </tbody>\n",
       "</table>\n",
       "<p>15919 rows × 38 columns</p>\n",
       "</div>"
      ],
      "text/plain": [
       "       Air conditioning  Air suspension  ...  Wind deflector  Windshield\n",
       "0                     1               0  ...               0           0\n",
       "1                     1               0  ...               0           0\n",
       "2                     1               0  ...               0           0\n",
       "3                     0               1  ...               0           0\n",
       "4                     1               0  ...               0           0\n",
       "...                 ...             ...  ...             ...         ...\n",
       "15914                 1               0  ...               0           0\n",
       "15915                 1               0  ...               0           0\n",
       "15916                 1               0  ...               0           0\n",
       "15917                 1               0  ...               0           0\n",
       "15918                 1               0  ...               0           0\n",
       "\n",
       "[15919 rows x 38 columns]"
      ]
     },
     "execution_count": 348,
     "metadata": {},
     "output_type": "execute_result"
    }
   ],
   "source": [
    "df['Comfort & Convenience'].str.get_dummies(\",\")"
   ]
  },
  {
   "cell_type": "code",
   "execution_count": null,
   "metadata": {
    "colab": {
     "base_uri": "https://localhost:8080/",
     "height": 1000
    },
    "executionInfo": {
     "elapsed": 38,
     "status": "ok",
     "timestamp": 1635888298690,
     "user": {
      "displayName": "Yusuf C",
      "photoUrl": "https://lh3.googleusercontent.com/a/default-user=s64",
      "userId": "01460091991965572961"
     },
     "user_tz": -180
    },
    "id": "dpRXV_XjbbGT",
    "outputId": "dae0987d-6107-4ef7-b257-42d9af2e97da"
   },
   "outputs": [
    {
     "data": {
      "text/html": [
       "<div>\n",
       "<style scoped>\n",
       "    .dataframe tbody tr th:only-of-type {\n",
       "        vertical-align: middle;\n",
       "    }\n",
       "\n",
       "    .dataframe tbody tr th {\n",
       "        vertical-align: top;\n",
       "    }\n",
       "\n",
       "    .dataframe thead th {\n",
       "        text-align: right;\n",
       "    }\n",
       "</style>\n",
       "<table border=\"1\" class=\"dataframe\">\n",
       "  <thead>\n",
       "    <tr style=\"text-align: right;\">\n",
       "      <th></th>\n",
       "      <th>0</th>\n",
       "      <th>1</th>\n",
       "      <th>2</th>\n",
       "    </tr>\n",
       "  </thead>\n",
       "  <tbody>\n",
       "    <tr>\n",
       "      <th>make_model</th>\n",
       "      <td>Audi A1</td>\n",
       "      <td>Audi A1</td>\n",
       "      <td>Audi A1</td>\n",
       "    </tr>\n",
       "    <tr>\n",
       "      <th>short_description</th>\n",
       "      <td>Sportback 1.4 TDI S-tronic Xenon Navi Klima</td>\n",
       "      <td>1.8 TFSI sport</td>\n",
       "      <td>Sportback 1.6 TDI S tronic Einparkhilfe plus+m...</td>\n",
       "    </tr>\n",
       "    <tr>\n",
       "      <th>body_type</th>\n",
       "      <td>Sedans</td>\n",
       "      <td>Sedans</td>\n",
       "      <td>Sedans</td>\n",
       "    </tr>\n",
       "    <tr>\n",
       "      <th>price</th>\n",
       "      <td>15770</td>\n",
       "      <td>14500</td>\n",
       "      <td>14640</td>\n",
       "    </tr>\n",
       "    <tr>\n",
       "      <th>vat</th>\n",
       "      <td>VAT deductible</td>\n",
       "      <td>Price negotiable</td>\n",
       "      <td>VAT deductible</td>\n",
       "    </tr>\n",
       "    <tr>\n",
       "      <th>km</th>\n",
       "      <td>56013</td>\n",
       "      <td>80000</td>\n",
       "      <td>83450</td>\n",
       "    </tr>\n",
       "    <tr>\n",
       "      <th>registration</th>\n",
       "      <td>01/2016</td>\n",
       "      <td>03/2017</td>\n",
       "      <td>02/2016</td>\n",
       "    </tr>\n",
       "    <tr>\n",
       "      <th>hp</th>\n",
       "      <td>66</td>\n",
       "      <td>141</td>\n",
       "      <td>85</td>\n",
       "    </tr>\n",
       "    <tr>\n",
       "      <th>Type</th>\n",
       "      <td>Used</td>\n",
       "      <td>Used</td>\n",
       "      <td>Used</td>\n",
       "    </tr>\n",
       "    <tr>\n",
       "      <th>Previous Owners</th>\n",
       "      <td>2</td>\n",
       "      <td>NaN</td>\n",
       "      <td>1</td>\n",
       "    </tr>\n",
       "    <tr>\n",
       "      <th>Next Inspection</th>\n",
       "      <td>06/2021</td>\n",
       "      <td>NaN</td>\n",
       "      <td>NaN</td>\n",
       "    </tr>\n",
       "    <tr>\n",
       "      <th>Inspection new</th>\n",
       "      <td>Yes</td>\n",
       "      <td>NaN</td>\n",
       "      <td>NaN</td>\n",
       "    </tr>\n",
       "    <tr>\n",
       "      <th>Warranty</th>\n",
       "      <td>NaN</td>\n",
       "      <td>NaN</td>\n",
       "      <td>NaN</td>\n",
       "    </tr>\n",
       "    <tr>\n",
       "      <th>First Registration</th>\n",
       "      <td>2016</td>\n",
       "      <td>2017</td>\n",
       "      <td>2016</td>\n",
       "    </tr>\n",
       "    <tr>\n",
       "      <th>Body Color</th>\n",
       "      <td>Black</td>\n",
       "      <td>Red</td>\n",
       "      <td>Black</td>\n",
       "    </tr>\n",
       "    <tr>\n",
       "      <th>Paint Type</th>\n",
       "      <td>Metallic</td>\n",
       "      <td>NaN</td>\n",
       "      <td>Metallic</td>\n",
       "    </tr>\n",
       "    <tr>\n",
       "      <th>Body Color Original</th>\n",
       "      <td>Mythosschwarz</td>\n",
       "      <td>NaN</td>\n",
       "      <td>mythosschwarz</td>\n",
       "    </tr>\n",
       "    <tr>\n",
       "      <th>Upholstery</th>\n",
       "      <td>Cloth,Black</td>\n",
       "      <td>Cloth,Grey</td>\n",
       "      <td>Cloth,Black</td>\n",
       "    </tr>\n",
       "    <tr>\n",
       "      <th>Nr. of Doors</th>\n",
       "      <td>5</td>\n",
       "      <td>3</td>\n",
       "      <td>4</td>\n",
       "    </tr>\n",
       "    <tr>\n",
       "      <th>Nr. of Seats</th>\n",
       "      <td>5</td>\n",
       "      <td>4</td>\n",
       "      <td>4</td>\n",
       "    </tr>\n",
       "    <tr>\n",
       "      <th>Gearing Type</th>\n",
       "      <td>Automatic</td>\n",
       "      <td>Automatic</td>\n",
       "      <td>Automatic</td>\n",
       "    </tr>\n",
       "    <tr>\n",
       "      <th>Displacement</th>\n",
       "      <td>1422</td>\n",
       "      <td>1798</td>\n",
       "      <td>1598</td>\n",
       "    </tr>\n",
       "    <tr>\n",
       "      <th>Cylinders</th>\n",
       "      <td>3</td>\n",
       "      <td>4</td>\n",
       "      <td>NaN</td>\n",
       "    </tr>\n",
       "    <tr>\n",
       "      <th>Weight</th>\n",
       "      <td>1220</td>\n",
       "      <td>1255</td>\n",
       "      <td>NaN</td>\n",
       "    </tr>\n",
       "    <tr>\n",
       "      <th>Drive chain</th>\n",
       "      <td>front</td>\n",
       "      <td>front</td>\n",
       "      <td>front</td>\n",
       "    </tr>\n",
       "    <tr>\n",
       "      <th>Fuel</th>\n",
       "      <td>Diesel</td>\n",
       "      <td>Gasoline</td>\n",
       "      <td>Diesel</td>\n",
       "    </tr>\n",
       "    <tr>\n",
       "      <th>CO2 Emission</th>\n",
       "      <td>99</td>\n",
       "      <td>129</td>\n",
       "      <td>99</td>\n",
       "    </tr>\n",
       "    <tr>\n",
       "      <th>Emission Class</th>\n",
       "      <td>Euro 6</td>\n",
       "      <td>Euro 6</td>\n",
       "      <td>Euro 6</td>\n",
       "    </tr>\n",
       "    <tr>\n",
       "      <th>Comfort &amp; Convenience</th>\n",
       "      <td>Air conditioning,Armrest,Automatic climate con...</td>\n",
       "      <td>Air conditioning,Automatic climate control,Hil...</td>\n",
       "      <td>Air conditioning,Cruise control,Electrical sid...</td>\n",
       "    </tr>\n",
       "    <tr>\n",
       "      <th>Entertainment &amp; Media</th>\n",
       "      <td>Bluetooth,Hands-free equipment,On-board comput...</td>\n",
       "      <td>Bluetooth,Hands-free equipment,On-board comput...</td>\n",
       "      <td>MP3,On-board computer</td>\n",
       "    </tr>\n",
       "    <tr>\n",
       "      <th>Extras</th>\n",
       "      <td>Alloy wheels,Catalytic Converter,Voice Control</td>\n",
       "      <td>Alloy wheels,Sport seats,Sport suspension,Voic...</td>\n",
       "      <td>Alloy wheels,Voice Control</td>\n",
       "    </tr>\n",
       "    <tr>\n",
       "      <th>Safety &amp; Security</th>\n",
       "      <td>ABS,Central door lock,Daytime running lights,D...</td>\n",
       "      <td>ABS,Central door lock,Central door lock with r...</td>\n",
       "      <td>ABS,Central door lock,Daytime running lights,D...</td>\n",
       "    </tr>\n",
       "    <tr>\n",
       "      <th>Emission Label</th>\n",
       "      <td>NaN</td>\n",
       "      <td>4,(Green)</td>\n",
       "      <td>4,(Green)</td>\n",
       "    </tr>\n",
       "    <tr>\n",
       "      <th>Gears</th>\n",
       "      <td>NaN</td>\n",
       "      <td>7</td>\n",
       "      <td>NaN</td>\n",
       "    </tr>\n",
       "    <tr>\n",
       "      <th>Country version</th>\n",
       "      <td>NaN</td>\n",
       "      <td>NaN</td>\n",
       "      <td>NaN</td>\n",
       "    </tr>\n",
       "    <tr>\n",
       "      <th>Last Service Date</th>\n",
       "      <td>NaN</td>\n",
       "      <td>NaN</td>\n",
       "      <td>NaN</td>\n",
       "    </tr>\n",
       "    <tr>\n",
       "      <th>Availability</th>\n",
       "      <td>NaN</td>\n",
       "      <td>NaN</td>\n",
       "      <td>NaN</td>\n",
       "    </tr>\n",
       "    <tr>\n",
       "      <th>Available from</th>\n",
       "      <td>NaN</td>\n",
       "      <td>NaN</td>\n",
       "      <td>NaN</td>\n",
       "    </tr>\n",
       "    <tr>\n",
       "      <th>Comb</th>\n",
       "      <td>3.8 l/100 km (comb)</td>\n",
       "      <td>5.6 l/100 km (comb)</td>\n",
       "      <td>3.8 l/100 km (comb)</td>\n",
       "    </tr>\n",
       "    <tr>\n",
       "      <th>City</th>\n",
       "      <td>4.3 l/100 km (city)</td>\n",
       "      <td>7.1 l/100 km (city)</td>\n",
       "      <td>4.4 l/100 km (city)</td>\n",
       "    </tr>\n",
       "    <tr>\n",
       "      <th>Country</th>\n",
       "      <td>3.5 l/100 km (country)</td>\n",
       "      <td>4.7 l/100 km (country)</td>\n",
       "      <td>3.4 l/100 km (country)</td>\n",
       "    </tr>\n",
       "  </tbody>\n",
       "</table>\n",
       "</div>"
      ],
      "text/plain": [
       "                                                                       0  ...                                                  2\n",
       "make_model                                                       Audi A1  ...                                            Audi A1\n",
       "short_description            Sportback 1.4 TDI S-tronic Xenon Navi Klima  ...  Sportback 1.6 TDI S tronic Einparkhilfe plus+m...\n",
       "body_type                                                         Sedans  ...                                             Sedans\n",
       "price                                                              15770  ...                                              14640\n",
       "vat                                                       VAT deductible  ...                                     VAT deductible\n",
       "km                                                                 56013  ...                                              83450\n",
       "registration                                                     01/2016  ...                                            02/2016\n",
       "hp                                                                    66  ...                                                 85\n",
       "Type                                                                Used  ...                                               Used\n",
       "Previous Owners                                                        2  ...                                                  1\n",
       "Next Inspection                                                  06/2021  ...                                                NaN\n",
       "Inspection new                                                       Yes  ...                                                NaN\n",
       "Warranty                                                             NaN  ...                                                NaN\n",
       "First Registration                                                  2016  ...                                               2016\n",
       "Body Color                                                         Black  ...                                              Black\n",
       "Paint Type                                                      Metallic  ...                                           Metallic\n",
       "Body Color Original                                        Mythosschwarz  ...                                      mythosschwarz\n",
       "Upholstery                                                   Cloth,Black  ...                                        Cloth,Black\n",
       "Nr. of Doors                                                           5  ...                                                  4\n",
       "Nr. of Seats                                                           5  ...                                                  4\n",
       "Gearing Type                                                   Automatic  ...                                          Automatic\n",
       "Displacement                                                        1422  ...                                               1598\n",
       "Cylinders                                                              3  ...                                                NaN\n",
       "Weight                                                              1220  ...                                                NaN\n",
       "Drive chain                                                        front  ...                                              front\n",
       "Fuel                                                              Diesel  ...                                             Diesel\n",
       "CO2 Emission                                                          99  ...                                                 99\n",
       "Emission Class                                                    Euro 6  ...                                             Euro 6\n",
       "Comfort & Convenience  Air conditioning,Armrest,Automatic climate con...  ...  Air conditioning,Cruise control,Electrical sid...\n",
       "Entertainment & Media  Bluetooth,Hands-free equipment,On-board comput...  ...                              MP3,On-board computer\n",
       "Extras                    Alloy wheels,Catalytic Converter,Voice Control  ...                         Alloy wheels,Voice Control\n",
       "Safety & Security      ABS,Central door lock,Daytime running lights,D...  ...  ABS,Central door lock,Daytime running lights,D...\n",
       "Emission Label                                                       NaN  ...                                          4,(Green)\n",
       "Gears                                                                NaN  ...                                                NaN\n",
       "Country version                                                      NaN  ...                                                NaN\n",
       "Last Service Date                                                    NaN  ...                                                NaN\n",
       "Availability                                                         NaN  ...                                                NaN\n",
       "Available from                                                       NaN  ...                                                NaN\n",
       "Comb                                                 3.8 l/100 km (comb)  ...                                3.8 l/100 km (comb)\n",
       "City                                                 4.3 l/100 km (city)  ...                                4.4 l/100 km (city)\n",
       "Country                                           3.5 l/100 km (country)  ...                             3.4 l/100 km (country)\n",
       "\n",
       "[41 rows x 3 columns]"
      ]
     },
     "execution_count": 349,
     "metadata": {},
     "output_type": "execute_result"
    }
   ],
   "source": [
    "df.head(3).T"
   ]
  },
  {
   "cell_type": "markdown",
   "metadata": {
    "id": "xZfPeZSjaZAw"
   },
   "source": [
    "# Dublicates"
   ]
  },
  {
   "cell_type": "code",
   "execution_count": null,
   "metadata": {
    "colab": {
     "base_uri": "https://localhost:8080/"
    },
    "executionInfo": {
     "elapsed": 36,
     "status": "ok",
     "timestamp": 1635888298691,
     "user": {
      "displayName": "Yusuf C",
      "photoUrl": "https://lh3.googleusercontent.com/a/default-user=s64",
      "userId": "01460091991965572961"
     },
     "user_tz": -180
    },
    "id": "qgqACRTDJh02",
    "outputId": "c9304d71-d580-4e01-ac84-a89a4c23eaec"
   },
   "outputs": [
    {
     "data": {
      "text/plain": [
       "(14507, 41)"
      ]
     },
     "execution_count": 350,
     "metadata": {},
     "output_type": "execute_result"
    }
   ],
   "source": [
    "df.drop_duplicates().shape"
   ]
  },
  {
   "cell_type": "code",
   "execution_count": null,
   "metadata": {
    "colab": {
     "base_uri": "https://localhost:8080/"
    },
    "executionInfo": {
     "elapsed": 28,
     "status": "ok",
     "timestamp": 1635888298692,
     "user": {
      "displayName": "Yusuf C",
      "photoUrl": "https://lh3.googleusercontent.com/a/default-user=s64",
      "userId": "01460091991965572961"
     },
     "user_tz": -180
    },
    "id": "qIW4TfCAXgY7",
    "outputId": "e7d2cb56-4a94-4900-f49a-8d86f5c5c24a"
   },
   "outputs": [
    {
     "data": {
      "text/plain": [
       "1412"
      ]
     },
     "execution_count": 351,
     "metadata": {},
     "output_type": "execute_result"
    }
   ],
   "source": [
    "df.shape[0]-df.drop_duplicates().shape[0]"
   ]
  },
  {
   "cell_type": "code",
   "execution_count": null,
   "metadata": {
    "colab": {
     "base_uri": "https://localhost:8080/"
    },
    "executionInfo": {
     "elapsed": 22,
     "status": "ok",
     "timestamp": 1635888298693,
     "user": {
      "displayName": "Yusuf C",
      "photoUrl": "https://lh3.googleusercontent.com/a/default-user=s64",
      "userId": "01460091991965572961"
     },
     "user_tz": -180
    },
    "id": "dHvldaUsRn16",
    "outputId": "ea458bbd-60d9-4e8f-8927-d67e01eba266"
   },
   "outputs": [
    {
     "name": "stdout",
     "output_type": "stream",
     "text": [
      "41\n"
     ]
    },
    {
     "data": {
      "text/plain": [
       "Index(['make_model', 'short_description', 'body_type', 'price', 'vat', 'km',\n",
       "       'registration', 'hp', 'Type', 'Previous Owners', 'Next Inspection',\n",
       "       'Inspection new', 'Warranty', 'First Registration', 'Body Color',\n",
       "       'Paint Type', 'Body Color Original', 'Upholstery', 'Nr. of Doors',\n",
       "       'Nr. of Seats', 'Gearing Type', 'Displacement', 'Cylinders', 'Weight',\n",
       "       'Drive chain', 'Fuel', 'CO2 Emission', 'Emission Class',\n",
       "       'Comfort & Convenience', 'Entertainment & Media', 'Extras',\n",
       "       'Safety & Security', 'Emission Label', 'Gears', 'Country version',\n",
       "       'Last Service Date', 'Availability', 'Available from', 'Comb', 'City',\n",
       "       'Country'],\n",
       "      dtype='object')"
      ]
     },
     "execution_count": 352,
     "metadata": {},
     "output_type": "execute_result"
    }
   ],
   "source": [
    "print(len(df.columns))\n",
    "df.columns"
   ]
  },
  {
   "cell_type": "code",
   "execution_count": null,
   "metadata": {
    "colab": {
     "base_uri": "https://localhost:8080/",
     "height": 1000
    },
    "executionInfo": {
     "elapsed": 599,
     "status": "ok",
     "timestamp": 1635888299277,
     "user": {
      "displayName": "Yusuf C",
      "photoUrl": "https://lh3.googleusercontent.com/a/default-user=s64",
      "userId": "01460091991965572961"
     },
     "user_tz": -180
    },
    "id": "4j5Ld4Umf2Mf",
    "outputId": "dfc71de1-fe45-415d-85d2-88076e306975"
   },
   "outputs": [
    {
     "data": {
      "text/html": [
       "<div>\n",
       "<style scoped>\n",
       "    .dataframe tbody tr th:only-of-type {\n",
       "        vertical-align: middle;\n",
       "    }\n",
       "\n",
       "    .dataframe tbody tr th {\n",
       "        vertical-align: top;\n",
       "    }\n",
       "\n",
       "    .dataframe thead th {\n",
       "        text-align: right;\n",
       "    }\n",
       "</style>\n",
       "<table border=\"1\" class=\"dataframe\">\n",
       "  <thead>\n",
       "    <tr style=\"text-align: right;\">\n",
       "      <th></th>\n",
       "      <th>make_model</th>\n",
       "      <th>short_description</th>\n",
       "      <th>body_type</th>\n",
       "      <th>price</th>\n",
       "      <th>vat</th>\n",
       "      <th>km</th>\n",
       "      <th>registration</th>\n",
       "      <th>hp</th>\n",
       "      <th>Type</th>\n",
       "      <th>Previous Owners</th>\n",
       "      <th>Next Inspection</th>\n",
       "      <th>Inspection new</th>\n",
       "      <th>Warranty</th>\n",
       "      <th>First Registration</th>\n",
       "      <th>Body Color</th>\n",
       "      <th>Paint Type</th>\n",
       "      <th>Body Color Original</th>\n",
       "      <th>Upholstery</th>\n",
       "      <th>Nr. of Doors</th>\n",
       "      <th>Nr. of Seats</th>\n",
       "      <th>Gearing Type</th>\n",
       "      <th>Displacement</th>\n",
       "      <th>Cylinders</th>\n",
       "      <th>Weight</th>\n",
       "      <th>Drive chain</th>\n",
       "      <th>Fuel</th>\n",
       "      <th>CO2 Emission</th>\n",
       "      <th>Emission Class</th>\n",
       "      <th>Comfort &amp; Convenience</th>\n",
       "      <th>Entertainment &amp; Media</th>\n",
       "      <th>Extras</th>\n",
       "      <th>Safety &amp; Security</th>\n",
       "      <th>Emission Label</th>\n",
       "      <th>Gears</th>\n",
       "      <th>Country version</th>\n",
       "      <th>Last Service Date</th>\n",
       "      <th>Availability</th>\n",
       "      <th>Available from</th>\n",
       "      <th>Comb</th>\n",
       "      <th>City</th>\n",
       "      <th>Country</th>\n",
       "    </tr>\n",
       "  </thead>\n",
       "  <tbody>\n",
       "    <tr>\n",
       "      <th>0</th>\n",
       "      <td>Audi A1</td>\n",
       "      <td>Sportback 1.4 TDI S-tronic Xenon Navi Klima</td>\n",
       "      <td>Sedans</td>\n",
       "      <td>15770</td>\n",
       "      <td>VAT deductible</td>\n",
       "      <td>56013.0</td>\n",
       "      <td>01/2016</td>\n",
       "      <td>66</td>\n",
       "      <td>Used</td>\n",
       "      <td>2</td>\n",
       "      <td>06/2021</td>\n",
       "      <td>Yes</td>\n",
       "      <td>NaN</td>\n",
       "      <td>2016</td>\n",
       "      <td>Black</td>\n",
       "      <td>Metallic</td>\n",
       "      <td>Mythosschwarz</td>\n",
       "      <td>Cloth,Black</td>\n",
       "      <td>5.0</td>\n",
       "      <td>5.0</td>\n",
       "      <td>Automatic</td>\n",
       "      <td>1422</td>\n",
       "      <td>3</td>\n",
       "      <td>1220</td>\n",
       "      <td>front</td>\n",
       "      <td>Diesel</td>\n",
       "      <td>99</td>\n",
       "      <td>Euro 6</td>\n",
       "      <td>Air conditioning,Armrest,Automatic climate con...</td>\n",
       "      <td>Bluetooth,Hands-free equipment,On-board comput...</td>\n",
       "      <td>Alloy wheels,Catalytic Converter,Voice Control</td>\n",
       "      <td>ABS,Central door lock,Daytime running lights,D...</td>\n",
       "      <td>NaN</td>\n",
       "      <td>NaN</td>\n",
       "      <td>NaN</td>\n",
       "      <td>NaN</td>\n",
       "      <td>NaN</td>\n",
       "      <td>NaN</td>\n",
       "      <td>3.8 l/100 km (comb)</td>\n",
       "      <td>4.3 l/100 km (city)</td>\n",
       "      <td>3.5 l/100 km (country)</td>\n",
       "    </tr>\n",
       "    <tr>\n",
       "      <th>1</th>\n",
       "      <td>Audi A1</td>\n",
       "      <td>1.8 TFSI sport</td>\n",
       "      <td>Sedans</td>\n",
       "      <td>14500</td>\n",
       "      <td>Price negotiable</td>\n",
       "      <td>80000.0</td>\n",
       "      <td>03/2017</td>\n",
       "      <td>141</td>\n",
       "      <td>Used</td>\n",
       "      <td>NaN</td>\n",
       "      <td>NaN</td>\n",
       "      <td>NaN</td>\n",
       "      <td>NaN</td>\n",
       "      <td>2017</td>\n",
       "      <td>Red</td>\n",
       "      <td>NaN</td>\n",
       "      <td>NaN</td>\n",
       "      <td>Cloth,Grey</td>\n",
       "      <td>3.0</td>\n",
       "      <td>4.0</td>\n",
       "      <td>Automatic</td>\n",
       "      <td>1798</td>\n",
       "      <td>4</td>\n",
       "      <td>1255</td>\n",
       "      <td>front</td>\n",
       "      <td>Gasoline</td>\n",
       "      <td>129</td>\n",
       "      <td>Euro 6</td>\n",
       "      <td>Air conditioning,Automatic climate control,Hil...</td>\n",
       "      <td>Bluetooth,Hands-free equipment,On-board comput...</td>\n",
       "      <td>Alloy wheels,Sport seats,Sport suspension,Voic...</td>\n",
       "      <td>ABS,Central door lock,Central door lock with r...</td>\n",
       "      <td>4,(Green)</td>\n",
       "      <td>7</td>\n",
       "      <td>NaN</td>\n",
       "      <td>NaN</td>\n",
       "      <td>NaN</td>\n",
       "      <td>NaN</td>\n",
       "      <td>5.6 l/100 km (comb)</td>\n",
       "      <td>7.1 l/100 km (city)</td>\n",
       "      <td>4.7 l/100 km (country)</td>\n",
       "    </tr>\n",
       "    <tr>\n",
       "      <th>2</th>\n",
       "      <td>Audi A1</td>\n",
       "      <td>Sportback 1.6 TDI S tronic Einparkhilfe plus+m...</td>\n",
       "      <td>Sedans</td>\n",
       "      <td>14640</td>\n",
       "      <td>VAT deductible</td>\n",
       "      <td>83450.0</td>\n",
       "      <td>02/2016</td>\n",
       "      <td>85</td>\n",
       "      <td>Used</td>\n",
       "      <td>1</td>\n",
       "      <td>NaN</td>\n",
       "      <td>NaN</td>\n",
       "      <td>NaN</td>\n",
       "      <td>2016</td>\n",
       "      <td>Black</td>\n",
       "      <td>Metallic</td>\n",
       "      <td>mythosschwarz</td>\n",
       "      <td>Cloth,Black</td>\n",
       "      <td>4.0</td>\n",
       "      <td>4.0</td>\n",
       "      <td>Automatic</td>\n",
       "      <td>1598</td>\n",
       "      <td>NaN</td>\n",
       "      <td>NaN</td>\n",
       "      <td>front</td>\n",
       "      <td>Diesel</td>\n",
       "      <td>99</td>\n",
       "      <td>Euro 6</td>\n",
       "      <td>Air conditioning,Cruise control,Electrical sid...</td>\n",
       "      <td>MP3,On-board computer</td>\n",
       "      <td>Alloy wheels,Voice Control</td>\n",
       "      <td>ABS,Central door lock,Daytime running lights,D...</td>\n",
       "      <td>4,(Green)</td>\n",
       "      <td>NaN</td>\n",
       "      <td>NaN</td>\n",
       "      <td>NaN</td>\n",
       "      <td>NaN</td>\n",
       "      <td>NaN</td>\n",
       "      <td>3.8 l/100 km (comb)</td>\n",
       "      <td>4.4 l/100 km (city)</td>\n",
       "      <td>3.4 l/100 km (country)</td>\n",
       "    </tr>\n",
       "    <tr>\n",
       "      <th>3</th>\n",
       "      <td>Audi A1</td>\n",
       "      <td>1.4 TDi Design S tronic</td>\n",
       "      <td>Sedans</td>\n",
       "      <td>14500</td>\n",
       "      <td>None</td>\n",
       "      <td>73000.0</td>\n",
       "      <td>08/2016</td>\n",
       "      <td>66</td>\n",
       "      <td>Used</td>\n",
       "      <td>1</td>\n",
       "      <td>NaN</td>\n",
       "      <td>NaN</td>\n",
       "      <td>NaN</td>\n",
       "      <td>2016</td>\n",
       "      <td>Brown</td>\n",
       "      <td>Metallic</td>\n",
       "      <td>NaN</td>\n",
       "      <td>NaN</td>\n",
       "      <td>3.0</td>\n",
       "      <td>4.0</td>\n",
       "      <td>Automatic</td>\n",
       "      <td>1422</td>\n",
       "      <td>3</td>\n",
       "      <td>1195</td>\n",
       "      <td>NaN</td>\n",
       "      <td>Diesel</td>\n",
       "      <td>99</td>\n",
       "      <td>Euro 6</td>\n",
       "      <td>Air suspension,Armrest,Auxiliary heating,Elect...</td>\n",
       "      <td>Bluetooth,CD player,Hands-free equipment,MP3,O...</td>\n",
       "      <td>Alloy wheels,Sport seats,Voice Control</td>\n",
       "      <td>ABS,Alarm system,Central door lock with remote...</td>\n",
       "      <td>NaN</td>\n",
       "      <td>6</td>\n",
       "      <td>NaN</td>\n",
       "      <td>NaN</td>\n",
       "      <td>NaN</td>\n",
       "      <td>NaN</td>\n",
       "      <td>3.8 l/100 km (comb)</td>\n",
       "      <td>4.3 l/100 km (city)</td>\n",
       "      <td>3.5 l/100 km (country)</td>\n",
       "    </tr>\n",
       "    <tr>\n",
       "      <th>4</th>\n",
       "      <td>Audi A1</td>\n",
       "      <td>Sportback 1.4 TDI S-Tronic S-Line Ext. admired...</td>\n",
       "      <td>Sedans</td>\n",
       "      <td>16790</td>\n",
       "      <td>None</td>\n",
       "      <td>16200.0</td>\n",
       "      <td>05/2016</td>\n",
       "      <td>66</td>\n",
       "      <td>Used</td>\n",
       "      <td>1</td>\n",
       "      <td>NaN</td>\n",
       "      <td>Yes</td>\n",
       "      <td>NaN</td>\n",
       "      <td>2016</td>\n",
       "      <td>Black</td>\n",
       "      <td>Metallic</td>\n",
       "      <td>Mythosschwarz</td>\n",
       "      <td>Cloth,Black</td>\n",
       "      <td>5.0</td>\n",
       "      <td>5.0</td>\n",
       "      <td>Automatic</td>\n",
       "      <td>1422</td>\n",
       "      <td>3</td>\n",
       "      <td>NaN</td>\n",
       "      <td>front</td>\n",
       "      <td>Diesel</td>\n",
       "      <td>109</td>\n",
       "      <td>Euro 6</td>\n",
       "      <td>Air conditioning,Armrest,Automatic climate con...</td>\n",
       "      <td>Bluetooth,CD player,Hands-free equipment,MP3,O...</td>\n",
       "      <td>Alloy wheels,Sport package,Sport suspension,Vo...</td>\n",
       "      <td>ABS,Central door lock,Driver-side airbag,Elect...</td>\n",
       "      <td>NaN</td>\n",
       "      <td>NaN</td>\n",
       "      <td>Germany</td>\n",
       "      <td>NaN</td>\n",
       "      <td>NaN</td>\n",
       "      <td>NaN</td>\n",
       "      <td>4.1 l/100 km (comb)</td>\n",
       "      <td>4.6 l/100 km (city)</td>\n",
       "      <td>3.8 l/100 km (country)</td>\n",
       "    </tr>\n",
       "    <tr>\n",
       "      <th>...</th>\n",
       "      <td>...</td>\n",
       "      <td>...</td>\n",
       "      <td>...</td>\n",
       "      <td>...</td>\n",
       "      <td>...</td>\n",
       "      <td>...</td>\n",
       "      <td>...</td>\n",
       "      <td>...</td>\n",
       "      <td>...</td>\n",
       "      <td>...</td>\n",
       "      <td>...</td>\n",
       "      <td>...</td>\n",
       "      <td>...</td>\n",
       "      <td>...</td>\n",
       "      <td>...</td>\n",
       "      <td>...</td>\n",
       "      <td>...</td>\n",
       "      <td>...</td>\n",
       "      <td>...</td>\n",
       "      <td>...</td>\n",
       "      <td>...</td>\n",
       "      <td>...</td>\n",
       "      <td>...</td>\n",
       "      <td>...</td>\n",
       "      <td>...</td>\n",
       "      <td>...</td>\n",
       "      <td>...</td>\n",
       "      <td>...</td>\n",
       "      <td>...</td>\n",
       "      <td>...</td>\n",
       "      <td>...</td>\n",
       "      <td>...</td>\n",
       "      <td>...</td>\n",
       "      <td>...</td>\n",
       "      <td>...</td>\n",
       "      <td>...</td>\n",
       "      <td>...</td>\n",
       "      <td>...</td>\n",
       "      <td>...</td>\n",
       "      <td>...</td>\n",
       "      <td>...</td>\n",
       "    </tr>\n",
       "    <tr>\n",
       "      <th>15913</th>\n",
       "      <td>Renault Espace</td>\n",
       "      <td>INITIALE Paris TCe 225 EDC GPF ACC EU6</td>\n",
       "      <td>Van</td>\n",
       "      <td>39950</td>\n",
       "      <td>VAT deductible</td>\n",
       "      <td>1000.0</td>\n",
       "      <td>04/2019</td>\n",
       "      <td>165</td>\n",
       "      <td>Demonstration</td>\n",
       "      <td>NaN</td>\n",
       "      <td>NaN</td>\n",
       "      <td>NaN</td>\n",
       "      <td>NaN</td>\n",
       "      <td>2019</td>\n",
       "      <td>White</td>\n",
       "      <td>Metallic</td>\n",
       "      <td>perlmutt-weiss</td>\n",
       "      <td>Full leather,Brown</td>\n",
       "      <td>5.0</td>\n",
       "      <td>7.0</td>\n",
       "      <td>Automatic</td>\n",
       "      <td>1798</td>\n",
       "      <td>4</td>\n",
       "      <td>NaN</td>\n",
       "      <td>front</td>\n",
       "      <td>Gasoline</td>\n",
       "      <td>153</td>\n",
       "      <td>Euro 6</td>\n",
       "      <td>Air conditioning,Armrest,Automatic climate con...</td>\n",
       "      <td>Bluetooth,Digital radio,Hands-free equipment,M...</td>\n",
       "      <td>Alloy wheels,Catalytic Converter,Sport suspens...</td>\n",
       "      <td>ABS,Adaptive Cruise Control,Blind spot monitor...</td>\n",
       "      <td>4,(Green)</td>\n",
       "      <td>NaN</td>\n",
       "      <td>NaN</td>\n",
       "      <td>NaN</td>\n",
       "      <td>NaN</td>\n",
       "      <td>NaN</td>\n",
       "      <td>6.8 l/100 km (comb)</td>\n",
       "      <td>8.7 l/100 km (city)</td>\n",
       "      <td>5.7 l/100 km (country)</td>\n",
       "    </tr>\n",
       "    <tr>\n",
       "      <th>15914</th>\n",
       "      <td>Renault Espace</td>\n",
       "      <td>Blue dCi 200CV EDC Executive 4Control</td>\n",
       "      <td>Van</td>\n",
       "      <td>39950</td>\n",
       "      <td>VAT deductible</td>\n",
       "      <td>NaN</td>\n",
       "      <td>NaN</td>\n",
       "      <td>147</td>\n",
       "      <td>New</td>\n",
       "      <td>NaN</td>\n",
       "      <td>NaN</td>\n",
       "      <td>NaN</td>\n",
       "      <td>24</td>\n",
       "      <td>NaN</td>\n",
       "      <td>Grey</td>\n",
       "      <td>Metallic</td>\n",
       "      <td>Grigio</td>\n",
       "      <td>NaN</td>\n",
       "      <td>5.0</td>\n",
       "      <td>5.0</td>\n",
       "      <td>Automatic</td>\n",
       "      <td>1997</td>\n",
       "      <td>4</td>\n",
       "      <td>1758</td>\n",
       "      <td>front</td>\n",
       "      <td>Diesel</td>\n",
       "      <td>139</td>\n",
       "      <td>NaN</td>\n",
       "      <td>Air conditioning,Automatic climate control,Cru...</td>\n",
       "      <td>Bluetooth,Digital radio,Hands-free equipment,O...</td>\n",
       "      <td>Alloy wheels,Touch screen</td>\n",
       "      <td>ABS,Central door lock,Central door lock with r...</td>\n",
       "      <td>NaN</td>\n",
       "      <td>6</td>\n",
       "      <td>NaN</td>\n",
       "      <td>NaN</td>\n",
       "      <td>NaN</td>\n",
       "      <td>NaN</td>\n",
       "      <td>5.3 l/100 km (comb)</td>\n",
       "      <td>6.2 l/100 km (city)</td>\n",
       "      <td>4.7 l/100 km (country)</td>\n",
       "    </tr>\n",
       "    <tr>\n",
       "      <th>15915</th>\n",
       "      <td>Renault Espace</td>\n",
       "      <td>TCe 225 EDC GPF LIM Deluxe Pano,RFK</td>\n",
       "      <td>Van</td>\n",
       "      <td>39885</td>\n",
       "      <td>VAT deductible</td>\n",
       "      <td>9900.0</td>\n",
       "      <td>01/2019</td>\n",
       "      <td>165</td>\n",
       "      <td>Used</td>\n",
       "      <td>1</td>\n",
       "      <td>01/2022</td>\n",
       "      <td>NaN</td>\n",
       "      <td>NaN</td>\n",
       "      <td>2019</td>\n",
       "      <td>Grey</td>\n",
       "      <td>Metallic</td>\n",
       "      <td>Stahl-Grau</td>\n",
       "      <td>Cloth</td>\n",
       "      <td>5.0</td>\n",
       "      <td>5.0</td>\n",
       "      <td>Automatic</td>\n",
       "      <td>1798</td>\n",
       "      <td>4</td>\n",
       "      <td>1708</td>\n",
       "      <td>front</td>\n",
       "      <td>Gasoline</td>\n",
       "      <td>168</td>\n",
       "      <td>NaN</td>\n",
       "      <td>Air conditioning,Automatic climate control,Cru...</td>\n",
       "      <td>Bluetooth,Digital radio,Hands-free equipment,R...</td>\n",
       "      <td>Alloy wheels,Touch screen,Voice Control</td>\n",
       "      <td>ABS,Adaptive Cruise Control,Blind spot monitor...</td>\n",
       "      <td>NaN</td>\n",
       "      <td>7</td>\n",
       "      <td>Germany</td>\n",
       "      <td>NaN</td>\n",
       "      <td>5</td>\n",
       "      <td>NaN</td>\n",
       "      <td>7.4 l/100 km (comb)</td>\n",
       "      <td>9.2 l/100 km (city)</td>\n",
       "      <td>6.3 l/100 km (country)</td>\n",
       "    </tr>\n",
       "    <tr>\n",
       "      <th>15916</th>\n",
       "      <td>Renault Espace</td>\n",
       "      <td>Blue dCi 200 EDC Initiale Paris Leder LED Navi...</td>\n",
       "      <td>Van</td>\n",
       "      <td>39875</td>\n",
       "      <td>VAT deductible</td>\n",
       "      <td>15.0</td>\n",
       "      <td>03/2019</td>\n",
       "      <td>146</td>\n",
       "      <td>Pre-registered</td>\n",
       "      <td>1</td>\n",
       "      <td>NaN</td>\n",
       "      <td>Yes</td>\n",
       "      <td>NaN</td>\n",
       "      <td>2019</td>\n",
       "      <td>White</td>\n",
       "      <td>NaN</td>\n",
       "      <td>arktis-weiß</td>\n",
       "      <td>Full leather,Black</td>\n",
       "      <td>5.0</td>\n",
       "      <td>7.0</td>\n",
       "      <td>Automatic</td>\n",
       "      <td>1997</td>\n",
       "      <td>4</td>\n",
       "      <td>NaN</td>\n",
       "      <td>front</td>\n",
       "      <td>Diesel</td>\n",
       "      <td>139</td>\n",
       "      <td>Euro 6d-TEMP</td>\n",
       "      <td>Air conditioning,Armrest,Automatic climate con...</td>\n",
       "      <td>Bluetooth,Hands-free equipment,On-board comput...</td>\n",
       "      <td>Alloy wheels</td>\n",
       "      <td>ABS,Adaptive Cruise Control,Blind spot monitor...</td>\n",
       "      <td>NaN</td>\n",
       "      <td>6</td>\n",
       "      <td>Austria</td>\n",
       "      <td>NaN</td>\n",
       "      <td>120</td>\n",
       "      <td>NaN</td>\n",
       "      <td>5.3 l/100 km (comb)</td>\n",
       "      <td>6.2 l/100 km (city)</td>\n",
       "      <td>4.7 l/100 km (country)</td>\n",
       "    </tr>\n",
       "    <tr>\n",
       "      <th>15918</th>\n",
       "      <td>Renault Espace</td>\n",
       "      <td>INITIALE PARIS TCe 225 EDC GPF NAVI SHZ AUX</td>\n",
       "      <td>Van</td>\n",
       "      <td>40999</td>\n",
       "      <td>VAT deductible</td>\n",
       "      <td>NaN</td>\n",
       "      <td>01/2019</td>\n",
       "      <td>165</td>\n",
       "      <td>Demonstration</td>\n",
       "      <td>1</td>\n",
       "      <td>NaN</td>\n",
       "      <td>Yes</td>\n",
       "      <td>NaN</td>\n",
       "      <td>2019</td>\n",
       "      <td>Grey</td>\n",
       "      <td>Metallic</td>\n",
       "      <td>Titanium-Grau</td>\n",
       "      <td>Full leather,Brown</td>\n",
       "      <td>5.0</td>\n",
       "      <td>5.0</td>\n",
       "      <td>Automatic</td>\n",
       "      <td>1798</td>\n",
       "      <td>4</td>\n",
       "      <td>1685</td>\n",
       "      <td>4WD</td>\n",
       "      <td>Gasoline</td>\n",
       "      <td>153</td>\n",
       "      <td>Euro 6</td>\n",
       "      <td>Air conditioning,Automatic climate control,Cru...</td>\n",
       "      <td>USB</td>\n",
       "      <td>Alloy wheels,Touch screen</td>\n",
       "      <td>ABS,Blind spot monitor,Daytime running lights,...</td>\n",
       "      <td>4,(Green)</td>\n",
       "      <td>NaN</td>\n",
       "      <td>Germany</td>\n",
       "      <td>NaN</td>\n",
       "      <td>NaN</td>\n",
       "      <td>NaN</td>\n",
       "      <td>6.8 l/100 km (comb)</td>\n",
       "      <td>8.7 l/100 km (city)</td>\n",
       "      <td>5.7 l/100 km (country)</td>\n",
       "    </tr>\n",
       "  </tbody>\n",
       "</table>\n",
       "<p>14507 rows × 41 columns</p>\n",
       "</div>"
      ],
      "text/plain": [
       "           make_model  ...                 Country\n",
       "0             Audi A1  ...  3.5 l/100 km (country)\n",
       "1             Audi A1  ...  4.7 l/100 km (country)\n",
       "2             Audi A1  ...  3.4 l/100 km (country)\n",
       "3             Audi A1  ...  3.5 l/100 km (country)\n",
       "4             Audi A1  ...  3.8 l/100 km (country)\n",
       "...               ...  ...                     ...\n",
       "15913  Renault Espace  ...  5.7 l/100 km (country)\n",
       "15914  Renault Espace  ...  4.7 l/100 km (country)\n",
       "15915  Renault Espace  ...  6.3 l/100 km (country)\n",
       "15916  Renault Espace  ...  4.7 l/100 km (country)\n",
       "15918  Renault Espace  ...  5.7 l/100 km (country)\n",
       "\n",
       "[14507 rows x 41 columns]"
      ]
     },
     "execution_count": 353,
     "metadata": {},
     "output_type": "execute_result"
    }
   ],
   "source": [
    "df.drop_duplicates()"
   ]
  },
  {
   "cell_type": "code",
   "execution_count": null,
   "metadata": {
    "id": "aH1pFfEDf2QJ"
   },
   "outputs": [],
   "source": [
    "df = df.drop_duplicates()"
   ]
  },
  {
   "cell_type": "code",
   "execution_count": null,
   "metadata": {
    "id": "W4_GVpHfgrFL"
   },
   "outputs": [],
   "source": [
    "df.reset_index(drop=True, inplace=True)"
   ]
  },
  {
   "cell_type": "code",
   "execution_count": null,
   "metadata": {
    "id": "OZk2g7SB-dDA"
   },
   "outputs": [],
   "source": [
    "#for i in range(df.shape[0]):\n",
    "#  if type(df['Comfort & Convenience'][i]) == list:\n",
    "#    df['Comfort & Convenience'][i] = str(df['Comfort & Convenience'][i])[1:-1].replace(\", \", \",\")"
   ]
  },
  {
   "cell_type": "code",
   "execution_count": null,
   "metadata": {
    "id": "wvzkInM3B9Vu"
   },
   "outputs": [],
   "source": [
    "#df['Comfort & Convenience'].str.get_dummies(\",\")"
   ]
  },
  {
   "cell_type": "markdown",
   "metadata": {
    "id": "ftIR7h1jtNTu"
   },
   "source": [
    "# Comfort & Convenience changed into Classes\n",
    "920 NAN"
   ]
  },
  {
   "cell_type": "code",
   "execution_count": null,
   "metadata": {
    "id": "-Qz0erHwL3zG"
   },
   "outputs": [],
   "source": [
    "#df[\"Comfort & Convenience\"].isnull().sum()"
   ]
  },
  {
   "cell_type": "code",
   "execution_count": null,
   "metadata": {
    "id": "ugDSuoWLttVc"
   },
   "outputs": [],
   "source": [
    "#df[~df[\"Comfort & Convenience\"].isnull()][\"Comfort & Convenience\"].apply(len).sort_values()"
   ]
  },
  {
   "cell_type": "code",
   "execution_count": null,
   "metadata": {
    "id": "WIPErU_WttYv"
   },
   "outputs": [],
   "source": [
    "#length = range(1,34)\n",
    "#for i in range(10):\n",
    "#  if type(df[\"Comfort & Convenience\"][i]) == float:\n",
    "#    pass\n",
    "#  else:\n",
    "#    for j in length:\n",
    "#      if len(df[\"Comfort & Convenience\"][i]) == j:\n",
    "#        print(i , j, df[\"Comfort & Convenience\"][i][:j])"
   ]
  },
  {
   "cell_type": "code",
   "execution_count": null,
   "metadata": {
    "id": "8zTnW6pFucv8"
   },
   "outputs": [],
   "source": [
    "#df[~df[\"Comfort & Convenience\"].isnull()][\"Comfort & Convenience\"].apply(lambda x : len(x))"
   ]
  },
  {
   "cell_type": "code",
   "execution_count": null,
   "metadata": {
    "id": "AhJxo8Kguczu"
   },
   "outputs": [],
   "source": [
    "#df[\"Comfort & Convenience\"] = df[~df[\"Comfort & Convenience\"].isnull()][\"Comfort & Convenience\"].apply(lambda x : len(x))"
   ]
  },
  {
   "cell_type": "code",
   "execution_count": null,
   "metadata": {
    "id": "qAf3ghyBH-d0"
   },
   "outputs": [],
   "source": [
    "#df[~df[\"Comfort & Convenience\"].isnull()][\"Comfort & Convenience\"]"
   ]
  },
  {
   "cell_type": "code",
   "execution_count": null,
   "metadata": {
    "id": "Yc4DpUSryrW0"
   },
   "outputs": [],
   "source": [
    "#pd.cut(x=df['Comfort & Convenience'], bins=list(range(0,36,5)), labels = ['Class1', 'Class2', 'Class3', 'Class4', 'Class5', 'Class6', 'Class7'])"
   ]
  },
  {
   "cell_type": "code",
   "execution_count": null,
   "metadata": {
    "id": "WPbU7bEOyrad"
   },
   "outputs": [],
   "source": [
    "#df['Comfort & Convenience'] = pd.cut(x=df['Comfort & Convenience'], bins=list(range(0,36,5)), labels = ['Class1', 'Class2', 'Class3', 'Class4', 'Class5', 'Class6', 'Class7'])"
   ]
  },
  {
   "cell_type": "code",
   "execution_count": null,
   "metadata": {
    "id": "T05q5jk7yrdp"
   },
   "outputs": [],
   "source": [
    "#df['Comfort & Convenience'].value_counts(dropna=False)"
   ]
  },
  {
   "cell_type": "markdown",
   "metadata": {
    "id": "QjwgFYewHvpA"
   },
   "source": [
    "# Entertainment & Media 1374 NaN"
   ]
  },
  {
   "cell_type": "code",
   "execution_count": null,
   "metadata": {
    "id": "289r8Dn6HM24"
   },
   "outputs": [],
   "source": [
    "#df['Entertainment & Media']"
   ]
  },
  {
   "cell_type": "code",
   "execution_count": null,
   "metadata": {
    "id": "5iDcK2baHM6T"
   },
   "outputs": [],
   "source": [
    "#df['Entertainment & Media'].isnull().sum()"
   ]
  },
  {
   "cell_type": "code",
   "execution_count": null,
   "metadata": {
    "id": "ZrXqE97d2QEI"
   },
   "outputs": [],
   "source": [
    "#df[~df['Entertainment & Media'].isnull()]['Entertainment & Media'].apply(len).value_counts()"
   ]
  },
  {
   "cell_type": "code",
   "execution_count": null,
   "metadata": {
    "id": "JOexJ9cM2QHf"
   },
   "outputs": [],
   "source": [
    "#df[~df['Entertainment & Media'].isnull()]['Entertainment & Media'].apply(len).sort_values()"
   ]
  },
  {
   "cell_type": "code",
   "execution_count": null,
   "metadata": {
    "id": "cf5wqeCH2QLZ"
   },
   "outputs": [],
   "source": [
    "#df[~df['Entertainment & Media'].isnull()]['Entertainment & Media'][6051]"
   ]
  },
  {
   "cell_type": "code",
   "execution_count": null,
   "metadata": {
    "id": "Zcfdl96i5oPO"
   },
   "outputs": [],
   "source": [
    "#df['Entertainment & Media'] = df[~df['Entertainment & Media'].isnull()]['Entertainment & Media'].apply(lambda x: len(x))"
   ]
  },
  {
   "cell_type": "code",
   "execution_count": null,
   "metadata": {
    "id": "Ojr_SdPc2QOk"
   },
   "outputs": [],
   "source": [
    "#pd.cut(x=df['Entertainment & Media'], bins=[0,3,6,10], labels = ['Class1', 'Class2', 'Class3'])"
   ]
  },
  {
   "cell_type": "code",
   "execution_count": null,
   "metadata": {
    "id": "E2_AF6Y05oSX"
   },
   "outputs": [],
   "source": [
    "#df['Entertainment & Media'] = pd.cut(x=df['Entertainment & Media'], bins=[0,3,6,10], labels = ['Class1', 'Class2', 'Class3'])"
   ]
  },
  {
   "cell_type": "code",
   "execution_count": null,
   "metadata": {
    "id": "0sV7WaYw5oWc"
   },
   "outputs": [],
   "source": [
    "#df['Entertainment & Media'].value_counts(dropna=False)"
   ]
  },
  {
   "cell_type": "markdown",
   "metadata": {
    "id": "O6u5U1En15qK"
   },
   "source": [
    "# Safety & Security 982 NaN"
   ]
  },
  {
   "cell_type": "code",
   "execution_count": null,
   "metadata": {
    "id": "3_gAeHmM2QR-"
   },
   "outputs": [],
   "source": [
    "#df[\"Safety & Security\"]"
   ]
  },
  {
   "cell_type": "code",
   "execution_count": null,
   "metadata": {
    "id": "VElRp7ua9WSp"
   },
   "outputs": [],
   "source": [
    "#df[\"Safety & Security\"].isnull().sum()"
   ]
  },
  {
   "cell_type": "code",
   "execution_count": null,
   "metadata": {
    "id": "SlcB6v3b9WWX"
   },
   "outputs": [],
   "source": [
    "#pd.DataFrame(df[~df[\"Safety & Security\"].isnull()][\"Safety & Security\"].apply(len).value_counts()).sort_index()"
   ]
  },
  {
   "cell_type": "code",
   "execution_count": null,
   "metadata": {
    "id": "s8G0ap3MWAq3"
   },
   "outputs": [],
   "source": [
    "#df[\"Safety & Security\"] = df[~df[\"Safety & Security\"].isnull()][\"Safety & Security\"].apply(len)"
   ]
  },
  {
   "cell_type": "code",
   "execution_count": null,
   "metadata": {
    "id": "6e2ntGsr9WeC"
   },
   "outputs": [],
   "source": [
    "#pd.cut(df[\"Safety & Security\"], bins=[0,5,10,14,18,24,30], labels=['Class1', 'Class2', 'Class3', 'Class4', 'Class5', 'Class6'])"
   ]
  },
  {
   "cell_type": "code",
   "execution_count": null,
   "metadata": {
    "id": "PymIovoqVXLH"
   },
   "outputs": [],
   "source": [
    "#df[\"Safety & Security\"] = pd.cut(df[\"Safety & Security\"], bins=[0,5,10,14,18,24,30], labels=['Class1', 'Class2', 'Class3', 'Class4', 'Class5', 'Class6'])"
   ]
  },
  {
   "cell_type": "code",
   "execution_count": null,
   "metadata": {
    "id": "YvJc2JfYVXTW"
   },
   "outputs": [],
   "source": [
    "#df[\"Safety & Security\"].value_counts(dropna=False)"
   ]
  },
  {
   "cell_type": "markdown",
   "metadata": {
    "id": "PP9_APm2XEXn"
   },
   "source": [
    "# Extras 2962 NaN"
   ]
  },
  {
   "cell_type": "code",
   "execution_count": null,
   "metadata": {
    "id": "R_VYfb-QW2QA"
   },
   "outputs": [],
   "source": [
    "#df[~df[\"Extras\"].isnull()][\"Extras\"].apply(len).value_counts()"
   ]
  },
  {
   "cell_type": "code",
   "execution_count": null,
   "metadata": {
    "id": "Lg_a7qXZW2Tl"
   },
   "outputs": [],
   "source": [
    "#df[\"Extras\"] = df[~df[\"Extras\"].isnull()][\"Extras\"].apply(len)"
   ]
  },
  {
   "cell_type": "code",
   "execution_count": null,
   "metadata": {
    "id": "esS4sXE4W2XN"
   },
   "outputs": [],
   "source": [
    "# pd.cut(df[\"Extras\"], bins=list(range(0,11,2)), labels=['Class1', 'Class2', 'Class3', 'Class4', 'Class5'])"
   ]
  },
  {
   "cell_type": "code",
   "execution_count": null,
   "metadata": {
    "id": "g77PA8obW2am"
   },
   "outputs": [],
   "source": [
    "#pd.cut(df[\"Extras\"], bins=list(range(0,11,2)), labels=['Class1', 'Class2', 'Class3', 'Class4', 'Class5']).value_counts()"
   ]
  },
  {
   "cell_type": "code",
   "execution_count": null,
   "metadata": {
    "id": "e7hPyMTIW2eJ"
   },
   "outputs": [],
   "source": [
    "#df[\"Extras\"] = pd.cut(df[\"Extras\"], bins=list(range(0,11,2)), labels=['Class1', 'Class2', 'Class3', 'Class4', 'Class5'])"
   ]
  },
  {
   "cell_type": "code",
   "execution_count": null,
   "metadata": {
    "id": "ZfQiqtD6YTnD"
   },
   "outputs": [],
   "source": [
    "#df[\"Extras\"].value_counts(dropna=False)"
   ]
  },
  {
   "cell_type": "markdown",
   "metadata": {
    "id": "6CeXeHOmQpFu"
   },
   "source": [
    "# load DAta"
   ]
  },
  {
   "cell_type": "code",
   "execution_count": null,
   "metadata": {
    "id": "IG-P0lnjVuZP"
   },
   "outputs": [],
   "source": [
    "#df.to_json(\"scout_carV1.json\")"
   ]
  },
  {
   "cell_type": "code",
   "execution_count": null,
   "metadata": {
    "id": "F484TxCuZDT_"
   },
   "outputs": [],
   "source": [
    "#df1 = pd.read_json(\"/content/drive/MyDrive/Colab Notebooks/scout_car1.json\")"
   ]
  },
  {
   "cell_type": "markdown",
   "metadata": {
    "id": "JuMr73ZebriJ"
   },
   "source": [
    "# empty"
   ]
  },
  {
   "cell_type": "code",
   "execution_count": 29,
   "metadata": {},
   "outputs": [
    {
     "data": {
      "text/plain": [
       "1      8294\n",
       "NaN    6640\n",
       "2       778\n",
       "0       188\n",
       "3        17\n",
       "4         2\n",
       "Name: Previous Owners, dtype: int64"
      ]
     },
     "execution_count": 29,
     "metadata": {},
     "output_type": "execute_result"
    }
   ],
   "source": [
    "df['Previous Owners'].value_counts(dropna=False)"
   ]
  },
  {
   "cell_type": "code",
   "execution_count": null,
   "metadata": {
    "id": "CozC1i0yawha"
   },
   "outputs": [],
   "source": [
    "for i in range(len(df['km'])):\n",
    "    if (df['Previous Owners'][i] == 0) & (df['price'][i] >=20000) :\n",
    "        df['km'][i] = df[(df['Previous Owners'] == 0) & (df['price']>=20000)]['km'].fillna(round(df[(df['Previous Owners'] == 0) &(df['price'] >20000)]['km'].mean()))\n",
    "    elif (df['Previous Owners'][i] == 0) & (df['price'][i] <20000) :\n",
    "        df['km'][i] = df[(df['Previous Owners'] == 0) & (df['price']<20000)]['km'].fillna(round(df[(df['Previous Owners'] == 0) &(df['price'] <20000)]['km'].mean()))\n",
    "    elif (df['Previous Owners'][i] > 0) & (df['price'][i] >=20000) :\n",
    "        df['km'][i] = df[(df['Previous Owners'] > 0) & (df['price'] >=20000)]['km'].fillna(round(df[(df['Previous Owners'] > 0) &(df['price'] >20000)]['km'].mean()))\n",
    "    elif (df['Previous Owners'][i] > 0) & (df['price'][i] <20000) :\n",
    "        df['km'][i] = df[(df['Previous Owners'] > 0) & (df['price'] <20000)]['km'].fillna(round(df[(df['Previous Owners'] > 0) &(df['price'] <20000)]['km'].mean()))\n",
    "    else : pass"
   ]
  },
  {
   "cell_type": "code",
   "execution_count": null,
   "metadata": {
    "id": "0-WHbtJH5UgT"
   },
   "outputs": [],
   "source": [
    "for i in range(len(df['km'])):\n",
    "    if (df['Previous Owners'][i] == 0) & (df['price'][i] >=20000) :\n",
    "      df.loc[i, \"km\"] = df[(df['Previous Owners'] == 0) & (df['price']>=20000)]['km'].mean()\n",
    "    elif (df['Previous Owners'][i] == 0) & (df['price'][i] <20000) :\n",
    "      df.loc[i, \"km\"] = df[(df['Previous Owners'] == 0) & (df['price']<20000)]['km'].mean()\n",
    "    elif (df['Previous Owners'][i] > 0) & (df['price'][i] >=20000) :\n",
    "      df.loc[i, \"km\"] = df[(df['Previous Owners'] > 0) & (df['price'] >=20000)]['km'].mean()\n",
    "    elif (df['Previous Owners'][i] > 0) & (df['price'][i] <20000) :\n",
    "      df.loc[i, \"km\"] = df[(df['Previous Owners'] > 0) & (df['price'] <20000)]['km'].mean()\n",
    "    else:\n",
    "      pass"
   ]
  }
 ],
 "metadata": {
  "colab": {
   "authorship_tag": "ABX9TyMyTmt/gwbfugHiblBdZ+hq",
   "collapsed_sections": [
    "ya_z5ZLEjoB0",
    "0GCazdfUmD8m",
    "ftIR7h1jtNTu",
    "QjwgFYewHvpA",
    "O6u5U1En15qK",
    "PP9_APm2XEXn"
   ],
   "mount_file_id": "1OjgWTUmXAfkkrUhTs8jn-yOFJAlWf5hC",
   "name": "Car_Data.ipynb",
   "provenance": []
  },
  "kernelspec": {
   "display_name": "Python 3 (ipykernel)",
   "language": "python",
   "name": "python3"
  },
  "language_info": {
   "codemirror_mode": {
    "name": "ipython",
    "version": 3
   },
   "file_extension": ".py",
   "mimetype": "text/x-python",
   "name": "python",
   "nbconvert_exporter": "python",
   "pygments_lexer": "ipython3",
   "version": "3.8.12"
  }
 },
 "nbformat": 4,
 "nbformat_minor": 1
}
